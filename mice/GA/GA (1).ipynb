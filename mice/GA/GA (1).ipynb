{
  "cells": [
    {
      "cell_type": "code",
      "execution_count": 1,
      "metadata": {
        "id": "f8AklGetmcAv"
      },
      "outputs": [],
      "source": [
        "from keras.callbacks import History\n",
        "from keras.callbacks import ModelCheckpoint, TensorBoard\n",
        "from keras.datasets import cifar10\n",
        "from keras.engine import training\n",
        "from keras.losses import categorical_crossentropy\n",
        "from keras.models import Model\n",
        "from keras import Input\n",
        "from keras.optimizers import Adam\n",
        "from keras.utils import to_categorical\n",
        "from tensorflow.python.framework.ops import Tensor\n",
        "from typing import Tuple, List\n",
        "import glob\n",
        "import numpy as np\n",
        "import os\n",
        "from keras.callbacks import ModelCheckpoint, EarlyStopping\n",
        "from keras.layers import Dense, Dropout, Flatten\n",
        "from keras.layers import Average\n",
        "from keras.models import Model\n",
        "from keras.applications.vgg16 import VGG16, preprocess_input\n",
        "from keras.applications.vgg19 import VGG19, preprocess_input\n",
        "from keras.applications.efficientnet_v2 import EfficientNetV2L\n",
        "from keras.applications.nasnet import NASNetLarge\n",
        "from keras.applications.resnet import ResNet50\n",
        "from keras.applications.densenet import DenseNet201\n",
        "from keras.applications.xception import Xception, preprocess_input\n",
        "from keras.applications.inception_resnet_v2 import InceptionResNetV2, preprocess_input\n",
        "from keras.applications.mobilenet_v2 import MobileNetV2, preprocess_input\n",
        "from keras.preprocessing.image import ImageDataGenerator\n",
        "from keras.callbacks import ModelCheckpoint, EarlyStopping\n",
        "from keras.layers import Dense, Dropout, Flatten\n",
        "from pathlib import Path\n",
        "import numpy as np\n",
        "\n",
        "import inspect\n",
        "from tqdm import tqdm\n",
        "import matplotlib.pyplot as plt\n",
        "from numpy import save\n",
        "\n",
        "\n",
        "from livelossplot.inputs.keras import PlotLossesCallback\n",
        "from sklearn.metrics import accuracy_score\n",
        "from scipy import stats\n",
        "from statistics import mean\n",
        "from keras.models import load_model"
      ]
    },
    {
      "cell_type": "code",
      "execution_count": 2,
      "metadata": {
        "id": "Z2sGtLRjmcAy"
      },
      "outputs": [],
      "source": [
        "# data generator with rescale\n",
        "BATCH_SIZE = 64\n",
        "\n",
        "train_generator = ImageDataGenerator(rescale=1./255) \n",
        "\n",
        "val_generator = ImageDataGenerator(rescale=1./255)\n",
        "\n",
        "test_generator = ImageDataGenerator(rescale=1./255)\n"
      ]
    },
    {
      "cell_type": "code",
      "execution_count": 3,
      "metadata": {
        "colab": {
          "base_uri": "https://localhost:8080/"
        },
        "id": "FsqUOh5XmcAy",
        "outputId": "dc9c95a5-9265-44d8-96e3-cfeb2abc79f8"
      },
      "outputs": [
        {
          "name": "stdout",
          "output_type": "stream",
          "text": [
            "Found 209 images belonging to 3 classes.\n",
            "Found 99 images belonging to 3 classes.\n",
            "Found 33 images belonging to 3 classes.\n"
          ]
        }
      ],
      "source": [
        "# importing data\n",
        "\n",
        "train_data_dir = '../mice data/train'\n",
        "val_data_dir = '../mice data/val'\n",
        "test_data_dir = '../mice data/test'\n",
        "\n",
        "\n",
        "\n",
        "\n",
        "\n",
        "traingen = train_generator.flow_from_directory(train_data_dir,\n",
        "                                               target_size=(224, 224),\n",
        "                                               class_mode='categorical',\n",
        "                                               batch_size=BATCH_SIZE,\n",
        "                                               subset='training',\n",
        "                                               seed=36)\n",
        "\n",
        "validgen = val_generator.flow_from_directory(val_data_dir,\n",
        "                                             target_size=(224, 224),\n",
        "                                             batch_size=BATCH_SIZE,\n",
        "                                               class_mode='categorical',\n",
        "                                               seed=63)\n",
        "\n",
        "testgen = test_generator.flow_from_directory(test_data_dir,\n",
        "                                             target_size=(224, 224),\n",
        "                                             batch_size=BATCH_SIZE,\n",
        "                                             \n",
        "                                             shuffle=False,\n",
        "                                             seed=33)"
      ]
    },
    {
      "cell_type": "code",
      "execution_count": 4,
      "metadata": {
        "id": "Vf_3W-2qmcAz"
      },
      "outputs": [],
      "source": [
        "input_shape = (224, 224, 3)\n",
        "optimizer = Adam(learning_rate=0.001)\n",
        "n_classes= len(traingen.class_indices)\n",
        "\n",
        "n_steps = traingen.samples // BATCH_SIZE\n",
        "n_val_steps = validgen.samples // BATCH_SIZE\n",
        "n_epochs = 100\n",
        "model_input = Input(shape=input_shape)"
      ]
    },
    {
      "attachments": {},
      "cell_type": "markdown",
      "metadata": {
        "id": "ehptccx-mcA0"
      },
      "source": [
        "# Shallow"
      ]
    },
    {
      "attachments": {},
      "cell_type": "markdown",
      "metadata": {},
      "source": [
        "Defining the models with shallow FC layers"
      ]
    },
    {
      "cell_type": "code",
      "execution_count": 5,
      "metadata": {
        "id": "RMflhlkYmcA1"
      },
      "outputs": [],
      "source": [
        "def vgg16_shallow(model_input: Tensor, optimizer) -> training.Model:\n",
        "    conv_base = VGG16(include_top = False,\n",
        "                weights = 'imagenet',\n",
        "                input_shape = input_shape)\n",
        "    \n",
        "    for layer in conv_base.layers:\n",
        "        layer.trainable = False\n",
        "        \n",
        "    top_model = Flatten()(conv_base.output)\n",
        "    top_model = Dense(4096, activation='relu')(top_model)\n",
        "    top_model = Dropout(0.2)(top_model)\n",
        "    top_model = Dense(1000, activation='relu')(top_model)\n",
        "    top_model = Dropout(0.2)(top_model)\n",
        "    output_layer = Dense(n_classes, activation='softmax')(top_model)\n",
        "\n",
        "    model = Model(inputs = conv_base.input, outputs= output_layer, name='vgg16_model')\n",
        "    model.compile(optimizer=optimizer, \n",
        "                    loss='categorical_crossentropy',\n",
        "                    metrics=['accuracy'])\n",
        "    return model\n",
        "\n",
        "def vgg19_shallow(model_input: Tensor, optimizer) -> training.Model:\n",
        "    conv_base = VGG19(include_top = False,\n",
        "                weights = 'imagenet',\n",
        "                input_shape = input_shape)\n",
        "    \n",
        "    for layer in conv_base.layers:\n",
        "        layer.trainable = False\n",
        "        \n",
        "    top_model = Flatten()(conv_base.output)\n",
        "    top_model = Dense(4096, activation='relu')(top_model)\n",
        "    top_model = Dropout(0.2)(top_model)\n",
        "    top_model = Dense(1000, activation='relu')(top_model)\n",
        "    top_model = Dropout(0.2)(top_model)\n",
        "    output_layer = Dense(n_classes, activation='softmax')(top_model)\n",
        "\n",
        "    model = Model(inputs = conv_base.input, outputs= output_layer, name='vgg19_model')\n",
        "    model.compile(optimizer=optimizer, \n",
        "                    loss='categorical_crossentropy',\n",
        "                    metrics=['accuracy'])\n",
        "    return model\n",
        "\n",
        "\n",
        "\n",
        "\n",
        "def mobilenet_shallow(model_input: Tensor, optimizer) -> training.Model:\n",
        "    conv_base = MobileNetV2(include_top = False,\n",
        "                weights = 'imagenet',\n",
        "                input_shape = input_shape)\n",
        "    \n",
        "    for layer in conv_base.layers:\n",
        "        layer.trainable = False\n",
        "        \n",
        "    top_model = Flatten()(conv_base.output)\n",
        "    top_model = Dense(4096, activation='relu')(top_model)\n",
        "    top_model = Dropout(0.2)(top_model)\n",
        "    top_model = Dense(1000, activation='relu')(top_model)\n",
        "    top_model = Dropout(0.2)(top_model)\n",
        "    output_layer = Dense(n_classes, activation='softmax')(top_model)\n",
        "\n",
        "    model = Model(inputs = conv_base.input, outputs= output_layer, name='mobilenet_model')\n",
        "    model.compile(optimizer=optimizer, \n",
        "                    loss='categorical_crossentropy',\n",
        "                    metrics=['accuracy'])\n",
        "    return model\n",
        "\n",
        "def inceptionresnet_shallow(model_input: Tensor, optimizer) -> training.Model:\n",
        "    conv_base = InceptionResNetV2(include_top = False,\n",
        "                weights = 'imagenet',\n",
        "                input_shape = input_shape)\n",
        "    \n",
        "    for layer in conv_base.layers:\n",
        "        layer.trainable = False\n",
        "        \n",
        "    top_model = Flatten()(conv_base.output)\n",
        "    top_model = Dense(4096, activation='relu')(top_model)\n",
        "    top_model = Dropout(0.2)(top_model)\n",
        "    top_model = Dense(1000, activation='relu')(top_model)\n",
        "    top_model = Dropout(0.2)(top_model)\n",
        "    output_layer = Dense(n_classes, activation='softmax')(top_model)\n",
        "\n",
        "    model = Model(inputs = conv_base.input, outputs= output_layer, name='inceptionresnet_model')\n",
        "    model.compile(optimizer=optimizer, \n",
        "                    loss='categorical_crossentropy',\n",
        "                    metrics=['accuracy'])\n",
        "    return model\n",
        "\n",
        "\n",
        "\n",
        "\n",
        "\n",
        "def xception_shallow(model_input: Tensor, optimizer) -> training.Model:\n",
        "    conv_base = Xception(include_top = False,\n",
        "                weights = 'imagenet',\n",
        "                input_shape = input_shape)\n",
        "    \n",
        "    for layer in conv_base.layers:\n",
        "        layer.trainable = False\n",
        "        \n",
        "    top_model = Flatten()(conv_base.output)\n",
        "    top_model = Dense(4096, activation='relu')(top_model)\n",
        "    top_model = Dropout(0.2)(top_model)\n",
        "    top_model = Dense(1000, activation='relu')(top_model)\n",
        "    top_model = Dropout(0.2)(top_model)\n",
        "    output_layer = Dense(n_classes, activation='softmax')(top_model)\n",
        "\n",
        "    model = Model(inputs = conv_base.input, outputs= output_layer, name='xception_model')\n",
        "    model.compile(optimizer=optimizer, \n",
        "                    loss='categorical_crossentropy',\n",
        "                    metrics=['accuracy'])\n",
        "    return model\n",
        "\n",
        "def resnet50_shallow(model_input: Tensor, optimizer) -> training.Model:\n",
        "    conv_base = ResNet50(include_top = False,\n",
        "                weights = 'imagenet',\n",
        "                input_shape = input_shape)\n",
        "    \n",
        "    for layer in conv_base.layers:\n",
        "        layer.trainable = False\n",
        "        \n",
        "    top_model = Flatten()(conv_base.output)\n",
        "    top_model = Dense(4096, activation='relu')(top_model)\n",
        "    top_model = Dropout(0.2)(top_model)\n",
        "    top_model = Dense(1000, activation='relu')(top_model)\n",
        "    top_model = Dropout(0.2)(top_model)\n",
        "    output_layer = Dense(n_classes, activation='softmax')(top_model)\n",
        "    \n",
        "    model = Model(inputs = conv_base.input, outputs= output_layer, name='resnet50_model')\n",
        "    model.compile(optimizer=optimizer, \n",
        "                    loss='categorical_crossentropy',\n",
        "                    metrics=['accuracy'])\n",
        "    return model\n",
        "\n",
        "def nasnetlarge_shallow(model_input: Tensor, optimizer) -> training.Model:\n",
        "    conv_base = NASNetLarge(include_top = False,\n",
        "                weights = 'imagenet',\n",
        "                input_shape = input_shape)\n",
        "    \n",
        "    for layer in conv_base.layers:\n",
        "        layer.trainable = False\n",
        "        \n",
        "    top_model = Flatten()(conv_base.output)\n",
        "    top_model = Dense(4096, activation='relu')(top_model)\n",
        "    top_model = Dropout(0.2)(top_model)\n",
        "    top_model = Dense(1000, activation='relu')(top_model)\n",
        "    top_model = Dropout(0.2)(top_model)\n",
        "    output_layer = Dense(n_classes, activation='softmax')(top_model)\n",
        "    \n",
        "    model = Model(inputs = conv_base.input, outputs= output_layer, name='nasnetlarge_model')\n",
        "    model.compile(optimizer=optimizer, \n",
        "                    loss='categorical_crossentropy',\n",
        "                    metrics=['accuracy'])\n",
        "    return model\n",
        "\n",
        "def efficientnet_shallow(model_input: Tensor, optimizer) -> training.Model:\n",
        "    conv_base = EfficientNetV2L(include_top = False,\n",
        "                weights = 'imagenet',\n",
        "                input_shape = input_shape)\n",
        "    \n",
        "    for layer in conv_base.layers:\n",
        "        layer.trainable = False\n",
        "        \n",
        "    top_model = Flatten()(conv_base.output)\n",
        "    top_model = Dense(4096, activation='relu')(top_model)\n",
        "    top_model = Dropout(0.2)(top_model)\n",
        "    top_model = Dense(1000, activation='relu')(top_model)\n",
        "    top_model = Dropout(0.2)(top_model)\n",
        "    output_layer = Dense(n_classes, activation='softmax')(top_model)\n",
        "    \n",
        "    model = Model(inputs = conv_base.input, outputs= output_layer, name='efficientnet_model')\n",
        "    model.compile(optimizer=optimizer, \n",
        "                    loss='categorical_crossentropy',\n",
        "                    metrics=['accuracy'])\n",
        "    \n",
        "    \n",
        "    return model\n"
      ]
    },
    {
      "attachments": {},
      "cell_type": "markdown",
      "metadata": {
        "id": "Ny4x4Sf0mcA2"
      },
      "source": [
        "# Medium"
      ]
    },
    {
      "attachments": {},
      "cell_type": "markdown",
      "metadata": {},
      "source": [
        "Defining models with Medium FC layers"
      ]
    },
    {
      "cell_type": "code",
      "execution_count": 6,
      "metadata": {
        "id": "kG-Rg_oZmcA2"
      },
      "outputs": [],
      "source": [
        "\n",
        "def mobilenet_medium(model_input: Tensor, optimizer) -> training.Model:\n",
        "    conv_base = MobileNetV2(include_top = False,\n",
        "                weights = 'imagenet',\n",
        "                input_shape = input_shape)\n",
        "    \n",
        "    for layer in conv_base.layers:\n",
        "        layer.trainable = False\n",
        "        \n",
        "    top_model = Flatten()(conv_base.output)\n",
        "    top_model = Dense(1024, activation='relu')(top_model)\n",
        "    top_model = Dropout(0.2)(top_model)\n",
        "    top_model = Dense(512, activation='relu')(top_model)\n",
        "    top_model = Dropout(0.2)(top_model)\n",
        "    top_model = Dense(256, activation='relu')(top_model)\n",
        "    top_model = Dropout(0.2)(top_model)\n",
        "    output_layer = Dense(n_classes, activation='softmax')(top_model)\n",
        "\n",
        "    model = Model(inputs = conv_base.input, outputs= output_layer, name='mobilenet_model')\n",
        "    model.compile(optimizer=optimizer, \n",
        "                    loss='categorical_crossentropy',\n",
        "                    metrics=['accuracy'])\n",
        "    return model\n",
        "\n",
        "def xception_medium(model_input: Tensor, optimizer) -> training.Model:\n",
        "    conv_base = Xception(include_top = False,\n",
        "                weights = 'imagenet',\n",
        "                input_shape = input_shape)\n",
        "    \n",
        "    for layer in conv_base.layers:\n",
        "        layer.trainable = False\n",
        "        \n",
        "    top_model = Flatten()(conv_base.output)\n",
        "    top_model = Dense(1024, activation='relu')(top_model)\n",
        "    top_model = Dropout(0.2)(top_model)\n",
        "    top_model = Dense(512, activation='relu')(top_model)\n",
        "    top_model = Dropout(0.2)(top_model)\n",
        "    top_model = Dense(256, activation='relu')(top_model)\n",
        "    top_model = Dropout(0.2)(top_model)\n",
        "    output_layer = Dense(n_classes, activation='softmax')(top_model)\n",
        "\n",
        "    model = Model(inputs = conv_base.input, outputs= output_layer, name='xception_model')\n",
        "    model.compile(optimizer=optimizer, \n",
        "                    loss='categorical_crossentropy',\n",
        "                    metrics=['accuracy'])\n",
        "    return model\n",
        "\n",
        "def vgg19_medium(model_input: Tensor, optimizer) -> training.Model:\n",
        "    conv_base = VGG19(include_top = False,\n",
        "                weights = 'imagenet',\n",
        "                input_shape = input_shape)\n",
        "    \n",
        "    for layer in conv_base.layers:\n",
        "        layer.trainable = False\n",
        "        \n",
        "    top_model = Flatten()(conv_base.output)\n",
        "    top_model = Dense(1024, activation='relu')(top_model)\n",
        "    top_model = Dropout(0.2)(top_model)\n",
        "    top_model = Dense(512, activation='relu')(top_model)\n",
        "    top_model = Dropout(0.2)(top_model)\n",
        "    top_model = Dense(256, activation='relu')(top_model)\n",
        "    top_model = Dropout(0.2)(top_model)\n",
        "    output_layer = Dense(n_classes, activation='softmax')(top_model)\n",
        "\n",
        "    model = Model(inputs = conv_base.input, outputs= output_layer, name='vgg19_model')\n",
        "    model.compile(optimizer=optimizer, \n",
        "                    loss='categorical_crossentropy',\n",
        "                    metrics=['accuracy'])\n",
        "    return model\n",
        "\n",
        "def vgg16_medium(model_input: Tensor, optimizer) -> training.Model:\n",
        "    conv_base = VGG16(include_top = False,\n",
        "                weights = 'imagenet',\n",
        "                input_shape = input_shape)\n",
        "    \n",
        "    for layer in conv_base.layers:\n",
        "        layer.trainable = False\n",
        "        \n",
        "    top_model = Flatten()(conv_base.output)\n",
        "    top_model = Dense(1024, activation='relu')(top_model)\n",
        "    top_model = Dropout(0.2)(top_model)\n",
        "    top_model = Dense(512, activation='relu')(top_model)\n",
        "    top_model = Dropout(0.2)(top_model)\n",
        "    top_model = Dense(256, activation='relu')(top_model)\n",
        "    top_model = Dropout(0.2)(top_model)\n",
        "    output_layer = Dense(n_classes, activation='softmax')(top_model)\n",
        "\n",
        "    model = Model(inputs = conv_base.input, outputs= output_layer, name='vgg16_model')\n",
        "    model.compile(optimizer=optimizer, \n",
        "                    loss='categorical_crossentropy',\n",
        "                    metrics=['accuracy'])\n",
        "    return model\n",
        "\n",
        "\n",
        "\n",
        "\n",
        "def resnet50_medium(model_input: Tensor, optimizer) -> training.Model:\n",
        "    conv_base = ResNet50(include_top = False,\n",
        "                weights = 'imagenet',\n",
        "                input_shape = input_shape)\n",
        "    \n",
        "    for layer in conv_base.layers:\n",
        "        layer.trainable = False\n",
        "        \n",
        "    top_model = Flatten()(conv_base.output)\n",
        "    top_model = Dense(1024, activation='relu')(top_model)\n",
        "    top_model = Dropout(0.2)(top_model)\n",
        "    top_model = Dense(512, activation='relu')(top_model)\n",
        "    top_model = Dropout(0.2)(top_model)\n",
        "    top_model = Dense(256, activation='relu')(top_model)\n",
        "    top_model = Dropout(0.2)(top_model)\n",
        "    output_layer = Dense(n_classes, activation='softmax')(top_model)\n",
        "    \n",
        "    model = Model(inputs = conv_base.input, outputs= output_layer, name='resnet50_model')\n",
        "    model.compile(optimizer=optimizer, \n",
        "                    loss='categorical_crossentropy',\n",
        "                    metrics=['accuracy'])\n",
        "    return model\n",
        "\n",
        "def nasnetlarge_medium(model_input: Tensor, optimizer) -> training.Model:\n",
        "    conv_base = NASNetLarge(include_top = False,\n",
        "                weights = 'imagenet',\n",
        "                input_shape = input_shape)\n",
        "    \n",
        "    for layer in conv_base.layers:\n",
        "        layer.trainable = False\n",
        "        \n",
        "    top_model = Flatten()(conv_base.output)\n",
        "    top_model = Dense(1024, activation='relu')(top_model)\n",
        "    top_model = Dropout(0.2)(top_model)\n",
        "    top_model = Dense(512, activation='relu')(top_model)\n",
        "    top_model = Dropout(0.2)(top_model)\n",
        "    top_model = Dense(256, activation='relu')(top_model)\n",
        "    top_model = Dropout(0.2)(top_model)\n",
        "    output_layer = Dense(n_classes, activation='softmax')(top_model)\n",
        "    \n",
        "    model = Model(inputs = conv_base.input, outputs= output_layer, name='nasnetlarge_model')\n",
        "    model.compile(optimizer=optimizer, \n",
        "                    loss='categorical_crossentropy',\n",
        "                    metrics=['accuracy'])\n",
        "    return model\n",
        "\n",
        "def efficientnet_medium(model_input: Tensor, optimizer) -> training.Model:\n",
        "    conv_base = EfficientNetV2L(include_top = False,\n",
        "                weights = 'imagenet',\n",
        "                input_shape = input_shape)\n",
        "    \n",
        "    for layer in conv_base.layers:\n",
        "        layer.trainable = False\n",
        "        \n",
        "    top_model = Flatten()(conv_base.output)\n",
        "    top_model = Dense(1024, activation='relu')(top_model)\n",
        "    top_model = Dropout(0.2)(top_model)\n",
        "    top_model = Dense(512, activation='relu')(top_model)\n",
        "    top_model = Dropout(0.2)(top_model)\n",
        "    top_model = Dense(256, activation='relu')(top_model)\n",
        "    top_model = Dropout(0.2)(top_model)\n",
        "    output_layer = Dense(n_classes, activation='softmax')(top_model)\n",
        "    \n",
        "    model = Model(inputs = conv_base.input, outputs= output_layer, name='efficientnet_model')\n",
        "    model.compile(optimizer=optimizer, \n",
        "                    loss='categorical_crossentropy',\n",
        "                    metrics=['accuracy'])\n",
        "    return model\n",
        "\n",
        "\n"
      ]
    },
    {
      "attachments": {},
      "cell_type": "markdown",
      "metadata": {
        "id": "rbWIvTNpmcA3"
      },
      "source": [
        "# DNN"
      ]
    },
    {
      "attachments": {},
      "cell_type": "markdown",
      "metadata": {},
      "source": [
        "Defining the models with DNN FC layers"
      ]
    },
    {
      "cell_type": "code",
      "execution_count": 7,
      "metadata": {
        "id": "hvSyIxQOmcA3"
      },
      "outputs": [],
      "source": [
        "def xception_dnn(model_input: Tensor, optimizer) -> training.Model:\n",
        "    conv_base = Xception(include_top = False,\n",
        "                weights = 'imagenet',\n",
        "                input_shape = input_shape)\n",
        "    \n",
        "    for layer in conv_base.layers:\n",
        "        layer.trainable = False\n",
        "        \n",
        "    top_model = Flatten()(conv_base.output)\n",
        "    top_model = Dense(4096, activation='relu')(top_model)\n",
        "    top_model = Dropout(0.2)(top_model)\n",
        "    top_model = Dense(4096, activation='relu')(top_model)\n",
        "    top_model = Dropout(0.2)(top_model)\n",
        "    top_model = Dense(1000, activation='relu')(top_model)\n",
        "    top_model = Dropout(0.2)(top_model)\n",
        "    top_model = Dense(512, activation='relu')(top_model)\n",
        "    top_model = Dropout(0.2)(top_model)\n",
        "    top_model = Dense(256, activation='relu')(top_model)\n",
        "    top_model = Dropout(0.2)(top_model)\n",
        "    output_layer = Dense(n_classes, activation='softmax')(top_model)\n",
        "\n",
        "    model = Model(inputs = conv_base.input, outputs= output_layer, name='xception_model')\n",
        "    model.compile(optimizer=optimizer, \n",
        "                    loss='categorical_crossentropy',\n",
        "                    metrics=['accuracy'])\n",
        "    return model\n",
        "\n",
        "def vgg19_dnn(model_input: Tensor, optimizer) -> training.Model:\n",
        "    conv_base = VGG19(include_top = False,\n",
        "                weights = 'imagenet',\n",
        "                input_shape = input_shape)\n",
        "    \n",
        "    for layer in conv_base.layers:\n",
        "        layer.trainable = False\n",
        "        \n",
        "    top_model = Flatten()(conv_base.output)\n",
        "    top_model = Dense(4096, activation='relu')(top_model)\n",
        "    top_model = Dropout(0.2)(top_model)\n",
        "    top_model = Dense(4096, activation='relu')(top_model)\n",
        "    top_model = Dropout(0.2)(top_model)\n",
        "    top_model = Dense(1000, activation='relu')(top_model)\n",
        "    top_model = Dropout(0.2)(top_model)\n",
        "    top_model = Dense(512, activation='relu')(top_model)\n",
        "    top_model = Dropout(0.2)(top_model)\n",
        "    top_model = Dense(256, activation='relu')(top_model)\n",
        "    top_model = Dropout(0.2)(top_model)\n",
        "    output_layer = Dense(n_classes, activation='softmax')(top_model)\n",
        "\n",
        "    model = Model(inputs = conv_base.input, outputs= output_layer, name='vgg19_model')\n",
        "    model.compile(optimizer=optimizer, \n",
        "                    loss='categorical_crossentropy',\n",
        "                    metrics=['accuracy'])\n",
        "    return model\n",
        "\n",
        "def vgg16_dnn(model_input: Tensor, optimizer) -> training.Model:\n",
        "    conv_base = VGG16(include_top = False,\n",
        "                weights = 'imagenet',\n",
        "                input_shape = input_shape)\n",
        "    \n",
        "    for layer in conv_base.layers:\n",
        "        layer.trainable = False\n",
        "        \n",
        "    top_model = Flatten()(conv_base.output)\n",
        "    top_model = Dense(4096, activation='relu')(top_model)\n",
        "    top_model = Dropout(0.2)(top_model)\n",
        "    top_model = Dense(4096, activation='relu')(top_model)\n",
        "    top_model = Dropout(0.2)(top_model)\n",
        "    top_model = Dense(1000, activation='relu')(top_model)\n",
        "    top_model = Dropout(0.2)(top_model)\n",
        "    top_model = Dense(512, activation='relu')(top_model)\n",
        "    top_model = Dropout(0.2)(top_model)\n",
        "    top_model = Dense(256, activation='relu')(top_model)\n",
        "    top_model = Dropout(0.2)(top_model)\n",
        "    output_layer = Dense(n_classes, activation='softmax')(top_model)\n",
        "\n",
        "    model = Model(inputs = conv_base.input, outputs= output_layer, name='vgg16_model')\n",
        "    model.compile(optimizer=optimizer, \n",
        "                    loss='categorical_crossentropy',\n",
        "                    metrics=['accuracy'])\n",
        "    return model\n",
        "\n",
        "\n",
        "\n",
        "def mobilenet_dnn(model_input: Tensor, optimizer) -> training.Model:\n",
        "    conv_base = MobileNetV2(include_top = False,\n",
        "                weights = 'imagenet',\n",
        "                input_shape = input_shape)\n",
        "    \n",
        "    for layer in conv_base.layers:\n",
        "        layer.trainable = False\n",
        "        \n",
        "    top_model = Flatten()(conv_base.output)\n",
        "    top_model = Dense(4096, activation='relu')(top_model)\n",
        "    top_model = Dropout(0.2)(top_model)\n",
        "    top_model = Dense(4096, activation='relu')(top_model)\n",
        "    top_model = Dropout(0.2)(top_model)\n",
        "    top_model = Dense(1000, activation='relu')(top_model)\n",
        "    top_model = Dropout(0.2)(top_model)\n",
        "    top_model = Dense(512, activation='relu')(top_model)\n",
        "    top_model = Dropout(0.2)(top_model)\n",
        "    top_model = Dense(256, activation='relu')(top_model)\n",
        "    top_model = Dropout(0.2)(top_model)\n",
        "    output_layer = Dense(n_classes, activation='softmax')(top_model)\n",
        "\n",
        "    model = Model(inputs = conv_base.input, outputs= output_layer, name='mobilenet_model')\n",
        "    model.compile(optimizer=optimizer, \n",
        "                    loss='categorical_crossentropy',\n",
        "                    metrics=['accuracy'])\n",
        "    return model\n",
        "\n",
        "\n",
        "\n",
        "\n",
        "\n",
        "\n",
        "\n",
        "\n",
        "def nasnetlarge_dnn(model_input: Tensor, optimizer) -> training.Model:\n",
        "    conv_base = NASNetLarge(include_top = False,\n",
        "                weights = 'imagenet',\n",
        "                input_shape = input_shape)\n",
        "    \n",
        "    for layer in conv_base.layers:\n",
        "        layer.trainable = False\n",
        "        \n",
        "    top_model = Flatten()(conv_base.output)\n",
        "    top_model = Dense(4096, activation='relu')(top_model)\n",
        "    top_model = Dropout(0.2)(top_model)\n",
        "    top_model = Dense(4096, activation='relu')(top_model)\n",
        "    top_model = Dropout(0.2)(top_model)\n",
        "    top_model = Dense(1000, activation='relu')(top_model)\n",
        "    top_model = Dropout(0.2)(top_model)\n",
        "    top_model = Dense(512, activation='relu')(top_model)\n",
        "    top_model = Dropout(0.2)(top_model)\n",
        "    top_model = Dense(256, activation='relu')(top_model)\n",
        "    top_model = Dropout(0.2)(top_model)\n",
        "    output_layer = Dense(n_classes, activation='softmax')(top_model)\n",
        "    \n",
        "    model = Model(inputs = conv_base.input, outputs= output_layer, name='nasnetlarge_model')\n",
        "    model.compile(optimizer=optimizer, \n",
        "                    loss='categorical_crossentropy',\n",
        "                    metrics=['accuracy'])\n",
        "    return model\n",
        "\n",
        "def resnet50_dnn(model_input: Tensor, optimizer) -> training.Model:\n",
        "    conv_base = ResNet50(include_top = False,\n",
        "                weights = 'imagenet',\n",
        "                input_shape = input_shape)\n",
        "    \n",
        "    for layer in conv_base.layers:\n",
        "        layer.trainable = False\n",
        "        \n",
        "    top_model = Flatten()(conv_base.output)\n",
        "    top_model = Dense(4096, activation='relu')(top_model)\n",
        "    top_model = Dropout(0.2)(top_model)\n",
        "    top_model = Dense(4096, activation='relu')(top_model)\n",
        "    top_model = Dropout(0.2)(top_model)\n",
        "    top_model = Dense(1000, activation='relu')(top_model)\n",
        "    top_model = Dropout(0.2)(top_model)\n",
        "    top_model = Dense(512, activation='relu')(top_model)\n",
        "    top_model = Dropout(0.2)(top_model)\n",
        "    top_model = Dense(256, activation='relu')(top_model)\n",
        "    top_model = Dropout(0.2)(top_model)\n",
        "    output_layer = Dense(n_classes, activation='softmax')(top_model)\n",
        "    \n",
        "    model = Model(inputs = conv_base.input, outputs= output_layer, name='resnet50_model')\n",
        "    model.compile(optimizer=optimizer, \n",
        "                    loss='categorical_crossentropy',\n",
        "                    metrics=['accuracy'])\n",
        "    return model\n",
        "\n",
        "def efficientnet_dnn(model_input: Tensor, optimizer) -> training.Model:\n",
        "    conv_base = EfficientNetV2L(include_top = False,\n",
        "                weights = 'imagenet',\n",
        "                input_shape = input_shape)\n",
        "    \n",
        "    for layer in conv_base.layers:\n",
        "        layer.trainable = False\n",
        "        \n",
        "    top_model = Flatten()(conv_base.output)\n",
        "    top_model = Dense(4096, activation='relu')(top_model)\n",
        "    top_model = Dropout(0.2)(top_model)\n",
        "    top_model = Dense(4096, activation='relu')(top_model)\n",
        "    top_model = Dropout(0.2)(top_model)\n",
        "    top_model = Dense(1000, activation='relu')(top_model)\n",
        "    top_model = Dropout(0.2)(top_model)\n",
        "    top_model = Dense(512, activation='relu')(top_model)\n",
        "    top_model = Dropout(0.2)(top_model)\n",
        "    top_model = Dense(256, activation='relu')(top_model)\n",
        "    top_model = Dropout(0.2)(top_model)\n",
        "    output_layer = Dense(n_classes, activation='softmax')(top_model)\n",
        "    \n",
        "    model = Model(inputs = conv_base.input, outputs= output_layer, name='efficientnet_model')\n",
        "    model.compile(optimizer=optimizer, \n",
        "                    loss='categorical_crossentropy',\n",
        "                    metrics=['accuracy'])\n",
        "    return model\n",
        "\n",
        "\n"
      ]
    },
    {
      "attachments": {},
      "cell_type": "markdown",
      "metadata": {},
      "source": [
        "Loading all the weights from teh training"
      ]
    },
    {
      "cell_type": "code",
      "execution_count": 8,
      "metadata": {
        "id": "qx5wGA3bmcA4"
      },
      "outputs": [],
      "source": [
        "vgg16_model_shallow = vgg16_shallow(model_input, optimizer)\n",
        "vgg16_model_shallow.load_weights('tl_model_nonprocessed_vgg16_shallow.weights.best.hdf5')\n",
        "\n",
        "vgg19_model_shallow = vgg19_shallow(model_input, optimizer)\n",
        "vgg19_model_shallow.load_weights('tl_model_nonprocessed_vgg19_shallow.weights.best.hdf5')\n",
        "\n",
        "\n",
        "mobilenet_model_shallow = mobilenet_shallow(model_input, optimizer)\n",
        "mobilenet_model_shallow.load_weights('tl_model_nonprocessed_mobilenet_shallow.weights.best.hdf5')\n",
        "\n",
        "xception_model_shallow = xception_shallow(model_input, optimizer)\n",
        "xception_model_shallow.load_weights('tl_model_nonprocessed_xception_shallow.weights.best.hdf5')\n",
        "\n",
        "efficientnet_model_shallow = efficientnet_shallow(model_input, optimizer)\n",
        "efficientnet_model_shallow.load_weights('tl_model_nonprocessed_efficientnet_shallow.weights.best.hdf5')\n",
        "\n",
        "resnet_model_shallow = resnet50_shallow(model_input, optimizer)\n",
        "resnet_model_shallow.load_weights('tl_model_nonprocessed_resnet50_shallow.weights.best.hdf5')\n",
        "\n",
        "\n",
        "\n",
        "nasnetlarge_model_shallow = nasnetlarge_shallow(model_input, optimizer)\n",
        "nasnetlarge_model_shallow.load_weights('tl_model_nonprocessed_nasnetlarge_shallow.weights.best.hdf5')\n",
        "\n",
        "\n",
        "\n",
        "####################################### medium ############################################\n",
        "\n",
        "vgg16_model_medium = vgg16_medium(model_input, optimizer)\n",
        "vgg16_model_medium.load_weights('tl_model_nonprocessed_vgg16_medium.weights.best.hdf5')\n",
        "\n",
        "vgg19_model_medium = vgg19_medium(model_input, optimizer)\n",
        "vgg19_model_medium.load_weights('tl_model_nonprocessed_vgg19_medium.weights.best.hdf5')\n",
        "\n",
        "\n",
        "\n",
        "mobilenet_model_medium = mobilenet_medium(model_input, optimizer)\n",
        "mobilenet_model_medium.load_weights('tl_model_nonprocessed_mobilenet_medium.weights.best.hdf5')\n",
        "\n",
        "xception_model_medium = xception_medium(model_input, optimizer)\n",
        "xception_model_medium.load_weights('tl_model_nonprocessed_xception_medium.weights.best.hdf5')\n",
        "\n",
        "efficientnet_model_medium = efficientnet_medium(model_input, optimizer)\n",
        "efficientnet_model_medium.load_weights('tl_model_nonprocessed_efficientnet_medium.weights.best.hdf5')\n",
        "\n",
        "resnet_model_medium = resnet50_medium(model_input, optimizer)\n",
        "resnet_model_medium.load_weights('tl_model_nonprocessed_resnet50_medium.weights.best.hdf5')\n",
        "\n",
        "\n",
        "\n",
        "nasnetlarge_model_medium = nasnetlarge_medium(model_input, optimizer)\n",
        "nasnetlarge_model_medium.load_weights('tl_model_nonprocessed_nasnetlarge_medium.weights.best.hdf5')\n",
        "\n",
        "\n",
        "\n",
        "\n",
        "################################## dnn ############################\n",
        "vgg16_model_dnn = vgg16_dnn(model_input, optimizer)\n",
        "vgg16_model_dnn.load_weights('tl_model_nonprocessed_vgg16_dnn.weights.best.hdf5')\n",
        "\n",
        "vgg19_model_dnn = vgg19_dnn(model_input, optimizer)\n",
        "vgg19_model_dnn.load_weights('tl_model_nonprocessed_vgg19_dnn.weights.best.hdf5')\n",
        "\n",
        "\n",
        "mobilenet_model_dnn = mobilenet_dnn(model_input, optimizer)\n",
        "mobilenet_model_dnn.load_weights('tl_model_nonprocessed_mobilenet_dnn.weights.best.hdf5')\n",
        "\n",
        "\n",
        "xception_model_dnn = xception_dnn(model_input, optimizer)\n",
        "xception_model_dnn.load_weights('tl_model_nonprocessed_xception_dnn.weights.best.hdf5')\n",
        "\n",
        "efficientnet_model_dnn = efficientnet_dnn(model_input, optimizer)\n",
        "efficientnet_model_dnn.load_weights('tl_model_nonprocessed_efficientnet_dnn.weights.best.hdf5')\n",
        "\n",
        "resnet_model_dnn = resnet50_dnn(model_input, optimizer)\n",
        "resnet_model_dnn.load_weights('tl_model_nonprocessed_resnet50_dnn.weights.best.hdf5')\n",
        "\n",
        "\n",
        "\n",
        "nasnetlarge_model_dnn = nasnetlarge_dnn(model_input, optimizer)\n",
        "nasnetlarge_model_dnn.load_weights('tl_model_nonprocessed_nasnetlarge_dnn.weights.best.hdf5')\n",
        "\n"
      ]
    },
    {
      "cell_type": "code",
      "execution_count": 10,
      "metadata": {
        "id": "MGO7cuKdmcA4"
      },
      "outputs": [],
      "source": [
        "class GeneticAlgorithm:\n",
        "    def __init__(self, \n",
        "                 n_genes,\n",
        "                 n_iterations,\n",
        "                 lchrom, \n",
        "                 pcross, \n",
        "                 pmutation, \n",
        "                 crossover_type, \n",
        "                 mutation_type, \n",
        "                 selection_type, \n",
        "                 cut_point,\n",
        "                 popsize, \n",
        "                 n_elites,\n",
        "                 models,\n",
        "                 n_classes,\n",
        "                 traingen,\n",
        "                 validgen,\n",
        "                 n_steps,\n",
        "                 n_val_steps,\n",
        "                 n_epochs,\n",
        "                 random_state = 123):\n",
        "        \n",
        "\n",
        "        self.n_genes = n_genes\n",
        "        self.lchrom = lchrom\n",
        "        self.popsize = popsize\n",
        "        self.pcross = pcross\n",
        "        self.pmutation = pmutation\n",
        "        self.crossover_type = crossover_type\n",
        "        self.mutation_type = mutation_type\n",
        "        self.selection_type = selection_type\n",
        "        self.random_state = random_state\n",
        "        self.n_iterations = n_iterations\n",
        "        self.n_elites = n_elites\n",
        "        self.best_fitness_evolution = []\n",
        "        self.cut_point = cut_point\n",
        "        self.models = models\n",
        "        self.n_classes = n_classes\n",
        "        self.traingen = traingen\n",
        "        self.validgen = validgen\n",
        "        self.batch_size = 32\n",
        "        self.input_shape = (32, 32, 3)\n",
        "        self.n_steps = n_steps\n",
        "        self.n_val_steps = n_val_steps\n",
        "        self.n_epochs = n_epochs\n",
        "    \n",
        "        pop = []\n",
        "        while (len(pop) < self.popsize):\n",
        "            chromosome = np.random.randint(2, size= self.n_genes)\n",
        "            if (sum(chromosome[:self.cut_point]) > 0 and sum(chromosome[self.cut_point:]) == 1 ):\n",
        "                pop.append(chromosome)\n",
        "\n",
        "            \n",
        "        # Convert pop to list of solutions\n",
        "        self.population = [tuple(x) for x in pop]\n",
        "\n",
        "        \n",
        "        \n",
        "        \n",
        "    def fitness_func(self, solution, cut_point):\n",
        "        \n",
        "        models = []\n",
        "        \n",
        "        input_shape = (224, 224, 3)\n",
        "        model_input = Input(shape=input_shape)\n",
        "        \n",
        "        # first, define the three meta learners\n",
        "        \n",
        "        for i in range(cut_point, len(solution)):\n",
        "            if (solution[i]):\n",
        "            \n",
        "                if i == 7:\n",
        "                    # 1. shallow fully connected layers\n",
        "                    for j in range(cut_point):\n",
        "                        if (solution[j]):\n",
        "                            if j == 0:\n",
        "                                models.append(vgg16_model_shallow)\n",
        "                            \n",
        "                            \n",
        "                            if j == 1:\n",
        "                                models.append(vgg19_model_shallow)\n",
        "                            \n",
        "                            \n",
        "                            if j == 2:\n",
        "                                models.append(xception_model_shallow)\n",
        "                            \n",
        "                            if j == 3:\n",
        "                                models.append(mobilenet_model_shallow)\n",
        "\n",
        "                            if j == 4:\n",
        "                                models.append(resnet_model_shallow)\n",
        "\n",
        "                            if j == 5:\n",
        "                                models.append(efficientnet_model_shallow)\n",
        "                            if j == 6:\n",
        "                                models.append(nasnetlarge_model_shallow)\n",
        "\n",
        "                            \n",
        "                            \n",
        "                \n",
        "                if i == 8:\n",
        "                    \n",
        "                    # 2. medium size fully connected layers\n",
        "                    for j in range(cut_point):\n",
        "                        if (solution[j]):\n",
        "                            if j == 0:\n",
        "                                models.append(vgg16_model_medium)\n",
        "                                \n",
        "                                \n",
        "                            if j == 1:\n",
        "                                models.append(vgg19_model_medium)\n",
        "                            \n",
        "                                \n",
        "                            if j == 2:\n",
        "                                models.append(xception_model_medium)\n",
        "                            \n",
        "                            if j == 3:\n",
        "                                models.append(mobilenet_model_medium)\n",
        "\n",
        "                            if j == 4:\n",
        "                                models.append(resnet_model_medium)\n",
        "\n",
        "                            if j == 5:\n",
        "                                models.append(efficientnet_model_medium)\n",
        "                            if j == 6:\n",
        "                                models.append(nasnetlarge_model_medium)\n",
        "\n",
        "                            \n",
        "                    \n",
        "                    \n",
        "                if i == 9:\n",
        "                    # 3. DNN FC \n",
        "                    for j in range(cut_point):\n",
        "\n",
        "                        if (solution[j]):\n",
        "\n",
        "                            if j == 0:\n",
        "                                models.append(vgg16_model_dnn)\n",
        "                                    \n",
        "                                    \n",
        "                            if j == 1:\n",
        "                                models.append(vgg19_model_dnn)\n",
        "                            \n",
        "                            \n",
        "                            if j == 2:\n",
        "                                models.append(xception_model_dnn)\n",
        "\n",
        "                            if j == 3:\n",
        "                                models.append(mobilenet_model_dnn)\n",
        "\n",
        "                            if j == 4:\n",
        "                                models.append(resnet_model_dnn)\n",
        "\n",
        "                            if j == 5:\n",
        "                                models.append(efficientnet_model_dnn)\n",
        "                            if j == 6:\n",
        "                                models.append(nasnetlarge_model_dnn)\n",
        "\n",
        "                          \n",
        "\n",
        "\n",
        "        # defining the ensemble model\n",
        "        model_input = Input(shape=(224, 224, 3))\n",
        "        model_outputs = [model(model_input) for model in models]\n",
        "        ensemble_output = Average()(model_outputs)\n",
        "        ensemble_model = Model(inputs=model_input, outputs=ensemble_output, name='ensemble')\n",
        "\n",
        "        \n",
        "        optim_1 = Adam(learning_rate=0.001)\n",
        "\n",
        "        \n",
        "        \n",
        "        ensemble_model.compile(optimizer=optim_1, \n",
        "                  loss='binary_crossentropy',\n",
        "                  metrics=['accuracy'])\n",
        "        result = ensemble_model.evaluate(validgen)\n",
        "        \n",
        "        \n",
        "        return result[1]\n",
        "\n",
        "    # calculating the fitness of the generation\n",
        "    def get_fitness_scores(self):\n",
        "        scores = [self.fitness_func(sol, self.cut_point) for sol in self.population]\n",
        "        return np.array(scores)\n",
        "\n",
        "    def __append_best_score(self, scores):\n",
        "        best_score = np.max(scores)\n",
        "        self.best_fitness_evolution.append(best_score)\n",
        "        return 'Ok'\n",
        "    \n",
        "    # rank selecting method\n",
        "    def __ranking_selection(self, scores):\n",
        "        ind = np.argsort(scores)\n",
        "\n",
        "        s = sum(ind)\n",
        "        t = np.random.rand() * s\n",
        "        partial_sum = 0\n",
        "        i=0\n",
        "        while(partial_sum <t and i <len(scores)):\n",
        "            partial_sum += scores[i]\n",
        "\n",
        "        selected = i\n",
        "        return selected \n",
        "    \n",
        "    # roulette selection\n",
        "    def __roulette_selection(self, scores):\n",
        "        s = sum(scores)\n",
        "        t = np.random.rand() * s\n",
        "        partial_sum = 0\n",
        "        i=0\n",
        "        while(partial_sum <t and i <len(scores)):\n",
        "            partial_sum += scores[i]\n",
        "\n",
        "        selected = i\n",
        "        return selected\n",
        "\n",
        "    # selecting two chromosomes using an input selection type\n",
        "    def select(self, scores, selection_type):\n",
        "\n",
        "        if selection_type not in ['ranking', 'roulette']:\n",
        "            raise ValueError('Type should be ranking or tournament')\n",
        "\n",
        "        if selection_type == 'ranking':\n",
        "            ind = self.__ranking_selection(scores)\n",
        "        elif selection_type == 'roulette':\n",
        "            ind = self.__roulette_selection(scores)\n",
        "        else:\n",
        "            pass\n",
        "        return ind\n",
        "\n",
        "    # flipping a coin to decide whether to call the crossover or mutation function\n",
        "    def flip(self, p):\n",
        "        return 1 if np.random.rand() < p else 0\n",
        "    \n",
        "    def format_func(self, value):\n",
        "        return \"%.3f\" % value\n",
        "\n",
        "    # crossover\n",
        "    def __crossover(self, \n",
        "                    parent1, \n",
        "                    parent2, \n",
        "                    crossover_type,\n",
        "                    pcross,\n",
        "                    lchrom,\n",
        "                    mutation_type,\n",
        "                    pmutation):\n",
        "        \n",
        "        if crossover_type not in ['uniform', 'one_point', 'two_point']:\n",
        "                raise ValueError('crossover_type should be one of uniform, one_point or multi_point')\n",
        "\n",
        "            \n",
        "        if self.flip(pcross):\n",
        "            \n",
        "            if crossover_type == 'one_point':\n",
        "                index = np.random.choice(range(1, lchrom)) \n",
        "\n",
        "                parent1 = list(parent1)\n",
        "                parent2 = list(parent2)\n",
        "\n",
        "                child1 = self.__mutation(parent1[:index] + parent2[index:], mutation_type, pmutation)\n",
        "                child2 = self.__mutation(parent2[:index] + parent1[index:] , mutation_type, pmutation)\n",
        "                children = [child1, child2]\n",
        "            elif crossover_type == 'two_point':\n",
        "                point1 = np.random.choice(range(1, lchrom)) \n",
        "                point2 = np.random.choice(point1, range(lchrom))\n",
        "                child1 = self.__mutation(parent1[:point1] + parent2[point1: point2] + parent1[point2:], mutation_type, pmutation)\n",
        "                child2 = self.__mutation(parent2[:point1] + parent1[point1: point2] + parent2[point2:], mutation_type, pmutation)\n",
        "                children = [child1, child2]\n",
        "            else:\n",
        "                t = np.random.rand()\n",
        "                temp = np.random.rand(lchrom)\n",
        "                child1 = self.__mutation([parent1[i] if temp[i] > t else parent2[i] for i in range(len(temp)) ], mutation_type, pmutation)\n",
        "                child2 = self.__mutation([parent2[i] if temp[i] > t else parent1[i] for i in range(len(temp)) ], mutation_type, pmutation)\n",
        "                children = [child1, child2]\n",
        "               \n",
        "        else:\n",
        "            \n",
        "            child1 = self.__mutation(parent1, self.mutation_type, pmutation)\n",
        "            child2 = self.__mutation(parent2, self.mutation_type, pmutation)\n",
        "            children = [child1, child2]\n",
        "        \n",
        "        return children\n",
        "    \n",
        "\n",
        "    # mutation\n",
        "    def __mutation(self, individual, mutation_type, pmutation):\n",
        "\n",
        "        if mutation_type not in ['bitstring', 'inversion', 'swap']:\n",
        "            raise ValueError('mutation_type should be one of bitstring or inversion or swap')\n",
        "\n",
        "\n",
        "        index = np.random.choice(len(individual))\n",
        "        index2 = np.random.choice(len(individual))\n",
        "        \n",
        "        # Convert individual to list so that can be modified\n",
        "        individual_mod = list(individual)\n",
        "        if (self.flip(pmutation)):\n",
        "            \n",
        "            if mutation_type == 'bitstring':\n",
        "                individual_mod[index] = 1 - individual_mod[index]\n",
        "            elif mutation_type == 'inversion':\n",
        "                individual_mod= individual_mod[0:index] + individual_mod[index2:index-1:-1] + individual_mod[index2+1:]\n",
        "            else:\n",
        "                individual_mod[index], individual_mod[index2] = individual_mod[index2], individual_mod[index]\n",
        "        else:\n",
        "            \n",
        "            pass\n",
        "        \n",
        "        individual = tuple(individual_mod)\n",
        "\n",
        "        return individual\n",
        "\n",
        "    def optimize(self):\n",
        "\n",
        "        for i in tqdm(range(self.n_iterations)):\n",
        "            print(\"iteration number:\" , i+1)\n",
        "\n",
        "            # calculate fitness score\n",
        "            scores = self.get_fitness_scores()\n",
        "            #storing scores\n",
        "            scores_array = [self.format_func(score) for score in scores]\n",
        "            sfile = open(\"scores.txt\", \"a\")\n",
        "            sfile.write(str(scores_array))\n",
        "            sfile.write(\"\\n\")\n",
        "            sfile.close()\n",
        "            \n",
        "            # append best score\n",
        "            _ = self.__append_best_score(scores)\n",
        "\n",
        "            # get the result wher he results is the best\n",
        "            best_score_ind = scores.tolist().index(max(scores))\n",
        "\n",
        "            best_solution = self.population[best_score_ind]\n",
        "            # storing best solution\n",
        "            solutionfile = open(\"best_solution.txt\", \"a\")\n",
        "            content = str(best_solution)\n",
        "            solutionfile.write(content)\n",
        "            solutionfile.write(\"\\n\")\n",
        "            solutionfile.close()\n",
        "            print(best_solution)\n",
        "\n",
        "\n",
        "\n",
        "            best_fitness = np.array(self.best_fitness_evolution)\n",
        "            # increasing the mutation rate in case the GA is stuck\n",
        "            if (i>=5):\n",
        "                if (best_fitness[i-1] == best_fitness[i-2]) \\\n",
        "                and (best_fitness[i-2] == best_fitness[i-3]) and (best_fitness[i-3] == best_fitness[i-4]) and (best_fitness[i-4] == best_fitness[i-5]):\n",
        "                    self.pmutation = self.pmutation + 0.05\n",
        "\n",
        "            \n",
        "            \n",
        "            fitfile = open(\"fitness_evolution.txt\", \"a\")\n",
        "            fit = str(best_fitness)\n",
        "            fitfile.write(fit)\n",
        "            fitfile.write(\"\\n\")\n",
        "            fitfile.close()\n",
        "            print(best_fitness)\n",
        "            \n",
        "            # choose the elites of the current population\n",
        "            ind = np.argsort(scores)\n",
        "        \n",
        "            elites = [self.population[i] for i in ind[-self.n_elites:]]\n",
        "\n",
        "            #append the elites to the population\n",
        "            new_population = [tuple(elite) for elite in elites]\n",
        "\n",
        "            # make selection\n",
        "            j = self.n_elites\n",
        "            while j < self.popsize:\n",
        "                \n",
        "                # select parents from population\n",
        "                mate1 = self.select(scores, self.selection_type)\n",
        "                mate2 = self.select(scores, self.selection_type)\n",
        "\n",
        "                mate1 = tuple(self.population[mate1])\n",
        "                mate2 = tuple(self.population[mate2])\n",
        "\n",
        "                #crossover + mutation\n",
        "                children = self.__crossover(mate1, mate2, self.crossover_type, self.pcross, self.lchrom,self.mutation_type, self.pmutation)\n",
        "                children = [tuple(child) for child in children]\n",
        "                \n",
        "                \n",
        "                \n",
        "                if ((sum(children[0][:self.cut_point]) != 0 and sum(children[0][self.cut_point:]) == 1) and\n",
        "                    sum(children[1][:self.cut_point]) != 0 and sum(children[1][self.cut_point:]) == 1):\n",
        "                    \n",
        "                    new_population.append(tuple(children[0]))\n",
        "                    new_population.append(tuple(children[1]))\n",
        "                    j+=2\n",
        "                \n",
        "                \n",
        "\n",
        "            self.population = new_population\n",
        "\n",
        "            \n",
        "            \n",
        "\n",
        "        \n",
        "\n",
        "        \n",
        "        return (best_solution, self.best_fitness_evolution[-1])\n",
        "\n",
        "\n",
        "    # run the genetic algorithm\n",
        "    def view_fitness_evolution(self):\n",
        "        plt.plot(\n",
        "            range(len(self.best_fitness_evolution)),\n",
        "            self.best_fitness_evolution)"
      ]
    },
    {
      "cell_type": "code",
      "execution_count": 11,
      "metadata": {
        "id": "2Z0vZTptmcA5"
      },
      "outputs": [],
      "source": [
        "models = [\"vgg16\", \"VGG19\",\n",
        "          \"ResNet50\",\"DenseNet201\"]\n",
        "ga = GeneticAlgorithm(\n",
        "    n_genes =10,\n",
        "    n_iterations = 100,\n",
        "    lchrom = 10, \n",
        "    cut_point = 7, \n",
        "    pcross = 0.8, \n",
        "    pmutation = 0.2, \n",
        "    crossover_type = 'one_point', \n",
        "    mutation_type = 'bitstring', \n",
        "    selection_type = 'ranking', \n",
        "    popsize = 7, \n",
        "    n_elites = 1,\n",
        "    models = models,\n",
        "    n_classes = n_classes,\n",
        "    n_epochs=n_epochs,\n",
        "    n_steps=n_steps,\n",
        "    n_val_steps=n_val_steps,\n",
        "    traingen=traingen,\n",
        "    validgen=validgen,\n",
        "    random_state = 36\n",
        ")\n",
        "\n"
      ]
    },
    {
      "cell_type": "code",
      "execution_count": 12,
      "metadata": {
        "colab": {
          "base_uri": "https://localhost:8080/"
        },
        "id": "DDhXgXZfmcA5",
        "outputId": "5f4f09a5-d4ac-43e7-9ab8-c525ff444589"
      },
      "outputs": [
        {
          "data": {
            "text/plain": [
              "[(1, 0, 0, 1, 1, 0, 1, 0, 0, 1),\n",
              " (0, 0, 0, 1, 0, 0, 1, 1, 0, 0),\n",
              " (1, 0, 1, 1, 1, 0, 0, 0, 0, 1),\n",
              " (0, 0, 0, 0, 1, 0, 1, 0, 1, 0),\n",
              " (1, 1, 1, 1, 1, 1, 0, 0, 1, 0),\n",
              " (0, 0, 1, 0, 1, 1, 1, 0, 1, 0),\n",
              " (0, 0, 0, 0, 1, 0, 1, 0, 1, 0)]"
            ]
          },
          "execution_count": 12,
          "metadata": {},
          "output_type": "execute_result"
        }
      ],
      "source": [
        "ga.population"
      ]
    },
    {
      "cell_type": "code",
      "execution_count": 13,
      "metadata": {
        "colab": {
          "base_uri": "https://localhost:8080/"
        },
        "id": "feaOoauPmcA6",
        "outputId": "bccdef52-672e-4da5-a536-98e08f398d63"
      },
      "outputs": [
        {
          "name": "stderr",
          "output_type": "stream",
          "text": [
            "  0%|          | 0/100 [00:00<?, ?it/s]"
          ]
        },
        {
          "name": "stdout",
          "output_type": "stream",
          "text": [
            "iteration number: 1\n",
            "2/2 [==============================] - 25s 6s/step - loss: 0.7168 - accuracy: 0.4545\n",
            "2/2 [==============================] - 18s 4s/step - loss: 2.4462 - accuracy: 0.3333\n",
            "2/2 [==============================] - 21s 7s/step - loss: 0.7583 - accuracy: 0.4040\n",
            "2/2 [==============================] - 20s 5s/step - loss: 0.7253 - accuracy: 0.4141\n",
            "WARNING:tensorflow:5 out of the last 9 calls to <function Model.make_test_function.<locals>.test_function at 0x000001D1EDC39D80> triggered tf.function retracing. Tracing is expensive and the excessive number of tracings could be due to (1) creating @tf.function repeatedly in a loop, (2) passing tensors with different shapes, (3) passing Python objects instead of tensors. For (1), please define your @tf.function outside of the loop. For (2), @tf.function has reduce_retracing=True option that can avoid unnecessary retracing. For (3), please refer to https://www.tensorflow.org/guide/function#controlling_retracing and https://www.tensorflow.org/api_docs/python/tf/function for  more details.\n",
            "2/2 [==============================] - 51s 15s/step - loss: 0.6895 - accuracy: 0.4343\n",
            "WARNING:tensorflow:6 out of the last 11 calls to <function Model.make_test_function.<locals>.test_function at 0x000001D1EDA53520> triggered tf.function retracing. Tracing is expensive and the excessive number of tracings could be due to (1) creating @tf.function repeatedly in a loop, (2) passing tensors with different shapes, (3) passing Python objects instead of tensors. For (1), please define your @tf.function outside of the loop. For (2), @tf.function has reduce_retracing=True option that can avoid unnecessary retracing. For (3), please refer to https://www.tensorflow.org/guide/function#controlling_retracing and https://www.tensorflow.org/api_docs/python/tf/function for  more details.\n",
            "2/2 [==============================] - 43s 11s/step - loss: 0.7094 - accuracy: 0.3838\n",
            "2/2 [==============================] - 19s 5s/step - loss: 0.7253 - accuracy: 0.4141\n"
          ]
        },
        {
          "name": "stderr",
          "output_type": "stream",
          "text": [
            "  1%|          | 1/100 [03:36<5:56:56, 216.33s/it]"
          ]
        },
        {
          "name": "stdout",
          "output_type": "stream",
          "text": [
            "(1, 0, 0, 1, 1, 0, 1, 0, 0, 1)\n",
            "[0.45454547]\n",
            "iteration number: 2\n",
            "2/2 [==============================] - 43s 13s/step - loss: 0.7168 - accuracy: 0.4545\n",
            "2/2 [==============================] - 36s 10s/step - loss: 0.7168 - accuracy: 0.4545\n",
            "2/2 [==============================] - 43s 13s/step - loss: 0.7168 - accuracy: 0.4545\n",
            "2/2 [==============================] - 35s 10s/step - loss: 0.7168 - accuracy: 0.4545\n",
            "2/2 [==============================] - 48s 14s/step - loss: 0.7168 - accuracy: 0.4545\n",
            "2/2 [==============================] - 38s 11s/step - loss: 0.7168 - accuracy: 0.4545\n",
            "2/2 [==============================] - 50s 15s/step - loss: 0.7168 - accuracy: 0.4545\n"
          ]
        },
        {
          "name": "stderr",
          "output_type": "stream",
          "text": [
            "  2%|▏         | 2/100 [08:44<7:21:28, 270.29s/it]"
          ]
        },
        {
          "name": "stdout",
          "output_type": "stream",
          "text": [
            "(1, 0, 0, 1, 1, 0, 1, 0, 0, 1)\n",
            "[0.45454547 0.45454547]\n",
            "iteration number: 3\n",
            "2/2 [==============================] - 38s 11s/step - loss: 0.7168 - accuracy: 0.4545\n",
            "2/2 [==============================] - 49s 15s/step - loss: 0.7168 - accuracy: 0.4545\n",
            "2/2 [==============================] - 38s 11s/step - loss: 0.7168 - accuracy: 0.4545\n",
            "2/2 [==============================] - 48s 15s/step - loss: 0.7168 - accuracy: 0.4545\n",
            "2/2 [==============================] - 38s 11s/step - loss: 0.7168 - accuracy: 0.4545\n",
            "2/2 [==============================] - 48s 15s/step - loss: 0.7168 - accuracy: 0.4545\n",
            "2/2 [==============================] - 78s 23s/step - loss: 0.6796 - accuracy: 0.4545\n"
          ]
        },
        {
          "name": "stderr",
          "output_type": "stream",
          "text": [
            "  3%|▎         | 3/100 [14:43<8:22:29, 310.82s/it]"
          ]
        },
        {
          "name": "stdout",
          "output_type": "stream",
          "text": [
            "(1, 0, 0, 1, 1, 0, 1, 0, 0, 1)\n",
            "[0.45454547 0.45454547 0.45454547]\n",
            "iteration number: 4\n",
            "2/2 [==============================] - 80s 24s/step - loss: 0.6796 - accuracy: 0.4545\n",
            "2/2 [==============================] - 34s 10s/step - loss: 0.6920 - accuracy: 0.4949\n",
            "2/2 [==============================] - 51s 16s/step - loss: 0.7168 - accuracy: 0.4545\n",
            "2/2 [==============================] - 46s 14s/step - loss: 0.7168 - accuracy: 0.4545\n",
            "2/2 [==============================] - 51s 16s/step - loss: 0.7168 - accuracy: 0.4545\n",
            "2/2 [==============================] - 49s 15s/step - loss: 0.7168 - accuracy: 0.4545\n",
            "2/2 [==============================] - 49s 15s/step - loss: 0.7168 - accuracy: 0.4545\n"
          ]
        },
        {
          "name": "stderr",
          "output_type": "stream",
          "text": [
            "  4%|▍         | 4/100 [21:02<9:00:18, 337.69s/it]"
          ]
        },
        {
          "name": "stdout",
          "output_type": "stream",
          "text": [
            "(1, 0, 0, 0, 1, 0, 1, 0, 0, 1)\n",
            "[0.45454547 0.45454547 0.45454547 0.49494949]\n",
            "iteration number: 5\n",
            "2/2 [==============================] - 55s 17s/step - loss: 0.6920 - accuracy: 0.4949\n",
            "2/2 [==============================] - 86s 26s/step - loss: 0.6796 - accuracy: 0.4545\n",
            "2/2 [==============================] - 91s 28s/step - loss: 0.6796 - accuracy: 0.4545\n",
            "2/2 [==============================] - 65s 18s/step - loss: 0.6860 - accuracy: 0.3333\n",
            "2/2 [==============================] - 90s 28s/step - loss: 0.6796 - accuracy: 0.4545\n",
            "2/2 [==============================] - 93s 29s/step - loss: 0.6796 - accuracy: 0.4545\n",
            "2/2 [==============================] - 103s 32s/step - loss: 0.6796 - accuracy: 0.4545\n"
          ]
        },
        {
          "name": "stderr",
          "output_type": "stream",
          "text": [
            "  5%|▌         | 5/100 [31:15<11:31:53, 436.99s/it]"
          ]
        },
        {
          "name": "stdout",
          "output_type": "stream",
          "text": [
            "(1, 0, 0, 0, 1, 0, 1, 0, 0, 1)\n",
            "[0.45454547 0.45454547 0.45454547 0.49494949 0.49494949]\n",
            "iteration number: 6\n",
            "2/2 [==============================] - 72s 23s/step - loss: 0.6920 - accuracy: 0.4949\n",
            "2/2 [==============================] - 70s 23s/step - loss: 0.6920 - accuracy: 0.4949\n",
            "2/2 [==============================] - 64s 20s/step - loss: 0.6920 - accuracy: 0.4949\n",
            "2/2 [==============================] - 62s 20s/step - loss: 0.6920 - accuracy: 0.4949\n",
            "2/2 [==============================] - 70s 23s/step - loss: 0.6920 - accuracy: 0.4949\n",
            "2/2 [==============================] - 65s 21s/step - loss: 0.6920 - accuracy: 0.4949\n",
            "2/2 [==============================] - 63s 20s/step - loss: 0.6920 - accuracy: 0.4949\n"
          ]
        },
        {
          "name": "stderr",
          "output_type": "stream",
          "text": [
            "  6%|▌         | 6/100 [39:14<11:47:08, 451.37s/it]"
          ]
        },
        {
          "name": "stdout",
          "output_type": "stream",
          "text": [
            "(1, 0, 0, 0, 1, 0, 1, 0, 0, 1)\n",
            "[0.45454547 0.45454547 0.45454547 0.49494949 0.49494949 0.49494949]\n",
            "iteration number: 7\n",
            "2/2 [==============================] - 72s 23s/step - loss: 0.6920 - accuracy: 0.4949\n",
            "2/2 [==============================] - 79s 26s/step - loss: 0.6920 - accuracy: 0.4949\n",
            "2/2 [==============================] - 34s 12s/step - loss: 0.7030 - accuracy: 0.4949\n",
            "2/2 [==============================] - 56s 18s/step - loss: 0.6920 - accuracy: 0.4949\n",
            "2/2 [==============================] - 67s 22s/step - loss: 0.6920 - accuracy: 0.4949\n",
            "2/2 [==============================] - 56s 18s/step - loss: 1.2198 - accuracy: 0.4545\n",
            "2/2 [==============================] - 63s 20s/step - loss: 0.6920 - accuracy: 0.4949\n"
          ]
        },
        {
          "name": "stderr",
          "output_type": "stream",
          "text": [
            "  7%|▋         | 7/100 [46:35<11:34:03, 447.77s/it]"
          ]
        },
        {
          "name": "stdout",
          "output_type": "stream",
          "text": [
            "(1, 0, 0, 0, 1, 0, 1, 0, 0, 1)\n",
            "[0.45454547 0.45454547 0.45454547 0.49494949 0.49494949 0.49494949\n",
            " 0.49494949]\n",
            "iteration number: 8\n",
            "2/2 [==============================] - 73s 24s/step - loss: 0.6920 - accuracy: 0.4949\n",
            "2/2 [==============================] - 63s 20s/step - loss: 1.2198 - accuracy: 0.4545\n",
            "2/2 [==============================] - 71s 23s/step - loss: 0.6920 - accuracy: 0.4949\n",
            "2/2 [==============================] - 74s 24s/step - loss: 0.6920 - accuracy: 0.4949\n",
            "2/2 [==============================] - 74s 24s/step - loss: 0.6920 - accuracy: 0.4949\n",
            "2/2 [==============================] - 72s 24s/step - loss: 0.6920 - accuracy: 0.4949\n",
            "2/2 [==============================] - 78s 26s/step - loss: 0.6920 - accuracy: 0.4949\n"
          ]
        },
        {
          "name": "stderr",
          "output_type": "stream",
          "text": [
            "  8%|▊         | 8/100 [55:14<12:01:32, 470.57s/it]"
          ]
        },
        {
          "name": "stdout",
          "output_type": "stream",
          "text": [
            "(1, 0, 0, 0, 1, 0, 1, 0, 0, 1)\n",
            "[0.45454547 0.45454547 0.45454547 0.49494949 0.49494949 0.49494949\n",
            " 0.49494949 0.49494949]\n",
            "iteration number: 9\n",
            "2/2 [==============================] - 83s 27s/step - loss: 0.6920 - accuracy: 0.4949\n",
            "2/2 [==============================] - 55s 18s/step - loss: 0.6920 - accuracy: 0.4949\n",
            "2/2 [==============================] - 54s 17s/step - loss: 0.6920 - accuracy: 0.4949\n",
            "2/2 [==============================] - 63s 20s/step - loss: 0.6920 - accuracy: 0.4949\n",
            "2/2 [==============================] - 61s 20s/step - loss: 0.6920 - accuracy: 0.4949\n",
            "2/2 [==============================] - 79s 26s/step - loss: 0.6920 - accuracy: 0.4949\n",
            "2/2 [==============================] - 79s 26s/step - loss: 0.6920 - accuracy: 0.4949\n"
          ]
        },
        {
          "name": "stderr",
          "output_type": "stream",
          "text": [
            "  9%|▉         | 9/100 [1:03:25<12:03:23, 476.96s/it]"
          ]
        },
        {
          "name": "stdout",
          "output_type": "stream",
          "text": [
            "(1, 0, 0, 0, 1, 0, 1, 0, 0, 1)\n",
            "[0.45454547 0.45454547 0.45454547 0.49494949 0.49494949 0.49494949\n",
            " 0.49494949 0.49494949 0.49494949]\n",
            "iteration number: 10\n",
            "2/2 [==============================] - 77s 25s/step - loss: 0.6920 - accuracy: 0.4949\n",
            "2/2 [==============================] - 121s 39s/step - loss: 0.6579 - accuracy: 0.4848\n",
            "2/2 [==============================] - 66s 22s/step - loss: 0.6920 - accuracy: 0.4949\n",
            "2/2 [==============================] - 65s 21s/step - loss: 0.6920 - accuracy: 0.4949\n",
            "2/2 [==============================] - 83s 27s/step - loss: 0.6920 - accuracy: 0.4949\n",
            "2/2 [==============================] - 66s 21s/step - loss: 0.6920 - accuracy: 0.4949\n",
            "2/2 [==============================] - 65s 21s/step - loss: 0.6920 - accuracy: 0.4949\n"
          ]
        },
        {
          "name": "stderr",
          "output_type": "stream",
          "text": [
            " 10%|█         | 10/100 [1:12:47<12:35:03, 503.38s/it]"
          ]
        },
        {
          "name": "stdout",
          "output_type": "stream",
          "text": [
            "(1, 0, 0, 0, 1, 0, 1, 0, 0, 1)\n",
            "[0.45454547 0.45454547 0.45454547 0.49494949 0.49494949 0.49494949\n",
            " 0.49494949 0.49494949 0.49494949 0.49494949]\n",
            "iteration number: 11\n",
            "2/2 [==============================] - 83s 27s/step - loss: 0.6920 - accuracy: 0.4949\n",
            "2/2 [==============================] - 78s 25s/step - loss: 0.6920 - accuracy: 0.4949\n",
            "2/2 [==============================] - 76s 25s/step - loss: 0.6920 - accuracy: 0.4949\n",
            "2/2 [==============================] - 85s 28s/step - loss: 0.6920 - accuracy: 0.4949\n",
            "2/2 [==============================] - 74s 24s/step - loss: 0.6920 - accuracy: 0.4949\n",
            "2/2 [==============================] - 72s 23s/step - loss: 0.6920 - accuracy: 0.4949\n",
            "2/2 [==============================] - 84s 28s/step - loss: 0.6920 - accuracy: 0.4949\n"
          ]
        },
        {
          "name": "stderr",
          "output_type": "stream",
          "text": [
            " 11%|█         | 11/100 [1:22:15<12:55:43, 522.96s/it]"
          ]
        },
        {
          "name": "stdout",
          "output_type": "stream",
          "text": [
            "(1, 0, 0, 0, 1, 0, 1, 0, 0, 1)\n",
            "[0.45454547 0.45454547 0.45454547 0.49494949 0.49494949 0.49494949\n",
            " 0.49494949 0.49494949 0.49494949 0.49494949 0.49494949]\n",
            "iteration number: 12\n",
            "2/2 [==============================] - 75s 24s/step - loss: 0.6920 - accuracy: 0.4949\n",
            "2/2 [==============================] - 73s 24s/step - loss: 0.6920 - accuracy: 0.4949\n",
            "2/2 [==============================] - 86s 28s/step - loss: 0.6920 - accuracy: 0.4949\n",
            "2/2 [==============================] - 52s 18s/step - loss: 0.7030 - accuracy: 0.4949\n",
            "2/2 [==============================] - 79s 26s/step - loss: 0.6920 - accuracy: 0.4949\n",
            "2/2 [==============================] - 124s 40s/step - loss: 0.6579 - accuracy: 0.4848\n",
            "2/2 [==============================] - 81s 27s/step - loss: 0.6747 - accuracy: 0.4848\n"
          ]
        },
        {
          "name": "stderr",
          "output_type": "stream",
          "text": [
            " 12%|█▏        | 12/100 [1:32:03<13:15:53, 542.66s/it]"
          ]
        },
        {
          "name": "stdout",
          "output_type": "stream",
          "text": [
            "(1, 0, 0, 0, 1, 0, 1, 0, 0, 1)\n",
            "[0.45454547 0.45454547 0.45454547 0.49494949 0.49494949 0.49494949\n",
            " 0.49494949 0.49494949 0.49494949 0.49494949 0.49494949 0.49494949]\n",
            "iteration number: 13\n",
            "2/2 [==============================] - 73s 24s/step - loss: 0.6920 - accuracy: 0.4949\n",
            "2/2 [==============================] - 81s 27s/step - loss: 0.6920 - accuracy: 0.4949\n",
            "2/2 [==============================] - 84s 27s/step - loss: 0.6920 - accuracy: 0.4949\n",
            "2/2 [==============================] - 70s 23s/step - loss: 1.2198 - accuracy: 0.4545\n",
            "2/2 [==============================] - 68s 22s/step - loss: 1.2198 - accuracy: 0.4545\n",
            "2/2 [==============================] - 85s 28s/step - loss: 0.6920 - accuracy: 0.4949\n",
            "2/2 [==============================] - 83s 27s/step - loss: 0.6920 - accuracy: 0.4949\n"
          ]
        },
        {
          "name": "stderr",
          "output_type": "stream",
          "text": [
            " 13%|█▎        | 13/100 [1:41:20<13:13:20, 547.13s/it]"
          ]
        },
        {
          "name": "stdout",
          "output_type": "stream",
          "text": [
            "(1, 0, 0, 0, 1, 0, 1, 0, 0, 1)\n",
            "[0.45454547 0.45454547 0.45454547 0.49494949 0.49494949 0.49494949\n",
            " 0.49494949 0.49494949 0.49494949 0.49494949 0.49494949 0.49494949\n",
            " 0.49494949]\n",
            "iteration number: 14\n",
            "2/2 [==============================] - 83s 27s/step - loss: 0.6920 - accuracy: 0.4949\n",
            "2/2 [==============================] - 87s 29s/step - loss: 0.6920 - accuracy: 0.4949\n",
            "2/2 [==============================] - 115s 36s/step - loss: 0.6579 - accuracy: 0.4848\n",
            "2/2 [==============================] - 93s 31s/step - loss: 0.6747 - accuracy: 0.4848\n",
            "2/2 [==============================] - 46s 14s/step - loss: 0.7095 - accuracy: 0.3939\n",
            "2/2 [==============================] - 84s 28s/step - loss: 0.6920 - accuracy: 0.4949\n",
            "2/2 [==============================] - 87s 29s/step - loss: 0.6920 - accuracy: 0.4949\n"
          ]
        },
        {
          "name": "stderr",
          "output_type": "stream",
          "text": [
            " 14%|█▍        | 14/100 [1:51:33<13:32:48, 567.08s/it]"
          ]
        },
        {
          "name": "stdout",
          "output_type": "stream",
          "text": [
            "(1, 0, 0, 0, 1, 0, 1, 0, 0, 1)\n",
            "[0.45454547 0.45454547 0.45454547 0.49494949 0.49494949 0.49494949\n",
            " 0.49494949 0.49494949 0.49494949 0.49494949 0.49494949 0.49494949\n",
            " 0.49494949 0.49494949]\n",
            "iteration number: 15\n",
            "2/2 [==============================] - 88s 29s/step - loss: 0.6920 - accuracy: 0.4949\n",
            "2/2 [==============================] - 86s 29s/step - loss: 0.6920 - accuracy: 0.4949\n",
            "2/2 [==============================] - 86s 29s/step - loss: 0.6920 - accuracy: 0.4949\n",
            "2/2 [==============================] - 52s 18s/step - loss: 0.7030 - accuracy: 0.4949\n",
            "2/2 [==============================] - 140s 47s/step - loss: 0.6875 - accuracy: 0.4848\n",
            "2/2 [==============================] - 88s 29s/step - loss: 0.6920 - accuracy: 0.4949\n",
            "2/2 [==============================] - 87s 29s/step - loss: 0.6920 - accuracy: 0.4949\n"
          ]
        },
        {
          "name": "stderr",
          "output_type": "stream",
          "text": [
            " 15%|█▌        | 15/100 [2:02:14<13:54:43, 589.22s/it]"
          ]
        },
        {
          "name": "stdout",
          "output_type": "stream",
          "text": [
            "(1, 0, 0, 0, 1, 0, 1, 0, 0, 1)\n",
            "[0.45454547 0.45454547 0.45454547 0.49494949 0.49494949 0.49494949\n",
            " 0.49494949 0.49494949 0.49494949 0.49494949 0.49494949 0.49494949\n",
            " 0.49494949 0.49494949 0.49494949]\n",
            "iteration number: 16\n",
            "2/2 [==============================] - 88s 29s/step - loss: 0.6920 - accuracy: 0.4949\n",
            "2/2 [==============================] - 121s 39s/step - loss: 0.6579 - accuracy: 0.4848\n",
            "2/2 [==============================] - 132s 45s/step - loss: 0.6875 - accuracy: 0.4848\n",
            "2/2 [==============================] - 89s 29s/step - loss: 0.6747 - accuracy: 0.4848\n",
            "2/2 [==============================] - 79s 26s/step - loss: 0.6920 - accuracy: 0.4949\n",
            "2/2 [==============================] - 81s 27s/step - loss: 0.6920 - accuracy: 0.4949\n",
            "2/2 [==============================] - 88s 29s/step - loss: 0.6920 - accuracy: 0.4949\n"
          ]
        },
        {
          "name": "stderr",
          "output_type": "stream",
          "text": [
            " 16%|█▌        | 16/100 [2:13:50<14:30:15, 621.61s/it]"
          ]
        },
        {
          "name": "stdout",
          "output_type": "stream",
          "text": [
            "(1, 0, 0, 0, 1, 0, 1, 0, 0, 1)\n",
            "[0.45454547 0.45454547 0.45454547 0.49494949 0.49494949 0.49494949\n",
            " 0.49494949 0.49494949 0.49494949 0.49494949 0.49494949 0.49494949\n",
            " 0.49494949 0.49494949 0.49494949 0.49494949]\n",
            "iteration number: 17\n",
            "2/2 [==============================] - 86s 29s/step - loss: 0.6920 - accuracy: 0.4949\n",
            "2/2 [==============================] - 86s 28s/step - loss: 0.6920 - accuracy: 0.4949\n",
            "2/2 [==============================] - 139s 47s/step - loss: 0.6875 - accuracy: 0.4848\n",
            "2/2 [==============================] - 86s 28s/step - loss: 0.6920 - accuracy: 0.4949\n",
            "2/2 [==============================] - 85s 28s/step - loss: 0.6920 - accuracy: 0.4949\n",
            "2/2 [==============================] - 133s 45s/step - loss: 0.6875 - accuracy: 0.4848\n",
            "2/2 [==============================] - 86s 28s/step - loss: 0.6920 - accuracy: 0.4949\n"
          ]
        },
        {
          "name": "stderr",
          "output_type": "stream",
          "text": [
            " 17%|█▋        | 17/100 [2:25:46<14:59:07, 649.97s/it]"
          ]
        },
        {
          "name": "stdout",
          "output_type": "stream",
          "text": [
            "(1, 0, 0, 0, 1, 0, 1, 0, 0, 1)\n",
            "[0.45454547 0.45454547 0.45454547 0.49494949 0.49494949 0.49494949\n",
            " 0.49494949 0.49494949 0.49494949 0.49494949 0.49494949 0.49494949\n",
            " 0.49494949 0.49494949 0.49494949 0.49494949 0.49494949]\n",
            "iteration number: 18\n",
            "2/2 [==============================] - 85s 28s/step - loss: 0.6920 - accuracy: 0.4949\n",
            "2/2 [==============================] - 87s 29s/step - loss: 0.6747 - accuracy: 0.4848\n",
            "2/2 [==============================] - 94s 31s/step - loss: 0.6747 - accuracy: 0.4848\n",
            "2/2 [==============================] - 83s 27s/step - loss: 0.6920 - accuracy: 0.4949\n",
            "2/2 [==============================] - 82s 27s/step - loss: 0.6920 - accuracy: 0.4949\n",
            "2/2 [==============================] - 87s 29s/step - loss: 0.6920 - accuracy: 0.4949\n",
            "2/2 [==============================] - 124s 40s/step - loss: 0.6579 - accuracy: 0.4848\n"
          ]
        },
        {
          "name": "stderr",
          "output_type": "stream",
          "text": [
            " 18%|█▊        | 18/100 [2:36:47<14:52:29, 653.04s/it]"
          ]
        },
        {
          "name": "stdout",
          "output_type": "stream",
          "text": [
            "(1, 0, 0, 0, 1, 0, 1, 0, 0, 1)\n",
            "[0.45454547 0.45454547 0.45454547 0.49494949 0.49494949 0.49494949\n",
            " 0.49494949 0.49494949 0.49494949 0.49494949 0.49494949 0.49494949\n",
            " 0.49494949 0.49494949 0.49494949 0.49494949 0.49494949 0.49494949]\n",
            "iteration number: 19\n",
            "2/2 [==============================] - 86s 29s/step - loss: 0.6920 - accuracy: 0.4949\n",
            "2/2 [==============================] - 88s 29s/step - loss: 0.6920 - accuracy: 0.4949\n",
            "2/2 [==============================] - 86s 29s/step - loss: 0.6920 - accuracy: 0.4949\n",
            "2/2 [==============================] - 86s 28s/step - loss: 0.6920 - accuracy: 0.4949\n",
            "2/2 [==============================] - 93s 31s/step - loss: 0.6920 - accuracy: 0.4949\n",
            "2/2 [==============================] - 129s 42s/step - loss: 0.6579 - accuracy: 0.4848\n",
            "2/2 [==============================] - 89s 30s/step - loss: 0.6920 - accuracy: 0.4949\n"
          ]
        },
        {
          "name": "stderr",
          "output_type": "stream",
          "text": [
            " 19%|█▉        | 19/100 [2:48:01<14:50:24, 659.56s/it]"
          ]
        },
        {
          "name": "stdout",
          "output_type": "stream",
          "text": [
            "(1, 0, 0, 0, 1, 0, 1, 0, 0, 1)\n",
            "[0.45454547 0.45454547 0.45454547 0.49494949 0.49494949 0.49494949\n",
            " 0.49494949 0.49494949 0.49494949 0.49494949 0.49494949 0.49494949\n",
            " 0.49494949 0.49494949 0.49494949 0.49494949 0.49494949 0.49494949\n",
            " 0.49494949]\n",
            "iteration number: 20\n",
            "2/2 [==============================] - 93s 31s/step - loss: 0.6920 - accuracy: 0.4949\n",
            "2/2 [==============================] - 48s 15s/step - loss: 0.7095 - accuracy: 0.3939\n",
            "2/2 [==============================] - 136s 46s/step - loss: 0.6875 - accuracy: 0.4848\n",
            "2/2 [==============================] - 87s 29s/step - loss: 0.6920 - accuracy: 0.4949\n",
            "2/2 [==============================] - 50s 15s/step - loss: 0.7095 - accuracy: 0.3939\n",
            "2/2 [==============================] - 134s 43s/step - loss: 0.6579 - accuracy: 0.4848\n",
            "2/2 [==============================] - 94s 31s/step - loss: 0.6920 - accuracy: 0.4949\n"
          ]
        },
        {
          "name": "stderr",
          "output_type": "stream",
          "text": [
            " 20%|██        | 20/100 [2:59:02<14:39:56, 659.95s/it]"
          ]
        },
        {
          "name": "stdout",
          "output_type": "stream",
          "text": [
            "(1, 0, 0, 0, 1, 0, 1, 0, 0, 1)\n",
            "[0.45454547 0.45454547 0.45454547 0.49494949 0.49494949 0.49494949\n",
            " 0.49494949 0.49494949 0.49494949 0.49494949 0.49494949 0.49494949\n",
            " 0.49494949 0.49494949 0.49494949 0.49494949 0.49494949 0.49494949\n",
            " 0.49494949 0.49494949]\n",
            "iteration number: 21\n",
            "2/2 [==============================] - 92s 30s/step - loss: 0.6920 - accuracy: 0.4949\n",
            "2/2 [==============================] - 129s 42s/step - loss: 0.6579 - accuracy: 0.4848\n",
            "2/2 [==============================] - 148s 51s/step - loss: 0.6875 - accuracy: 0.4848\n",
            "2/2 [==============================] - 57s 20s/step - loss: 0.7030 - accuracy: 0.4949\n",
            "2/2 [==============================] - 52s 16s/step - loss: 0.7095 - accuracy: 0.3939\n",
            "2/2 [==============================] - 90s 30s/step - loss: 0.6920 - accuracy: 0.4949\n",
            "2/2 [==============================] - 90s 30s/step - loss: 0.6920 - accuracy: 0.4949\n"
          ]
        },
        {
          "name": "stderr",
          "output_type": "stream",
          "text": [
            " 21%|██        | 21/100 [3:10:17<14:34:37, 664.27s/it]"
          ]
        },
        {
          "name": "stdout",
          "output_type": "stream",
          "text": [
            "(1, 0, 0, 0, 1, 0, 1, 0, 0, 1)\n",
            "[0.45454547 0.45454547 0.45454547 0.49494949 0.49494949 0.49494949\n",
            " 0.49494949 0.49494949 0.49494949 0.49494949 0.49494949 0.49494949\n",
            " 0.49494949 0.49494949 0.49494949 0.49494949 0.49494949 0.49494949\n",
            " 0.49494949 0.49494949 0.49494949]\n",
            "iteration number: 22\n",
            "2/2 [==============================] - 97s 32s/step - loss: 0.6920 - accuracy: 0.4949\n",
            "2/2 [==============================] - 81s 26s/step - loss: 1.2198 - accuracy: 0.4545\n",
            "2/2 [==============================] - 89s 29s/step - loss: 0.7168 - accuracy: 0.4545\n",
            "2/2 [==============================] - 136s 46s/step - loss: 0.6875 - accuracy: 0.4848\n",
            "2/2 [==============================] - 50s 16s/step - loss: 0.7095 - accuracy: 0.3939\n",
            "2/2 [==============================] - 144s 49s/step - loss: 0.6875 - accuracy: 0.4848\n",
            "2/2 [==============================] - 92s 31s/step - loss: 0.6920 - accuracy: 0.4949\n"
          ]
        },
        {
          "name": "stderr",
          "output_type": "stream",
          "text": [
            " 22%|██▏       | 22/100 [3:22:02<14:39:27, 676.51s/it]"
          ]
        },
        {
          "name": "stdout",
          "output_type": "stream",
          "text": [
            "(1, 0, 0, 0, 1, 0, 1, 0, 0, 1)\n",
            "[0.45454547 0.45454547 0.45454547 0.49494949 0.49494949 0.49494949\n",
            " 0.49494949 0.49494949 0.49494949 0.49494949 0.49494949 0.49494949\n",
            " 0.49494949 0.49494949 0.49494949 0.49494949 0.49494949 0.49494949\n",
            " 0.49494949 0.49494949 0.49494949 0.49494949]\n",
            "iteration number: 23\n",
            "2/2 [==============================] - 91s 30s/step - loss: 0.6920 - accuracy: 0.4949\n",
            "2/2 [==============================] - 91s 30s/step - loss: 0.7168 - accuracy: 0.4545\n",
            "2/2 [==============================] - 92s 30s/step - loss: 0.6747 - accuracy: 0.4848\n",
            "2/2 [==============================] - 130s 42s/step - loss: 0.6579 - accuracy: 0.4848\n",
            "2/2 [==============================] - 138s 45s/step - loss: 0.6579 - accuracy: 0.4848\n",
            "2/2 [==============================] - 95s 32s/step - loss: 0.6920 - accuracy: 0.4949\n",
            "2/2 [==============================] - 53s 17s/step - loss: 0.7095 - accuracy: 0.3939\n"
          ]
        },
        {
          "name": "stderr",
          "output_type": "stream",
          "text": [
            " 23%|██▎       | 23/100 [3:33:54<14:42:05, 687.35s/it]"
          ]
        },
        {
          "name": "stdout",
          "output_type": "stream",
          "text": [
            "(1, 0, 0, 0, 1, 0, 1, 0, 0, 1)\n",
            "[0.45454547 0.45454547 0.45454547 0.49494949 0.49494949 0.49494949\n",
            " 0.49494949 0.49494949 0.49494949 0.49494949 0.49494949 0.49494949\n",
            " 0.49494949 0.49494949 0.49494949 0.49494949 0.49494949 0.49494949\n",
            " 0.49494949 0.49494949 0.49494949 0.49494949 0.49494949]\n",
            "iteration number: 24\n",
            "2/2 [==============================] - 99s 33s/step - loss: 0.6920 - accuracy: 0.4949\n",
            "2/2 [==============================] - 151s 52s/step - loss: 0.6875 - accuracy: 0.4848\n",
            "2/2 [==============================] - 100s 33s/step - loss: 0.6747 - accuracy: 0.4848\n",
            "2/2 [==============================] - 147s 48s/step - loss: 0.6579 - accuracy: 0.4848\n",
            "2/2 [==============================] - 104s 35s/step - loss: 0.6747 - accuracy: 0.4848\n",
            "2/2 [==============================] - 161s 53s/step - loss: 0.6579 - accuracy: 0.4848\n",
            "2/2 [==============================] - 123s 41s/step - loss: 0.6920 - accuracy: 0.4949\n"
          ]
        },
        {
          "name": "stderr",
          "output_type": "stream",
          "text": [
            " 24%|██▍       | 24/100 [3:48:59<15:53:27, 752.73s/it]"
          ]
        },
        {
          "name": "stdout",
          "output_type": "stream",
          "text": [
            "(1, 0, 0, 0, 1, 0, 1, 0, 0, 1)\n",
            "[0.45454547 0.45454547 0.45454547 0.49494949 0.49494949 0.49494949\n",
            " 0.49494949 0.49494949 0.49494949 0.49494949 0.49494949 0.49494949\n",
            " 0.49494949 0.49494949 0.49494949 0.49494949 0.49494949 0.49494949\n",
            " 0.49494949 0.49494949 0.49494949 0.49494949 0.49494949 0.49494949]\n",
            "iteration number: 25\n",
            "2/2 [==============================] - 120s 41s/step - loss: 0.6920 - accuracy: 0.4949\n",
            "2/2 [==============================] - 170s 56s/step - loss: 0.6579 - accuracy: 0.4848\n",
            "2/2 [==============================] - 116s 39s/step - loss: 0.7168 - accuracy: 0.4545\n",
            "2/2 [==============================] - 72s 25s/step - loss: 0.7030 - accuracy: 0.4949\n",
            "2/2 [==============================] - 106s 35s/step - loss: 0.7168 - accuracy: 0.4545\n",
            "2/2 [==============================] - 105s 35s/step - loss: 0.6747 - accuracy: 0.4848\n",
            "2/2 [==============================] - 79s 26s/step - loss: 1.2198 - accuracy: 0.4545\n"
          ]
        },
        {
          "name": "stderr",
          "output_type": "stream",
          "text": [
            " 25%|██▌       | 25/100 [4:02:06<15:53:39, 762.93s/it]"
          ]
        },
        {
          "name": "stdout",
          "output_type": "stream",
          "text": [
            "(1, 0, 0, 0, 1, 0, 1, 0, 0, 1)\n",
            "[0.45454547 0.45454547 0.45454547 0.49494949 0.49494949 0.49494949\n",
            " 0.49494949 0.49494949 0.49494949 0.49494949 0.49494949 0.49494949\n",
            " 0.49494949 0.49494949 0.49494949 0.49494949 0.49494949 0.49494949\n",
            " 0.49494949 0.49494949 0.49494949 0.49494949 0.49494949 0.49494949\n",
            " 0.49494949]\n",
            "iteration number: 26\n",
            "2/2 [==============================] - 56s 20s/step - loss: 0.7030 - accuracy: 0.4949\n",
            "2/2 [==============================] - 53s 17s/step - loss: 0.7095 - accuracy: 0.3939\n",
            "2/2 [==============================] - 110s 36s/step - loss: 0.7168 - accuracy: 0.4545\n",
            "2/2 [==============================] - 65s 23s/step - loss: 0.7030 - accuracy: 0.4949\n",
            "2/2 [==============================] - 88s 30s/step - loss: 1.2198 - accuracy: 0.4545\n",
            "2/2 [==============================] - 159s 55s/step - loss: 0.6875 - accuracy: 0.4848\n",
            "2/2 [==============================] - 103s 34s/step - loss: 0.7168 - accuracy: 0.4545\n"
          ]
        },
        {
          "name": "stderr",
          "output_type": "stream",
          "text": [
            " 26%|██▌       | 26/100 [4:12:53<14:58:02, 728.14s/it]"
          ]
        },
        {
          "name": "stdout",
          "output_type": "stream",
          "text": [
            "(1, 0, 0, 0, 1, 0, 0, 0, 0, 1)\n",
            "[0.45454547 0.45454547 0.45454547 0.49494949 0.49494949 0.49494949\n",
            " 0.49494949 0.49494949 0.49494949 0.49494949 0.49494949 0.49494949\n",
            " 0.49494949 0.49494949 0.49494949 0.49494949 0.49494949 0.49494949\n",
            " 0.49494949 0.49494949 0.49494949 0.49494949 0.49494949 0.49494949\n",
            " 0.49494949 0.49494949]\n",
            "iteration number: 27\n",
            "2/2 [==============================] - 62s 22s/step - loss: 0.7030 - accuracy: 0.4949\n",
            "2/2 [==============================] - 123s 42s/step - loss: 0.6920 - accuracy: 0.4949\n",
            "2/2 [==============================] - 121s 41s/step - loss: 0.6920 - accuracy: 0.4949\n",
            "2/2 [==============================] - 120s 41s/step - loss: 0.6920 - accuracy: 0.4949\n",
            "2/2 [==============================] - 121s 41s/step - loss: 0.6920 - accuracy: 0.4949\n",
            "2/2 [==============================] - 128s 43s/step - loss: 0.6708 - accuracy: 0.4949\n",
            "2/2 [==============================] - 61s 21s/step - loss: 1.7631 - accuracy: 0.4848\n"
          ]
        },
        {
          "name": "stderr",
          "output_type": "stream",
          "text": [
            " 27%|██▋       | 27/100 [4:25:24<14:54:06, 734.89s/it]"
          ]
        },
        {
          "name": "stdout",
          "output_type": "stream",
          "text": [
            "(1, 0, 0, 0, 1, 0, 0, 0, 0, 1)\n",
            "[0.45454547 0.45454547 0.45454547 0.49494949 0.49494949 0.49494949\n",
            " 0.49494949 0.49494949 0.49494949 0.49494949 0.49494949 0.49494949\n",
            " 0.49494949 0.49494949 0.49494949 0.49494949 0.49494949 0.49494949\n",
            " 0.49494949 0.49494949 0.49494949 0.49494949 0.49494949 0.49494949\n",
            " 0.49494949 0.49494949 0.49494949]\n",
            "iteration number: 28\n",
            "2/2 [==============================] - 127s 43s/step - loss: 0.6708 - accuracy: 0.4949\n",
            "2/2 [==============================] - 76s 27s/step - loss: 0.7720 - accuracy: 0.3939\n",
            "2/2 [==============================] - 73s 26s/step - loss: 0.7720 - accuracy: 0.3939\n",
            "2/2 [==============================] - 136s 48s/step - loss: 0.7473 - accuracy: 0.4141\n",
            "2/2 [==============================] - 81s 28s/step - loss: 0.7199 - accuracy: 0.3737\n",
            "2/2 [==============================] - 124s 42s/step - loss: 0.6920 - accuracy: 0.4949\n",
            "2/2 [==============================] - 147s 52s/step - loss: 0.7473 - accuracy: 0.4141\n"
          ]
        },
        {
          "name": "stderr",
          "output_type": "stream",
          "text": [
            " 28%|██▊       | 28/100 [4:38:15<14:55:04, 745.90s/it]"
          ]
        },
        {
          "name": "stdout",
          "output_type": "stream",
          "text": [
            "(1, 0, 0, 0, 1, 1, 0, 0, 0, 1)\n",
            "[0.45454547 0.45454547 0.45454547 0.49494949 0.49494949 0.49494949\n",
            " 0.49494949 0.49494949 0.49494949 0.49494949 0.49494949 0.49494949\n",
            " 0.49494949 0.49494949 0.49494949 0.49494949 0.49494949 0.49494949\n",
            " 0.49494949 0.49494949 0.49494949 0.49494949 0.49494949 0.49494949\n",
            " 0.49494949 0.49494949 0.49494949 0.49494949]\n",
            "iteration number: 29\n",
            "2/2 [==============================] - 119s 40s/step - loss: 0.6920 - accuracy: 0.4949\n",
            "2/2 [==============================] - 107s 36s/step - loss: 0.7016 - accuracy: 0.4949\n",
            "2/2 [==============================] - 145s 49s/step - loss: 0.7127 - accuracy: 0.4040\n",
            "2/2 [==============================] - 160s 53s/step - loss: 0.7127 - accuracy: 0.4040\n",
            "2/2 [==============================] - 133s 45s/step - loss: 0.7016 - accuracy: 0.4949\n",
            "2/2 [==============================] - 131s 44s/step - loss: 0.7016 - accuracy: 0.4949\n",
            "2/2 [==============================] - 157s 53s/step - loss: 0.7127 - accuracy: 0.4040\n"
          ]
        },
        {
          "name": "stderr",
          "output_type": "stream",
          "text": [
            " 29%|██▉       | 29/100 [4:54:24<16:01:44, 812.74s/it]"
          ]
        },
        {
          "name": "stdout",
          "output_type": "stream",
          "text": [
            "(1, 0, 0, 0, 1, 0, 1, 0, 0, 1)\n",
            "[0.45454547 0.45454547 0.45454547 0.49494949 0.49494949 0.49494949\n",
            " 0.49494949 0.49494949 0.49494949 0.49494949 0.49494949 0.49494949\n",
            " 0.49494949 0.49494949 0.49494949 0.49494949 0.49494949 0.49494949\n",
            " 0.49494949 0.49494949 0.49494949 0.49494949 0.49494949 0.49494949\n",
            " 0.49494949 0.49494949 0.49494949 0.49494949 0.49494949]\n",
            "iteration number: 30\n",
            "2/2 [==============================] - 140s 47s/step - loss: 0.7016 - accuracy: 0.4949\n",
            "2/2 [==============================] - 226s 76s/step - loss: 0.6579 - accuracy: 0.4848\n",
            "2/2 [==============================] - 225s 76s/step - loss: 0.6579 - accuracy: 0.4848\n",
            "2/2 [==============================] - 269s 94s/step - loss: 0.6875 - accuracy: 0.4848\n",
            "2/2 [==============================] - 91s 30s/step - loss: 0.7095 - accuracy: 0.3939\n",
            "2/2 [==============================] - 114s 40s/step - loss: 0.7030 - accuracy: 0.4949\n",
            "2/2 [==============================] - 248s 84s/step - loss: 0.6579 - accuracy: 0.4848\n"
          ]
        },
        {
          "name": "stderr",
          "output_type": "stream",
          "text": [
            " 30%|███       | 30/100 [5:16:39<18:50:53, 969.34s/it]"
          ]
        },
        {
          "name": "stdout",
          "output_type": "stream",
          "text": [
            "(1, 0, 0, 0, 0, 1, 0, 0, 0, 1)\n",
            "[0.45454547 0.45454547 0.45454547 0.49494949 0.49494949 0.49494949\n",
            " 0.49494949 0.49494949 0.49494949 0.49494949 0.49494949 0.49494949\n",
            " 0.49494949 0.49494949 0.49494949 0.49494949 0.49494949 0.49494949\n",
            " 0.49494949 0.49494949 0.49494949 0.49494949 0.49494949 0.49494949\n",
            " 0.49494949 0.49494949 0.49494949 0.49494949 0.49494949 0.49494949]\n",
            "iteration number: 31\n",
            "2/2 [==============================] - 113s 40s/step - loss: 0.7030 - accuracy: 0.4949\n",
            "2/2 [==============================] - 182s 62s/step - loss: 0.6708 - accuracy: 0.4949\n",
            "2/2 [==============================] - 88s 31s/step - loss: 1.7631 - accuracy: 0.4848\n",
            "2/2 [==============================] - 263s 92s/step - loss: 0.7475 - accuracy: 0.4040\n",
            "2/2 [==============================] - 184s 63s/step - loss: 0.6708 - accuracy: 0.4949\n",
            "2/2 [==============================] - 172s 58s/step - loss: 0.7709 - accuracy: 0.3939\n",
            "2/2 [==============================] - 75s 25s/step - loss: 0.6811 - accuracy: 0.3333\n"
          ]
        },
        {
          "name": "stderr",
          "output_type": "stream",
          "text": [
            " 31%|███       | 31/100 [5:34:49<19:16:36, 1005.74s/it]"
          ]
        },
        {
          "name": "stdout",
          "output_type": "stream",
          "text": [
            "(1, 0, 0, 0, 1, 0, 0, 0, 0, 1)\n",
            "[0.45454547 0.45454547 0.45454547 0.49494949 0.49494949 0.49494949\n",
            " 0.49494949 0.49494949 0.49494949 0.49494949 0.49494949 0.49494949\n",
            " 0.49494949 0.49494949 0.49494949 0.49494949 0.49494949 0.49494949\n",
            " 0.49494949 0.49494949 0.49494949 0.49494949 0.49494949 0.49494949\n",
            " 0.49494949 0.49494949 0.49494949 0.49494949 0.49494949 0.49494949\n",
            " 0.49494949]\n",
            "iteration number: 32\n",
            "2/2 [==============================] - 190s 65s/step - loss: 0.6708 - accuracy: 0.4949\n",
            "2/2 [==============================] - 121s 42s/step - loss: 0.7720 - accuracy: 0.3939\n",
            "2/2 [==============================] - 119s 42s/step - loss: 0.7720 - accuracy: 0.3939\n",
            "2/2 [==============================] - 117s 41s/step - loss: 0.7720 - accuracy: 0.3939\n",
            "2/2 [==============================] - 129s 46s/step - loss: 0.7199 - accuracy: 0.3737\n",
            "2/2 [==============================] - 88s 31s/step - loss: 1.7631 - accuracy: 0.4848\n",
            "2/2 [==============================] - 193s 66s/step - loss: 0.6708 - accuracy: 0.4949\n"
          ]
        },
        {
          "name": "stderr",
          "output_type": "stream",
          "text": [
            " 32%|███▏      | 32/100 [5:50:55<18:46:05, 993.60s/it] "
          ]
        },
        {
          "name": "stdout",
          "output_type": "stream",
          "text": [
            "(1, 0, 0, 0, 1, 1, 0, 0, 0, 1)\n",
            "[0.45454547 0.45454547 0.45454547 0.49494949 0.49494949 0.49494949\n",
            " 0.49494949 0.49494949 0.49494949 0.49494949 0.49494949 0.49494949\n",
            " 0.49494949 0.49494949 0.49494949 0.49494949 0.49494949 0.49494949\n",
            " 0.49494949 0.49494949 0.49494949 0.49494949 0.49494949 0.49494949\n",
            " 0.49494949 0.49494949 0.49494949 0.49494949 0.49494949 0.49494949\n",
            " 0.49494949 0.49494949]\n",
            "iteration number: 33\n",
            "2/2 [==============================] - 202s 69s/step - loss: 0.6708 - accuracy: 0.4949\n",
            "2/2 [==============================] - 220s 75s/step - loss: 0.7127 - accuracy: 0.4040\n",
            "2/2 [==============================] - 340s 118s/step - loss: 0.7069 - accuracy: 0.3434\n",
            "2/2 [==============================] - 183s 62s/step - loss: 0.7016 - accuracy: 0.4949\n",
            "2/2 [==============================] - 132s 46s/step - loss: 0.7030 - accuracy: 0.4949\n",
            "2/2 [==============================] - 131s 46s/step - loss: 0.7030 - accuracy: 0.4949\n",
            "2/2 [==============================] - 335s 117s/step - loss: 0.7069 - accuracy: 0.3434\n"
          ]
        },
        {
          "name": "stderr",
          "output_type": "stream",
          "text": [
            " 33%|███▎      | 33/100 [6:16:51<21:37:54, 1162.31s/it]"
          ]
        },
        {
          "name": "stdout",
          "output_type": "stream",
          "text": [
            "(1, 0, 0, 0, 1, 1, 0, 0, 0, 1)\n",
            "[0.45454547 0.45454547 0.45454547 0.49494949 0.49494949 0.49494949\n",
            " 0.49494949 0.49494949 0.49494949 0.49494949 0.49494949 0.49494949\n",
            " 0.49494949 0.49494949 0.49494949 0.49494949 0.49494949 0.49494949\n",
            " 0.49494949 0.49494949 0.49494949 0.49494949 0.49494949 0.49494949\n",
            " 0.49494949 0.49494949 0.49494949 0.49494949 0.49494949 0.49494949\n",
            " 0.49494949 0.49494949 0.49494949]\n",
            "iteration number: 34\n",
            "2/2 [==============================] - 132s 46s/step - loss: 0.7030 - accuracy: 0.4949\n",
            "2/2 [==============================] - 114s 38s/step - loss: 0.6807 - accuracy: 0.3333\n",
            "2/2 [==============================] - 237s 81s/step - loss: 0.7127 - accuracy: 0.4040\n",
            "2/2 [==============================] - 311s 106s/step - loss: 0.6579 - accuracy: 0.4848\n",
            "2/2 [==============================] - 199s 68s/step - loss: 0.7016 - accuracy: 0.4949\n",
            "2/2 [==============================] - 365s 127s/step - loss: 0.7069 - accuracy: 0.3434\n",
            "2/2 [==============================] - 118s 40s/step - loss: 0.6807 - accuracy: 0.3333\n"
          ]
        },
        {
          "name": "stderr",
          "output_type": "stream",
          "text": [
            " 34%|███▍      | 34/100 [6:41:43<23:07:19, 1261.21s/it]"
          ]
        },
        {
          "name": "stdout",
          "output_type": "stream",
          "text": [
            "(1, 0, 0, 0, 1, 0, 0, 0, 0, 1)\n",
            "[0.45454547 0.45454547 0.45454547 0.49494949 0.49494949 0.49494949\n",
            " 0.49494949 0.49494949 0.49494949 0.49494949 0.49494949 0.49494949\n",
            " 0.49494949 0.49494949 0.49494949 0.49494949 0.49494949 0.49494949\n",
            " 0.49494949 0.49494949 0.49494949 0.49494949 0.49494949 0.49494949\n",
            " 0.49494949 0.49494949 0.49494949 0.49494949 0.49494949 0.49494949\n",
            " 0.49494949 0.49494949 0.49494949 0.49494949]\n",
            "iteration number: 35\n",
            "2/2 [==============================] - 215s 72s/step - loss: 0.7016 - accuracy: 0.4949\n",
            "2/2 [==============================] - 138s 46s/step - loss: 1.7631 - accuracy: 0.4848\n",
            "2/2 [==============================] - 187s 67s/step - loss: 0.7199 - accuracy: 0.3737\n",
            "2/2 [==============================] - 261s 91s/step - loss: 0.6708 - accuracy: 0.4949\n",
            "2/2 [==============================] - 33s 11s/step - loss: 0.6804 - accuracy: 0.3333\n",
            "2/2 [==============================] - 242s 88s/step - loss: 0.6920 - accuracy: 0.4949\n",
            "2/2 [==============================] - 332s 121s/step - loss: 0.7473 - accuracy: 0.4141\n"
          ]
        },
        {
          "name": "stderr",
          "output_type": "stream",
          "text": [
            " 35%|███▌      | 35/100 [7:05:19<23:36:37, 1307.65s/it]"
          ]
        },
        {
          "name": "stdout",
          "output_type": "stream",
          "text": [
            "(1, 0, 0, 0, 0, 1, 0, 0, 0, 1)\n",
            "[0.45454547 0.45454547 0.45454547 0.49494949 0.49494949 0.49494949\n",
            " 0.49494949 0.49494949 0.49494949 0.49494949 0.49494949 0.49494949\n",
            " 0.49494949 0.49494949 0.49494949 0.49494949 0.49494949 0.49494949\n",
            " 0.49494949 0.49494949 0.49494949 0.49494949 0.49494949 0.49494949\n",
            " 0.49494949 0.49494949 0.49494949 0.49494949 0.49494949 0.49494949\n",
            " 0.49494949 0.49494949 0.49494949 0.49494949 0.49494949]\n",
            "iteration number: 36\n",
            "2/2 [==============================] - 233s 80s/step - loss: 0.6920 - accuracy: 0.4949\n",
            "2/2 [==============================] - 241s 83s/step - loss: 0.7198 - accuracy: 0.3737\n",
            "2/2 [==============================] - 374s 131s/step - loss: 0.7475 - accuracy: 0.4040\n",
            "2/2 [==============================] - 245s 80s/step - loss: 0.7198 - accuracy: 0.3737\n",
            "2/2 [==============================] - 272s 88s/step - loss: 0.6708 - accuracy: 0.4949\n",
            "2/2 [==============================] - 105s 34s/step - loss: 0.6811 - accuracy: 0.3333\n",
            "2/2 [==============================] - 104s 34s/step - loss: 0.6811 - accuracy: 0.3333\n"
          ]
        },
        {
          "name": "stderr",
          "output_type": "stream",
          "text": [
            " 36%|███▌      | 36/100 [7:31:51<24:45:55, 1393.05s/it]"
          ]
        },
        {
          "name": "stdout",
          "output_type": "stream",
          "text": [
            "(1, 0, 0, 0, 1, 0, 1, 0, 0, 1)\n",
            "[0.45454547 0.45454547 0.45454547 0.49494949 0.49494949 0.49494949\n",
            " 0.49494949 0.49494949 0.49494949 0.49494949 0.49494949 0.49494949\n",
            " 0.49494949 0.49494949 0.49494949 0.49494949 0.49494949 0.49494949\n",
            " 0.49494949 0.49494949 0.49494949 0.49494949 0.49494949 0.49494949\n",
            " 0.49494949 0.49494949 0.49494949 0.49494949 0.49494949 0.49494949\n",
            " 0.49494949 0.49494949 0.49494949 0.49494949 0.49494949 0.49494949]\n",
            "iteration number: 37\n",
            "2/2 [==============================] - 283s 96s/step - loss: 0.6708 - accuracy: 0.4949\n",
            "2/2 [==============================] - 265s 90s/step - loss: 0.6747 - accuracy: 0.4848\n",
            "2/2 [==============================] - 430s 145s/step - loss: 0.6875 - accuracy: 0.4848\n",
            "2/2 [==============================] - 336s 117s/step - loss: 0.6579 - accuracy: 0.4848\n",
            "2/2 [==============================] - 224s 75s/step - loss: 1.2198 - accuracy: 0.4545\n",
            "2/2 [==============================] - 269s 95s/step - loss: 0.6747 - accuracy: 0.4848\n",
            "2/2 [==============================] - 146s 48s/step - loss: 0.7095 - accuracy: 0.3939\n"
          ]
        },
        {
          "name": "stderr",
          "output_type": "stream",
          "text": [
            " 37%|███▋      | 37/100 [8:04:43<27:25:00, 1566.67s/it]"
          ]
        },
        {
          "name": "stdout",
          "output_type": "stream",
          "text": [
            "(1, 0, 0, 0, 1, 1, 0, 0, 0, 1)\n",
            "[0.45454547 0.45454547 0.45454547 0.49494949 0.49494949 0.49494949\n",
            " 0.49494949 0.49494949 0.49494949 0.49494949 0.49494949 0.49494949\n",
            " 0.49494949 0.49494949 0.49494949 0.49494949 0.49494949 0.49494949\n",
            " 0.49494949 0.49494949 0.49494949 0.49494949 0.49494949 0.49494949\n",
            " 0.49494949 0.49494949 0.49494949 0.49494949 0.49494949 0.49494949\n",
            " 0.49494949 0.49494949 0.49494949 0.49494949 0.49494949 0.49494949\n",
            " 0.49494949]\n",
            "iteration number: 38\n",
            "2/2 [==============================] - 281s 95s/step - loss: 0.6708 - accuracy: 0.4949\n",
            "2/2 [==============================] - 457s 159s/step - loss: 0.7069 - accuracy: 0.3434\n",
            "2/2 [==============================] - 307s 106s/step - loss: 0.6832 - accuracy: 0.3737\n",
            "2/2 [==============================] - 361s 122s/step - loss: 0.6579 - accuracy: 0.4848\n",
            "2/2 [==============================] - 298s 105s/step - loss: 0.6832 - accuracy: 0.3737\n",
            "2/2 [==============================] - 275s 93s/step - loss: 0.7127 - accuracy: 0.4040\n",
            "2/2 [==============================] - 178s 65s/step - loss: 0.7030 - accuracy: 0.4949\n"
          ]
        },
        {
          "name": "stderr",
          "output_type": "stream",
          "text": [
            " 38%|███▊      | 38/100 [8:40:57<30:07:22, 1749.08s/it]"
          ]
        },
        {
          "name": "stdout",
          "output_type": "stream",
          "text": [
            "(1, 0, 0, 0, 1, 1, 0, 0, 0, 1)\n",
            "[0.45454547 0.45454547 0.45454547 0.49494949 0.49494949 0.49494949\n",
            " 0.49494949 0.49494949 0.49494949 0.49494949 0.49494949 0.49494949\n",
            " 0.49494949 0.49494949 0.49494949 0.49494949 0.49494949 0.49494949\n",
            " 0.49494949 0.49494949 0.49494949 0.49494949 0.49494949 0.49494949\n",
            " 0.49494949 0.49494949 0.49494949 0.49494949 0.49494949 0.49494949\n",
            " 0.49494949 0.49494949 0.49494949 0.49494949 0.49494949 0.49494949\n",
            " 0.49494949 0.49494949]\n",
            "iteration number: 39\n",
            "2/2 [==============================] - 191s 69s/step - loss: 0.7030 - accuracy: 0.4949\n",
            "2/2 [==============================] - 457s 151s/step - loss: 0.7069 - accuracy: 0.3434\n",
            "2/2 [==============================] - 297s 103s/step - loss: 0.6832 - accuracy: 0.3737\n",
            "2/2 [==============================] - 372s 125s/step - loss: 0.6579 - accuracy: 0.4848\n",
            "2/2 [==============================] - 329s 114s/step - loss: 0.7127 - accuracy: 0.4040\n",
            "2/2 [==============================] - 387s 134s/step - loss: 0.6832 - accuracy: 0.3737\n",
            "2/2 [==============================] - 241s 85s/step - loss: 0.7030 - accuracy: 0.4949\n"
          ]
        },
        {
          "name": "stderr",
          "output_type": "stream",
          "text": [
            " 39%|███▉      | 39/100 [9:19:08<32:23:29, 1911.64s/it]"
          ]
        },
        {
          "name": "stdout",
          "output_type": "stream",
          "text": [
            "(1, 0, 0, 0, 1, 0, 0, 0, 0, 1)\n",
            "[0.45454547 0.45454547 0.45454547 0.49494949 0.49494949 0.49494949\n",
            " 0.49494949 0.49494949 0.49494949 0.49494949 0.49494949 0.49494949\n",
            " 0.49494949 0.49494949 0.49494949 0.49494949 0.49494949 0.49494949\n",
            " 0.49494949 0.49494949 0.49494949 0.49494949 0.49494949 0.49494949\n",
            " 0.49494949 0.49494949 0.49494949 0.49494949 0.49494949 0.49494949\n",
            " 0.49494949 0.49494949 0.49494949 0.49494949 0.49494949 0.49494949\n",
            " 0.49494949 0.49494949 0.49494949]\n",
            "iteration number: 40\n",
            "2/2 [==============================] - 242s 85s/step - loss: 0.7030 - accuracy: 0.4949\n",
            "2/2 [==============================] - 51s 17s/step - loss: 0.6804 - accuracy: 0.3333\n",
            "2/2 [==============================] - 242s 85s/step - loss: 0.7720 - accuracy: 0.3939\n",
            "2/2 [==============================] - 266s 94s/step - loss: 0.7199 - accuracy: 0.3737\n",
            "2/2 [==============================] - 364s 127s/step - loss: 0.6708 - accuracy: 0.4949\n",
            "2/2 [==============================] - 194s 69s/step - loss: 1.7631 - accuracy: 0.4848\n",
            "2/2 [==============================] - 363s 127s/step - loss: 0.6708 - accuracy: 0.4949\n"
          ]
        },
        {
          "name": "stderr",
          "output_type": "stream",
          "text": [
            " 40%|████      | 40/100 [9:48:00<30:57:28, 1857.48s/it]"
          ]
        },
        {
          "name": "stdout",
          "output_type": "stream",
          "text": [
            "(1, 0, 0, 0, 1, 0, 0, 0, 0, 1)\n",
            "[0.45454547 0.45454547 0.45454547 0.49494949 0.49494949 0.49494949\n",
            " 0.49494949 0.49494949 0.49494949 0.49494949 0.49494949 0.49494949\n",
            " 0.49494949 0.49494949 0.49494949 0.49494949 0.49494949 0.49494949\n",
            " 0.49494949 0.49494949 0.49494949 0.49494949 0.49494949 0.49494949\n",
            " 0.49494949 0.49494949 0.49494949 0.49494949 0.49494949 0.49494949\n",
            " 0.49494949 0.49494949 0.49494949 0.49494949 0.49494949 0.49494949\n",
            " 0.49494949 0.49494949 0.49494949 0.49494949]\n",
            "iteration number: 41\n",
            "2/2 [==============================] - 362s 125s/step - loss: 0.6708 - accuracy: 0.4949\n",
            "2/2 [==============================] - 361s 126s/step - loss: 0.6708 - accuracy: 0.4949\n",
            "2/2 [==============================] - 53s 18s/step - loss: 0.6804 - accuracy: 0.3333\n",
            "2/2 [==============================] - 51s 17s/step - loss: 0.6804 - accuracy: 0.3333\n",
            "2/2 [==============================] - 192s 67s/step - loss: 1.7631 - accuracy: 0.4848\n",
            "2/2 [==============================] - 50s 18s/step - loss: 0.6804 - accuracy: 0.3333\n",
            "2/2 [==============================] - 473s 165s/step - loss: 0.7473 - accuracy: 0.4141\n"
          ]
        },
        {
          "name": "stderr",
          "output_type": "stream",
          "text": [
            " 41%|████      | 41/100 [10:13:49<28:55:35, 1765.00s/it]"
          ]
        },
        {
          "name": "stdout",
          "output_type": "stream",
          "text": [
            "(1, 0, 0, 0, 1, 1, 0, 0, 0, 1)\n",
            "[0.45454547 0.45454547 0.45454547 0.49494949 0.49494949 0.49494949\n",
            " 0.49494949 0.49494949 0.49494949 0.49494949 0.49494949 0.49494949\n",
            " 0.49494949 0.49494949 0.49494949 0.49494949 0.49494949 0.49494949\n",
            " 0.49494949 0.49494949 0.49494949 0.49494949 0.49494949 0.49494949\n",
            " 0.49494949 0.49494949 0.49494949 0.49494949 0.49494949 0.49494949\n",
            " 0.49494949 0.49494949 0.49494949 0.49494949 0.49494949 0.49494949\n",
            " 0.49494949 0.49494949 0.49494949 0.49494949 0.49494949]\n",
            "iteration number: 42\n",
            "2/2 [==============================] - 356s 125s/step - loss: 0.6708 - accuracy: 0.4949\n",
            "2/2 [==============================] - 462s 159s/step - loss: 0.6579 - accuracy: 0.4848\n",
            "2/2 [==============================] - 595s 210s/step - loss: 0.7069 - accuracy: 0.3434\n",
            "2/2 [==============================] - 598s 208s/step - loss: 0.7069 - accuracy: 0.3434\n",
            "2/2 [==============================] - 315s 109s/step - loss: 0.7016 - accuracy: 0.4949\n",
            "2/2 [==============================] - 594s 207s/step - loss: 0.7069 - accuracy: 0.3434\n",
            "2/2 [==============================] - 594s 208s/step - loss: 0.7069 - accuracy: 0.3434\n"
          ]
        },
        {
          "name": "stderr",
          "output_type": "stream",
          "text": [
            " 42%|████▏     | 42/100 [11:12:43<36:59:06, 2295.62s/it]"
          ]
        },
        {
          "name": "stdout",
          "output_type": "stream",
          "text": [
            "(1, 0, 0, 0, 1, 1, 0, 0, 0, 1)\n",
            "[0.45454547 0.45454547 0.45454547 0.49494949 0.49494949 0.49494949\n",
            " 0.49494949 0.49494949 0.49494949 0.49494949 0.49494949 0.49494949\n",
            " 0.49494949 0.49494949 0.49494949 0.49494949 0.49494949 0.49494949\n",
            " 0.49494949 0.49494949 0.49494949 0.49494949 0.49494949 0.49494949\n",
            " 0.49494949 0.49494949 0.49494949 0.49494949 0.49494949 0.49494949\n",
            " 0.49494949 0.49494949 0.49494949 0.49494949 0.49494949 0.49494949\n",
            " 0.49494949 0.49494949 0.49494949 0.49494949 0.49494949 0.49494949]\n",
            "iteration number: 43\n",
            "2/2 [==============================] - 317s 110s/step - loss: 0.7016 - accuracy: 0.4949\n",
            "2/2 [==============================] - 179s 61s/step - loss: 0.6807 - accuracy: 0.3333\n",
            "2/2 [==============================] - 397s 137s/step - loss: 0.6832 - accuracy: 0.3737\n",
            "2/2 [==============================] - 180s 62s/step - loss: 0.6807 - accuracy: 0.3333\n",
            "2/2 [==============================] - 239s 84s/step - loss: 0.7030 - accuracy: 0.4949\n",
            "2/2 [==============================] - 369s 127s/step - loss: 0.7127 - accuracy: 0.4040\n",
            "2/2 [==============================] - 373s 128s/step - loss: 0.7127 - accuracy: 0.4040\n"
          ]
        },
        {
          "name": "stderr",
          "output_type": "stream",
          "text": [
            " 43%|████▎     | 43/100 [11:47:12<35:16:18, 2227.70s/it]"
          ]
        },
        {
          "name": "stdout",
          "output_type": "stream",
          "text": [
            "(1, 0, 0, 0, 0, 1, 0, 0, 0, 1)\n",
            "[0.45454547 0.45454547 0.45454547 0.49494949 0.49494949 0.49494949\n",
            " 0.49494949 0.49494949 0.49494949 0.49494949 0.49494949 0.49494949\n",
            " 0.49494949 0.49494949 0.49494949 0.49494949 0.49494949 0.49494949\n",
            " 0.49494949 0.49494949 0.49494949 0.49494949 0.49494949 0.49494949\n",
            " 0.49494949 0.49494949 0.49494949 0.49494949 0.49494949 0.49494949\n",
            " 0.49494949 0.49494949 0.49494949 0.49494949 0.49494949 0.49494949\n",
            " 0.49494949 0.49494949 0.49494949 0.49494949 0.49494949 0.49494949\n",
            " 0.49494949]\n",
            "iteration number: 44\n",
            "2/2 [==============================] - 237s 84s/step - loss: 0.7030 - accuracy: 0.4949\n",
            "2/2 [==============================] - 135s 46s/step - loss: 0.6811 - accuracy: 0.3333\n",
            "2/2 [==============================] - 324s 112s/step - loss: 0.7709 - accuracy: 0.3939\n",
            "2/2 [==============================] - 429s 148s/step - loss: 0.6897 - accuracy: 0.4949\n",
            "2/2 [==============================] - 349s 120s/step - loss: 0.7198 - accuracy: 0.3737\n",
            "2/2 [==============================] - 134s 46s/step - loss: 0.6811 - accuracy: 0.3333\n",
            "2/2 [==============================] - 322s 110s/step - loss: 0.7709 - accuracy: 0.3939\n"
          ]
        },
        {
          "name": "stderr",
          "output_type": "stream",
          "text": [
            " 44%|████▍     | 44/100 [12:19:37<33:20:09, 2143.04s/it]"
          ]
        },
        {
          "name": "stdout",
          "output_type": "stream",
          "text": [
            "(1, 0, 0, 0, 1, 0, 0, 0, 0, 1)\n",
            "[0.45454547 0.45454547 0.45454547 0.49494949 0.49494949 0.49494949\n",
            " 0.49494949 0.49494949 0.49494949 0.49494949 0.49494949 0.49494949\n",
            " 0.49494949 0.49494949 0.49494949 0.49494949 0.49494949 0.49494949\n",
            " 0.49494949 0.49494949 0.49494949 0.49494949 0.49494949 0.49494949\n",
            " 0.49494949 0.49494949 0.49494949 0.49494949 0.49494949 0.49494949\n",
            " 0.49494949 0.49494949 0.49494949 0.49494949 0.49494949 0.49494949\n",
            " 0.49494949 0.49494949 0.49494949 0.49494949 0.49494949 0.49494949\n",
            " 0.49494949 0.49494949]\n",
            "iteration number: 45\n",
            "2/2 [==============================] - 424s 145s/step - loss: 0.6897 - accuracy: 0.4949\n",
            "2/2 [==============================] - 362s 126s/step - loss: 0.6708 - accuracy: 0.4949\n",
            "2/2 [==============================] - 186s 65s/step - loss: 1.7631 - accuracy: 0.4848\n",
            "2/2 [==============================] - 275s 97s/step - loss: 0.7199 - accuracy: 0.3737\n",
            "2/2 [==============================] - 276s 96s/step - loss: 0.7199 - accuracy: 0.3737\n",
            "2/2 [==============================] - 276s 98s/step - loss: 0.7199 - accuracy: 0.3737\n",
            "2/2 [==============================] - 277s 97s/step - loss: 0.7199 - accuracy: 0.3737\n"
          ]
        },
        {
          "name": "stderr",
          "output_type": "stream",
          "text": [
            " 45%|████▌     | 45/100 [12:54:23<32:28:37, 2125.77s/it]"
          ]
        },
        {
          "name": "stdout",
          "output_type": "stream",
          "text": [
            "(1, 0, 0, 0, 0, 1, 1, 0, 0, 1)\n",
            "[0.45454547 0.45454547 0.45454547 0.49494949 0.49494949 0.49494949\n",
            " 0.49494949 0.49494949 0.49494949 0.49494949 0.49494949 0.49494949\n",
            " 0.49494949 0.49494949 0.49494949 0.49494949 0.49494949 0.49494949\n",
            " 0.49494949 0.49494949 0.49494949 0.49494949 0.49494949 0.49494949\n",
            " 0.49494949 0.49494949 0.49494949 0.49494949 0.49494949 0.49494949\n",
            " 0.49494949 0.49494949 0.49494949 0.49494949 0.49494949 0.49494949\n",
            " 0.49494949 0.49494949 0.49494949 0.49494949 0.49494949 0.49494949\n",
            " 0.49494949 0.49494949 0.49494949]\n",
            "iteration number: 46\n",
            "2/2 [==============================] - 366s 128s/step - loss: 0.6708 - accuracy: 0.4949\n",
            "2/2 [==============================] - 653s 231s/step - loss: 0.6867 - accuracy: 0.4747\n",
            "2/2 [==============================] - 471s 164s/step - loss: 0.6737 - accuracy: 0.4848\n",
            "2/2 [==============================] - 471s 163s/step - loss: 0.6737 - accuracy: 0.4848\n",
            "2/2 [==============================] - 470s 163s/step - loss: 0.6737 - accuracy: 0.4848\n",
            "2/2 [==============================] - 316s 110s/step - loss: 0.7016 - accuracy: 0.4949\n",
            "2/2 [==============================] - 665s 233s/step - loss: 0.6867 - accuracy: 0.4747\n"
          ]
        },
        {
          "name": "stderr",
          "output_type": "stream",
          "text": [
            " 46%|████▌     | 46/100 [13:51:44<37:48:22, 2520.42s/it]"
          ]
        },
        {
          "name": "stdout",
          "output_type": "stream",
          "text": [
            "(1, 0, 0, 0, 1, 1, 0, 0, 0, 1)\n",
            "[0.45454547 0.45454547 0.45454547 0.49494949 0.49494949 0.49494949\n",
            " 0.49494949 0.49494949 0.49494949 0.49494949 0.49494949 0.49494949\n",
            " 0.49494949 0.49494949 0.49494949 0.49494949 0.49494949 0.49494949\n",
            " 0.49494949 0.49494949 0.49494949 0.49494949 0.49494949 0.49494949\n",
            " 0.49494949 0.49494949 0.49494949 0.49494949 0.49494949 0.49494949\n",
            " 0.49494949 0.49494949 0.49494949 0.49494949 0.49494949 0.49494949\n",
            " 0.49494949 0.49494949 0.49494949 0.49494949 0.49494949 0.49494949\n",
            " 0.49494949 0.49494949 0.49494949 0.49494949]\n",
            "iteration number: 47\n",
            "2/2 [==============================] - 316s 110s/step - loss: 0.7016 - accuracy: 0.4949\n",
            "2/2 [==============================] - 377s 132s/step - loss: 0.7127 - accuracy: 0.4040\n",
            "2/2 [==============================] - 184s 63s/step - loss: 0.6807 - accuracy: 0.3333\n",
            "2/2 [==============================] - 236s 83s/step - loss: 0.7030 - accuracy: 0.4949\n",
            "2/2 [==============================] - 317s 111s/step - loss: 0.7016 - accuracy: 0.4949\n",
            "2/2 [==============================] - 185s 64s/step - loss: 0.6807 - accuracy: 0.3333\n",
            "2/2 [==============================] - 374s 129s/step - loss: 0.7127 - accuracy: 0.4040\n"
          ]
        },
        {
          "name": "stderr",
          "output_type": "stream",
          "text": [
            " 47%|████▋     | 47/100 [14:25:13<34:50:46, 2366.91s/it]"
          ]
        },
        {
          "name": "stdout",
          "output_type": "stream",
          "text": [
            "(1, 0, 0, 0, 0, 1, 0, 0, 0, 1)\n",
            "[0.45454547 0.45454547 0.45454547 0.49494949 0.49494949 0.49494949\n",
            " 0.49494949 0.49494949 0.49494949 0.49494949 0.49494949 0.49494949\n",
            " 0.49494949 0.49494949 0.49494949 0.49494949 0.49494949 0.49494949\n",
            " 0.49494949 0.49494949 0.49494949 0.49494949 0.49494949 0.49494949\n",
            " 0.49494949 0.49494949 0.49494949 0.49494949 0.49494949 0.49494949\n",
            " 0.49494949 0.49494949 0.49494949 0.49494949 0.49494949 0.49494949\n",
            " 0.49494949 0.49494949 0.49494949 0.49494949 0.49494949 0.49494949\n",
            " 0.49494949 0.49494949 0.49494949 0.49494949 0.49494949]\n",
            "iteration number: 48\n",
            "2/2 [==============================] - 318s 111s/step - loss: 0.7016 - accuracy: 0.4949\n",
            "2/2 [==============================] - 543s 191s/step - loss: 0.7475 - accuracy: 0.4040\n",
            "2/2 [==============================] - 437s 152s/step - loss: 0.6897 - accuracy: 0.4949\n",
            "2/2 [==============================] - 544s 192s/step - loss: 0.7475 - accuracy: 0.4040\n",
            "2/2 [==============================] - 188s 66s/step - loss: 1.7631 - accuracy: 0.4848\n",
            "2/2 [==============================] - 186s 66s/step - loss: 1.7631 - accuracy: 0.4848\n",
            "2/2 [==============================] - 186s 66s/step - loss: 1.7631 - accuracy: 0.4848\n"
          ]
        },
        {
          "name": "stderr",
          "output_type": "stream",
          "text": [
            " 48%|████▊     | 48/100 [15:05:28<34:23:47, 2381.30s/it]"
          ]
        },
        {
          "name": "stdout",
          "output_type": "stream",
          "text": [
            "(1, 0, 0, 0, 0, 1, 0, 0, 0, 1)\n",
            "[0.45454547 0.45454547 0.45454547 0.49494949 0.49494949 0.49494949\n",
            " 0.49494949 0.49494949 0.49494949 0.49494949 0.49494949 0.49494949\n",
            " 0.49494949 0.49494949 0.49494949 0.49494949 0.49494949 0.49494949\n",
            " 0.49494949 0.49494949 0.49494949 0.49494949 0.49494949 0.49494949\n",
            " 0.49494949 0.49494949 0.49494949 0.49494949 0.49494949 0.49494949\n",
            " 0.49494949 0.49494949 0.49494949 0.49494949 0.49494949 0.49494949\n",
            " 0.49494949 0.49494949 0.49494949 0.49494949 0.49494949 0.49494949\n",
            " 0.49494949 0.49494949 0.49494949 0.49494949 0.49494949 0.49494949]\n",
            "iteration number: 49\n",
            "2/2 [==============================] - 438s 151s/step - loss: 0.6897 - accuracy: 0.4949\n",
            "2/2 [==============================] - 445s 153s/step - loss: 0.6897 - accuracy: 0.4949\n",
            "2/2 [==============================] - 545s 192s/step - loss: 0.7475 - accuracy: 0.4040\n",
            "2/2 [==============================] - 366s 129s/step - loss: 0.6708 - accuracy: 0.4949\n",
            "2/2 [==============================] - 545s 190s/step - loss: 0.7475 - accuracy: 0.4040\n",
            "2/2 [==============================] - 185s 66s/step - loss: 1.7631 - accuracy: 0.4848\n",
            "2/2 [==============================] - 356s 124s/step - loss: 0.7198 - accuracy: 0.3737\n"
          ]
        },
        {
          "name": "stderr",
          "output_type": "stream",
          "text": [
            " 49%|████▉     | 49/100 [15:53:46<35:56:01, 2536.50s/it]"
          ]
        },
        {
          "name": "stdout",
          "output_type": "stream",
          "text": [
            "(1, 0, 0, 0, 0, 1, 1, 0, 0, 1)\n",
            "[0.45454547 0.45454547 0.45454547 0.49494949 0.49494949 0.49494949\n",
            " 0.49494949 0.49494949 0.49494949 0.49494949 0.49494949 0.49494949\n",
            " 0.49494949 0.49494949 0.49494949 0.49494949 0.49494949 0.49494949\n",
            " 0.49494949 0.49494949 0.49494949 0.49494949 0.49494949 0.49494949\n",
            " 0.49494949 0.49494949 0.49494949 0.49494949 0.49494949 0.49494949\n",
            " 0.49494949 0.49494949 0.49494949 0.49494949 0.49494949 0.49494949\n",
            " 0.49494949 0.49494949 0.49494949 0.49494949 0.49494949 0.49494949\n",
            " 0.49494949 0.49494949 0.49494949 0.49494949 0.49494949 0.49494949\n",
            " 0.49494949]\n",
            "iteration number: 50\n",
            "2/2 [==============================] - 366s 128s/step - loss: 0.6708 - accuracy: 0.4949\n",
            "2/2 [==============================] - 477s 165s/step - loss: 0.6737 - accuracy: 0.4848\n",
            "2/2 [==============================] - 447s 155s/step - loss: 0.7150 - accuracy: 0.4545\n",
            "2/2 [==============================] - 479s 165s/step - loss: 0.6737 - accuracy: 0.4848\n",
            "2/2 [==============================] - 479s 166s/step - loss: 0.6737 - accuracy: 0.4848\n",
            "2/2 [==============================] - 456s 156s/step - loss: 0.7150 - accuracy: 0.4545\n",
            "2/2 [==============================] - 668s 234s/step - loss: 0.6867 - accuracy: 0.4747\n"
          ]
        },
        {
          "name": "stderr",
          "output_type": "stream",
          "text": [
            " 50%|█████     | 50/100 [16:50:26<38:49:39, 2795.60s/it]"
          ]
        },
        {
          "name": "stdout",
          "output_type": "stream",
          "text": [
            "(1, 0, 0, 0, 1, 1, 0, 0, 0, 1)\n",
            "[0.45454547 0.45454547 0.45454547 0.49494949 0.49494949 0.49494949\n",
            " 0.49494949 0.49494949 0.49494949 0.49494949 0.49494949 0.49494949\n",
            " 0.49494949 0.49494949 0.49494949 0.49494949 0.49494949 0.49494949\n",
            " 0.49494949 0.49494949 0.49494949 0.49494949 0.49494949 0.49494949\n",
            " 0.49494949 0.49494949 0.49494949 0.49494949 0.49494949 0.49494949\n",
            " 0.49494949 0.49494949 0.49494949 0.49494949 0.49494949 0.49494949\n",
            " 0.49494949 0.49494949 0.49494949 0.49494949 0.49494949 0.49494949\n",
            " 0.49494949 0.49494949 0.49494949 0.49494949 0.49494949 0.49494949\n",
            " 0.49494949 0.49494949]\n",
            "iteration number: 51\n",
            "2/2 [==============================] - 367s 129s/step - loss: 0.6708 - accuracy: 0.4949\n",
            "2/2 [==============================] - 596s 209s/step - loss: 0.7069 - accuracy: 0.3434\n",
            "2/2 [==============================] - 407s 141s/step - loss: 0.6832 - accuracy: 0.3737\n",
            "2/2 [==============================] - 491s 171s/step - loss: 0.6579 - accuracy: 0.4848\n",
            "2/2 [==============================] - 375s 131s/step - loss: 0.7127 - accuracy: 0.4040\n",
            "2/2 [==============================] - 492s 171s/step - loss: 0.6579 - accuracy: 0.4848\n",
            "2/2 [==============================] - 496s 172s/step - loss: 0.6579 - accuracy: 0.4848\n"
          ]
        },
        {
          "name": "stderr",
          "output_type": "stream",
          "text": [
            " 51%|█████     | 51/100 [17:44:34<39:53:51, 2931.25s/it]"
          ]
        },
        {
          "name": "stdout",
          "output_type": "stream",
          "text": [
            "(1, 0, 0, 0, 1, 1, 0, 0, 0, 1)\n",
            "[0.45454547 0.45454547 0.45454547 0.49494949 0.49494949 0.49494949\n",
            " 0.49494949 0.49494949 0.49494949 0.49494949 0.49494949 0.49494949\n",
            " 0.49494949 0.49494949 0.49494949 0.49494949 0.49494949 0.49494949\n",
            " 0.49494949 0.49494949 0.49494949 0.49494949 0.49494949 0.49494949\n",
            " 0.49494949 0.49494949 0.49494949 0.49494949 0.49494949 0.49494949\n",
            " 0.49494949 0.49494949 0.49494949 0.49494949 0.49494949 0.49494949\n",
            " 0.49494949 0.49494949 0.49494949 0.49494949 0.49494949 0.49494949\n",
            " 0.49494949 0.49494949 0.49494949 0.49494949 0.49494949 0.49494949\n",
            " 0.49494949 0.49494949 0.49494949]\n",
            "iteration number: 52\n",
            "2/2 [==============================] - 371s 130s/step - loss: 0.6708 - accuracy: 0.4949\n",
            "2/2 [==============================] - 197s 66s/step - loss: 0.6807 - accuracy: 0.3333\n",
            "2/2 [==============================] - 322s 112s/step - loss: 0.7016 - accuracy: 0.4949\n",
            "2/2 [==============================] - 321s 112s/step - loss: 0.7016 - accuracy: 0.4949\n",
            "2/2 [==============================] - 414s 145s/step - loss: 0.6832 - accuracy: 0.3737\n",
            "2/2 [==============================] - 236s 84s/step - loss: 0.7030 - accuracy: 0.4949\n",
            "2/2 [==============================] - 497s 173s/step - loss: 0.6579 - accuracy: 0.4848\n"
          ]
        },
        {
          "name": "stderr",
          "output_type": "stream",
          "text": [
            " 52%|█████▏    | 52/100 [18:24:10<36:51:40, 2764.59s/it]"
          ]
        },
        {
          "name": "stdout",
          "output_type": "stream",
          "text": [
            "(1, 0, 0, 0, 1, 1, 0, 0, 0, 1)\n",
            "[0.45454547 0.45454547 0.45454547 0.49494949 0.49494949 0.49494949\n",
            " 0.49494949 0.49494949 0.49494949 0.49494949 0.49494949 0.49494949\n",
            " 0.49494949 0.49494949 0.49494949 0.49494949 0.49494949 0.49494949\n",
            " 0.49494949 0.49494949 0.49494949 0.49494949 0.49494949 0.49494949\n",
            " 0.49494949 0.49494949 0.49494949 0.49494949 0.49494949 0.49494949\n",
            " 0.49494949 0.49494949 0.49494949 0.49494949 0.49494949 0.49494949\n",
            " 0.49494949 0.49494949 0.49494949 0.49494949 0.49494949 0.49494949\n",
            " 0.49494949 0.49494949 0.49494949 0.49494949 0.49494949 0.49494949\n",
            " 0.49494949 0.49494949 0.49494949 0.49494949]\n",
            "iteration number: 53\n",
            "2/2 [==============================] - 237s 84s/step - loss: 0.7030 - accuracy: 0.4949\n",
            "2/2 [==============================] - 596s 210s/step - loss: 0.7069 - accuracy: 0.3434\n",
            "2/2 [==============================] - 318s 111s/step - loss: 0.7016 - accuracy: 0.4949\n",
            "2/2 [==============================] - 190s 66s/step - loss: 0.6807 - accuracy: 0.3333\n",
            "2/2 [==============================] - 320s 112s/step - loss: 0.7016 - accuracy: 0.4949\n",
            "2/2 [==============================] - 412s 145s/step - loss: 0.6832 - accuracy: 0.3737\n",
            "2/2 [==============================] - 381s 134s/step - loss: 0.7127 - accuracy: 0.4040\n"
          ]
        },
        {
          "name": "stderr",
          "output_type": "stream",
          "text": [
            " 53%|█████▎    | 53/100 [19:05:21<34:56:34, 2676.49s/it]"
          ]
        },
        {
          "name": "stdout",
          "output_type": "stream",
          "text": [
            "(1, 0, 0, 0, 1, 0, 0, 0, 0, 1)\n",
            "[0.45454547 0.45454547 0.45454547 0.49494949 0.49494949 0.49494949\n",
            " 0.49494949 0.49494949 0.49494949 0.49494949 0.49494949 0.49494949\n",
            " 0.49494949 0.49494949 0.49494949 0.49494949 0.49494949 0.49494949\n",
            " 0.49494949 0.49494949 0.49494949 0.49494949 0.49494949 0.49494949\n",
            " 0.49494949 0.49494949 0.49494949 0.49494949 0.49494949 0.49494949\n",
            " 0.49494949 0.49494949 0.49494949 0.49494949 0.49494949 0.49494949\n",
            " 0.49494949 0.49494949 0.49494949 0.49494949 0.49494949 0.49494949\n",
            " 0.49494949 0.49494949 0.49494949 0.49494949 0.49494949 0.49494949\n",
            " 0.49494949 0.49494949 0.49494949 0.49494949 0.49494949]\n",
            "iteration number: 54\n",
            "2/2 [==============================] - 320s 111s/step - loss: 0.7016 - accuracy: 0.4949\n",
            "2/2 [==============================] - 362s 127s/step - loss: 0.6920 - accuracy: 0.4949\n",
            "2/2 [==============================] - 278s 99s/step - loss: 0.7199 - accuracy: 0.3737\n",
            "2/2 [==============================] - 465s 165s/step - loss: 0.7473 - accuracy: 0.4141\n",
            "2/2 [==============================] - 246s 87s/step - loss: 0.7720 - accuracy: 0.3939\n",
            "2/2 [==============================] - 371s 131s/step - loss: 0.6708 - accuracy: 0.4949\n",
            "2/2 [==============================] - 474s 167s/step - loss: 0.7473 - accuracy: 0.4141\n"
          ]
        },
        {
          "name": "stderr",
          "output_type": "stream",
          "text": [
            " 54%|█████▍    | 54/100 [19:47:28<33:37:42, 2631.79s/it]"
          ]
        },
        {
          "name": "stdout",
          "output_type": "stream",
          "text": [
            "(1, 0, 0, 0, 0, 1, 0, 0, 0, 1)\n",
            "[0.45454547 0.45454547 0.45454547 0.49494949 0.49494949 0.49494949\n",
            " 0.49494949 0.49494949 0.49494949 0.49494949 0.49494949 0.49494949\n",
            " 0.49494949 0.49494949 0.49494949 0.49494949 0.49494949 0.49494949\n",
            " 0.49494949 0.49494949 0.49494949 0.49494949 0.49494949 0.49494949\n",
            " 0.49494949 0.49494949 0.49494949 0.49494949 0.49494949 0.49494949\n",
            " 0.49494949 0.49494949 0.49494949 0.49494949 0.49494949 0.49494949\n",
            " 0.49494949 0.49494949 0.49494949 0.49494949 0.49494949 0.49494949\n",
            " 0.49494949 0.49494949 0.49494949 0.49494949 0.49494949 0.49494949\n",
            " 0.49494949 0.49494949 0.49494949 0.49494949 0.49494949 0.49494949]\n",
            "iteration number: 55\n",
            "2/2 [==============================] - 377s 132s/step - loss: 0.6708 - accuracy: 0.4949\n",
            "2/2 [==============================] - 364s 127s/step - loss: 0.7198 - accuracy: 0.3737\n",
            "2/2 [==============================] - 450s 157s/step - loss: 0.6897 - accuracy: 0.4949\n",
            "2/2 [==============================] - 451s 157s/step - loss: 0.6897 - accuracy: 0.4949\n",
            "2/2 [==============================] - 363s 126s/step - loss: 0.7198 - accuracy: 0.3737\n",
            "2/2 [==============================] - 330s 115s/step - loss: 0.7709 - accuracy: 0.3939\n",
            "2/2 [==============================] - 329s 115s/step - loss: 0.7709 - accuracy: 0.3939\n"
          ]
        },
        {
          "name": "stderr",
          "output_type": "stream",
          "text": [
            " 55%|█████▌    | 55/100 [20:32:13<33:05:48, 2647.75s/it]"
          ]
        },
        {
          "name": "stdout",
          "output_type": "stream",
          "text": [
            "(1, 0, 0, 0, 1, 1, 0, 0, 0, 1)\n",
            "[0.45454547 0.45454547 0.45454547 0.49494949 0.49494949 0.49494949\n",
            " 0.49494949 0.49494949 0.49494949 0.49494949 0.49494949 0.49494949\n",
            " 0.49494949 0.49494949 0.49494949 0.49494949 0.49494949 0.49494949\n",
            " 0.49494949 0.49494949 0.49494949 0.49494949 0.49494949 0.49494949\n",
            " 0.49494949 0.49494949 0.49494949 0.49494949 0.49494949 0.49494949\n",
            " 0.49494949 0.49494949 0.49494949 0.49494949 0.49494949 0.49494949\n",
            " 0.49494949 0.49494949 0.49494949 0.49494949 0.49494949 0.49494949\n",
            " 0.49494949 0.49494949 0.49494949 0.49494949 0.49494949 0.49494949\n",
            " 0.49494949 0.49494949 0.49494949 0.49494949 0.49494949 0.49494949\n",
            " 0.49494949]\n",
            "iteration number: 56\n",
            "2/2 [==============================] - 447s 155s/step - loss: 0.6897 - accuracy: 0.4949\n",
            "2/2 [==============================] - 319s 111s/step - loss: 0.7016 - accuracy: 0.4949\n",
            "2/2 [==============================] - 190s 66s/step - loss: 0.6807 - accuracy: 0.3333\n",
            "2/2 [==============================] - 320s 112s/step - loss: 0.7016 - accuracy: 0.4949\n",
            "2/2 [==============================] - 192s 67s/step - loss: 0.6807 - accuracy: 0.3333\n",
            "2/2 [==============================] - 418s 147s/step - loss: 0.6832 - accuracy: 0.3737\n",
            "2/2 [==============================] - 206s 70s/step - loss: 0.6807 - accuracy: 0.3333\n"
          ]
        },
        {
          "name": "stderr",
          "output_type": "stream",
          "text": [
            " 56%|█████▌    | 56/100 [21:07:26<30:24:04, 2487.36s/it]"
          ]
        },
        {
          "name": "stdout",
          "output_type": "stream",
          "text": [
            "(1, 0, 0, 0, 0, 1, 1, 0, 0, 1)\n",
            "[0.45454547 0.45454547 0.45454547 0.49494949 0.49494949 0.49494949\n",
            " 0.49494949 0.49494949 0.49494949 0.49494949 0.49494949 0.49494949\n",
            " 0.49494949 0.49494949 0.49494949 0.49494949 0.49494949 0.49494949\n",
            " 0.49494949 0.49494949 0.49494949 0.49494949 0.49494949 0.49494949\n",
            " 0.49494949 0.49494949 0.49494949 0.49494949 0.49494949 0.49494949\n",
            " 0.49494949 0.49494949 0.49494949 0.49494949 0.49494949 0.49494949\n",
            " 0.49494949 0.49494949 0.49494949 0.49494949 0.49494949 0.49494949\n",
            " 0.49494949 0.49494949 0.49494949 0.49494949 0.49494949 0.49494949\n",
            " 0.49494949 0.49494949 0.49494949 0.49494949 0.49494949 0.49494949\n",
            " 0.49494949 0.49494949]\n",
            "iteration number: 57\n",
            "2/2 [==============================] - 328s 114s/step - loss: 0.7016 - accuracy: 0.4949\n",
            "2/2 [==============================] - 514s 180s/step - loss: 0.6579 - accuracy: 0.4848\n",
            "2/2 [==============================] - 275s 94s/step - loss: 0.7069 - accuracy: 0.3939\n",
            "2/2 [==============================] - 327s 114s/step - loss: 0.7016 - accuracy: 0.4949\n",
            "2/2 [==============================] - 499s 174s/step - loss: 0.6737 - accuracy: 0.4848\n",
            "2/2 [==============================] - 511s 179s/step - loss: 0.6579 - accuracy: 0.4848\n",
            "2/2 [==============================] - 272s 93s/step - loss: 0.7069 - accuracy: 0.3939\n"
          ]
        },
        {
          "name": "stderr",
          "output_type": "stream",
          "text": [
            " 57%|█████▋    | 57/100 [21:53:17<30:39:10, 2566.30s/it]"
          ]
        },
        {
          "name": "stdout",
          "output_type": "stream",
          "text": [
            "(1, 0, 0, 0, 0, 1, 0, 0, 0, 1)\n",
            "[0.45454547 0.45454547 0.45454547 0.49494949 0.49494949 0.49494949\n",
            " 0.49494949 0.49494949 0.49494949 0.49494949 0.49494949 0.49494949\n",
            " 0.49494949 0.49494949 0.49494949 0.49494949 0.49494949 0.49494949\n",
            " 0.49494949 0.49494949 0.49494949 0.49494949 0.49494949 0.49494949\n",
            " 0.49494949 0.49494949 0.49494949 0.49494949 0.49494949 0.49494949\n",
            " 0.49494949 0.49494949 0.49494949 0.49494949 0.49494949 0.49494949\n",
            " 0.49494949 0.49494949 0.49494949 0.49494949 0.49494949 0.49494949\n",
            " 0.49494949 0.49494949 0.49494949 0.49494949 0.49494949 0.49494949\n",
            " 0.49494949 0.49494949 0.49494949 0.49494949 0.49494949 0.49494949\n",
            " 0.49494949 0.49494949 0.49494949]\n",
            "iteration number: 58\n",
            "2/2 [==============================] - 325s 113s/step - loss: 0.7016 - accuracy: 0.4949\n",
            "2/2 [==============================] - 555s 195s/step - loss: 0.7475 - accuracy: 0.4040\n",
            "2/2 [==============================] - 557s 196s/step - loss: 0.7475 - accuracy: 0.4040\n",
            "2/2 [==============================] - 372s 130s/step - loss: 0.7198 - accuracy: 0.3737\n",
            "2/2 [==============================] - 339s 119s/step - loss: 0.7709 - accuracy: 0.3939\n",
            "2/2 [==============================] - 147s 50s/step - loss: 0.6811 - accuracy: 0.3333\n",
            "2/2 [==============================] - 389s 137s/step - loss: 0.6708 - accuracy: 0.4949\n"
          ]
        },
        {
          "name": "stderr",
          "output_type": "stream",
          "text": [
            " 58%|█████▊    | 58/100 [22:38:18<30:24:47, 2606.83s/it]"
          ]
        },
        {
          "name": "stdout",
          "output_type": "stream",
          "text": [
            "(1, 0, 0, 0, 0, 1, 0, 0, 0, 1)\n",
            "[0.45454547 0.45454547 0.45454547 0.49494949 0.49494949 0.49494949\n",
            " 0.49494949 0.49494949 0.49494949 0.49494949 0.49494949 0.49494949\n",
            " 0.49494949 0.49494949 0.49494949 0.49494949 0.49494949 0.49494949\n",
            " 0.49494949 0.49494949 0.49494949 0.49494949 0.49494949 0.49494949\n",
            " 0.49494949 0.49494949 0.49494949 0.49494949 0.49494949 0.49494949\n",
            " 0.49494949 0.49494949 0.49494949 0.49494949 0.49494949 0.49494949\n",
            " 0.49494949 0.49494949 0.49494949 0.49494949 0.49494949 0.49494949\n",
            " 0.49494949 0.49494949 0.49494949 0.49494949 0.49494949 0.49494949\n",
            " 0.49494949 0.49494949 0.49494949 0.49494949 0.49494949 0.49494949\n",
            " 0.49494949 0.49494949 0.49494949 0.49494949]\n",
            "iteration number: 59\n",
            "2/2 [==============================] - 406s 140s/step - loss: 0.6708 - accuracy: 0.4949\n",
            "2/2 [==============================] - 576s 203s/step - loss: 0.7475 - accuracy: 0.4040\n",
            "2/2 [==============================] - 151s 52s/step - loss: 0.6811 - accuracy: 0.3333\n",
            "2/2 [==============================] - 192s 68s/step - loss: 1.7631 - accuracy: 0.4848\n",
            "2/2 [==============================] - 191s 68s/step - loss: 1.7631 - accuracy: 0.4848\n",
            "2/2 [==============================] - 192s 68s/step - loss: 1.7631 - accuracy: 0.4848\n",
            "2/2 [==============================] - 475s 165s/step - loss: 0.6897 - accuracy: 0.4949\n"
          ]
        },
        {
          "name": "stderr",
          "output_type": "stream",
          "text": [
            " 59%|█████▉    | 59/100 [23:14:54<28:17:08, 2483.62s/it]"
          ]
        },
        {
          "name": "stdout",
          "output_type": "stream",
          "text": [
            "(1, 0, 0, 0, 1, 1, 0, 0, 0, 1)\n",
            "[0.45454547 0.45454547 0.45454547 0.49494949 0.49494949 0.49494949\n",
            " 0.49494949 0.49494949 0.49494949 0.49494949 0.49494949 0.49494949\n",
            " 0.49494949 0.49494949 0.49494949 0.49494949 0.49494949 0.49494949\n",
            " 0.49494949 0.49494949 0.49494949 0.49494949 0.49494949 0.49494949\n",
            " 0.49494949 0.49494949 0.49494949 0.49494949 0.49494949 0.49494949\n",
            " 0.49494949 0.49494949 0.49494949 0.49494949 0.49494949 0.49494949\n",
            " 0.49494949 0.49494949 0.49494949 0.49494949 0.49494949 0.49494949\n",
            " 0.49494949 0.49494949 0.49494949 0.49494949 0.49494949 0.49494949\n",
            " 0.49494949 0.49494949 0.49494949 0.49494949 0.49494949 0.49494949\n",
            " 0.49494949 0.49494949 0.49494949 0.49494949 0.49494949]\n",
            "iteration number: 60\n",
            "2/2 [==============================] - 475s 165s/step - loss: 0.6897 - accuracy: 0.4949\n",
            "2/2 [==============================] - 205s 72s/step - loss: 0.6807 - accuracy: 0.3333\n",
            "2/2 [==============================] - 529s 185s/step - loss: 0.6579 - accuracy: 0.4848\n",
            "2/2 [==============================] - 437s 154s/step - loss: 0.6832 - accuracy: 0.3737\n",
            "2/2 [==============================] - 336s 118s/step - loss: 0.7016 - accuracy: 0.4949\n",
            "2/2 [==============================] - 203s 71s/step - loss: 0.6807 - accuracy: 0.3333\n",
            "2/2 [==============================] - 401s 141s/step - loss: 0.7127 - accuracy: 0.4040\n"
          ]
        },
        {
          "name": "stderr",
          "output_type": "stream",
          "text": [
            " 60%|██████    | 60/100 [23:58:22<28:00:35, 2520.89s/it]"
          ]
        },
        {
          "name": "stdout",
          "output_type": "stream",
          "text": [
            "(1, 0, 0, 0, 0, 1, 1, 0, 0, 1)\n",
            "[0.45454547 0.45454547 0.45454547 0.49494949 0.49494949 0.49494949\n",
            " 0.49494949 0.49494949 0.49494949 0.49494949 0.49494949 0.49494949\n",
            " 0.49494949 0.49494949 0.49494949 0.49494949 0.49494949 0.49494949\n",
            " 0.49494949 0.49494949 0.49494949 0.49494949 0.49494949 0.49494949\n",
            " 0.49494949 0.49494949 0.49494949 0.49494949 0.49494949 0.49494949\n",
            " 0.49494949 0.49494949 0.49494949 0.49494949 0.49494949 0.49494949\n",
            " 0.49494949 0.49494949 0.49494949 0.49494949 0.49494949 0.49494949\n",
            " 0.49494949 0.49494949 0.49494949 0.49494949 0.49494949 0.49494949\n",
            " 0.49494949 0.49494949 0.49494949 0.49494949 0.49494949 0.49494949\n",
            " 0.49494949 0.49494949 0.49494949 0.49494949 0.49494949 0.49494949]\n",
            "iteration number: 61\n",
            "2/2 [==============================] - 335s 117s/step - loss: 0.7016 - accuracy: 0.4949\n",
            "2/2 [==============================] - 517s 179s/step - loss: 0.6737 - accuracy: 0.4848\n",
            "2/2 [==============================] - 324s 113s/step - loss: 1.2198 - accuracy: 0.4545\n",
            "2/2 [==============================] - 521s 181s/step - loss: 0.6737 - accuracy: 0.4848\n",
            "2/2 [==============================] - 341s 119s/step - loss: 0.7016 - accuracy: 0.4949\n",
            "2/2 [==============================] - 744s 261s/step - loss: 0.6867 - accuracy: 0.4747\n",
            "2/2 [==============================] - 338s 118s/step - loss: 1.2198 - accuracy: 0.4545\n"
          ]
        },
        {
          "name": "stderr",
          "output_type": "stream",
          "text": [
            " 61%|██████    | 61/100 [24:50:51<29:20:58, 2709.20s/it]"
          ]
        },
        {
          "name": "stdout",
          "output_type": "stream",
          "text": [
            "(1, 0, 0, 0, 0, 1, 0, 0, 0, 1)\n",
            "[0.45454547 0.45454547 0.45454547 0.49494949 0.49494949 0.49494949\n",
            " 0.49494949 0.49494949 0.49494949 0.49494949 0.49494949 0.49494949\n",
            " 0.49494949 0.49494949 0.49494949 0.49494949 0.49494949 0.49494949\n",
            " 0.49494949 0.49494949 0.49494949 0.49494949 0.49494949 0.49494949\n",
            " 0.49494949 0.49494949 0.49494949 0.49494949 0.49494949 0.49494949\n",
            " 0.49494949 0.49494949 0.49494949 0.49494949 0.49494949 0.49494949\n",
            " 0.49494949 0.49494949 0.49494949 0.49494949 0.49494949 0.49494949\n",
            " 0.49494949 0.49494949 0.49494949 0.49494949 0.49494949 0.49494949\n",
            " 0.49494949 0.49494949 0.49494949 0.49494949 0.49494949 0.49494949\n",
            " 0.49494949 0.49494949 0.49494949 0.49494949 0.49494949 0.49494949\n",
            " 0.49494949]\n",
            "iteration number: 62\n",
            "2/2 [==============================] - 348s 122s/step - loss: 0.7016 - accuracy: 0.4949\n",
            "2/2 [==============================] - 155s 53s/step - loss: 0.6811 - accuracy: 0.3333\n",
            "2/2 [==============================] - 404s 142s/step - loss: 0.6708 - accuracy: 0.4949\n",
            "2/2 [==============================] - 403s 142s/step - loss: 0.6708 - accuracy: 0.4949\n",
            "2/2 [==============================] - 355s 125s/step - loss: 0.7709 - accuracy: 0.3939\n",
            "2/2 [==============================] - 400s 141s/step - loss: 0.6708 - accuracy: 0.4949\n",
            "2/2 [==============================] - 387s 136s/step - loss: 0.7198 - accuracy: 0.3737\n"
          ]
        },
        {
          "name": "stderr",
          "output_type": "stream",
          "text": [
            " 62%|██████▏   | 62/100 [25:32:02<27:50:34, 2637.74s/it]"
          ]
        },
        {
          "name": "stdout",
          "output_type": "stream",
          "text": [
            "(1, 0, 0, 0, 0, 1, 0, 0, 0, 1)\n",
            "[0.45454547 0.45454547 0.45454547 0.49494949 0.49494949 0.49494949\n",
            " 0.49494949 0.49494949 0.49494949 0.49494949 0.49494949 0.49494949\n",
            " 0.49494949 0.49494949 0.49494949 0.49494949 0.49494949 0.49494949\n",
            " 0.49494949 0.49494949 0.49494949 0.49494949 0.49494949 0.49494949\n",
            " 0.49494949 0.49494949 0.49494949 0.49494949 0.49494949 0.49494949\n",
            " 0.49494949 0.49494949 0.49494949 0.49494949 0.49494949 0.49494949\n",
            " 0.49494949 0.49494949 0.49494949 0.49494949 0.49494949 0.49494949\n",
            " 0.49494949 0.49494949 0.49494949 0.49494949 0.49494949 0.49494949\n",
            " 0.49494949 0.49494949 0.49494949 0.49494949 0.49494949 0.49494949\n",
            " 0.49494949 0.49494949 0.49494949 0.49494949 0.49494949 0.49494949\n",
            " 0.49494949 0.49494949]\n",
            "iteration number: 63\n",
            "2/2 [==============================] - 398s 141s/step - loss: 0.6708 - accuracy: 0.4949\n",
            "2/2 [==============================] - 386s 135s/step - loss: 0.7198 - accuracy: 0.3737\n",
            "2/2 [==============================] - 192s 68s/step - loss: 1.7631 - accuracy: 0.4848\n",
            "2/2 [==============================] - 576s 202s/step - loss: 0.7475 - accuracy: 0.4040\n",
            "2/2 [==============================] - 574s 202s/step - loss: 0.7475 - accuracy: 0.4040\n",
            "2/2 [==============================] - 385s 135s/step - loss: 0.7198 - accuracy: 0.3737\n",
            "2/2 [==============================] - 191s 68s/step - loss: 1.7631 - accuracy: 0.4848\n"
          ]
        },
        {
          "name": "stderr",
          "output_type": "stream",
          "text": [
            " 63%|██████▎   | 63/100 [26:17:17<27:20:54, 2660.93s/it]"
          ]
        },
        {
          "name": "stdout",
          "output_type": "stream",
          "text": [
            "(1, 0, 0, 0, 1, 1, 0, 0, 0, 1)\n",
            "[0.45454547 0.45454547 0.45454547 0.49494949 0.49494949 0.49494949\n",
            " 0.49494949 0.49494949 0.49494949 0.49494949 0.49494949 0.49494949\n",
            " 0.49494949 0.49494949 0.49494949 0.49494949 0.49494949 0.49494949\n",
            " 0.49494949 0.49494949 0.49494949 0.49494949 0.49494949 0.49494949\n",
            " 0.49494949 0.49494949 0.49494949 0.49494949 0.49494949 0.49494949\n",
            " 0.49494949 0.49494949 0.49494949 0.49494949 0.49494949 0.49494949\n",
            " 0.49494949 0.49494949 0.49494949 0.49494949 0.49494949 0.49494949\n",
            " 0.49494949 0.49494949 0.49494949 0.49494949 0.49494949 0.49494949\n",
            " 0.49494949 0.49494949 0.49494949 0.49494949 0.49494949 0.49494949\n",
            " 0.49494949 0.49494949 0.49494949 0.49494949 0.49494949 0.49494949\n",
            " 0.49494949 0.49494949 0.49494949]\n",
            "iteration number: 64\n",
            "2/2 [==============================] - 398s 140s/step - loss: 0.6708 - accuracy: 0.4949\n",
            "2/2 [==============================] - 539s 189s/step - loss: 0.6579 - accuracy: 0.4848\n",
            "2/2 [==============================] - 250s 89s/step - loss: 0.7030 - accuracy: 0.4949\n",
            "2/2 [==============================] - 215s 75s/step - loss: 0.6807 - accuracy: 0.3333\n",
            "2/2 [==============================] - 256s 91s/step - loss: 0.7030 - accuracy: 0.4949\n",
            "2/2 [==============================] - 218s 77s/step - loss: 0.6807 - accuracy: 0.3333\n",
            "2/2 [==============================] - 501s 173s/step - loss: 0.6832 - accuracy: 0.3737\n"
          ]
        },
        {
          "name": "stderr",
          "output_type": "stream",
          "text": [
            " 64%|██████▍   | 64/100 [26:57:10<25:48:19, 2580.53s/it]"
          ]
        },
        {
          "name": "stdout",
          "output_type": "stream",
          "text": [
            "(1, 0, 0, 0, 1, 1, 0, 0, 0, 1)\n",
            "[0.45454547 0.45454547 0.45454547 0.49494949 0.49494949 0.49494949\n",
            " 0.49494949 0.49494949 0.49494949 0.49494949 0.49494949 0.49494949\n",
            " 0.49494949 0.49494949 0.49494949 0.49494949 0.49494949 0.49494949\n",
            " 0.49494949 0.49494949 0.49494949 0.49494949 0.49494949 0.49494949\n",
            " 0.49494949 0.49494949 0.49494949 0.49494949 0.49494949 0.49494949\n",
            " 0.49494949 0.49494949 0.49494949 0.49494949 0.49494949 0.49494949\n",
            " 0.49494949 0.49494949 0.49494949 0.49494949 0.49494949 0.49494949\n",
            " 0.49494949 0.49494949 0.49494949 0.49494949 0.49494949 0.49494949\n",
            " 0.49494949 0.49494949 0.49494949 0.49494949 0.49494949 0.49494949\n",
            " 0.49494949 0.49494949 0.49494949 0.49494949 0.49494949 0.49494949\n",
            " 0.49494949 0.49494949 0.49494949 0.49494949]\n",
            "iteration number: 65\n",
            "2/2 [==============================] - 274s 98s/step - loss: 0.7030 - accuracy: 0.4949\n",
            "2/2 [==============================] - 374s 131s/step - loss: 0.7016 - accuracy: 0.4949\n",
            "2/2 [==============================] - 695s 246s/step - loss: 0.7069 - accuracy: 0.3434\n",
            "2/2 [==============================] - 691s 245s/step - loss: 0.7069 - accuracy: 0.3434\n",
            "2/2 [==============================] - 684s 241s/step - loss: 0.7069 - accuracy: 0.3434\n",
            "2/2 [==============================] - 479s 169s/step - loss: 0.6832 - accuracy: 0.3737\n",
            "2/2 [==============================] - 577s 202s/step - loss: 0.6579 - accuracy: 0.4848\n"
          ]
        },
        {
          "name": "stderr",
          "output_type": "stream",
          "text": [
            " 65%|██████▌   | 65/100 [28:00:23<28:37:35, 2944.43s/it]"
          ]
        },
        {
          "name": "stdout",
          "output_type": "stream",
          "text": [
            "(1, 0, 0, 0, 1, 0, 0, 0, 0, 1)\n",
            "[0.45454547 0.45454547 0.45454547 0.49494949 0.49494949 0.49494949\n",
            " 0.49494949 0.49494949 0.49494949 0.49494949 0.49494949 0.49494949\n",
            " 0.49494949 0.49494949 0.49494949 0.49494949 0.49494949 0.49494949\n",
            " 0.49494949 0.49494949 0.49494949 0.49494949 0.49494949 0.49494949\n",
            " 0.49494949 0.49494949 0.49494949 0.49494949 0.49494949 0.49494949\n",
            " 0.49494949 0.49494949 0.49494949 0.49494949 0.49494949 0.49494949\n",
            " 0.49494949 0.49494949 0.49494949 0.49494949 0.49494949 0.49494949\n",
            " 0.49494949 0.49494949 0.49494949 0.49494949 0.49494949 0.49494949\n",
            " 0.49494949 0.49494949 0.49494949 0.49494949 0.49494949 0.49494949\n",
            " 0.49494949 0.49494949 0.49494949 0.49494949 0.49494949 0.49494949\n",
            " 0.49494949 0.49494949 0.49494949 0.49494949 0.49494949]\n",
            "iteration number: 66\n",
            "2/2 [==============================] - 364s 127s/step - loss: 0.7016 - accuracy: 0.4949\n",
            "2/2 [==============================] - 274s 98s/step - loss: 0.7720 - accuracy: 0.3939\n",
            "2/2 [==============================] - 417s 147s/step - loss: 0.6708 - accuracy: 0.4949\n",
            "2/2 [==============================] - 404s 142s/step - loss: 0.6920 - accuracy: 0.4949\n",
            "2/2 [==============================] - 415s 146s/step - loss: 0.6708 - accuracy: 0.4949\n",
            "2/2 [==============================] - 304s 108s/step - loss: 0.7199 - accuracy: 0.3737\n",
            "2/2 [==============================] - 62s 23s/step - loss: 0.6804 - accuracy: 0.3333\n"
          ]
        },
        {
          "name": "stderr",
          "output_type": "stream",
          "text": [
            " 66%|██████▌   | 66/100 [28:37:57<25:51:05, 2737.23s/it]"
          ]
        },
        {
          "name": "stdout",
          "output_type": "stream",
          "text": [
            "(1, 0, 0, 0, 0, 1, 0, 0, 0, 1)\n",
            "[0.45454547 0.45454547 0.45454547 0.49494949 0.49494949 0.49494949\n",
            " 0.49494949 0.49494949 0.49494949 0.49494949 0.49494949 0.49494949\n",
            " 0.49494949 0.49494949 0.49494949 0.49494949 0.49494949 0.49494949\n",
            " 0.49494949 0.49494949 0.49494949 0.49494949 0.49494949 0.49494949\n",
            " 0.49494949 0.49494949 0.49494949 0.49494949 0.49494949 0.49494949\n",
            " 0.49494949 0.49494949 0.49494949 0.49494949 0.49494949 0.49494949\n",
            " 0.49494949 0.49494949 0.49494949 0.49494949 0.49494949 0.49494949\n",
            " 0.49494949 0.49494949 0.49494949 0.49494949 0.49494949 0.49494949\n",
            " 0.49494949 0.49494949 0.49494949 0.49494949 0.49494949 0.49494949\n",
            " 0.49494949 0.49494949 0.49494949 0.49494949 0.49494949 0.49494949\n",
            " 0.49494949 0.49494949 0.49494949 0.49494949 0.49494949 0.49494949]\n",
            "iteration number: 67\n",
            "2/2 [==============================] - 410s 144s/step - loss: 0.6708 - accuracy: 0.4949\n",
            "2/2 [==============================] - 413s 146s/step - loss: 0.6708 - accuracy: 0.4949\n",
            "2/2 [==============================] - 415s 147s/step - loss: 0.6708 - accuracy: 0.4949\n",
            "2/2 [==============================] - 402s 141s/step - loss: 0.7198 - accuracy: 0.3737\n",
            "2/2 [==============================] - 195s 69s/step - loss: 1.7631 - accuracy: 0.4848\n",
            "2/2 [==============================] - 158s 55s/step - loss: 0.6811 - accuracy: 0.3333\n",
            "2/2 [==============================] - 196s 69s/step - loss: 1.7631 - accuracy: 0.4848\n"
          ]
        },
        {
          "name": "stderr",
          "output_type": "stream",
          "text": [
            " 67%|██████▋   | 67/100 [29:14:41<23:37:29, 2577.27s/it]"
          ]
        },
        {
          "name": "stdout",
          "output_type": "stream",
          "text": [
            "(1, 0, 0, 0, 1, 1, 0, 0, 0, 1)\n",
            "[0.45454547 0.45454547 0.45454547 0.49494949 0.49494949 0.49494949\n",
            " 0.49494949 0.49494949 0.49494949 0.49494949 0.49494949 0.49494949\n",
            " 0.49494949 0.49494949 0.49494949 0.49494949 0.49494949 0.49494949\n",
            " 0.49494949 0.49494949 0.49494949 0.49494949 0.49494949 0.49494949\n",
            " 0.49494949 0.49494949 0.49494949 0.49494949 0.49494949 0.49494949\n",
            " 0.49494949 0.49494949 0.49494949 0.49494949 0.49494949 0.49494949\n",
            " 0.49494949 0.49494949 0.49494949 0.49494949 0.49494949 0.49494949\n",
            " 0.49494949 0.49494949 0.49494949 0.49494949 0.49494949 0.49494949\n",
            " 0.49494949 0.49494949 0.49494949 0.49494949 0.49494949 0.49494949\n",
            " 0.49494949 0.49494949 0.49494949 0.49494949 0.49494949 0.49494949\n",
            " 0.49494949 0.49494949 0.49494949 0.49494949 0.49494949 0.49494949\n",
            " 0.49494949]\n",
            "iteration number: 68\n",
            "2/2 [==============================] - 414s 146s/step - loss: 0.6708 - accuracy: 0.4949\n",
            "2/2 [==============================] - 433s 154s/step - loss: 0.7127 - accuracy: 0.4040\n",
            "2/2 [==============================] - 223s 79s/step - loss: 0.6807 - accuracy: 0.3333\n",
            "2/2 [==============================] - 436s 154s/step - loss: 0.7127 - accuracy: 0.4040\n",
            "2/2 [==============================] - 463s 163s/step - loss: 0.7127 - accuracy: 0.4040\n",
            "2/2 [==============================] - 714s 252s/step - loss: 0.7069 - accuracy: 0.3434\n",
            "2/2 [==============================] - 380s 133s/step - loss: 0.7016 - accuracy: 0.4949\n"
          ]
        },
        {
          "name": "stderr",
          "output_type": "stream",
          "text": [
            " 68%|██████▊   | 68/100 [30:06:16<24:17:21, 2732.55s/it]"
          ]
        },
        {
          "name": "stdout",
          "output_type": "stream",
          "text": [
            "(1, 0, 0, 0, 1, 1, 0, 0, 0, 1)\n",
            "[0.45454547 0.45454547 0.45454547 0.49494949 0.49494949 0.49494949\n",
            " 0.49494949 0.49494949 0.49494949 0.49494949 0.49494949 0.49494949\n",
            " 0.49494949 0.49494949 0.49494949 0.49494949 0.49494949 0.49494949\n",
            " 0.49494949 0.49494949 0.49494949 0.49494949 0.49494949 0.49494949\n",
            " 0.49494949 0.49494949 0.49494949 0.49494949 0.49494949 0.49494949\n",
            " 0.49494949 0.49494949 0.49494949 0.49494949 0.49494949 0.49494949\n",
            " 0.49494949 0.49494949 0.49494949 0.49494949 0.49494949 0.49494949\n",
            " 0.49494949 0.49494949 0.49494949 0.49494949 0.49494949 0.49494949\n",
            " 0.49494949 0.49494949 0.49494949 0.49494949 0.49494949 0.49494949\n",
            " 0.49494949 0.49494949 0.49494949 0.49494949 0.49494949 0.49494949\n",
            " 0.49494949 0.49494949 0.49494949 0.49494949 0.49494949 0.49494949\n",
            " 0.49494949 0.49494949]\n",
            "iteration number: 69\n",
            "2/2 [==============================] - 378s 132s/step - loss: 0.7016 - accuracy: 0.4949\n",
            "2/2 [==============================] - 232s 82s/step - loss: 0.6807 - accuracy: 0.3333\n",
            "2/2 [==============================] - 275s 98s/step - loss: 0.7030 - accuracy: 0.4949\n",
            "2/2 [==============================] - 275s 98s/step - loss: 0.7030 - accuracy: 0.4949\n",
            "2/2 [==============================] - 489s 173s/step - loss: 0.6832 - accuracy: 0.3737\n",
            "2/2 [==============================] - 449s 159s/step - loss: 0.7127 - accuracy: 0.4040\n",
            "2/2 [==============================] - 447s 158s/step - loss: 0.7127 - accuracy: 0.4040\n"
          ]
        },
        {
          "name": "stderr",
          "output_type": "stream",
          "text": [
            " 69%|██████▉   | 69/100 [30:48:58<23:05:18, 2681.25s/it]"
          ]
        },
        {
          "name": "stdout",
          "output_type": "stream",
          "text": [
            "(1, 0, 0, 0, 0, 1, 0, 0, 0, 1)\n",
            "[0.45454547 0.45454547 0.45454547 0.49494949 0.49494949 0.49494949\n",
            " 0.49494949 0.49494949 0.49494949 0.49494949 0.49494949 0.49494949\n",
            " 0.49494949 0.49494949 0.49494949 0.49494949 0.49494949 0.49494949\n",
            " 0.49494949 0.49494949 0.49494949 0.49494949 0.49494949 0.49494949\n",
            " 0.49494949 0.49494949 0.49494949 0.49494949 0.49494949 0.49494949\n",
            " 0.49494949 0.49494949 0.49494949 0.49494949 0.49494949 0.49494949\n",
            " 0.49494949 0.49494949 0.49494949 0.49494949 0.49494949 0.49494949\n",
            " 0.49494949 0.49494949 0.49494949 0.49494949 0.49494949 0.49494949\n",
            " 0.49494949 0.49494949 0.49494949 0.49494949 0.49494949 0.49494949\n",
            " 0.49494949 0.49494949 0.49494949 0.49494949 0.49494949 0.49494949\n",
            " 0.49494949 0.49494949 0.49494949 0.49494949 0.49494949 0.49494949\n",
            " 0.49494949 0.49494949 0.49494949]\n",
            "iteration number: 70\n",
            "2/2 [==============================] - 272s 97s/step - loss: 0.7030 - accuracy: 0.4949\n",
            "2/2 [==============================] - 418s 147s/step - loss: 0.7198 - accuracy: 0.3737\n",
            "2/2 [==============================] - 430s 152s/step - loss: 0.6708 - accuracy: 0.4949\n",
            "2/2 [==============================] - 617s 217s/step - loss: 0.7475 - accuracy: 0.4040\n",
            "2/2 [==============================] - 410s 144s/step - loss: 0.7198 - accuracy: 0.3737\n",
            "2/2 [==============================] - 203s 72s/step - loss: 1.7631 - accuracy: 0.4848\n",
            "2/2 [==============================] - 372s 131s/step - loss: 0.7709 - accuracy: 0.3939\n"
          ]
        },
        {
          "name": "stderr",
          "output_type": "stream",
          "text": [
            " 70%|███████   | 70/100 [31:34:34<22:28:57, 2697.90s/it]"
          ]
        },
        {
          "name": "stdout",
          "output_type": "stream",
          "text": [
            "(1, 0, 0, 0, 1, 0, 0, 0, 0, 1)\n",
            "[0.45454547 0.45454547 0.45454547 0.49494949 0.49494949 0.49494949\n",
            " 0.49494949 0.49494949 0.49494949 0.49494949 0.49494949 0.49494949\n",
            " 0.49494949 0.49494949 0.49494949 0.49494949 0.49494949 0.49494949\n",
            " 0.49494949 0.49494949 0.49494949 0.49494949 0.49494949 0.49494949\n",
            " 0.49494949 0.49494949 0.49494949 0.49494949 0.49494949 0.49494949\n",
            " 0.49494949 0.49494949 0.49494949 0.49494949 0.49494949 0.49494949\n",
            " 0.49494949 0.49494949 0.49494949 0.49494949 0.49494949 0.49494949\n",
            " 0.49494949 0.49494949 0.49494949 0.49494949 0.49494949 0.49494949\n",
            " 0.49494949 0.49494949 0.49494949 0.49494949 0.49494949 0.49494949\n",
            " 0.49494949 0.49494949 0.49494949 0.49494949 0.49494949 0.49494949\n",
            " 0.49494949 0.49494949 0.49494949 0.49494949 0.49494949 0.49494949\n",
            " 0.49494949 0.49494949 0.49494949 0.49494949]\n",
            "iteration number: 71\n",
            "2/2 [==============================] - 421s 148s/step - loss: 0.6708 - accuracy: 0.4949\n",
            "2/2 [==============================] - 273s 98s/step - loss: 0.7720 - accuracy: 0.3939\n",
            "2/2 [==============================] - 271s 97s/step - loss: 0.7720 - accuracy: 0.3939\n",
            "2/2 [==============================] - 511s 182s/step - loss: 0.7473 - accuracy: 0.4141\n",
            "2/2 [==============================] - 422s 149s/step - loss: 0.6708 - accuracy: 0.4949\n",
            "2/2 [==============================] - 311s 111s/step - loss: 0.7199 - accuracy: 0.3737\n",
            "2/2 [==============================] - 424s 150s/step - loss: 0.6708 - accuracy: 0.4949\n"
          ]
        },
        {
          "name": "stderr",
          "output_type": "stream",
          "text": [
            " 71%|███████   | 71/100 [32:18:40<21:36:20, 2682.10s/it]"
          ]
        },
        {
          "name": "stdout",
          "output_type": "stream",
          "text": [
            "(1, 0, 0, 0, 1, 1, 0, 0, 0, 1)\n",
            "[0.45454547 0.45454547 0.45454547 0.49494949 0.49494949 0.49494949\n",
            " 0.49494949 0.49494949 0.49494949 0.49494949 0.49494949 0.49494949\n",
            " 0.49494949 0.49494949 0.49494949 0.49494949 0.49494949 0.49494949\n",
            " 0.49494949 0.49494949 0.49494949 0.49494949 0.49494949 0.49494949\n",
            " 0.49494949 0.49494949 0.49494949 0.49494949 0.49494949 0.49494949\n",
            " 0.49494949 0.49494949 0.49494949 0.49494949 0.49494949 0.49494949\n",
            " 0.49494949 0.49494949 0.49494949 0.49494949 0.49494949 0.49494949\n",
            " 0.49494949 0.49494949 0.49494949 0.49494949 0.49494949 0.49494949\n",
            " 0.49494949 0.49494949 0.49494949 0.49494949 0.49494949 0.49494949\n",
            " 0.49494949 0.49494949 0.49494949 0.49494949 0.49494949 0.49494949\n",
            " 0.49494949 0.49494949 0.49494949 0.49494949 0.49494949 0.49494949\n",
            " 0.49494949 0.49494949 0.49494949 0.49494949 0.49494949]\n",
            "iteration number: 72\n",
            "2/2 [==============================] - 426s 151s/step - loss: 0.6708 - accuracy: 0.4949\n",
            "2/2 [==============================] - 266s 95s/step - loss: 0.7030 - accuracy: 0.4949\n",
            "2/2 [==============================] - 589s 206s/step - loss: 0.6579 - accuracy: 0.4848\n",
            "2/2 [==============================] - 596s 209s/step - loss: 0.6579 - accuracy: 0.4848\n",
            "2/2 [==============================] - 280s 100s/step - loss: 0.7030 - accuracy: 0.4949\n",
            "2/2 [==============================] - 768s 268s/step - loss: 0.7069 - accuracy: 0.3434\n",
            "2/2 [==============================] - 486s 172s/step - loss: 0.7127 - accuracy: 0.4040\n"
          ]
        },
        {
          "name": "stderr",
          "output_type": "stream",
          "text": [
            " 72%|███████▏  | 72/100 [33:15:50<22:36:26, 2906.64s/it]"
          ]
        },
        {
          "name": "stdout",
          "output_type": "stream",
          "text": [
            "(1, 0, 0, 0, 1, 1, 0, 0, 0, 1)\n",
            "[0.45454547 0.45454547 0.45454547 0.49494949 0.49494949 0.49494949\n",
            " 0.49494949 0.49494949 0.49494949 0.49494949 0.49494949 0.49494949\n",
            " 0.49494949 0.49494949 0.49494949 0.49494949 0.49494949 0.49494949\n",
            " 0.49494949 0.49494949 0.49494949 0.49494949 0.49494949 0.49494949\n",
            " 0.49494949 0.49494949 0.49494949 0.49494949 0.49494949 0.49494949\n",
            " 0.49494949 0.49494949 0.49494949 0.49494949 0.49494949 0.49494949\n",
            " 0.49494949 0.49494949 0.49494949 0.49494949 0.49494949 0.49494949\n",
            " 0.49494949 0.49494949 0.49494949 0.49494949 0.49494949 0.49494949\n",
            " 0.49494949 0.49494949 0.49494949 0.49494949 0.49494949 0.49494949\n",
            " 0.49494949 0.49494949 0.49494949 0.49494949 0.49494949 0.49494949\n",
            " 0.49494949 0.49494949 0.49494949 0.49494949 0.49494949 0.49494949\n",
            " 0.49494949 0.49494949 0.49494949 0.49494949 0.49494949 0.49494949]\n",
            "iteration number: 73\n",
            "2/2 [==============================] - 295s 105s/step - loss: 0.7030 - accuracy: 0.4949\n",
            "2/2 [==============================] - 524s 185s/step - loss: 0.6832 - accuracy: 0.3737\n",
            "2/2 [==============================] - 746s 264s/step - loss: 0.7069 - accuracy: 0.3434\n",
            "2/2 [==============================] - 746s 264s/step - loss: 0.7069 - accuracy: 0.3434\n",
            "2/2 [==============================] - 479s 170s/step - loss: 0.7127 - accuracy: 0.4040\n",
            "2/2 [==============================] - 397s 139s/step - loss: 0.7016 - accuracy: 0.4949\n",
            "2/2 [==============================] - 290s 103s/step - loss: 0.7030 - accuracy: 0.4949\n"
          ]
        },
        {
          "name": "stderr",
          "output_type": "stream",
          "text": [
            " 73%|███████▎  | 73/100 [34:14:04<23:07:16, 3082.82s/it]"
          ]
        },
        {
          "name": "stdout",
          "output_type": "stream",
          "text": [
            "(1, 0, 0, 0, 1, 0, 0, 0, 0, 1)\n",
            "[0.45454547 0.45454547 0.45454547 0.49494949 0.49494949 0.49494949\n",
            " 0.49494949 0.49494949 0.49494949 0.49494949 0.49494949 0.49494949\n",
            " 0.49494949 0.49494949 0.49494949 0.49494949 0.49494949 0.49494949\n",
            " 0.49494949 0.49494949 0.49494949 0.49494949 0.49494949 0.49494949\n",
            " 0.49494949 0.49494949 0.49494949 0.49494949 0.49494949 0.49494949\n",
            " 0.49494949 0.49494949 0.49494949 0.49494949 0.49494949 0.49494949\n",
            " 0.49494949 0.49494949 0.49494949 0.49494949 0.49494949 0.49494949\n",
            " 0.49494949 0.49494949 0.49494949 0.49494949 0.49494949 0.49494949\n",
            " 0.49494949 0.49494949 0.49494949 0.49494949 0.49494949 0.49494949\n",
            " 0.49494949 0.49494949 0.49494949 0.49494949 0.49494949 0.49494949\n",
            " 0.49494949 0.49494949 0.49494949 0.49494949 0.49494949 0.49494949\n",
            " 0.49494949 0.49494949 0.49494949 0.49494949 0.49494949 0.49494949\n",
            " 0.49494949]\n",
            "iteration number: 74\n",
            "2/2 [==============================] - 290s 103s/step - loss: 0.7030 - accuracy: 0.4949\n",
            "2/2 [==============================] - 562s 200s/step - loss: 0.7473 - accuracy: 0.4141\n",
            "2/2 [==============================] - 338s 120s/step - loss: 0.7199 - accuracy: 0.3737\n",
            "2/2 [==============================] - 557s 199s/step - loss: 0.7473 - accuracy: 0.4141\n",
            "2/2 [==============================] - 219s 77s/step - loss: 1.7631 - accuracy: 0.4848\n",
            "2/2 [==============================] - 69s 25s/step - loss: 0.6804 - accuracy: 0.3333\n",
            "2/2 [==============================] - 68s 25s/step - loss: 0.6804 - accuracy: 0.3333\n"
          ]
        },
        {
          "name": "stderr",
          "output_type": "stream",
          "text": [
            " 74%|███████▍  | 74/100 [34:49:11<20:09:04, 2790.16s/it]"
          ]
        },
        {
          "name": "stdout",
          "output_type": "stream",
          "text": [
            "(1, 0, 0, 0, 1, 0, 0, 0, 0, 1)\n",
            "[0.45454547 0.45454547 0.45454547 0.49494949 0.49494949 0.49494949\n",
            " 0.49494949 0.49494949 0.49494949 0.49494949 0.49494949 0.49494949\n",
            " 0.49494949 0.49494949 0.49494949 0.49494949 0.49494949 0.49494949\n",
            " 0.49494949 0.49494949 0.49494949 0.49494949 0.49494949 0.49494949\n",
            " 0.49494949 0.49494949 0.49494949 0.49494949 0.49494949 0.49494949\n",
            " 0.49494949 0.49494949 0.49494949 0.49494949 0.49494949 0.49494949\n",
            " 0.49494949 0.49494949 0.49494949 0.49494949 0.49494949 0.49494949\n",
            " 0.49494949 0.49494949 0.49494949 0.49494949 0.49494949 0.49494949\n",
            " 0.49494949 0.49494949 0.49494949 0.49494949 0.49494949 0.49494949\n",
            " 0.49494949 0.49494949 0.49494949 0.49494949 0.49494949 0.49494949\n",
            " 0.49494949 0.49494949 0.49494949 0.49494949 0.49494949 0.49494949\n",
            " 0.49494949 0.49494949 0.49494949 0.49494949 0.49494949 0.49494949\n",
            " 0.49494949 0.49494949]\n",
            "iteration number: 75\n",
            "2/2 [==============================] - 283s 101s/step - loss: 0.7030 - accuracy: 0.4949\n",
            "2/2 [==============================] - 449s 158s/step - loss: 0.6708 - accuracy: 0.4949\n",
            "2/2 [==============================] - 542s 193s/step - loss: 0.7473 - accuracy: 0.4141\n",
            "2/2 [==============================] - 441s 155s/step - loss: 0.6708 - accuracy: 0.4949\n",
            "2/2 [==============================] - 326s 116s/step - loss: 0.7199 - accuracy: 0.3737\n",
            "2/2 [==============================] - 437s 154s/step - loss: 0.6708 - accuracy: 0.4949\n",
            "2/2 [==============================] - 424s 150s/step - loss: 0.6920 - accuracy: 0.4949\n"
          ]
        },
        {
          "name": "stderr",
          "output_type": "stream",
          "text": [
            " 75%|███████▌  | 75/100 [35:37:47<19:38:15, 2827.81s/it]"
          ]
        },
        {
          "name": "stdout",
          "output_type": "stream",
          "text": [
            "(1, 0, 0, 0, 1, 0, 0, 0, 0, 1)\n",
            "[0.45454547 0.45454547 0.45454547 0.49494949 0.49494949 0.49494949\n",
            " 0.49494949 0.49494949 0.49494949 0.49494949 0.49494949 0.49494949\n",
            " 0.49494949 0.49494949 0.49494949 0.49494949 0.49494949 0.49494949\n",
            " 0.49494949 0.49494949 0.49494949 0.49494949 0.49494949 0.49494949\n",
            " 0.49494949 0.49494949 0.49494949 0.49494949 0.49494949 0.49494949\n",
            " 0.49494949 0.49494949 0.49494949 0.49494949 0.49494949 0.49494949\n",
            " 0.49494949 0.49494949 0.49494949 0.49494949 0.49494949 0.49494949\n",
            " 0.49494949 0.49494949 0.49494949 0.49494949 0.49494949 0.49494949\n",
            " 0.49494949 0.49494949 0.49494949 0.49494949 0.49494949 0.49494949\n",
            " 0.49494949 0.49494949 0.49494949 0.49494949 0.49494949 0.49494949\n",
            " 0.49494949 0.49494949 0.49494949 0.49494949 0.49494949 0.49494949\n",
            " 0.49494949 0.49494949 0.49494949 0.49494949 0.49494949 0.49494949\n",
            " 0.49494949 0.49494949 0.49494949]\n",
            "iteration number: 76\n",
            "2/2 [==============================] - 429s 151s/step - loss: 0.6920 - accuracy: 0.4949\n",
            "2/2 [==============================] - 448s 159s/step - loss: 0.6708 - accuracy: 0.4949\n",
            "2/2 [==============================] - 446s 158s/step - loss: 0.6708 - accuracy: 0.4949\n",
            "2/2 [==============================] - 213s 75s/step - loss: 1.7631 - accuracy: 0.4848\n",
            "2/2 [==============================] - 433s 153s/step - loss: 0.6920 - accuracy: 0.4949\n",
            "2/2 [==============================] - 288s 103s/step - loss: 0.7720 - accuracy: 0.3939\n",
            "2/2 [==============================] - 68s 25s/step - loss: 0.6804 - accuracy: 0.3333\n"
          ]
        },
        {
          "name": "stderr",
          "output_type": "stream",
          "text": [
            " 76%|███████▌  | 76/100 [36:16:44<17:52:13, 2680.56s/it]"
          ]
        },
        {
          "name": "stdout",
          "output_type": "stream",
          "text": [
            "(1, 0, 0, 0, 1, 0, 1, 0, 0, 1)\n",
            "[0.45454547 0.45454547 0.45454547 0.49494949 0.49494949 0.49494949\n",
            " 0.49494949 0.49494949 0.49494949 0.49494949 0.49494949 0.49494949\n",
            " 0.49494949 0.49494949 0.49494949 0.49494949 0.49494949 0.49494949\n",
            " 0.49494949 0.49494949 0.49494949 0.49494949 0.49494949 0.49494949\n",
            " 0.49494949 0.49494949 0.49494949 0.49494949 0.49494949 0.49494949\n",
            " 0.49494949 0.49494949 0.49494949 0.49494949 0.49494949 0.49494949\n",
            " 0.49494949 0.49494949 0.49494949 0.49494949 0.49494949 0.49494949\n",
            " 0.49494949 0.49494949 0.49494949 0.49494949 0.49494949 0.49494949\n",
            " 0.49494949 0.49494949 0.49494949 0.49494949 0.49494949 0.49494949\n",
            " 0.49494949 0.49494949 0.49494949 0.49494949 0.49494949 0.49494949\n",
            " 0.49494949 0.49494949 0.49494949 0.49494949 0.49494949 0.49494949\n",
            " 0.49494949 0.49494949 0.49494949 0.49494949 0.49494949 0.49494949\n",
            " 0.49494949 0.49494949 0.49494949 0.49494949]\n",
            "iteration number: 77\n",
            "2/2 [==============================] - 428s 151s/step - loss: 0.6920 - accuracy: 0.4949\n",
            "2/2 [==============================] - 219s 76s/step - loss: 0.7095 - accuracy: 0.3939\n",
            "2/2 [==============================] - 616s 216s/step - loss: 0.6579 - accuracy: 0.4848\n",
            "2/2 [==============================] - 289s 103s/step - loss: 0.7030 - accuracy: 0.4949\n",
            "2/2 [==============================] - 485s 171s/step - loss: 0.6747 - accuracy: 0.4848\n",
            "2/2 [==============================] - 368s 129s/step - loss: 1.2198 - accuracy: 0.4545\n",
            "2/2 [==============================] - 472s 167s/step - loss: 0.6747 - accuracy: 0.4848\n"
          ]
        },
        {
          "name": "stderr",
          "output_type": "stream",
          "text": [
            " 77%|███████▋  | 77/100 [37:04:59<17:32:09, 2744.77s/it]"
          ]
        },
        {
          "name": "stdout",
          "output_type": "stream",
          "text": [
            "(1, 0, 0, 0, 1, 0, 1, 0, 0, 1)\n",
            "[0.45454547 0.45454547 0.45454547 0.49494949 0.49494949 0.49494949\n",
            " 0.49494949 0.49494949 0.49494949 0.49494949 0.49494949 0.49494949\n",
            " 0.49494949 0.49494949 0.49494949 0.49494949 0.49494949 0.49494949\n",
            " 0.49494949 0.49494949 0.49494949 0.49494949 0.49494949 0.49494949\n",
            " 0.49494949 0.49494949 0.49494949 0.49494949 0.49494949 0.49494949\n",
            " 0.49494949 0.49494949 0.49494949 0.49494949 0.49494949 0.49494949\n",
            " 0.49494949 0.49494949 0.49494949 0.49494949 0.49494949 0.49494949\n",
            " 0.49494949 0.49494949 0.49494949 0.49494949 0.49494949 0.49494949\n",
            " 0.49494949 0.49494949 0.49494949 0.49494949 0.49494949 0.49494949\n",
            " 0.49494949 0.49494949 0.49494949 0.49494949 0.49494949 0.49494949\n",
            " 0.49494949 0.49494949 0.49494949 0.49494949 0.49494949 0.49494949\n",
            " 0.49494949 0.49494949 0.49494949 0.49494949 0.49494949 0.49494949\n",
            " 0.49494949 0.49494949 0.49494949 0.49494949 0.49494949]\n",
            "iteration number: 78\n",
            "2/2 [==============================] - 272s 97s/step - loss: 0.7030 - accuracy: 0.4949\n",
            "2/2 [==============================] - 681s 239s/step - loss: 0.6875 - accuracy: 0.4848\n",
            "2/2 [==============================] - 408s 142s/step - loss: 1.2198 - accuracy: 0.4545\n",
            "2/2 [==============================] - 407s 143s/step - loss: 1.2198 - accuracy: 0.4545\n",
            "2/2 [==============================] - 310s 111s/step - loss: 0.7030 - accuracy: 0.4949\n",
            "2/2 [==============================] - 771s 271s/step - loss: 0.6875 - accuracy: 0.4848\n",
            "2/2 [==============================] - 519s 182s/step - loss: 0.6747 - accuracy: 0.4848\n"
          ]
        },
        {
          "name": "stderr",
          "output_type": "stream",
          "text": [
            " 78%|███████▊  | 78/100 [38:01:34<17:57:58, 2939.95s/it]"
          ]
        },
        {
          "name": "stdout",
          "output_type": "stream",
          "text": [
            "(1, 0, 0, 0, 1, 0, 0, 0, 0, 1)\n",
            "[0.45454547 0.45454547 0.45454547 0.49494949 0.49494949 0.49494949\n",
            " 0.49494949 0.49494949 0.49494949 0.49494949 0.49494949 0.49494949\n",
            " 0.49494949 0.49494949 0.49494949 0.49494949 0.49494949 0.49494949\n",
            " 0.49494949 0.49494949 0.49494949 0.49494949 0.49494949 0.49494949\n",
            " 0.49494949 0.49494949 0.49494949 0.49494949 0.49494949 0.49494949\n",
            " 0.49494949 0.49494949 0.49494949 0.49494949 0.49494949 0.49494949\n",
            " 0.49494949 0.49494949 0.49494949 0.49494949 0.49494949 0.49494949\n",
            " 0.49494949 0.49494949 0.49494949 0.49494949 0.49494949 0.49494949\n",
            " 0.49494949 0.49494949 0.49494949 0.49494949 0.49494949 0.49494949\n",
            " 0.49494949 0.49494949 0.49494949 0.49494949 0.49494949 0.49494949\n",
            " 0.49494949 0.49494949 0.49494949 0.49494949 0.49494949 0.49494949\n",
            " 0.49494949 0.49494949 0.49494949 0.49494949 0.49494949 0.49494949\n",
            " 0.49494949 0.49494949 0.49494949 0.49494949 0.49494949 0.49494949]\n",
            "iteration number: 79\n",
            "2/2 [==============================] - 300s 107s/step - loss: 0.7030 - accuracy: 0.4949\n",
            "2/2 [==============================] - 479s 169s/step - loss: 0.6708 - accuracy: 0.4949\n",
            "2/2 [==============================] - 230s 81s/step - loss: 1.7631 - accuracy: 0.4848\n",
            "2/2 [==============================] - 583s 207s/step - loss: 0.7473 - accuracy: 0.4141\n",
            "2/2 [==============================] - 229s 81s/step - loss: 1.7631 - accuracy: 0.4848\n",
            "2/2 [==============================] - 477s 168s/step - loss: 0.6708 - accuracy: 0.4949\n",
            "2/2 [==============================] - 309s 110s/step - loss: 0.7720 - accuracy: 0.3939\n"
          ]
        },
        {
          "name": "stderr",
          "output_type": "stream",
          "text": [
            " 79%|███████▉  | 79/100 [38:45:10<16:35:00, 2842.88s/it]"
          ]
        },
        {
          "name": "stdout",
          "output_type": "stream",
          "text": [
            "(1, 0, 0, 0, 1, 0, 0, 0, 0, 1)\n",
            "[0.45454547 0.45454547 0.45454547 0.49494949 0.49494949 0.49494949\n",
            " 0.49494949 0.49494949 0.49494949 0.49494949 0.49494949 0.49494949\n",
            " 0.49494949 0.49494949 0.49494949 0.49494949 0.49494949 0.49494949\n",
            " 0.49494949 0.49494949 0.49494949 0.49494949 0.49494949 0.49494949\n",
            " 0.49494949 0.49494949 0.49494949 0.49494949 0.49494949 0.49494949\n",
            " 0.49494949 0.49494949 0.49494949 0.49494949 0.49494949 0.49494949\n",
            " 0.49494949 0.49494949 0.49494949 0.49494949 0.49494949 0.49494949\n",
            " 0.49494949 0.49494949 0.49494949 0.49494949 0.49494949 0.49494949\n",
            " 0.49494949 0.49494949 0.49494949 0.49494949 0.49494949 0.49494949\n",
            " 0.49494949 0.49494949 0.49494949 0.49494949 0.49494949 0.49494949\n",
            " 0.49494949 0.49494949 0.49494949 0.49494949 0.49494949 0.49494949\n",
            " 0.49494949 0.49494949 0.49494949 0.49494949 0.49494949 0.49494949\n",
            " 0.49494949 0.49494949 0.49494949 0.49494949 0.49494949 0.49494949\n",
            " 0.49494949]\n",
            "iteration number: 80\n",
            "2/2 [==============================] - 471s 166s/step - loss: 0.6708 - accuracy: 0.4949\n",
            "2/2 [==============================] - 226s 80s/step - loss: 1.7631 - accuracy: 0.4848\n",
            "2/2 [==============================] - 226s 80s/step - loss: 1.7631 - accuracy: 0.4848\n",
            "2/2 [==============================] - 456s 161s/step - loss: 0.6920 - accuracy: 0.4949\n",
            "2/2 [==============================] - 71s 26s/step - loss: 0.6804 - accuracy: 0.3333\n",
            "2/2 [==============================] - 452s 160s/step - loss: 0.6920 - accuracy: 0.4949\n",
            "2/2 [==============================] - 569s 201s/step - loss: 0.7473 - accuracy: 0.4141\n"
          ]
        },
        {
          "name": "stderr",
          "output_type": "stream",
          "text": [
            " 80%|████████  | 80/100 [39:26:31<15:11:25, 2734.27s/it]"
          ]
        },
        {
          "name": "stdout",
          "output_type": "stream",
          "text": [
            "(1, 0, 0, 0, 1, 1, 0, 0, 0, 1)\n",
            "[0.45454547 0.45454547 0.45454547 0.49494949 0.49494949 0.49494949\n",
            " 0.49494949 0.49494949 0.49494949 0.49494949 0.49494949 0.49494949\n",
            " 0.49494949 0.49494949 0.49494949 0.49494949 0.49494949 0.49494949\n",
            " 0.49494949 0.49494949 0.49494949 0.49494949 0.49494949 0.49494949\n",
            " 0.49494949 0.49494949 0.49494949 0.49494949 0.49494949 0.49494949\n",
            " 0.49494949 0.49494949 0.49494949 0.49494949 0.49494949 0.49494949\n",
            " 0.49494949 0.49494949 0.49494949 0.49494949 0.49494949 0.49494949\n",
            " 0.49494949 0.49494949 0.49494949 0.49494949 0.49494949 0.49494949\n",
            " 0.49494949 0.49494949 0.49494949 0.49494949 0.49494949 0.49494949\n",
            " 0.49494949 0.49494949 0.49494949 0.49494949 0.49494949 0.49494949\n",
            " 0.49494949 0.49494949 0.49494949 0.49494949 0.49494949 0.49494949\n",
            " 0.49494949 0.49494949 0.49494949 0.49494949 0.49494949 0.49494949\n",
            " 0.49494949 0.49494949 0.49494949 0.49494949 0.49494949 0.49494949\n",
            " 0.49494949 0.49494949]\n",
            "iteration number: 81\n",
            "2/2 [==============================] - 449s 157s/step - loss: 0.6920 - accuracy: 0.4949\n",
            "2/2 [==============================] - 242s 85s/step - loss: 0.6807 - accuracy: 0.3333\n",
            "2/2 [==============================] - 394s 138s/step - loss: 0.7016 - accuracy: 0.4949\n",
            "2/2 [==============================] - 286s 102s/step - loss: 0.7030 - accuracy: 0.4949\n",
            "2/2 [==============================] - 469s 165s/step - loss: 0.7127 - accuracy: 0.4040\n",
            "2/2 [==============================] - 285s 101s/step - loss: 0.7030 - accuracy: 0.4949\n",
            "2/2 [==============================] - 238s 84s/step - loss: 0.6807 - accuracy: 0.3333\n"
          ]
        },
        {
          "name": "stderr",
          "output_type": "stream",
          "text": [
            " 81%|████████  | 81/100 [40:06:08<13:51:51, 2626.90s/it]"
          ]
        },
        {
          "name": "stdout",
          "output_type": "stream",
          "text": [
            "(1, 0, 0, 0, 1, 0, 1, 0, 0, 1)\n",
            "[0.45454547 0.45454547 0.45454547 0.49494949 0.49494949 0.49494949\n",
            " 0.49494949 0.49494949 0.49494949 0.49494949 0.49494949 0.49494949\n",
            " 0.49494949 0.49494949 0.49494949 0.49494949 0.49494949 0.49494949\n",
            " 0.49494949 0.49494949 0.49494949 0.49494949 0.49494949 0.49494949\n",
            " 0.49494949 0.49494949 0.49494949 0.49494949 0.49494949 0.49494949\n",
            " 0.49494949 0.49494949 0.49494949 0.49494949 0.49494949 0.49494949\n",
            " 0.49494949 0.49494949 0.49494949 0.49494949 0.49494949 0.49494949\n",
            " 0.49494949 0.49494949 0.49494949 0.49494949 0.49494949 0.49494949\n",
            " 0.49494949 0.49494949 0.49494949 0.49494949 0.49494949 0.49494949\n",
            " 0.49494949 0.49494949 0.49494949 0.49494949 0.49494949 0.49494949\n",
            " 0.49494949 0.49494949 0.49494949 0.49494949 0.49494949 0.49494949\n",
            " 0.49494949 0.49494949 0.49494949 0.49494949 0.49494949 0.49494949\n",
            " 0.49494949 0.49494949 0.49494949 0.49494949 0.49494949 0.49494949\n",
            " 0.49494949 0.49494949 0.49494949]\n",
            "iteration number: 82\n",
            "2/2 [==============================] - 286s 102s/step - loss: 0.7030 - accuracy: 0.4949\n",
            "2/2 [==============================] - 289s 103s/step - loss: 0.7030 - accuracy: 0.4949\n",
            "2/2 [==============================] - 487s 172s/step - loss: 0.6747 - accuracy: 0.4848\n",
            "2/2 [==============================] - 283s 101s/step - loss: 0.7030 - accuracy: 0.4949\n",
            "2/2 [==============================] - 227s 79s/step - loss: 0.7095 - accuracy: 0.3939\n",
            "2/2 [==============================] - 369s 129s/step - loss: 1.2198 - accuracy: 0.4545\n",
            "2/2 [==============================] - 437s 153s/step - loss: 0.7168 - accuracy: 0.4545\n"
          ]
        },
        {
          "name": "stderr",
          "output_type": "stream",
          "text": [
            " 82%|████████▏ | 82/100 [40:45:58<12:46:44, 2555.82s/it]"
          ]
        },
        {
          "name": "stdout",
          "output_type": "stream",
          "text": [
            "(1, 0, 0, 0, 1, 0, 0, 0, 0, 1)\n",
            "[0.45454547 0.45454547 0.45454547 0.49494949 0.49494949 0.49494949\n",
            " 0.49494949 0.49494949 0.49494949 0.49494949 0.49494949 0.49494949\n",
            " 0.49494949 0.49494949 0.49494949 0.49494949 0.49494949 0.49494949\n",
            " 0.49494949 0.49494949 0.49494949 0.49494949 0.49494949 0.49494949\n",
            " 0.49494949 0.49494949 0.49494949 0.49494949 0.49494949 0.49494949\n",
            " 0.49494949 0.49494949 0.49494949 0.49494949 0.49494949 0.49494949\n",
            " 0.49494949 0.49494949 0.49494949 0.49494949 0.49494949 0.49494949\n",
            " 0.49494949 0.49494949 0.49494949 0.49494949 0.49494949 0.49494949\n",
            " 0.49494949 0.49494949 0.49494949 0.49494949 0.49494949 0.49494949\n",
            " 0.49494949 0.49494949 0.49494949 0.49494949 0.49494949 0.49494949\n",
            " 0.49494949 0.49494949 0.49494949 0.49494949 0.49494949 0.49494949\n",
            " 0.49494949 0.49494949 0.49494949 0.49494949 0.49494949 0.49494949\n",
            " 0.49494949 0.49494949 0.49494949 0.49494949 0.49494949 0.49494949\n",
            " 0.49494949 0.49494949 0.49494949 0.49494949]\n",
            "iteration number: 83\n",
            "2/2 [==============================] - 273s 98s/step - loss: 0.7030 - accuracy: 0.4949\n",
            "2/2 [==============================] - 321s 114s/step - loss: 0.7199 - accuracy: 0.3737\n",
            "2/2 [==============================] - 68s 25s/step - loss: 0.6804 - accuracy: 0.3333\n",
            "2/2 [==============================] - 68s 25s/step - loss: 0.6804 - accuracy: 0.3333\n",
            "2/2 [==============================] - 67s 24s/step - loss: 0.6804 - accuracy: 0.3333\n",
            "2/2 [==============================] - 410s 144s/step - loss: 0.6920 - accuracy: 0.4949\n",
            "2/2 [==============================] - 430s 152s/step - loss: 0.6708 - accuracy: 0.4949\n"
          ]
        },
        {
          "name": "stderr",
          "output_type": "stream",
          "text": [
            " 83%|████████▎ | 83/100 [41:13:25<10:46:55, 2283.26s/it]"
          ]
        },
        {
          "name": "stdout",
          "output_type": "stream",
          "text": [
            "(1, 0, 0, 0, 1, 0, 0, 0, 0, 1)\n",
            "[0.45454547 0.45454547 0.45454547 0.49494949 0.49494949 0.49494949\n",
            " 0.49494949 0.49494949 0.49494949 0.49494949 0.49494949 0.49494949\n",
            " 0.49494949 0.49494949 0.49494949 0.49494949 0.49494949 0.49494949\n",
            " 0.49494949 0.49494949 0.49494949 0.49494949 0.49494949 0.49494949\n",
            " 0.49494949 0.49494949 0.49494949 0.49494949 0.49494949 0.49494949\n",
            " 0.49494949 0.49494949 0.49494949 0.49494949 0.49494949 0.49494949\n",
            " 0.49494949 0.49494949 0.49494949 0.49494949 0.49494949 0.49494949\n",
            " 0.49494949 0.49494949 0.49494949 0.49494949 0.49494949 0.49494949\n",
            " 0.49494949 0.49494949 0.49494949 0.49494949 0.49494949 0.49494949\n",
            " 0.49494949 0.49494949 0.49494949 0.49494949 0.49494949 0.49494949\n",
            " 0.49494949 0.49494949 0.49494949 0.49494949 0.49494949 0.49494949\n",
            " 0.49494949 0.49494949 0.49494949 0.49494949 0.49494949 0.49494949\n",
            " 0.49494949 0.49494949 0.49494949 0.49494949 0.49494949 0.49494949\n",
            " 0.49494949 0.49494949 0.49494949 0.49494949 0.49494949]\n",
            "iteration number: 84\n",
            "2/2 [==============================] - 434s 153s/step - loss: 0.6708 - accuracy: 0.4949\n",
            "2/2 [==============================] - 69s 25s/step - loss: 0.6804 - accuracy: 0.3333\n",
            "2/2 [==============================] - 451s 159s/step - loss: 0.6708 - accuracy: 0.4949\n",
            "2/2 [==============================] - 439s 154s/step - loss: 0.6920 - accuracy: 0.4949\n",
            "2/2 [==============================] - 73s 27s/step - loss: 0.6804 - accuracy: 0.3333\n",
            "2/2 [==============================] - 391s 139s/step - loss: 0.7199 - accuracy: 0.3737\n",
            "2/2 [==============================] - 640s 227s/step - loss: 0.7473 - accuracy: 0.4141\n"
          ]
        },
        {
          "name": "stderr",
          "output_type": "stream",
          "text": [
            " 84%|████████▍ | 84/100 [41:55:26<10:27:52, 2354.54s/it]"
          ]
        },
        {
          "name": "stdout",
          "output_type": "stream",
          "text": [
            "(1, 0, 0, 0, 1, 1, 0, 0, 0, 1)\n",
            "[0.45454547 0.45454547 0.45454547 0.49494949 0.49494949 0.49494949\n",
            " 0.49494949 0.49494949 0.49494949 0.49494949 0.49494949 0.49494949\n",
            " 0.49494949 0.49494949 0.49494949 0.49494949 0.49494949 0.49494949\n",
            " 0.49494949 0.49494949 0.49494949 0.49494949 0.49494949 0.49494949\n",
            " 0.49494949 0.49494949 0.49494949 0.49494949 0.49494949 0.49494949\n",
            " 0.49494949 0.49494949 0.49494949 0.49494949 0.49494949 0.49494949\n",
            " 0.49494949 0.49494949 0.49494949 0.49494949 0.49494949 0.49494949\n",
            " 0.49494949 0.49494949 0.49494949 0.49494949 0.49494949 0.49494949\n",
            " 0.49494949 0.49494949 0.49494949 0.49494949 0.49494949 0.49494949\n",
            " 0.49494949 0.49494949 0.49494949 0.49494949 0.49494949 0.49494949\n",
            " 0.49494949 0.49494949 0.49494949 0.49494949 0.49494949 0.49494949\n",
            " 0.49494949 0.49494949 0.49494949 0.49494949 0.49494949 0.49494949\n",
            " 0.49494949 0.49494949 0.49494949 0.49494949 0.49494949 0.49494949\n",
            " 0.49494949 0.49494949 0.49494949 0.49494949 0.49494949 0.49494949]\n",
            "iteration number: 85\n",
            "2/2 [==============================] - 505s 179s/step - loss: 0.6920 - accuracy: 0.4949\n",
            "2/2 [==============================] - 583s 206s/step - loss: 0.6832 - accuracy: 0.3737\n",
            "2/2 [==============================] - 582s 206s/step - loss: 0.6832 - accuracy: 0.3737\n",
            "2/2 [==============================] - 325s 116s/step - loss: 0.7030 - accuracy: 0.4949\n",
            "2/2 [==============================] - 442s 155s/step - loss: 0.7016 - accuracy: 0.4949\n",
            "2/2 [==============================] - 824s 292s/step - loss: 0.7069 - accuracy: 0.3434\n",
            "2/2 [==============================] - 527s 187s/step - loss: 0.7127 - accuracy: 0.4040\n"
          ]
        },
        {
          "name": "stderr",
          "output_type": "stream",
          "text": [
            " 85%|████████▌ | 85/100 [42:58:52<11:37:31, 2790.13s/it]"
          ]
        },
        {
          "name": "stdout",
          "output_type": "stream",
          "text": [
            "(1, 0, 0, 0, 1, 0, 1, 0, 0, 1)\n",
            "[0.45454547 0.45454547 0.45454547 0.49494949 0.49494949 0.49494949\n",
            " 0.49494949 0.49494949 0.49494949 0.49494949 0.49494949 0.49494949\n",
            " 0.49494949 0.49494949 0.49494949 0.49494949 0.49494949 0.49494949\n",
            " 0.49494949 0.49494949 0.49494949 0.49494949 0.49494949 0.49494949\n",
            " 0.49494949 0.49494949 0.49494949 0.49494949 0.49494949 0.49494949\n",
            " 0.49494949 0.49494949 0.49494949 0.49494949 0.49494949 0.49494949\n",
            " 0.49494949 0.49494949 0.49494949 0.49494949 0.49494949 0.49494949\n",
            " 0.49494949 0.49494949 0.49494949 0.49494949 0.49494949 0.49494949\n",
            " 0.49494949 0.49494949 0.49494949 0.49494949 0.49494949 0.49494949\n",
            " 0.49494949 0.49494949 0.49494949 0.49494949 0.49494949 0.49494949\n",
            " 0.49494949 0.49494949 0.49494949 0.49494949 0.49494949 0.49494949\n",
            " 0.49494949 0.49494949 0.49494949 0.49494949 0.49494949 0.49494949\n",
            " 0.49494949 0.49494949 0.49494949 0.49494949 0.49494949 0.49494949\n",
            " 0.49494949 0.49494949 0.49494949 0.49494949 0.49494949 0.49494949\n",
            " 0.49494949]\n",
            "iteration number: 86\n",
            "2/2 [==============================] - 437s 153s/step - loss: 0.7016 - accuracy: 0.4949\n",
            "2/2 [==============================] - 539s 190s/step - loss: 0.6747 - accuracy: 0.4848\n",
            "2/2 [==============================] - 485s 171s/step - loss: 0.7168 - accuracy: 0.4545\n",
            "2/2 [==============================] - 238s 84s/step - loss: 0.7095 - accuracy: 0.3939\n",
            "2/2 [==============================] - 236s 83s/step - loss: 0.7095 - accuracy: 0.3939\n",
            "2/2 [==============================] - 648s 227s/step - loss: 0.6579 - accuracy: 0.4848\n",
            "2/2 [==============================] - 237s 83s/step - loss: 0.7095 - accuracy: 0.3939\n"
          ]
        },
        {
          "name": "stderr",
          "output_type": "stream",
          "text": [
            " 86%|████████▌ | 86/100 [43:46:13<10:54:36, 2805.45s/it]"
          ]
        },
        {
          "name": "stdout",
          "output_type": "stream",
          "text": [
            "(1, 0, 0, 0, 0, 1, 0, 0, 0, 1)\n",
            "[0.45454547 0.45454547 0.45454547 0.49494949 0.49494949 0.49494949\n",
            " 0.49494949 0.49494949 0.49494949 0.49494949 0.49494949 0.49494949\n",
            " 0.49494949 0.49494949 0.49494949 0.49494949 0.49494949 0.49494949\n",
            " 0.49494949 0.49494949 0.49494949 0.49494949 0.49494949 0.49494949\n",
            " 0.49494949 0.49494949 0.49494949 0.49494949 0.49494949 0.49494949\n",
            " 0.49494949 0.49494949 0.49494949 0.49494949 0.49494949 0.49494949\n",
            " 0.49494949 0.49494949 0.49494949 0.49494949 0.49494949 0.49494949\n",
            " 0.49494949 0.49494949 0.49494949 0.49494949 0.49494949 0.49494949\n",
            " 0.49494949 0.49494949 0.49494949 0.49494949 0.49494949 0.49494949\n",
            " 0.49494949 0.49494949 0.49494949 0.49494949 0.49494949 0.49494949\n",
            " 0.49494949 0.49494949 0.49494949 0.49494949 0.49494949 0.49494949\n",
            " 0.49494949 0.49494949 0.49494949 0.49494949 0.49494949 0.49494949\n",
            " 0.49494949 0.49494949 0.49494949 0.49494949 0.49494949 0.49494949\n",
            " 0.49494949 0.49494949 0.49494949 0.49494949 0.49494949 0.49494949\n",
            " 0.49494949 0.49494949]\n",
            "iteration number: 87\n",
            "2/2 [==============================] - 411s 144s/step - loss: 0.7016 - accuracy: 0.4949\n",
            "2/2 [==============================] - 479s 168s/step - loss: 0.6708 - accuracy: 0.4949\n",
            "2/2 [==============================] - 230s 81s/step - loss: 1.7631 - accuracy: 0.4848\n",
            "2/2 [==============================] - 420s 147s/step - loss: 0.7709 - accuracy: 0.3939\n",
            "2/2 [==============================] - 569s 197s/step - loss: 0.6897 - accuracy: 0.4949\n",
            "2/2 [==============================] - 457s 161s/step - loss: 0.7198 - accuracy: 0.3737\n",
            "2/2 [==============================] - 565s 198s/step - loss: 0.6897 - accuracy: 0.4949\n"
          ]
        },
        {
          "name": "stderr",
          "output_type": "stream",
          "text": [
            " 87%|████████▋ | 87/100 [44:38:45<10:30:20, 2909.28s/it]"
          ]
        },
        {
          "name": "stdout",
          "output_type": "stream",
          "text": [
            "(1, 0, 0, 0, 0, 1, 0, 0, 0, 1)\n",
            "[0.45454547 0.45454547 0.45454547 0.49494949 0.49494949 0.49494949\n",
            " 0.49494949 0.49494949 0.49494949 0.49494949 0.49494949 0.49494949\n",
            " 0.49494949 0.49494949 0.49494949 0.49494949 0.49494949 0.49494949\n",
            " 0.49494949 0.49494949 0.49494949 0.49494949 0.49494949 0.49494949\n",
            " 0.49494949 0.49494949 0.49494949 0.49494949 0.49494949 0.49494949\n",
            " 0.49494949 0.49494949 0.49494949 0.49494949 0.49494949 0.49494949\n",
            " 0.49494949 0.49494949 0.49494949 0.49494949 0.49494949 0.49494949\n",
            " 0.49494949 0.49494949 0.49494949 0.49494949 0.49494949 0.49494949\n",
            " 0.49494949 0.49494949 0.49494949 0.49494949 0.49494949 0.49494949\n",
            " 0.49494949 0.49494949 0.49494949 0.49494949 0.49494949 0.49494949\n",
            " 0.49494949 0.49494949 0.49494949 0.49494949 0.49494949 0.49494949\n",
            " 0.49494949 0.49494949 0.49494949 0.49494949 0.49494949 0.49494949\n",
            " 0.49494949 0.49494949 0.49494949 0.49494949 0.49494949 0.49494949\n",
            " 0.49494949 0.49494949 0.49494949 0.49494949 0.49494949 0.49494949\n",
            " 0.49494949 0.49494949 0.49494949]\n",
            "iteration number: 88\n",
            "2/2 [==============================] - 564s 198s/step - loss: 0.6897 - accuracy: 0.4949\n",
            "2/2 [==============================] - 689s 242s/step - loss: 0.7475 - accuracy: 0.4040\n",
            "2/2 [==============================] - 470s 165s/step - loss: 0.7198 - accuracy: 0.3737\n",
            "2/2 [==============================] - 211s 73s/step - loss: 0.6811 - accuracy: 0.3333\n",
            "2/2 [==============================] - 259s 91s/step - loss: 1.7631 - accuracy: 0.4848\n",
            "2/2 [==============================] - 786s 279s/step - loss: 0.7475 - accuracy: 0.4040\n",
            "2/2 [==============================] - 642s 225s/step - loss: 0.6897 - accuracy: 0.4949\n"
          ]
        },
        {
          "name": "stderr",
          "output_type": "stream",
          "text": [
            " 88%|████████▊ | 88/100 [45:39:36<10:26:20, 3131.74s/it]"
          ]
        },
        {
          "name": "stdout",
          "output_type": "stream",
          "text": [
            "(1, 0, 0, 0, 0, 1, 1, 0, 0, 1)\n",
            "[0.45454547 0.45454547 0.45454547 0.49494949 0.49494949 0.49494949\n",
            " 0.49494949 0.49494949 0.49494949 0.49494949 0.49494949 0.49494949\n",
            " 0.49494949 0.49494949 0.49494949 0.49494949 0.49494949 0.49494949\n",
            " 0.49494949 0.49494949 0.49494949 0.49494949 0.49494949 0.49494949\n",
            " 0.49494949 0.49494949 0.49494949 0.49494949 0.49494949 0.49494949\n",
            " 0.49494949 0.49494949 0.49494949 0.49494949 0.49494949 0.49494949\n",
            " 0.49494949 0.49494949 0.49494949 0.49494949 0.49494949 0.49494949\n",
            " 0.49494949 0.49494949 0.49494949 0.49494949 0.49494949 0.49494949\n",
            " 0.49494949 0.49494949 0.49494949 0.49494949 0.49494949 0.49494949\n",
            " 0.49494949 0.49494949 0.49494949 0.49494949 0.49494949 0.49494949\n",
            " 0.49494949 0.49494949 0.49494949 0.49494949 0.49494949 0.49494949\n",
            " 0.49494949 0.49494949 0.49494949 0.49494949 0.49494949 0.49494949\n",
            " 0.49494949 0.49494949 0.49494949 0.49494949 0.49494949 0.49494949\n",
            " 0.49494949 0.49494949 0.49494949 0.49494949 0.49494949 0.49494949\n",
            " 0.49494949 0.49494949 0.49494949 0.49494949]\n",
            "iteration number: 89\n",
            "2/2 [==============================] - 640s 225s/step - loss: 0.6897 - accuracy: 0.4949\n",
            "2/2 [==============================] - 699s 245s/step - loss: 0.6737 - accuracy: 0.4848\n",
            "2/2 [==============================] - 654s 231s/step - loss: 0.7150 - accuracy: 0.4545\n",
            "2/2 [==============================] - 699s 245s/step - loss: 0.6737 - accuracy: 0.4848\n",
            "2/2 [==============================] - 652s 229s/step - loss: 0.7150 - accuracy: 0.4545\n",
            "2/2 [==============================] - 954s 335s/step - loss: 0.6867 - accuracy: 0.4747\n",
            "2/2 [==============================] - 458s 160s/step - loss: 0.7016 - accuracy: 0.4949\n"
          ]
        },
        {
          "name": "stderr",
          "output_type": "stream",
          "text": [
            " 89%|████████▉ | 89/100 [46:59:21<11:05:05, 3627.78s/it]"
          ]
        },
        {
          "name": "stdout",
          "output_type": "stream",
          "text": [
            "(1, 0, 0, 0, 0, 1, 1, 0, 0, 1)\n",
            "[0.45454547 0.45454547 0.45454547 0.49494949 0.49494949 0.49494949\n",
            " 0.49494949 0.49494949 0.49494949 0.49494949 0.49494949 0.49494949\n",
            " 0.49494949 0.49494949 0.49494949 0.49494949 0.49494949 0.49494949\n",
            " 0.49494949 0.49494949 0.49494949 0.49494949 0.49494949 0.49494949\n",
            " 0.49494949 0.49494949 0.49494949 0.49494949 0.49494949 0.49494949\n",
            " 0.49494949 0.49494949 0.49494949 0.49494949 0.49494949 0.49494949\n",
            " 0.49494949 0.49494949 0.49494949 0.49494949 0.49494949 0.49494949\n",
            " 0.49494949 0.49494949 0.49494949 0.49494949 0.49494949 0.49494949\n",
            " 0.49494949 0.49494949 0.49494949 0.49494949 0.49494949 0.49494949\n",
            " 0.49494949 0.49494949 0.49494949 0.49494949 0.49494949 0.49494949\n",
            " 0.49494949 0.49494949 0.49494949 0.49494949 0.49494949 0.49494949\n",
            " 0.49494949 0.49494949 0.49494949 0.49494949 0.49494949 0.49494949\n",
            " 0.49494949 0.49494949 0.49494949 0.49494949 0.49494949 0.49494949\n",
            " 0.49494949 0.49494949 0.49494949 0.49494949 0.49494949 0.49494949\n",
            " 0.49494949 0.49494949 0.49494949 0.49494949 0.49494949]\n",
            "iteration number: 90\n",
            "2/2 [==============================] - 456s 160s/step - loss: 0.7016 - accuracy: 0.4949\n",
            "2/2 [==============================] - 382s 133s/step - loss: 0.7069 - accuracy: 0.3939\n",
            "2/2 [==============================] - 431s 151s/step - loss: 1.2198 - accuracy: 0.4545\n",
            "2/2 [==============================] - 942s 330s/step - loss: 0.6867 - accuracy: 0.4747\n",
            "2/2 [==============================] - 941s 330s/step - loss: 0.6867 - accuracy: 0.4747\n",
            "2/2 [==============================] - 719s 253s/step - loss: 0.6579 - accuracy: 0.4848\n",
            "2/2 [==============================] - 455s 159s/step - loss: 1.2198 - accuracy: 0.4545\n"
          ]
        },
        {
          "name": "stderr",
          "output_type": "stream",
          "text": [
            " 90%|█████████ | 90/100 [48:11:52<10:40:48, 3844.87s/it]"
          ]
        },
        {
          "name": "stdout",
          "output_type": "stream",
          "text": [
            "(1, 0, 0, 0, 0, 1, 0, 0, 0, 1)\n",
            "[0.45454547 0.45454547 0.45454547 0.49494949 0.49494949 0.49494949\n",
            " 0.49494949 0.49494949 0.49494949 0.49494949 0.49494949 0.49494949\n",
            " 0.49494949 0.49494949 0.49494949 0.49494949 0.49494949 0.49494949\n",
            " 0.49494949 0.49494949 0.49494949 0.49494949 0.49494949 0.49494949\n",
            " 0.49494949 0.49494949 0.49494949 0.49494949 0.49494949 0.49494949\n",
            " 0.49494949 0.49494949 0.49494949 0.49494949 0.49494949 0.49494949\n",
            " 0.49494949 0.49494949 0.49494949 0.49494949 0.49494949 0.49494949\n",
            " 0.49494949 0.49494949 0.49494949 0.49494949 0.49494949 0.49494949\n",
            " 0.49494949 0.49494949 0.49494949 0.49494949 0.49494949 0.49494949\n",
            " 0.49494949 0.49494949 0.49494949 0.49494949 0.49494949 0.49494949\n",
            " 0.49494949 0.49494949 0.49494949 0.49494949 0.49494949 0.49494949\n",
            " 0.49494949 0.49494949 0.49494949 0.49494949 0.49494949 0.49494949\n",
            " 0.49494949 0.49494949 0.49494949 0.49494949 0.49494949 0.49494949\n",
            " 0.49494949 0.49494949 0.49494949 0.49494949 0.49494949 0.49494949\n",
            " 0.49494949 0.49494949 0.49494949 0.49494949 0.49494949 0.49494949]\n",
            "iteration number: 91\n",
            "2/2 [==============================] - 479s 169s/step - loss: 0.7016 - accuracy: 0.4949\n",
            "2/2 [==============================] - 496s 175s/step - loss: 0.7709 - accuracy: 0.3939\n",
            "2/2 [==============================] - 824s 291s/step - loss: 0.7475 - accuracy: 0.4040\n",
            "2/2 [==============================] - 500s 176s/step - loss: 0.7709 - accuracy: 0.3939\n",
            "2/2 [==============================] - 889s 308s/step - loss: 0.7475 - accuracy: 0.4040\n",
            "2/2 [==============================] - 228s 80s/step - loss: 0.6811 - accuracy: 0.3333\n",
            "2/2 [==============================] - 526s 185s/step - loss: 0.7709 - accuracy: 0.3939\n"
          ]
        },
        {
          "name": "stderr",
          "output_type": "stream",
          "text": [
            " 91%|█████████ | 91/100 [49:17:53<9:41:56, 3879.65s/it] "
          ]
        },
        {
          "name": "stdout",
          "output_type": "stream",
          "text": [
            "(1, 0, 0, 0, 0, 1, 0, 0, 0, 1)\n",
            "[0.45454547 0.45454547 0.45454547 0.49494949 0.49494949 0.49494949\n",
            " 0.49494949 0.49494949 0.49494949 0.49494949 0.49494949 0.49494949\n",
            " 0.49494949 0.49494949 0.49494949 0.49494949 0.49494949 0.49494949\n",
            " 0.49494949 0.49494949 0.49494949 0.49494949 0.49494949 0.49494949\n",
            " 0.49494949 0.49494949 0.49494949 0.49494949 0.49494949 0.49494949\n",
            " 0.49494949 0.49494949 0.49494949 0.49494949 0.49494949 0.49494949\n",
            " 0.49494949 0.49494949 0.49494949 0.49494949 0.49494949 0.49494949\n",
            " 0.49494949 0.49494949 0.49494949 0.49494949 0.49494949 0.49494949\n",
            " 0.49494949 0.49494949 0.49494949 0.49494949 0.49494949 0.49494949\n",
            " 0.49494949 0.49494949 0.49494949 0.49494949 0.49494949 0.49494949\n",
            " 0.49494949 0.49494949 0.49494949 0.49494949 0.49494949 0.49494949\n",
            " 0.49494949 0.49494949 0.49494949 0.49494949 0.49494949 0.49494949\n",
            " 0.49494949 0.49494949 0.49494949 0.49494949 0.49494949 0.49494949\n",
            " 0.49494949 0.49494949 0.49494949 0.49494949 0.49494949 0.49494949\n",
            " 0.49494949 0.49494949 0.49494949 0.49494949 0.49494949 0.49494949\n",
            " 0.49494949]\n",
            "iteration number: 92\n",
            "2/2 [==============================] - 509s 180s/step - loss: 0.7016 - accuracy: 0.4949\n",
            "2/2 [==============================] - 587s 208s/step - loss: 0.6708 - accuracy: 0.4949\n",
            "2/2 [==============================] - 225s 79s/step - loss: 0.6811 - accuracy: 0.3333\n",
            "2/2 [==============================] - 701s 246s/step - loss: 0.6897 - accuracy: 0.4949\n",
            "2/2 [==============================] - 590s 208s/step - loss: 0.6708 - accuracy: 0.4949\n",
            "2/2 [==============================] - 583s 207s/step - loss: 0.6708 - accuracy: 0.4949\n",
            "2/2 [==============================] - 563s 198s/step - loss: 0.7198 - accuracy: 0.3737\n"
          ]
        },
        {
          "name": "stderr",
          "output_type": "stream",
          "text": [
            " 92%|█████████▏| 92/100 [50:20:52<8:33:15, 3849.38s/it]"
          ]
        },
        {
          "name": "stdout",
          "output_type": "stream",
          "text": [
            "(1, 0, 0, 0, 0, 1, 0, 0, 0, 1)\n",
            "[0.45454547 0.45454547 0.45454547 0.49494949 0.49494949 0.49494949\n",
            " 0.49494949 0.49494949 0.49494949 0.49494949 0.49494949 0.49494949\n",
            " 0.49494949 0.49494949 0.49494949 0.49494949 0.49494949 0.49494949\n",
            " 0.49494949 0.49494949 0.49494949 0.49494949 0.49494949 0.49494949\n",
            " 0.49494949 0.49494949 0.49494949 0.49494949 0.49494949 0.49494949\n",
            " 0.49494949 0.49494949 0.49494949 0.49494949 0.49494949 0.49494949\n",
            " 0.49494949 0.49494949 0.49494949 0.49494949 0.49494949 0.49494949\n",
            " 0.49494949 0.49494949 0.49494949 0.49494949 0.49494949 0.49494949\n",
            " 0.49494949 0.49494949 0.49494949 0.49494949 0.49494949 0.49494949\n",
            " 0.49494949 0.49494949 0.49494949 0.49494949 0.49494949 0.49494949\n",
            " 0.49494949 0.49494949 0.49494949 0.49494949 0.49494949 0.49494949\n",
            " 0.49494949 0.49494949 0.49494949 0.49494949 0.49494949 0.49494949\n",
            " 0.49494949 0.49494949 0.49494949 0.49494949 0.49494949 0.49494949\n",
            " 0.49494949 0.49494949 0.49494949 0.49494949 0.49494949 0.49494949\n",
            " 0.49494949 0.49494949 0.49494949 0.49494949 0.49494949 0.49494949\n",
            " 0.49494949 0.49494949]\n",
            "iteration number: 93\n",
            "2/2 [==============================] - 575s 204s/step - loss: 0.6708 - accuracy: 0.4949\n",
            "2/2 [==============================] - 218s 76s/step - loss: 0.6811 - accuracy: 0.3333\n",
            "2/2 [==============================] - 834s 294s/step - loss: 0.7475 - accuracy: 0.4040\n",
            "2/2 [==============================] - 276s 98s/step - loss: 1.7631 - accuracy: 0.4848\n",
            "2/2 [==============================] - 685s 241s/step - loss: 0.6897 - accuracy: 0.4949\n",
            "2/2 [==============================] - 504s 178s/step - loss: 0.7709 - accuracy: 0.3939\n",
            "2/2 [==============================] - 830s 292s/step - loss: 0.7475 - accuracy: 0.4040\n"
          ]
        },
        {
          "name": "stderr",
          "output_type": "stream",
          "text": [
            " 93%|█████████▎| 93/100 [51:26:31<7:32:13, 3876.28s/it]"
          ]
        },
        {
          "name": "stdout",
          "output_type": "stream",
          "text": [
            "(1, 0, 0, 0, 1, 1, 0, 0, 0, 1)\n",
            "[0.45454547 0.45454547 0.45454547 0.49494949 0.49494949 0.49494949\n",
            " 0.49494949 0.49494949 0.49494949 0.49494949 0.49494949 0.49494949\n",
            " 0.49494949 0.49494949 0.49494949 0.49494949 0.49494949 0.49494949\n",
            " 0.49494949 0.49494949 0.49494949 0.49494949 0.49494949 0.49494949\n",
            " 0.49494949 0.49494949 0.49494949 0.49494949 0.49494949 0.49494949\n",
            " 0.49494949 0.49494949 0.49494949 0.49494949 0.49494949 0.49494949\n",
            " 0.49494949 0.49494949 0.49494949 0.49494949 0.49494949 0.49494949\n",
            " 0.49494949 0.49494949 0.49494949 0.49494949 0.49494949 0.49494949\n",
            " 0.49494949 0.49494949 0.49494949 0.49494949 0.49494949 0.49494949\n",
            " 0.49494949 0.49494949 0.49494949 0.49494949 0.49494949 0.49494949\n",
            " 0.49494949 0.49494949 0.49494949 0.49494949 0.49494949 0.49494949\n",
            " 0.49494949 0.49494949 0.49494949 0.49494949 0.49494949 0.49494949\n",
            " 0.49494949 0.49494949 0.49494949 0.49494949 0.49494949 0.49494949\n",
            " 0.49494949 0.49494949 0.49494949 0.49494949 0.49494949 0.49494949\n",
            " 0.49494949 0.49494949 0.49494949 0.49494949 0.49494949 0.49494949\n",
            " 0.49494949 0.49494949 0.49494949]\n",
            "iteration number: 94\n",
            "2/2 [==============================] - 680s 238s/step - loss: 0.6897 - accuracy: 0.4949\n",
            "2/2 [==============================] - 300s 106s/step - loss: 0.6807 - accuracy: 0.3333\n",
            "2/2 [==============================] - 641s 227s/step - loss: 0.6832 - accuracy: 0.3737\n",
            "2/2 [==============================] - 490s 172s/step - loss: 0.7016 - accuracy: 0.4949\n",
            "2/2 [==============================] - 588s 209s/step - loss: 0.7127 - accuracy: 0.4040\n",
            "2/2 [==============================] - 491s 172s/step - loss: 0.7016 - accuracy: 0.4949\n",
            "2/2 [==============================] - 763s 269s/step - loss: 0.6579 - accuracy: 0.4848\n"
          ]
        },
        {
          "name": "stderr",
          "output_type": "stream",
          "text": [
            " 94%|█████████▍| 94/100 [52:32:47<6:30:37, 3906.25s/it]"
          ]
        },
        {
          "name": "stdout",
          "output_type": "stream",
          "text": [
            "(1, 0, 0, 0, 0, 1, 1, 0, 0, 1)\n",
            "[0.45454547 0.45454547 0.45454547 0.49494949 0.49494949 0.49494949\n",
            " 0.49494949 0.49494949 0.49494949 0.49494949 0.49494949 0.49494949\n",
            " 0.49494949 0.49494949 0.49494949 0.49494949 0.49494949 0.49494949\n",
            " 0.49494949 0.49494949 0.49494949 0.49494949 0.49494949 0.49494949\n",
            " 0.49494949 0.49494949 0.49494949 0.49494949 0.49494949 0.49494949\n",
            " 0.49494949 0.49494949 0.49494949 0.49494949 0.49494949 0.49494949\n",
            " 0.49494949 0.49494949 0.49494949 0.49494949 0.49494949 0.49494949\n",
            " 0.49494949 0.49494949 0.49494949 0.49494949 0.49494949 0.49494949\n",
            " 0.49494949 0.49494949 0.49494949 0.49494949 0.49494949 0.49494949\n",
            " 0.49494949 0.49494949 0.49494949 0.49494949 0.49494949 0.49494949\n",
            " 0.49494949 0.49494949 0.49494949 0.49494949 0.49494949 0.49494949\n",
            " 0.49494949 0.49494949 0.49494949 0.49494949 0.49494949 0.49494949\n",
            " 0.49494949 0.49494949 0.49494949 0.49494949 0.49494949 0.49494949\n",
            " 0.49494949 0.49494949 0.49494949 0.49494949 0.49494949 0.49494949\n",
            " 0.49494949 0.49494949 0.49494949 0.49494949 0.49494949 0.49494949\n",
            " 0.49494949 0.49494949 0.49494949 0.49494949]\n",
            "iteration number: 95\n",
            "2/2 [==============================] - 494s 174s/step - loss: 0.7016 - accuracy: 0.4949\n",
            "2/2 [==============================] - 705s 247s/step - loss: 0.7150 - accuracy: 0.4545\n",
            "2/2 [==============================] - 719s 253s/step - loss: 0.7150 - accuracy: 0.4545\n",
            "2/2 [==============================] - 850s 293s/step - loss: 0.6737 - accuracy: 0.4848\n",
            "2/2 [==============================] - 1145s 405s/step - loss: 0.6867 - accuracy: 0.4747\n",
            "2/2 [==============================] - 852s 301s/step - loss: 0.6579 - accuracy: 0.4848\n",
            "2/2 [==============================] - 829s 292s/step - loss: 0.6737 - accuracy: 0.4848\n"
          ]
        },
        {
          "name": "stderr",
          "output_type": "stream",
          "text": [
            " 95%|█████████▌| 95/100 [54:06:32<6:08:29, 4421.82s/it]"
          ]
        },
        {
          "name": "stdout",
          "output_type": "stream",
          "text": [
            "(1, 0, 0, 0, 0, 1, 0, 0, 0, 1)\n",
            "[0.45454547 0.45454547 0.45454547 0.49494949 0.49494949 0.49494949\n",
            " 0.49494949 0.49494949 0.49494949 0.49494949 0.49494949 0.49494949\n",
            " 0.49494949 0.49494949 0.49494949 0.49494949 0.49494949 0.49494949\n",
            " 0.49494949 0.49494949 0.49494949 0.49494949 0.49494949 0.49494949\n",
            " 0.49494949 0.49494949 0.49494949 0.49494949 0.49494949 0.49494949\n",
            " 0.49494949 0.49494949 0.49494949 0.49494949 0.49494949 0.49494949\n",
            " 0.49494949 0.49494949 0.49494949 0.49494949 0.49494949 0.49494949\n",
            " 0.49494949 0.49494949 0.49494949 0.49494949 0.49494949 0.49494949\n",
            " 0.49494949 0.49494949 0.49494949 0.49494949 0.49494949 0.49494949\n",
            " 0.49494949 0.49494949 0.49494949 0.49494949 0.49494949 0.49494949\n",
            " 0.49494949 0.49494949 0.49494949 0.49494949 0.49494949 0.49494949\n",
            " 0.49494949 0.49494949 0.49494949 0.49494949 0.49494949 0.49494949\n",
            " 0.49494949 0.49494949 0.49494949 0.49494949 0.49494949 0.49494949\n",
            " 0.49494949 0.49494949 0.49494949 0.49494949 0.49494949 0.49494949\n",
            " 0.49494949 0.49494949 0.49494949 0.49494949 0.49494949 0.49494949\n",
            " 0.49494949 0.49494949 0.49494949 0.49494949 0.49494949]\n",
            "iteration number: 96\n",
            "2/2 [==============================] - 540s 191s/step - loss: 0.7016 - accuracy: 0.4949\n",
            "2/2 [==============================] - 755s 265s/step - loss: 0.6897 - accuracy: 0.4949\n",
            "2/2 [==============================] - 559s 197s/step - loss: 0.7709 - accuracy: 0.3939\n",
            "2/2 [==============================] - 305s 108s/step - loss: 1.7631 - accuracy: 0.4848\n",
            "2/2 [==============================] - 628s 223s/step - loss: 0.6708 - accuracy: 0.4949\n",
            "2/2 [==============================] - 906s 322s/step - loss: 0.7475 - accuracy: 0.4040\n",
            "2/2 [==============================] - 599s 212s/step - loss: 0.7198 - accuracy: 0.3737\n"
          ]
        },
        {
          "name": "stderr",
          "output_type": "stream",
          "text": [
            " 96%|█████████▌| 96/100 [55:18:23<4:52:34, 4388.67s/it]"
          ]
        },
        {
          "name": "stdout",
          "output_type": "stream",
          "text": [
            "(1, 0, 0, 0, 0, 1, 0, 0, 0, 1)\n",
            "[0.45454547 0.45454547 0.45454547 0.49494949 0.49494949 0.49494949\n",
            " 0.49494949 0.49494949 0.49494949 0.49494949 0.49494949 0.49494949\n",
            " 0.49494949 0.49494949 0.49494949 0.49494949 0.49494949 0.49494949\n",
            " 0.49494949 0.49494949 0.49494949 0.49494949 0.49494949 0.49494949\n",
            " 0.49494949 0.49494949 0.49494949 0.49494949 0.49494949 0.49494949\n",
            " 0.49494949 0.49494949 0.49494949 0.49494949 0.49494949 0.49494949\n",
            " 0.49494949 0.49494949 0.49494949 0.49494949 0.49494949 0.49494949\n",
            " 0.49494949 0.49494949 0.49494949 0.49494949 0.49494949 0.49494949\n",
            " 0.49494949 0.49494949 0.49494949 0.49494949 0.49494949 0.49494949\n",
            " 0.49494949 0.49494949 0.49494949 0.49494949 0.49494949 0.49494949\n",
            " 0.49494949 0.49494949 0.49494949 0.49494949 0.49494949 0.49494949\n",
            " 0.49494949 0.49494949 0.49494949 0.49494949 0.49494949 0.49494949\n",
            " 0.49494949 0.49494949 0.49494949 0.49494949 0.49494949 0.49494949\n",
            " 0.49494949 0.49494949 0.49494949 0.49494949 0.49494949 0.49494949\n",
            " 0.49494949 0.49494949 0.49494949 0.49494949 0.49494949 0.49494949\n",
            " 0.49494949 0.49494949 0.49494949 0.49494949 0.49494949 0.49494949]\n",
            "iteration number: 97\n",
            "2/2 [==============================] - 619s 219s/step - loss: 0.6708 - accuracy: 0.4949\n",
            "2/2 [==============================] - 734s 257s/step - loss: 0.6897 - accuracy: 0.4949\n",
            "2/2 [==============================] - 298s 105s/step - loss: 1.7631 - accuracy: 0.4848\n",
            "2/2 [==============================] - 543s 191s/step - loss: 0.7709 - accuracy: 0.3939\n",
            "2/2 [==============================] - 612s 217s/step - loss: 0.6708 - accuracy: 0.4949\n",
            "2/2 [==============================] - 887s 313s/step - loss: 0.7475 - accuracy: 0.4040\n",
            "2/2 [==============================] - 231s 81s/step - loss: 0.6811 - accuracy: 0.3333\n"
          ]
        },
        {
          "name": "stderr",
          "output_type": "stream",
          "text": [
            " 97%|█████████▋| 97/100 [56:24:05<3:32:43, 4254.50s/it]"
          ]
        },
        {
          "name": "stdout",
          "output_type": "stream",
          "text": [
            "(1, 0, 0, 0, 1, 1, 0, 0, 0, 1)\n",
            "[0.45454547 0.45454547 0.45454547 0.49494949 0.49494949 0.49494949\n",
            " 0.49494949 0.49494949 0.49494949 0.49494949 0.49494949 0.49494949\n",
            " 0.49494949 0.49494949 0.49494949 0.49494949 0.49494949 0.49494949\n",
            " 0.49494949 0.49494949 0.49494949 0.49494949 0.49494949 0.49494949\n",
            " 0.49494949 0.49494949 0.49494949 0.49494949 0.49494949 0.49494949\n",
            " 0.49494949 0.49494949 0.49494949 0.49494949 0.49494949 0.49494949\n",
            " 0.49494949 0.49494949 0.49494949 0.49494949 0.49494949 0.49494949\n",
            " 0.49494949 0.49494949 0.49494949 0.49494949 0.49494949 0.49494949\n",
            " 0.49494949 0.49494949 0.49494949 0.49494949 0.49494949 0.49494949\n",
            " 0.49494949 0.49494949 0.49494949 0.49494949 0.49494949 0.49494949\n",
            " 0.49494949 0.49494949 0.49494949 0.49494949 0.49494949 0.49494949\n",
            " 0.49494949 0.49494949 0.49494949 0.49494949 0.49494949 0.49494949\n",
            " 0.49494949 0.49494949 0.49494949 0.49494949 0.49494949 0.49494949\n",
            " 0.49494949 0.49494949 0.49494949 0.49494949 0.49494949 0.49494949\n",
            " 0.49494949 0.49494949 0.49494949 0.49494949 0.49494949 0.49494949\n",
            " 0.49494949 0.49494949 0.49494949 0.49494949 0.49494949 0.49494949\n",
            " 0.49494949]\n",
            "iteration number: 98\n",
            "2/2 [==============================] - 605s 214s/step - loss: 0.6708 - accuracy: 0.4949\n",
            "2/2 [==============================] - 316s 112s/step - loss: 0.6807 - accuracy: 0.3333\n",
            "2/2 [==============================] - 314s 111s/step - loss: 0.6807 - accuracy: 0.3333\n",
            "2/2 [==============================] - 510s 180s/step - loss: 0.7016 - accuracy: 0.4949\n",
            "2/2 [==============================] - 376s 134s/step - loss: 0.7030 - accuracy: 0.4949\n",
            "2/2 [==============================] - 671s 239s/step - loss: 0.6832 - accuracy: 0.3737\n",
            "2/2 [==============================] - 378s 135s/step - loss: 0.7030 - accuracy: 0.4949\n"
          ]
        },
        {
          "name": "stderr",
          "output_type": "stream",
          "text": [
            " 98%|█████████▊| 98/100 [57:17:10<2:11:07, 3933.85s/it]"
          ]
        },
        {
          "name": "stdout",
          "output_type": "stream",
          "text": [
            "(1, 0, 0, 0, 1, 1, 0, 0, 0, 1)\n",
            "[0.45454547 0.45454547 0.45454547 0.49494949 0.49494949 0.49494949\n",
            " 0.49494949 0.49494949 0.49494949 0.49494949 0.49494949 0.49494949\n",
            " 0.49494949 0.49494949 0.49494949 0.49494949 0.49494949 0.49494949\n",
            " 0.49494949 0.49494949 0.49494949 0.49494949 0.49494949 0.49494949\n",
            " 0.49494949 0.49494949 0.49494949 0.49494949 0.49494949 0.49494949\n",
            " 0.49494949 0.49494949 0.49494949 0.49494949 0.49494949 0.49494949\n",
            " 0.49494949 0.49494949 0.49494949 0.49494949 0.49494949 0.49494949\n",
            " 0.49494949 0.49494949 0.49494949 0.49494949 0.49494949 0.49494949\n",
            " 0.49494949 0.49494949 0.49494949 0.49494949 0.49494949 0.49494949\n",
            " 0.49494949 0.49494949 0.49494949 0.49494949 0.49494949 0.49494949\n",
            " 0.49494949 0.49494949 0.49494949 0.49494949 0.49494949 0.49494949\n",
            " 0.49494949 0.49494949 0.49494949 0.49494949 0.49494949 0.49494949\n",
            " 0.49494949 0.49494949 0.49494949 0.49494949 0.49494949 0.49494949\n",
            " 0.49494949 0.49494949 0.49494949 0.49494949 0.49494949 0.49494949\n",
            " 0.49494949 0.49494949 0.49494949 0.49494949 0.49494949 0.49494949\n",
            " 0.49494949 0.49494949 0.49494949 0.49494949 0.49494949 0.49494949\n",
            " 0.49494949 0.49494949]\n",
            "iteration number: 99\n",
            "2/2 [==============================] - 377s 135s/step - loss: 0.7030 - accuracy: 0.4949\n",
            "2/2 [==============================] - 673s 240s/step - loss: 0.6832 - accuracy: 0.3737\n",
            "2/2 [==============================] - 827s 292s/step - loss: 0.6579 - accuracy: 0.4848\n",
            "2/2 [==============================] - 691s 246s/step - loss: 0.6832 - accuracy: 0.3737\n",
            "2/2 [==============================] - 537s 190s/step - loss: 0.7016 - accuracy: 0.4949\n",
            "2/2 [==============================] - 541s 191s/step - loss: 0.7016 - accuracy: 0.4949\n",
            "2/2 [==============================] - 399s 142s/step - loss: 0.7030 - accuracy: 0.4949\n"
          ]
        },
        {
          "name": "stderr",
          "output_type": "stream",
          "text": [
            " 99%|█████████▉| 99/100 [58:24:53<1:06:12, 3972.49s/it]"
          ]
        },
        {
          "name": "stdout",
          "output_type": "stream",
          "text": [
            "(1, 0, 0, 0, 1, 0, 0, 0, 0, 1)\n",
            "[0.45454547 0.45454547 0.45454547 0.49494949 0.49494949 0.49494949\n",
            " 0.49494949 0.49494949 0.49494949 0.49494949 0.49494949 0.49494949\n",
            " 0.49494949 0.49494949 0.49494949 0.49494949 0.49494949 0.49494949\n",
            " 0.49494949 0.49494949 0.49494949 0.49494949 0.49494949 0.49494949\n",
            " 0.49494949 0.49494949 0.49494949 0.49494949 0.49494949 0.49494949\n",
            " 0.49494949 0.49494949 0.49494949 0.49494949 0.49494949 0.49494949\n",
            " 0.49494949 0.49494949 0.49494949 0.49494949 0.49494949 0.49494949\n",
            " 0.49494949 0.49494949 0.49494949 0.49494949 0.49494949 0.49494949\n",
            " 0.49494949 0.49494949 0.49494949 0.49494949 0.49494949 0.49494949\n",
            " 0.49494949 0.49494949 0.49494949 0.49494949 0.49494949 0.49494949\n",
            " 0.49494949 0.49494949 0.49494949 0.49494949 0.49494949 0.49494949\n",
            " 0.49494949 0.49494949 0.49494949 0.49494949 0.49494949 0.49494949\n",
            " 0.49494949 0.49494949 0.49494949 0.49494949 0.49494949 0.49494949\n",
            " 0.49494949 0.49494949 0.49494949 0.49494949 0.49494949 0.49494949\n",
            " 0.49494949 0.49494949 0.49494949 0.49494949 0.49494949 0.49494949\n",
            " 0.49494949 0.49494949 0.49494949 0.49494949 0.49494949 0.49494949\n",
            " 0.49494949 0.49494949 0.49494949]\n",
            "iteration number: 100\n",
            "2/2 [==============================] - 395s 141s/step - loss: 0.7030 - accuracy: 0.4949\n",
            "2/2 [==============================] - 97s 36s/step - loss: 0.6804 - accuracy: 0.3333\n",
            "2/2 [==============================] - 413s 148s/step - loss: 0.7720 - accuracy: 0.3939\n",
            "2/2 [==============================] - 633s 224s/step - loss: 0.6708 - accuracy: 0.4949\n",
            "2/2 [==============================] - 302s 107s/step - loss: 1.7631 - accuracy: 0.4848\n",
            "2/2 [==============================] - 608s 216s/step - loss: 0.6920 - accuracy: 0.4949\n",
            "2/2 [==============================] - 775s 275s/step - loss: 0.7473 - accuracy: 0.4141\n"
          ]
        },
        {
          "name": "stderr",
          "output_type": "stream",
          "text": [
            "100%|██████████| 100/100 [59:18:48<00:00, 2135.28s/it] "
          ]
        },
        {
          "name": "stdout",
          "output_type": "stream",
          "text": [
            "(1, 0, 0, 0, 1, 0, 0, 0, 0, 1)\n",
            "[0.45454547 0.45454547 0.45454547 0.49494949 0.49494949 0.49494949\n",
            " 0.49494949 0.49494949 0.49494949 0.49494949 0.49494949 0.49494949\n",
            " 0.49494949 0.49494949 0.49494949 0.49494949 0.49494949 0.49494949\n",
            " 0.49494949 0.49494949 0.49494949 0.49494949 0.49494949 0.49494949\n",
            " 0.49494949 0.49494949 0.49494949 0.49494949 0.49494949 0.49494949\n",
            " 0.49494949 0.49494949 0.49494949 0.49494949 0.49494949 0.49494949\n",
            " 0.49494949 0.49494949 0.49494949 0.49494949 0.49494949 0.49494949\n",
            " 0.49494949 0.49494949 0.49494949 0.49494949 0.49494949 0.49494949\n",
            " 0.49494949 0.49494949 0.49494949 0.49494949 0.49494949 0.49494949\n",
            " 0.49494949 0.49494949 0.49494949 0.49494949 0.49494949 0.49494949\n",
            " 0.49494949 0.49494949 0.49494949 0.49494949 0.49494949 0.49494949\n",
            " 0.49494949 0.49494949 0.49494949 0.49494949 0.49494949 0.49494949\n",
            " 0.49494949 0.49494949 0.49494949 0.49494949 0.49494949 0.49494949\n",
            " 0.49494949 0.49494949 0.49494949 0.49494949 0.49494949 0.49494949\n",
            " 0.49494949 0.49494949 0.49494949 0.49494949 0.49494949 0.49494949\n",
            " 0.49494949 0.49494949 0.49494949 0.49494949 0.49494949 0.49494949\n",
            " 0.49494949 0.49494949 0.49494949 0.49494949]\n",
            "((1, 0, 0, 0, 1, 0, 0, 0, 0, 1), 0.49494948983192444)\n"
          ]
        },
        {
          "name": "stderr",
          "output_type": "stream",
          "text": [
            "\n"
          ]
        },
        {
          "data": {
            "image/png": "[encoded data removed]",
            "text/plain": [
              "<Figure size 640x480 with 1 Axes>"
            ]
          },
          "metadata": {},
          "output_type": "display_data"
        }
      ],
      "source": [
        "print(ga.optimize())\n",
        "ga.view_fitness_evolution()"
      ]
    },
    {
      "cell_type": "code",
      "execution_count": 9,
      "metadata": {
        "id": "y2OjtmRHmcA6"
      },
      "outputs": [
        {
          "data": {
            "image/png": "[encoded data removed]",
            "text/plain": [
              "<Figure size 1200x800 with 2 Axes>"
            ]
          },
          "metadata": {},
          "output_type": "display_data"
        },
        {
          "name": "stdout",
          "output_type": "stream",
          "text": [
            "accuracy\n",
            "\taccuracy         \t (min:    0.648, max:    0.917, cur:    0.759)\n",
            "Loss\n",
            "\tloss             \t (min:    0.440, max:    0.716, cur:    0.690)\n",
            "3/3 [==============================] - 18s 7s/step - loss: 0.6899 - accuracy: 0.7586\n"
          ]
        }
      ],
      "source": [
        "# training the ensemble on the training data\n",
        "models1 = [vgg19_model_dnn, resnet_model_dnn]\n",
        "model_input = Input(shape=(224,224,3))\n",
        "model_outputs = [model(model_input) for model in models1]\n",
        "ensemble_output = Average()(model_outputs)\n",
        "ensemble_model = Model(inputs=model_input, outputs=ensemble_output, name='ensemble')\n",
        "\n",
        "plot_loss_ensemble1 = PlotLossesCallback()\n",
        "\n",
        "# ModelCheckpoint callback - save best weights\n",
        "tl_checkpoint_ensemble1 = ModelCheckpoint(filepath='tl_model_mice_ensemble1_dnn.weights.best.hdf5',\n",
        "                                      monitor='loss',\n",
        "                                save_best_only=True,\n",
        "                                save_weights_only=True,\n",
        "                                verbose=1)\n",
        "\n",
        "# EarlyStopping\n",
        "early_stop = EarlyStopping(monitor='loss',\n",
        "                        patience=10,\n",
        "                        restore_best_weights=True,\n",
        "                        mode='min')\n",
        "optim_1 = Adam(learning_rate=0.001)\n",
        "\n",
        "ensemble_model.compile(optimizer=optim_1, \n",
        "            loss='categorical_crossentropy',\n",
        "            metrics=['accuracy'])\n",
        "\n",
        "ensemble_history = ensemble_model.fit(traingen,\n",
        "        batch_size=BATCH_SIZE,\n",
        "        epochs= n_epochs,\n",
        "        shuffle= True,\n",
        "        steps_per_epoch=n_steps,\n",
        "        callbacks=[tl_checkpoint_ensemble1, early_stop, plot_loss_ensemble1],\n",
        "        verbose=1)\n",
        "\n",
        "\n",
        "\n",
        "\n",
        "\n"
      ]
    },
    {
      "attachments": {},
      "cell_type": "markdown",
      "metadata": {},
      "source": [
        "Predicting on unseen data"
      ]
    },
    {
      "cell_type": "code",
      "execution_count": 10,
      "metadata": {},
      "outputs": [
        {
          "name": "stdout",
          "output_type": "stream",
          "text": [
            "1/1 [==============================] - 3s 3s/step\n"
          ]
        }
      ],
      "source": [
        "y_prob = ensemble_model.predict(testgen)\n",
        "y_pred = y_prob.argmax(axis = -1)"
      ]
    },
    {
      "cell_type": "code",
      "execution_count": 11,
      "metadata": {},
      "outputs": [
        {
          "data": {
            "text/plain": [
              "<sklearn.metrics._plot.confusion_matrix.ConfusionMatrixDisplay at 0x28f85441c60>"
            ]
          },
          "execution_count": 11,
          "metadata": {},
          "output_type": "execute_result"
        },
        {
          "data": {
            "image/png": "[encoded data removed]",
            "text/plain": [
              "<Figure size 640x480 with 2 Axes>"
            ]
          },
          "metadata": {},
          "output_type": "display_data"
        }
      ],
      "source": [
        "from sklearn.metrics import confusion_matrix, ConfusionMatrixDisplay\n",
        "cm = confusion_matrix(testgen.classes, y_pred)\n",
        "ConfusionMatrixDisplay(cm).plot()"
      ]
    },
    {
      "cell_type": "code",
      "execution_count": 12,
      "metadata": {},
      "outputs": [
        {
          "name": "stderr",
          "output_type": "stream",
          "text": [
            "c:\\Users\\manel.benabid\\AppData\\Local\\Programs\\Python\\Python310\\lib\\site-packages\\sklearn\\metrics\\_classification.py:2184: UserWarning: y_pred contains classes not in y_true\n",
            "  warnings.warn(\"y_pred contains classes not in y_true\")\n",
            "C:\\Users\\manel.benabid\\AppData\\Local\\Temp\\ipykernel_17952\\1359896249.py:7: RuntimeWarning: invalid value encountered in divide\n",
            "  precision = np.diag(cm) / np.sum(cm, axis = 0)\n"
          ]
        }
      ],
      "source": [
        "from sklearn.metrics import accuracy_score, balanced_accuracy_score, f1_score, precision_score, recall_score, jaccard_score, roc_auc_score\n",
        "y_test = testgen.classes\n",
        "acc = accuracy_score(y_pred, y_test)\n",
        "balanced_acc = balanced_accuracy_score(y_pred, y_test)\n",
        "\n",
        "#auc = roc_auc_score(y_score = y_pred, y_true = y_test, multi_class=\"ovr\")\n",
        "precision = np.diag(cm) / np.sum(cm, axis = 0)\n",
        "def sensitivity(y_true,y_pred):\n",
        "        cm=confusion_matrix(y_true, y_pred)\n",
        "        FP = cm.sum(axis=0) - np.diag(cm)  \n",
        "        FN = cm.sum(axis=1) - np.diag(cm)\n",
        "        TP = np.diag(cm)\n",
        "        TN = cm.sum() - (FP + FN + TP)\n",
        "        Sensitivity = TP/(TP+FN)    \n",
        "        return np.mean(Sensitivity)\n",
        "\n",
        "sens = sensitivity(y_test, y_pred)\n",
        "def specificity(y_true,y_pred):\n",
        "        cm=confusion_matrix(y_true, y_pred)\n",
        "        FP = cm.sum(axis=0) - np.diag(cm)  \n",
        "        FN = cm.sum(axis=1) - np.diag(cm)\n",
        "        TP = np.diag(cm)\n",
        "        TN = cm.sum() - (FP + FN + TP)\n",
        "        Specificity = TN/(TN+FP)    \n",
        "        return np.mean(Specificity)\n",
        "specif= specificity(y_test, y_pred)\n",
        "\n",
        "f1 = 2 * (precision * sens) / (precision + sens)"
      ]
    },
    {
      "cell_type": "code",
      "execution_count": 13,
      "metadata": {},
      "outputs": [],
      "source": [
        "import math\n",
        "g_mean = math.sqrt(sens * specif)"
      ]
    },
    {
      "cell_type": "code",
      "execution_count": 14,
      "metadata": {},
      "outputs": [
        {
          "name": "stdout",
          "output_type": "stream",
          "text": [
            "{'accuracy': 0.2727272727272727, 'balanced_acc': 0.2727272727272727, 'precision': array([0.27272727,        nan, 0.27272727]), 'f1': array([0.27272727,        nan, 0.27272727]), 'sensitivity': 0.2727272727272727, 'specificity': 0.6363636363636364, 'g_mean': 0.41659779045053086}\n"
          ]
        }
      ],
      "source": [
        "data = {\n",
        "    \"accuracy\" : acc,\n",
        "    \"balanced_acc\" : balanced_acc,\n",
        "    \"precision\": precision,\n",
        "    \"f1\": f1,\n",
        "    \"sensitivity\": sens,\n",
        "    \"specificity\": specif,\n",
        "    \"g_mean\": g_mean\n",
        "}\n",
        "print(data)"
      ]
    },
    {
      "cell_type": "code",
      "execution_count": null,
      "metadata": {},
      "outputs": [],
      "source": []
    }
  ],
  "metadata": {
    "accelerator": "TPU",
    "colab": {
      "provenance": []
    },
    "gpuClass": "standard",
    "kernelspec": {
      "display_name": "Python 3",
      "language": "python",
      "name": "python3"
    },
    "language_info": {
      "codemirror_mode": {
        "name": "ipython",
        "version": 3
      },
      "file_extension": ".py",
      "mimetype": "text/x-python",
      "name": "python",
      "nbconvert_exporter": "python",
      "pygments_lexer": "ipython3",
      "version": "3.10.9"
    },
    "orig_nbformat": 4
  },
  "nbformat": 4,
  "nbformat_minor": 0
}
