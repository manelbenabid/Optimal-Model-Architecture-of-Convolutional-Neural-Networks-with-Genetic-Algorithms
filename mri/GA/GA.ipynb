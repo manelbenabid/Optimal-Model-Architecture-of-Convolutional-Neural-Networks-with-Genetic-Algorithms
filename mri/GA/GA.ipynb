{
  "cells": [
    {
      "cell_type": "code",
      "execution_count": 1,
      "metadata": {
        "id": "f8AklGetmcAv"
      },
      "outputs": [],
      "source": [
        "from keras.callbacks import History\n",
        "from keras.callbacks import ModelCheckpoint, TensorBoard\n",
        "from keras.datasets import cifar10\n",
        "from keras.engine import training\n",
        "from keras.losses import categorical_crossentropy\n",
        "from keras.models import Model\n",
        "from keras import Input\n",
        "from keras.optimizers import Adam\n",
        "from keras.utils import to_categorical\n",
        "from tensorflow.python.framework.ops import Tensor\n",
        "from typing import Tuple, List\n",
        "import glob\n",
        "import numpy as np\n",
        "import os\n",
        "from keras.callbacks import ModelCheckpoint, EarlyStopping\n",
        "from keras.layers import Dense, Dropout, Flatten\n",
        "from keras.layers import Average\n",
        "from keras.models import Model\n",
        "from keras.applications.vgg16 import VGG16, preprocess_input\n",
        "from keras.applications.vgg19 import VGG19, preprocess_input\n",
        "from keras.applications.resnet import ResNet50\n",
        "from keras.applications.nasnet import NASNetLarge\n",
        "from keras.applications.efficientnet_v2 import EfficientNetV2L\n",
        "from keras.applications.densenet import DenseNet201\n",
        "from keras.applications.xception import Xception, preprocess_input\n",
        "from keras.applications.inception_resnet_v2 import InceptionResNetV2, preprocess_input\n",
        "from keras.applications.mobilenet_v2 import MobileNetV2, preprocess_input\n",
        "from keras.preprocessing.image import ImageDataGenerator\n",
        "from keras.callbacks import ModelCheckpoint, EarlyStopping\n",
        "from keras.layers import Dense, Dropout, Flatten\n",
        "from pathlib import Path\n",
        "import numpy as np\n",
        "\n",
        "import inspect\n",
        "from tqdm import tqdm\n",
        "import matplotlib.pyplot as plt\n",
        "from numpy import save\n",
        "\n",
        "\n",
        "from livelossplot.inputs.keras import PlotLossesCallback\n",
        "from sklearn.metrics import accuracy_score\n",
        "from scipy import stats\n",
        "from statistics import mean\n",
        "from keras.models import load_model"
      ]
    },
    {
      "cell_type": "code",
      "execution_count": 2,
      "metadata": {
        "id": "Z2sGtLRjmcAy"
      },
      "outputs": [],
      "source": [
        "\n",
        "BATCH_SIZE = 64\n",
        "\n",
        "train_generator = ImageDataGenerator(rescale=1./255) \n",
        "\n",
        "val_generator = ImageDataGenerator(rescale=1./255)\n",
        "\n",
        "test_generator = ImageDataGenerator(rescale=1./255)\n"
      ]
    },
    {
      "cell_type": "code",
      "execution_count": 3,
      "metadata": {
        "colab": {
          "base_uri": "https://localhost:8080/"
        },
        "id": "FsqUOh5XmcAy",
        "outputId": "dc9c95a5-9265-44d8-96e3-cfeb2abc79f8"
      },
      "outputs": [
        {
          "name": "stdout",
          "output_type": "stream",
          "text": [
            "Found 151 images belonging to 2 classes.\n",
            "Found 50 images belonging to 2 classes.\n",
            "Found 51 images belonging to 2 classes.\n"
          ]
        }
      ],
      "source": [
        "train_data_dir = './data_splits/train'\n",
        "val_data_dir = './data_splits/val'\n",
        "test_data_dir = './data_splits/test'\n",
        "\n",
        "\n",
        "\n",
        "\n",
        "traingen = train_generator.flow_from_directory(train_data_dir,\n",
        "                                               target_size=(224, 224),\n",
        "                                               class_mode='categorical',\n",
        "                                               batch_size=BATCH_SIZE,\n",
        "                                               subset='training',\n",
        "                                               seed=30)\n",
        "\n",
        "validgen = val_generator.flow_from_directory(val_data_dir,\n",
        "                                             target_size=(224, 224),\n",
        "                                             batch_size=BATCH_SIZE,\n",
        "                                               class_mode='categorical',\n",
        "                                               seed=52)\n",
        "\n",
        "testgen = test_generator.flow_from_directory(test_data_dir,\n",
        "                                             target_size=(224, 224),\n",
        "                                             batch_size=BATCH_SIZE,\n",
        "                                             \n",
        "                                             shuffle=False,\n",
        "                                             seed=52)"
      ]
    },
    {
      "cell_type": "code",
      "execution_count": 4,
      "metadata": {
        "id": "Vf_3W-2qmcAz"
      },
      "outputs": [],
      "source": [
        "input_shape = (224, 224, 3)\n",
        "optimizer = Adam(learning_rate=0.001)\n",
        "n_classes= len(traingen.class_indices)\n",
        "\n",
        "n_steps = traingen.samples // BATCH_SIZE\n",
        "n_val_steps = validgen.samples // BATCH_SIZE\n",
        "n_epochs = 100\n",
        "model_input = Input(shape=input_shape)"
      ]
    },
    {
      "cell_type": "markdown",
      "metadata": {
        "id": "ehptccx-mcA0"
      },
      "source": [
        "# Shallow"
      ]
    },
    {
      "cell_type": "code",
      "execution_count": 5,
      "metadata": {
        "id": "RMflhlkYmcA1"
      },
      "outputs": [],
      "source": [
        "def vgg16_shallow(model_input: Tensor, optimizer) -> training.Model:\n",
        "    conv_base = VGG16(include_top = False,\n",
        "                weights = 'imagenet',\n",
        "                input_shape = input_shape)\n",
        "    \n",
        "    for layer in conv_base.layers:\n",
        "        layer.trainable = False\n",
        "        \n",
        "    top_model = Flatten()(conv_base.output)\n",
        "    top_model = Dense(4096, activation='relu')(top_model)\n",
        "    top_model = Dropout(0.2)(top_model)\n",
        "    top_model = Dense(1000, activation='relu')(top_model)\n",
        "    top_model = Dropout(0.2)(top_model)\n",
        "    output_layer = Dense(n_classes, activation='softmax')(top_model)\n",
        "\n",
        "    model = Model(inputs = conv_base.input, outputs= output_layer, name='vgg16_model')\n",
        "    model.compile(optimizer=optimizer, \n",
        "                    loss='categorical_crossentropy',\n",
        "                    metrics=['accuracy'])\n",
        "    return model\n",
        "\n",
        "def vgg19_shallow(model_input: Tensor, optimizer) -> training.Model:\n",
        "    conv_base = VGG19(include_top = False,\n",
        "                weights = 'imagenet',\n",
        "                input_shape = input_shape)\n",
        "    \n",
        "    for layer in conv_base.layers:\n",
        "        layer.trainable = False\n",
        "        \n",
        "    top_model = Flatten()(conv_base.output)\n",
        "    top_model = Dense(4096, activation='relu')(top_model)\n",
        "    top_model = Dropout(0.2)(top_model)\n",
        "    top_model = Dense(1000, activation='relu')(top_model)\n",
        "    top_model = Dropout(0.2)(top_model)\n",
        "    output_layer = Dense(n_classes, activation='softmax')(top_model)\n",
        "\n",
        "    model = Model(inputs = conv_base.input, outputs= output_layer, name='vgg19_model')\n",
        "    model.compile(optimizer=optimizer, \n",
        "                    loss='categorical_crossentropy',\n",
        "                    metrics=['accuracy'])\n",
        "    return model\n",
        "\n",
        "\n",
        "\n",
        "\n",
        "def mobilenet_shallow(model_input: Tensor, optimizer) -> training.Model:\n",
        "    conv_base = MobileNetV2(include_top = False,\n",
        "                weights = 'imagenet',\n",
        "                input_shape = input_shape)\n",
        "    \n",
        "    for layer in conv_base.layers:\n",
        "        layer.trainable = False\n",
        "        \n",
        "    top_model = Flatten()(conv_base.output)\n",
        "    top_model = Dense(4096, activation='relu')(top_model)\n",
        "    top_model = Dropout(0.2)(top_model)\n",
        "    top_model = Dense(1000, activation='relu')(top_model)\n",
        "    top_model = Dropout(0.2)(top_model)\n",
        "    output_layer = Dense(n_classes, activation='softmax')(top_model)\n",
        "\n",
        "    model = Model(inputs = conv_base.input, outputs= output_layer, name='mobilenet_model')\n",
        "    model.compile(optimizer=optimizer, \n",
        "                    loss='categorical_crossentropy',\n",
        "                    metrics=['accuracy'])\n",
        "    return model\n",
        "\n",
        "def inceptionresnet_shallow(model_input: Tensor, optimizer) -> training.Model:\n",
        "    conv_base = InceptionResNetV2(include_top = False,\n",
        "                weights = 'imagenet',\n",
        "                input_shape = input_shape)\n",
        "    \n",
        "    for layer in conv_base.layers:\n",
        "        layer.trainable = False\n",
        "        \n",
        "    top_model = Flatten()(conv_base.output)\n",
        "    top_model = Dense(4096, activation='relu')(top_model)\n",
        "    top_model = Dropout(0.2)(top_model)\n",
        "    top_model = Dense(1000, activation='relu')(top_model)\n",
        "    top_model = Dropout(0.2)(top_model)\n",
        "    output_layer = Dense(n_classes, activation='softmax')(top_model)\n",
        "\n",
        "    model = Model(inputs = conv_base.input, outputs= output_layer, name='inceptionresnet_model')\n",
        "    model.compile(optimizer=optimizer, \n",
        "                    loss='categorical_crossentropy',\n",
        "                    metrics=['accuracy'])\n",
        "    return model\n",
        "\n",
        "\n",
        "\n",
        "\n",
        "\n",
        "def xception_shallow(model_input: Tensor, optimizer) -> training.Model:\n",
        "    conv_base = Xception(include_top = False,\n",
        "                weights = 'imagenet',\n",
        "                input_shape = input_shape)\n",
        "    \n",
        "    for layer in conv_base.layers:\n",
        "        layer.trainable = False\n",
        "        \n",
        "    top_model = Flatten()(conv_base.output)\n",
        "    top_model = Dense(4096, activation='relu')(top_model)\n",
        "    top_model = Dropout(0.2)(top_model)\n",
        "    top_model = Dense(1000, activation='relu')(top_model)\n",
        "    top_model = Dropout(0.2)(top_model)\n",
        "    output_layer = Dense(n_classes, activation='softmax')(top_model)\n",
        "\n",
        "    model = Model(inputs = conv_base.input, outputs= output_layer, name='xception_model')\n",
        "    model.compile(optimizer=optimizer, \n",
        "                    loss='categorical_crossentropy',\n",
        "                    metrics=['accuracy'])\n",
        "    return model\n",
        "\n",
        "def resnet50_shallow(model_input: Tensor, optimizer) -> training.Model:\n",
        "    conv_base = ResNet50(include_top = False,\n",
        "                weights = 'imagenet',\n",
        "                input_shape = input_shape)\n",
        "   \n",
        "    for layer in conv_base.layers:\n",
        "        layer.trainable = False\n",
        "       \n",
        "    top_model = Flatten()(conv_base.output)\n",
        "    top_model = Dense(4096, activation='relu')(top_model)\n",
        "    top_model = Dropout(0.2)(top_model)\n",
        "    top_model = Dense(1000, activation='relu')(top_model)\n",
        "    top_model = Dropout(0.2)(top_model)\n",
        "    output_layer = Dense(n_classes, activation='softmax')(top_model)\n",
        "   \n",
        "    model = Model(inputs = conv_base.input, outputs= output_layer, name='resnet50_model')\n",
        "    model.compile(optimizer=optimizer,\n",
        "                    loss='categorical_crossentropy',\n",
        "                    metrics=['accuracy'])\n",
        "    return model\n",
        "\n",
        "def nasnetlarge_shallow(model_input: Tensor, optimizer) -> training.Model:\n",
        "    conv_base = NASNetLarge(include_top = False,\n",
        "                weights = 'imagenet',\n",
        "                input_shape = input_shape)\n",
        "   \n",
        "    for layer in conv_base.layers:\n",
        "        layer.trainable = False\n",
        "       \n",
        "    top_model = Flatten()(conv_base.output)\n",
        "    top_model = Dense(4096, activation='relu')(top_model)\n",
        "    top_model = Dropout(0.2)(top_model)\n",
        "    top_model = Dense(1000, activation='relu')(top_model)\n",
        "    top_model = Dropout(0.2)(top_model)\n",
        "    output_layer = Dense(n_classes, activation='softmax')(top_model)\n",
        "   \n",
        "    model = Model(inputs = conv_base.input, outputs= output_layer, name='nasnetlarge_model')\n",
        "    model.compile(optimizer=optimizer,\n",
        "                    loss='categorical_crossentropy',\n",
        "                    metrics=['accuracy'])\n",
        "    return model\n",
        "\n",
        "def efficientnet_shallow(model_input: Tensor, optimizer) -> training.Model:\n",
        "    conv_base = EfficientNetV2L(include_top = False,\n",
        "                weights = 'imagenet',\n",
        "                input_shape = input_shape)\n",
        "   \n",
        "    for layer in conv_base.layers:\n",
        "        layer.trainable = False\n",
        "       \n",
        "    top_model = Flatten()(conv_base.output)\n",
        "    top_model = Dense(4096, activation='relu')(top_model)\n",
        "    top_model = Dropout(0.2)(top_model)\n",
        "    top_model = Dense(1000, activation='relu')(top_model)\n",
        "    top_model = Dropout(0.2)(top_model)\n",
        "    output_layer = Dense(n_classes, activation='softmax')(top_model)\n",
        "   \n",
        "    model = Model(inputs = conv_base.input, outputs= output_layer, name='efficientnet_model')\n",
        "    model.compile(optimizer=optimizer,\n",
        "                    loss='categorical_crossentropy',\n",
        "                    metrics=['accuracy'])\n",
        "   \n",
        "   \n",
        "    return model\n",
        "\n",
        "def densenet_shallow(model_input: Tensor, optimizer) -> training.Model:\n",
        "    conv_base = DenseNet201(include_top = False,\n",
        "                weights = 'imagenet',\n",
        "                input_shape = input_shape)\n",
        "   \n",
        "    for layer in conv_base.layers:\n",
        "        layer.trainable = False\n",
        "       \n",
        "    top_model = Flatten()(conv_base.output)\n",
        "    top_model = Dense(4096, activation='relu')(top_model)\n",
        "    top_model = Dropout(0.2)(top_model)\n",
        "    top_model = Dense(1000, activation='relu')(top_model)\n",
        "    top_model = Dropout(0.2)(top_model)\n",
        "    output_layer = Dense(n_classes, activation='softmax')(top_model)\n",
        "   \n",
        "    model = Model(inputs = conv_base.input, outputs= output_layer, name='densenet_model')\n",
        "    model.compile(optimizer=optimizer,\n",
        "                    loss='categorical_crossentropy',\n",
        "                    metrics=['accuracy'])\n",
        "    return model"
      ]
    },
    {
      "cell_type": "markdown",
      "metadata": {
        "id": "Ny4x4Sf0mcA2"
      },
      "source": [
        "# Medium"
      ]
    },
    {
      "cell_type": "code",
      "execution_count": 6,
      "metadata": {
        "id": "kG-Rg_oZmcA2"
      },
      "outputs": [],
      "source": [
        "\n",
        "def mobilenet_medium(model_input: Tensor, optimizer) -> training.Model:\n",
        "    conv_base = MobileNetV2(include_top = False,\n",
        "                weights = 'imagenet',\n",
        "                input_shape = input_shape)\n",
        "    \n",
        "    for layer in conv_base.layers:\n",
        "        layer.trainable = False\n",
        "        \n",
        "    top_model = Flatten()(conv_base.output)\n",
        "    top_model = Dense(1024, activation='relu')(top_model)\n",
        "    top_model = Dropout(0.2)(top_model)\n",
        "    top_model = Dense(512, activation='relu')(top_model)\n",
        "    top_model = Dropout(0.2)(top_model)\n",
        "    top_model = Dense(256, activation='relu')(top_model)\n",
        "    top_model = Dropout(0.2)(top_model)\n",
        "    output_layer = Dense(n_classes, activation='softmax')(top_model)\n",
        "\n",
        "    model = Model(inputs = conv_base.input, outputs= output_layer, name='mobilenet_model')\n",
        "    model.compile(optimizer=optimizer, \n",
        "                    loss='categorical_crossentropy',\n",
        "                    metrics=['accuracy'])\n",
        "    return model\n",
        "\n",
        "def xception_medium(model_input: Tensor, optimizer) -> training.Model:\n",
        "    conv_base = Xception(include_top = False,\n",
        "                weights = 'imagenet',\n",
        "                input_shape = input_shape)\n",
        "    \n",
        "    for layer in conv_base.layers:\n",
        "        layer.trainable = False\n",
        "        \n",
        "    top_model = Flatten()(conv_base.output)\n",
        "    top_model = Dense(1024, activation='relu')(top_model)\n",
        "    top_model = Dropout(0.2)(top_model)\n",
        "    top_model = Dense(512, activation='relu')(top_model)\n",
        "    top_model = Dropout(0.2)(top_model)\n",
        "    top_model = Dense(256, activation='relu')(top_model)\n",
        "    top_model = Dropout(0.2)(top_model)\n",
        "    output_layer = Dense(n_classes, activation='softmax')(top_model)\n",
        "\n",
        "    model = Model(inputs = conv_base.input, outputs= output_layer, name='xception_model')\n",
        "    model.compile(optimizer=optimizer, \n",
        "                    loss='categorical_crossentropy',\n",
        "                    metrics=['accuracy'])\n",
        "    return model\n",
        "\n",
        "def vgg19_medium(model_input: Tensor, optimizer) -> training.Model:\n",
        "    conv_base = VGG19(include_top = False,\n",
        "                weights = 'imagenet',\n",
        "                input_shape = input_shape)\n",
        "    \n",
        "    for layer in conv_base.layers:\n",
        "        layer.trainable = False\n",
        "        \n",
        "    top_model = Flatten()(conv_base.output)\n",
        "    top_model = Dense(1024, activation='relu')(top_model)\n",
        "    top_model = Dropout(0.2)(top_model)\n",
        "    top_model = Dense(512, activation='relu')(top_model)\n",
        "    top_model = Dropout(0.2)(top_model)\n",
        "    top_model = Dense(256, activation='relu')(top_model)\n",
        "    top_model = Dropout(0.2)(top_model)\n",
        "    output_layer = Dense(n_classes, activation='softmax')(top_model)\n",
        "\n",
        "    model = Model(inputs = conv_base.input, outputs= output_layer, name='vgg19_model')\n",
        "    model.compile(optimizer=optimizer, \n",
        "                    loss='categorical_crossentropy',\n",
        "                    metrics=['accuracy'])\n",
        "    return model\n",
        "\n",
        "def vgg16_medium(model_input: Tensor, optimizer) -> training.Model:\n",
        "    conv_base = VGG16(include_top = False,\n",
        "                weights = 'imagenet',\n",
        "                input_shape = input_shape)\n",
        "    \n",
        "    for layer in conv_base.layers:\n",
        "        layer.trainable = False\n",
        "        \n",
        "    top_model = Flatten()(conv_base.output)\n",
        "    top_model = Dense(1024, activation='relu')(top_model)\n",
        "    top_model = Dropout(0.2)(top_model)\n",
        "    top_model = Dense(512, activation='relu')(top_model)\n",
        "    top_model = Dropout(0.2)(top_model)\n",
        "    top_model = Dense(256, activation='relu')(top_model)\n",
        "    top_model = Dropout(0.2)(top_model)\n",
        "    output_layer = Dense(n_classes, activation='softmax')(top_model)\n",
        "\n",
        "    model = Model(inputs = conv_base.input, outputs= output_layer, name='vgg16_model')\n",
        "    model.compile(optimizer=optimizer, \n",
        "                    loss='categorical_crossentropy',\n",
        "                    metrics=['accuracy'])\n",
        "    return model\n",
        "\n",
        "\n",
        "\n",
        "def inceptionresnet_medium(model_input: Tensor, optimizer) -> training.Model:\n",
        "    conv_base = InceptionResNetV2(include_top = False,\n",
        "                weights = 'imagenet',\n",
        "                input_shape = input_shape)\n",
        "    \n",
        "    for layer in conv_base.layers:\n",
        "        layer.trainable = False\n",
        "        \n",
        "    top_model = Flatten()(conv_base.output)\n",
        "    top_model = Dense(1024, activation='relu')(top_model)\n",
        "    top_model = Dropout(0.2)(top_model)\n",
        "    top_model = Dense(512, activation='relu')(top_model)\n",
        "    top_model = Dropout(0.2)(top_model)\n",
        "    top_model = Dense(256, activation='relu')(top_model)\n",
        "    top_model = Dropout(0.2)(top_model)\n",
        "    output_layer = Dense(n_classes, activation='softmax')(top_model)\n",
        "\n",
        "    model = Model(inputs = conv_base.input, outputs= output_layer, name='inceptionresnet_model')\n",
        "    model.compile(optimizer=optimizer, \n",
        "                    loss='categorical_crossentropy',\n",
        "                    metrics=['accuracy'])\n",
        "    return model\n",
        "\n",
        "\n",
        "def resnet50_medium(model_input: Tensor, optimizer) -> training.Model:\n",
        "    conv_base = ResNet50(include_top = False,\n",
        "                weights = 'imagenet',\n",
        "                input_shape = input_shape)\n",
        "   \n",
        "    for layer in conv_base.layers:\n",
        "        layer.trainable = False\n",
        "       \n",
        "    top_model = Flatten()(conv_base.output)\n",
        "    top_model = Dense(1024, activation='relu')(top_model)\n",
        "    top_model = Dropout(0.2)(top_model)\n",
        "    top_model = Dense(512, activation='relu')(top_model)\n",
        "    top_model = Dropout(0.2)(top_model)\n",
        "    top_model = Dense(256, activation='relu')(top_model)\n",
        "    top_model = Dropout(0.2)(top_model)\n",
        "    output_layer = Dense(n_classes, activation='softmax')(top_model)\n",
        "   \n",
        "    model = Model(inputs = conv_base.input, outputs= output_layer, name='resnet50_model')\n",
        "    model.compile(optimizer=optimizer,\n",
        "                    loss='categorical_crossentropy',\n",
        "                    metrics=['accuracy'])\n",
        "    return model\n",
        "\n",
        "def nasnetlarge_medium(model_input: Tensor, optimizer) -> training.Model:\n",
        "    conv_base = NASNetLarge(include_top = False,\n",
        "                weights = 'imagenet',\n",
        "                input_shape = input_shape)\n",
        "   \n",
        "    for layer in conv_base.layers:\n",
        "        layer.trainable = False\n",
        "       \n",
        "    top_model = Flatten()(conv_base.output)\n",
        "    top_model = Dense(1024, activation='relu')(top_model)\n",
        "    top_model = Dropout(0.2)(top_model)\n",
        "    top_model = Dense(512, activation='relu')(top_model)\n",
        "    top_model = Dropout(0.2)(top_model)\n",
        "    top_model = Dense(256, activation='relu')(top_model)\n",
        "    top_model = Dropout(0.2)(top_model)\n",
        "    output_layer = Dense(n_classes, activation='softmax')(top_model)\n",
        "   \n",
        "    model = Model(inputs = conv_base.input, outputs= output_layer, name='nasnetlarge_model')\n",
        "    model.compile(optimizer=optimizer,\n",
        "                    loss='categorical_crossentropy',\n",
        "                    metrics=['accuracy'])\n",
        "    return model\n",
        "\n",
        "def efficientnet_medium(model_input: Tensor, optimizer) -> training.Model:\n",
        "    conv_base = EfficientNetV2L(include_top = False,\n",
        "                weights = 'imagenet',\n",
        "                input_shape = input_shape)\n",
        "   \n",
        "    for layer in conv_base.layers:\n",
        "        layer.trainable = False\n",
        "       \n",
        "    top_model = Flatten()(conv_base.output)\n",
        "    top_model = Dense(1024, activation='relu')(top_model)\n",
        "    top_model = Dropout(0.2)(top_model)\n",
        "    top_model = Dense(512, activation='relu')(top_model)\n",
        "    top_model = Dropout(0.2)(top_model)\n",
        "    top_model = Dense(256, activation='relu')(top_model)\n",
        "    top_model = Dropout(0.2)(top_model)\n",
        "    output_layer = Dense(n_classes, activation='softmax')(top_model)\n",
        "   \n",
        "    model = Model(inputs = conv_base.input, outputs= output_layer, name='efficientnet_model')\n",
        "    model.compile(optimizer=optimizer,\n",
        "                    loss='categorical_crossentropy',\n",
        "                    metrics=['accuracy'])\n",
        "    return model\n",
        "\n",
        "def densenet_medium(model_input: Tensor, optimizer) -> training.Model:\n",
        "    conv_base = DenseNet201(include_top = False,\n",
        "                weights = 'imagenet',\n",
        "                input_shape = input_shape)\n",
        "   \n",
        "    for layer in conv_base.layers:\n",
        "        layer.trainable = False\n",
        "       \n",
        "    top_model = Flatten()(conv_base.output)\n",
        "    top_model = Dense(1024, activation='relu')(top_model)\n",
        "    top_model = Dropout(0.2)(top_model)\n",
        "    top_model = Dense(512, activation='relu')(top_model)\n",
        "    top_model = Dropout(0.2)(top_model)\n",
        "    top_model = Dense(256, activation='relu')(top_model)\n",
        "    top_model = Dropout(0.2)(top_model)\n",
        "    output_layer = Dense(n_classes, activation='softmax')(top_model)\n",
        "   \n",
        "    model = Model(inputs = conv_base.input, outputs= output_layer, name='densenet_model')\n",
        "    model.compile(optimizer=optimizer,\n",
        "                    loss='categorical_crossentropy',\n",
        "                    metrics=['accuracy'])\n",
        "    return model\n"
      ]
    },
    {
      "cell_type": "markdown",
      "metadata": {
        "id": "rbWIvTNpmcA3"
      },
      "source": [
        "# DNN"
      ]
    },
    {
      "cell_type": "code",
      "execution_count": 7,
      "metadata": {
        "id": "hvSyIxQOmcA3"
      },
      "outputs": [],
      "source": [
        "def xception_dnn(model_input: Tensor, optimizer) -> training.Model:\n",
        "    conv_base = Xception(include_top = False,\n",
        "                weights = 'imagenet',\n",
        "                input_shape = input_shape)\n",
        "    \n",
        "    for layer in conv_base.layers:\n",
        "        layer.trainable = False\n",
        "        \n",
        "    top_model = Flatten()(conv_base.output)\n",
        "    top_model = Dense(4096, activation='relu')(top_model)\n",
        "    top_model = Dropout(0.2)(top_model)\n",
        "    top_model = Dense(4096, activation='relu')(top_model)\n",
        "    top_model = Dropout(0.2)(top_model)\n",
        "    top_model = Dense(1000, activation='relu')(top_model)\n",
        "    top_model = Dropout(0.2)(top_model)\n",
        "    top_model = Dense(512, activation='relu')(top_model)\n",
        "    top_model = Dropout(0.2)(top_model)\n",
        "    top_model = Dense(256, activation='relu')(top_model)\n",
        "    top_model = Dropout(0.2)(top_model)\n",
        "    output_layer = Dense(n_classes, activation='softmax')(top_model)\n",
        "\n",
        "    model = Model(inputs = conv_base.input, outputs= output_layer, name='xception_model')\n",
        "    model.compile(optimizer=optimizer, \n",
        "                    loss='categorical_crossentropy',\n",
        "                    metrics=['accuracy'])\n",
        "    return model\n",
        "\n",
        "def vgg19_dnn(model_input: Tensor, optimizer) -> training.Model:\n",
        "    conv_base = VGG19(include_top = False,\n",
        "                weights = 'imagenet',\n",
        "                input_shape = input_shape)\n",
        "    \n",
        "    for layer in conv_base.layers:\n",
        "        layer.trainable = False\n",
        "        \n",
        "    top_model = Flatten()(conv_base.output)\n",
        "    top_model = Dense(4096, activation='relu')(top_model)\n",
        "    top_model = Dropout(0.2)(top_model)\n",
        "    top_model = Dense(4096, activation='relu')(top_model)\n",
        "    top_model = Dropout(0.2)(top_model)\n",
        "    top_model = Dense(1000, activation='relu')(top_model)\n",
        "    top_model = Dropout(0.2)(top_model)\n",
        "    top_model = Dense(512, activation='relu')(top_model)\n",
        "    top_model = Dropout(0.2)(top_model)\n",
        "    top_model = Dense(256, activation='relu')(top_model)\n",
        "    top_model = Dropout(0.2)(top_model)\n",
        "    output_layer = Dense(n_classes, activation='softmax')(top_model)\n",
        "\n",
        "    model = Model(inputs = conv_base.input, outputs= output_layer, name='vgg19_model')\n",
        "    model.compile(optimizer=optimizer, \n",
        "                    loss='categorical_crossentropy',\n",
        "                    metrics=['accuracy'])\n",
        "    return model\n",
        "\n",
        "def vgg16_dnn(model_input: Tensor, optimizer) -> training.Model:\n",
        "    conv_base = VGG16(include_top = False,\n",
        "                weights = 'imagenet',\n",
        "                input_shape = input_shape)\n",
        "    \n",
        "    for layer in conv_base.layers:\n",
        "        layer.trainable = False\n",
        "        \n",
        "    top_model = Flatten()(conv_base.output)\n",
        "    top_model = Dense(4096, activation='relu')(top_model)\n",
        "    top_model = Dropout(0.2)(top_model)\n",
        "    top_model = Dense(4096, activation='relu')(top_model)\n",
        "    top_model = Dropout(0.2)(top_model)\n",
        "    top_model = Dense(1000, activation='relu')(top_model)\n",
        "    top_model = Dropout(0.2)(top_model)\n",
        "    top_model = Dense(512, activation='relu')(top_model)\n",
        "    top_model = Dropout(0.2)(top_model)\n",
        "    top_model = Dense(256, activation='relu')(top_model)\n",
        "    top_model = Dropout(0.2)(top_model)\n",
        "    output_layer = Dense(n_classes, activation='softmax')(top_model)\n",
        "\n",
        "    model = Model(inputs = conv_base.input, outputs= output_layer, name='vgg16_model')\n",
        "    model.compile(optimizer=optimizer, \n",
        "                    loss='categorical_crossentropy',\n",
        "                    metrics=['accuracy'])\n",
        "    return model\n",
        "\n",
        "\n",
        "\n",
        "def mobilenet_dnn(model_input: Tensor, optimizer) -> training.Model:\n",
        "    conv_base = MobileNetV2(include_top = False,\n",
        "                weights = 'imagenet',\n",
        "                input_shape = input_shape)\n",
        "    \n",
        "    for layer in conv_base.layers:\n",
        "        layer.trainable = False\n",
        "        \n",
        "    top_model = Flatten()(conv_base.output)\n",
        "    top_model = Dense(4096, activation='relu')(top_model)\n",
        "    top_model = Dropout(0.2)(top_model)\n",
        "    top_model = Dense(4096, activation='relu')(top_model)\n",
        "    top_model = Dropout(0.2)(top_model)\n",
        "    top_model = Dense(1000, activation='relu')(top_model)\n",
        "    top_model = Dropout(0.2)(top_model)\n",
        "    top_model = Dense(512, activation='relu')(top_model)\n",
        "    top_model = Dropout(0.2)(top_model)\n",
        "    top_model = Dense(256, activation='relu')(top_model)\n",
        "    top_model = Dropout(0.2)(top_model)\n",
        "    output_layer = Dense(n_classes, activation='softmax')(top_model)\n",
        "\n",
        "    model = Model(inputs = conv_base.input, outputs= output_layer, name='mobilenet_model')\n",
        "    model.compile(optimizer=optimizer, \n",
        "                    loss='categorical_crossentropy',\n",
        "                    metrics=['accuracy'])\n",
        "    return model\n",
        "\n",
        "\n",
        "def inceptionresnet_dnn(model_input: Tensor, optimizer) -> training.Model:\n",
        "    conv_base = InceptionResNetV2(include_top = False,\n",
        "                weights = 'imagenet',\n",
        "                input_shape = input_shape)\n",
        "    \n",
        "    for layer in conv_base.layers:\n",
        "        layer.trainable = False\n",
        "        \n",
        "    top_model = Flatten()(conv_base.output)\n",
        "    top_model = Dense(4096, activation='relu')(top_model)\n",
        "    top_model = Dropout(0.2)(top_model)\n",
        "    top_model = Dense(4096, activation='relu')(top_model)\n",
        "    top_model = Dropout(0.2)(top_model)\n",
        "    top_model = Dense(1000, activation='relu')(top_model)\n",
        "    top_model = Dropout(0.2)(top_model)\n",
        "    top_model = Dense(512, activation='relu')(top_model)\n",
        "    top_model = Dropout(0.2)(top_model)\n",
        "    top_model = Dense(256, activation='relu')(top_model)\n",
        "    top_model = Dropout(0.2)(top_model)\n",
        "    output_layer = Dense(n_classes, activation='softmax')(top_model)\n",
        "\n",
        "    model = Model(inputs = conv_base.input, outputs= output_layer, name='inceptionresnet_model')\n",
        "    model.compile(optimizer=optimizer, \n",
        "                    loss='categorical_crossentropy',\n",
        "                    metrics=['accuracy'])\n",
        "    return model\n",
        "\n",
        "\n",
        "def nasnetlarge_dnn(model_input: Tensor, optimizer) -> training.Model:\n",
        "    conv_base = NASNetLarge(include_top = False,\n",
        "                weights = 'imagenet',\n",
        "                input_shape = input_shape)\n",
        "   \n",
        "    for layer in conv_base.layers:\n",
        "        layer.trainable = False\n",
        "       \n",
        "    top_model = Flatten()(conv_base.output)\n",
        "    top_model = Dense(4096, activation='relu')(top_model)\n",
        "    top_model = Dropout(0.2)(top_model)\n",
        "    top_model = Dense(4096, activation='relu')(top_model)\n",
        "    top_model = Dropout(0.2)(top_model)\n",
        "    top_model = Dense(1000, activation='relu')(top_model)\n",
        "    top_model = Dropout(0.2)(top_model)\n",
        "    top_model = Dense(512, activation='relu')(top_model)\n",
        "    top_model = Dropout(0.2)(top_model)\n",
        "    top_model = Dense(256, activation='relu')(top_model)\n",
        "    top_model = Dropout(0.2)(top_model)\n",
        "    output_layer = Dense(n_classes, activation='softmax')(top_model)\n",
        "   \n",
        "    model = Model(inputs = conv_base.input, outputs= output_layer, name='nasnetlarge_model')\n",
        "    model.compile(optimizer=optimizer,\n",
        "                    loss='categorical_crossentropy',\n",
        "                    metrics=['accuracy'])\n",
        "    return model\n",
        "\n",
        "def resnet50_dnn(model_input: Tensor, optimizer) -> training.Model:\n",
        "    conv_base = ResNet50(include_top = False,\n",
        "                weights = 'imagenet',\n",
        "                input_shape = input_shape)\n",
        "   \n",
        "    for layer in conv_base.layers:\n",
        "        layer.trainable = False\n",
        "       \n",
        "    top_model = Flatten()(conv_base.output)\n",
        "    top_model = Dense(4096, activation='relu')(top_model)\n",
        "    top_model = Dropout(0.2)(top_model)\n",
        "    top_model = Dense(4096, activation='relu')(top_model)\n",
        "    top_model = Dropout(0.2)(top_model)\n",
        "    top_model = Dense(1000, activation='relu')(top_model)\n",
        "    top_model = Dropout(0.2)(top_model)\n",
        "    top_model = Dense(512, activation='relu')(top_model)\n",
        "    top_model = Dropout(0.2)(top_model)\n",
        "    top_model = Dense(256, activation='relu')(top_model)\n",
        "    top_model = Dropout(0.2)(top_model)\n",
        "    output_layer = Dense(n_classes, activation='softmax')(top_model)\n",
        "   \n",
        "    model = Model(inputs = conv_base.input, outputs= output_layer, name='resnet50_model')\n",
        "    model.compile(optimizer=optimizer,\n",
        "                    loss='categorical_crossentropy',\n",
        "                    metrics=['accuracy'])\n",
        "    return model\n",
        "\n",
        "def efficientnet_dnn(model_input: Tensor, optimizer) -> training.Model:\n",
        "    conv_base = EfficientNetV2L(include_top = False,\n",
        "                weights = 'imagenet',\n",
        "                input_shape = input_shape)\n",
        "   \n",
        "    for layer in conv_base.layers:\n",
        "        layer.trainable = False\n",
        "       \n",
        "    top_model = Flatten()(conv_base.output)\n",
        "    top_model = Dense(4096, activation='relu')(top_model)\n",
        "    top_model = Dropout(0.2)(top_model)\n",
        "    top_model = Dense(4096, activation='relu')(top_model)\n",
        "    top_model = Dropout(0.2)(top_model)\n",
        "    top_model = Dense(1000, activation='relu')(top_model)\n",
        "    top_model = Dropout(0.2)(top_model)\n",
        "    top_model = Dense(512, activation='relu')(top_model)\n",
        "    top_model = Dropout(0.2)(top_model)\n",
        "    top_model = Dense(256, activation='relu')(top_model)\n",
        "    top_model = Dropout(0.2)(top_model)\n",
        "    output_layer = Dense(n_classes, activation='softmax')(top_model)\n",
        "   \n",
        "    model = Model(inputs = conv_base.input, outputs= output_layer, name='efficientnet_model')\n",
        "    model.compile(optimizer=optimizer,\n",
        "                    loss='categorical_crossentropy',\n",
        "                    metrics=['accuracy'])\n",
        "    return model\n",
        "\n",
        "\n",
        "def densenet_dnn(model_input: Tensor, optimizer) -> training.Model:\n",
        "    conv_base = DenseNet201(include_top = False,\n",
        "                weights = 'imagenet',\n",
        "                input_shape = input_shape)\n",
        "   \n",
        "    for layer in conv_base.layers:\n",
        "        layer.trainable = False\n",
        "       \n",
        "    top_model = Flatten()(conv_base.output)\n",
        "    top_model = Dense(4096, activation='relu')(top_model)\n",
        "    top_model = Dropout(0.2)(top_model)\n",
        "    top_model = Dense(4096, activation='relu')(top_model)\n",
        "    top_model = Dropout(0.2)(top_model)\n",
        "    top_model = Dense(1000, activation='relu')(top_model)\n",
        "    top_model = Dropout(0.2)(top_model)\n",
        "    top_model = Dense(512, activation='relu')(top_model)\n",
        "    top_model = Dropout(0.2)(top_model)\n",
        "    top_model = Dense(256, activation='relu')(top_model)\n",
        "    top_model = Dropout(0.2)(top_model)\n",
        "    output_layer = Dense(n_classes, activation='softmax')(top_model)\n",
        "   \n",
        "    model = Model(inputs = conv_base.input, outputs= output_layer, name='densenet_model')\n",
        "    model.compile(optimizer=optimizer,\n",
        "                    loss='categorical_crossentropy',\n",
        "                    metrics=['accuracy'])\n",
        "    return model\n",
        "\n"
      ]
    },
    {
      "cell_type": "code",
      "execution_count": 8,
      "metadata": {
        "id": "qx5wGA3bmcA4"
      },
      "outputs": [],
      "source": [
        "vgg16_model_shallow = vgg16_shallow(model_input, optimizer)\n",
        "vgg16_model_shallow.load_weights('tl_model_nonprocessed_vgg16_shallow.weights.best.hdf5')\n",
        "\n",
        "vgg19_model_shallow = vgg19_shallow(model_input, optimizer)\n",
        "vgg19_model_shallow.load_weights('tl_model_nonprocessed_vgg19_shallow.weights.best.hdf5')\n",
        "\n",
        "\n",
        "mobilenet_model_shallow = mobilenet_shallow(model_input, optimizer)\n",
        "mobilenet_model_shallow.load_weights('tl_model_nonprocessed_mobilenet_shallow.weights.best.hdf5')\n",
        "\n",
        "xception_model_shallow = xception_shallow(model_input, optimizer)\n",
        "xception_model_shallow.load_weights('tl_model_nonprocessed_xception_shallow.weights.best.hdf5')\n",
        "\n",
        "efficientnet_model_shallow = efficientnet_shallow(model_input, optimizer)\n",
        "efficientnet_model_shallow.load_weights('tl_model_nonprocessed_efficientnet_shallow.weights.best.hdf5')\n",
        "\n",
        "resnet_model_shallow = resnet50_shallow(model_input, optimizer)\n",
        "resnet_model_shallow.load_weights('tl_model_nonprocessed_resnet50_shallow.weights.best.hdf5')\n",
        "\n",
        "densenet_model_shallow = densenet_shallow(model_input, optimizer)\n",
        "densenet_model_shallow.load_weights('tl_model_nonprocessed_densenet_shallow.weights.best.hdf5')\n",
        "\n",
        "nasnetlarge_model_shallow = nasnetlarge_shallow(model_input, optimizer)\n",
        "nasnetlarge_model_shallow.load_weights('tl_model_nonprocessed_nasnetlarge_shallow.weights.best.hdf5')\n",
        "\n",
        "inceptionresnet_model_shallow = inceptionresnet_shallow(model_input, optimizer)\n",
        "inceptionresnet_model_shallow.load_weights('tl_model_nonprocessed_inceptionresnet_shallow.weights.best.hdf5')\n",
        "\n",
        "####################################### medium ############################################\n",
        "\n",
        "vgg16_model_medium = vgg16_medium(model_input, optimizer)\n",
        "vgg16_model_medium.load_weights('tl_model_nonprocessed_vgg16_medium.weights.best.hdf5')\n",
        "\n",
        "vgg19_model_medium = vgg19_medium(model_input, optimizer)\n",
        "vgg19_model_medium.load_weights('tl_model_nonprocessed_vgg19_medium.weights.best.hdf5')\n",
        "\n",
        "\n",
        "\n",
        "mobilenet_model_medium = mobilenet_medium(model_input, optimizer)\n",
        "mobilenet_model_medium.load_weights('tl_model_nonprocessed_mobilenet_medium.weights.best.hdf5')\n",
        "\n",
        "xception_model_medium = xception_medium(model_input, optimizer)\n",
        "xception_model_medium.load_weights('tl_model_nonprocessed_xception_medium.weights.best.hdf5')\n",
        "\n",
        "efficientnet_model_medium = efficientnet_medium(model_input, optimizer)\n",
        "efficientnet_model_medium.load_weights('tl_model_nonprocessed_efficientnet_medium.weights.best.hdf5')\n",
        "\n",
        "resnet_model_medium = resnet50_medium(model_input, optimizer)\n",
        "resnet_model_medium.load_weights('tl_model_nonprocessed_resnet50_medium.weights.best.hdf5')\n",
        "\n",
        "densenet_model_medium = densenet_medium(model_input, optimizer)\n",
        "densenet_model_medium.load_weights('tl_model_nonprocessed_densenet_medium.weights.best.hdf5')\n",
        "\n",
        "nasnetlarge_model_medium = nasnetlarge_medium(model_input, optimizer)\n",
        "nasnetlarge_model_medium.load_weights('tl_model_nonprocessed_nasnetlarge_medium.weights.best.hdf5')\n",
        "\n",
        "inceptionresnet_model_medium = inceptionresnet_medium(model_input, optimizer)\n",
        "inceptionresnet_model_medium.load_weights('tl_model_nonprocessed_inceptionresnet_medium.weights.best.hdf5')\n",
        "\n",
        "\n",
        "################################## dnn ############################\n",
        "vgg16_model_dnn = vgg16_dnn(model_input, optimizer)\n",
        "vgg16_model_dnn.load_weights('tl_model_nonprocessed_vgg16_dnn.weights.best.hdf5')\n",
        "\n",
        "vgg19_model_dnn = vgg19_dnn(model_input, optimizer)\n",
        "vgg19_model_dnn.load_weights('tl_model_nonprocessed_vgg19_dnn.weights.best.hdf5')\n",
        "\n",
        "\n",
        "mobilenet_model_dnn = mobilenet_dnn(model_input, optimizer)\n",
        "mobilenet_model_dnn.load_weights('tl_model_nonprocessed_mobilenet_dnn.weights.best.hdf5')\n",
        "\n",
        "\n",
        "xception_model_dnn = xception_dnn(model_input, optimizer)\n",
        "xception_model_dnn.load_weights('tl_model_nonprocessed_xception_dnn.weights.best.hdf5')\n",
        "\n",
        "efficientnet_model_dnn = efficientnet_dnn(model_input, optimizer)\n",
        "efficientnet_model_dnn.load_weights('tl_model_nonprocessed_efficientnet_dnn.weights.best.hdf5')\n",
        "\n",
        "resnet_model_dnn = resnet50_dnn(model_input, optimizer)\n",
        "resnet_model_dnn.load_weights('tl_model_nonprocessed_resnet50_dnn.weights.best.hdf5')\n",
        "\n",
        "densenet_model_dnn = densenet_dnn(model_input, optimizer)\n",
        "densenet_model_dnn.load_weights('tl_model_nonprocessed_densenet_dnn.weights.best.hdf5')\n",
        "\n",
        "nasnetlarge_model_dnn = nasnetlarge_dnn(model_input, optimizer)\n",
        "nasnetlarge_model_dnn.load_weights('tl_model_nonprocessed_nasnetlarge_dnn.weights.best.hdf5')\n",
        "\n",
        "inceptionresnet_model_dnn = inceptionresnet_dnn(model_input, optimizer)\n",
        "inceptionresnet_model_dnn.load_weights('tl_model_nonprocessed_inceptionresnet_dnn.weights.best.hdf5')\n"
      ]
    },
    {
      "cell_type": "code",
      "execution_count": 9,
      "metadata": {
        "id": "MGO7cuKdmcA4"
      },
      "outputs": [],
      "source": [
        "class GeneticAlgorithm:\n",
        "    def __init__(self, \n",
        "                 n_genes,\n",
        "                 n_iterations,\n",
        "                 lchrom, \n",
        "                 pcross, \n",
        "                 pmutation, \n",
        "                 crossover_type, \n",
        "                 mutation_type, \n",
        "                 selection_type, \n",
        "                 cut_point,\n",
        "                 popsize, \n",
        "                 n_elites,\n",
        "                 models,\n",
        "                 n_classes,\n",
        "                 traingen,\n",
        "                 validgen,\n",
        "                 n_steps,\n",
        "                 n_val_steps,\n",
        "                 n_epochs,\n",
        "                 random_state = 123):\n",
        "        \n",
        "\n",
        "        self.n_genes = n_genes\n",
        "        self.lchrom = lchrom\n",
        "        self.popsize = popsize\n",
        "        self.pcross = pcross\n",
        "        self.pmutation = pmutation\n",
        "        self.crossover_type = crossover_type\n",
        "        self.mutation_type = mutation_type\n",
        "        self.selection_type = selection_type\n",
        "        self.random_state = random_state\n",
        "        self.n_iterations = n_iterations\n",
        "        self.n_elites = n_elites\n",
        "        self.best_fitness_evolution = []\n",
        "        self.cut_point = cut_point\n",
        "        self.models = models\n",
        "        self.n_classes = n_classes\n",
        "        self.traingen = traingen\n",
        "        self.validgen = validgen\n",
        "        self.batch_size = 32\n",
        "        self.input_shape = (32, 32, 3)\n",
        "        self.n_steps = n_steps\n",
        "        self.n_val_steps = n_val_steps\n",
        "        self.n_epochs = n_epochs\n",
        "    \n",
        "        pop = []\n",
        "        while (len(pop) < self.popsize):\n",
        "            chromosome = np.random.randint(2, size= self.n_genes)\n",
        "            if (sum(chromosome[:self.cut_point]) > 0 and sum(chromosome[self.cut_point:]) == 1 ):\n",
        "                pop.append(chromosome)\n",
        "\n",
        "            \n",
        "        # Convert pop to list of solutions\n",
        "        self.population = [tuple(x) for x in pop]\n",
        "\n",
        "        \n",
        "        \n",
        "        \n",
        "    def fitness_func(self, solution, cut_point):\n",
        "        \n",
        "        models = []\n",
        "        \n",
        "        input_shape = (224, 224, 3)\n",
        "        model_input = Input(shape=input_shape)\n",
        "        \n",
        "        # first, define the three meta learners\n",
        "        \n",
        "        for i in range(cut_point, len(solution)):\n",
        "            if (solution[i]):\n",
        "           \n",
        "                if i == 7:\n",
        "                    # 1. shallow fully connected layers\n",
        "                    for j in range(cut_point):\n",
        "                        if (solution[j]):\n",
        "                            if j == 0:\n",
        "                                models.append(vgg16_model_shallow)\n",
        "                           \n",
        "                           \n",
        "                            if j == 1:\n",
        "                                models.append(vgg19_model_shallow)\n",
        "                           \n",
        "                           \n",
        "                            if j == 2:\n",
        "                                models.append(xception_model_shallow)\n",
        "                           \n",
        "                            if j == 3:\n",
        "                                models.append(mobilenet_model_shallow)\n",
        "\n",
        "                            if j == 4:\n",
        "                                models.append(resnet_model_shallow)\n",
        "\n",
        "                            if j == 5:\n",
        "                                models.append(efficientnet_model_shallow)\n",
        "                            if j == 6:\n",
        "                                models.append(nasnetlarge_model_shallow)\n",
        "\n",
        "                            # if j == 7:\n",
        "                            #     models.append(densenet_model_shallow)\n",
        "\n",
        "                            # if j ==8:\n",
        "                            #     models.append(inceptionresnet_model_shallow)\n",
        "                           \n",
        "               \n",
        "                if i == 8:\n",
        "                   \n",
        "                    # 2. medium size fully connected layers\n",
        "                    for j in range(cut_point):\n",
        "                        if (solution[j]):\n",
        "                            if j == 0:\n",
        "                                models.append(vgg16_model_medium)\n",
        "                               \n",
        "                               \n",
        "                            if j == 1:\n",
        "                                models.append(vgg19_model_medium)\n",
        "                           \n",
        "                               \n",
        "                            if j == 2:\n",
        "                                models.append(xception_model_medium)\n",
        "                           \n",
        "                            if j == 3:\n",
        "                                models.append(mobilenet_model_medium)\n",
        "\n",
        "                            if j == 4:\n",
        "                                models.append(resnet_model_medium)\n",
        "\n",
        "                            if j == 5:\n",
        "                                models.append(efficientnet_model_medium)\n",
        "                            if j == 6:\n",
        "                                models.append(nasnetlarge_model_medium)\n",
        "\n",
        "                            # if j == 7:\n",
        "                            #     models.append(densenet_model_medium)\n",
        "\n",
        "                            # if j ==8:\n",
        "                            #     models.append(inceptionresnet_model_medium)\n",
        "                   \n",
        "                   \n",
        "                if i == 9:\n",
        "                    # 3. DNN FC\n",
        "                    for j in range(cut_point):\n",
        "\n",
        "                        if (solution[j]):\n",
        "\n",
        "                            if j == 0:\n",
        "                                models.append(vgg16_model_dnn)\n",
        "                                   \n",
        "                                   \n",
        "                            if j == 1:\n",
        "                                models.append(vgg19_model_dnn)\n",
        "                           \n",
        "                           \n",
        "                            if j == 2:\n",
        "                                models.append(xception_model_dnn)\n",
        "\n",
        "                            if j == 3:\n",
        "                                models.append(mobilenet_model_dnn)\n",
        "\n",
        "                            if j == 4:\n",
        "                                models.append(resnet_model_dnn)\n",
        "\n",
        "                            if j == 5:\n",
        "                                models.append(efficientnet_model_dnn)\n",
        "                            if j == 6:\n",
        "                                models.append(nasnetlarge_model_dnn)\n",
        "\n",
        "                            # if j == 7:\n",
        "                            #     models.append(densenet_model_dnn)\n",
        "\n",
        "                            # if j ==8:\n",
        "                            #     models.append(inceptionresnet_model_dnn)\n",
        "\n",
        "        model_input = Input(shape=(224, 224, 3))\n",
        "        model_outputs = [model(model_input) for model in models]\n",
        "        ensemble_output = Average()(model_outputs)\n",
        "        ensemble_model = Model(inputs=model_input, outputs=ensemble_output, name='ensemble')\n",
        "\n",
        "        \n",
        "        optim_1 = Adam(learning_rate=0.001)\n",
        "\n",
        "        \n",
        "        \n",
        "        ensemble_model.compile(optimizer=optim_1, \n",
        "                  loss='binary_crossentropy',\n",
        "                  metrics=['accuracy'])\n",
        "        result = ensemble_model.evaluate(validgen)\n",
        "        \n",
        "        \n",
        "        return result[1]\n",
        "\n",
        "\n",
        "    def get_fitness_scores(self):\n",
        "        scores = [self.fitness_func(sol, self.cut_point) for sol in self.population]\n",
        "        return np.array(scores)\n",
        "\n",
        "    def __append_best_score(self, scores):\n",
        "        best_score = np.max(scores)\n",
        "        self.best_fitness_evolution.append(best_score)\n",
        "        return 'Ok'\n",
        "    \n",
        "    def __ranking_selection(self, scores):\n",
        "        ind = np.argsort(scores)\n",
        "\n",
        "        s = sum(ind)\n",
        "        t = np.random.rand() * s\n",
        "        partial_sum = 0\n",
        "        i=0\n",
        "        while(partial_sum <t and i <len(scores)):\n",
        "            partial_sum += scores[i]\n",
        "\n",
        "        selected = i\n",
        "        return selected \n",
        "    \n",
        "    def __roulette_selection(self, scores):\n",
        "        s = sum(scores)\n",
        "        t = np.random.rand() * s\n",
        "        partial_sum = 0\n",
        "        i=0\n",
        "        while(partial_sum <t and i <len(scores)):\n",
        "            partial_sum += scores[i]\n",
        "\n",
        "        selected = i\n",
        "        return selected\n",
        "\n",
        "    def select(self, scores, selection_type):\n",
        "\n",
        "        if selection_type not in ['ranking', 'roulette']:\n",
        "            raise ValueError('Type should be ranking or tournament')\n",
        "\n",
        "        if selection_type == 'ranking':\n",
        "            ind = self.__ranking_selection(scores)\n",
        "        elif selection_type == 'roulette':\n",
        "            ind = self.__roulette_selection(scores)\n",
        "        else:\n",
        "            pass\n",
        "        return ind\n",
        "\n",
        "    def flip(self, p):\n",
        "        return 1 if np.random.rand() < p else 0\n",
        "    \n",
        "    def format_func(self, value):\n",
        "        return \"%.3f\" % value\n",
        "\n",
        "    def __crossover(self, \n",
        "                    parent1, \n",
        "                    parent2, \n",
        "                    crossover_type,\n",
        "                    pcross,\n",
        "                    lchrom,\n",
        "                    mutation_type,\n",
        "                    pmutation):\n",
        "        \n",
        "        if crossover_type not in ['uniform', 'one_point', 'two_point']:\n",
        "                raise ValueError('crossover_type should be one of uniform, one_point or multi_point')\n",
        "\n",
        "            \n",
        "        if self.flip(pcross):\n",
        "            \n",
        "            if crossover_type == 'one_point':\n",
        "                index = np.random.choice(range(1, lchrom)) \n",
        "\n",
        "                parent1 = list(parent1)\n",
        "                parent2 = list(parent2)\n",
        "\n",
        "                child1 = self.__mutation(parent1[:index] + parent2[index:], mutation_type, pmutation)\n",
        "                child2 = self.__mutation(parent2[:index] + parent1[index:] , mutation_type, pmutation)\n",
        "                children = [child1, child2]\n",
        "            elif crossover_type == 'two_point':\n",
        "                point1 = np.random.choice(range(1, lchrom)) \n",
        "                point2 = np.random.choice(point1, range(lchrom))\n",
        "                child1 = self.__mutation(parent1[:point1] + parent2[point1: point2] + parent1[point2:], mutation_type, pmutation)\n",
        "                child2 = self.__mutation(parent2[:point1] + parent1[point1: point2] + parent2[point2:], mutation_type, pmutation)\n",
        "                children = [child1, child2]\n",
        "            else:\n",
        "                t = np.random.rand()\n",
        "                temp = np.random.rand(lchrom)\n",
        "                child1 = self.__mutation([parent1[i] if temp[i] > t else parent2[i] for i in range(len(temp)) ], mutation_type, pmutation)\n",
        "                child2 = self.__mutation([parent2[i] if temp[i] > t else parent1[i] for i in range(len(temp)) ], mutation_type, pmutation)\n",
        "                children = [child1, child2]\n",
        "               \n",
        "        else:\n",
        "            \n",
        "            child1 = self.__mutation(parent1, self.mutation_type, pmutation)\n",
        "            child2 = self.__mutation(parent2, self.mutation_type, pmutation)\n",
        "            children = [child1, child2]\n",
        "        \n",
        "        return children\n",
        "    \n",
        "\n",
        "\n",
        "    def __mutation(self, individual, mutation_type, pmutation):\n",
        "\n",
        "        if mutation_type not in ['bitstring', 'inversion', 'swap']:\n",
        "            raise ValueError('mutation_type should be one of bitstring or inversion or swap')\n",
        "\n",
        "\n",
        "        index = np.random.choice(len(individual))\n",
        "        index2 = np.random.choice(len(individual))\n",
        "        \n",
        "        # Convert individual to list so that can be modified\n",
        "        individual_mod = list(individual)\n",
        "        if (self.flip(pmutation)):\n",
        "            \n",
        "            if mutation_type == 'bitstring':\n",
        "                individual_mod[index] = 1 - individual_mod[index]\n",
        "            elif mutation_type == 'inversion':\n",
        "                individual_mod= individual_mod[0:index] + individual_mod[index2:index-1:-1] + individual_mod[index2+1:]\n",
        "            else:\n",
        "                individual_mod[index], individual_mod[index2] = individual_mod[index2], individual_mod[index]\n",
        "        else:\n",
        "            \n",
        "            pass\n",
        "        \n",
        "        individual = tuple(individual_mod)\n",
        "\n",
        "        return individual\n",
        "\n",
        "    def optimize(self):\n",
        "\n",
        "        for i in tqdm(range(self.n_iterations)):\n",
        "            print(\"iteration number:\" , i+1)\n",
        "\n",
        "            # calculate fitness score\n",
        "            scores = self.get_fitness_scores()\n",
        "            #storing scores\n",
        "            scores_array = [self.format_func(score) for score in scores]\n",
        "            sfile = open(\"scores.txt\", \"a\")\n",
        "            sfile.write(str(scores_array))\n",
        "            sfile.write(\"\\n\")\n",
        "            sfile.close()\n",
        "            \n",
        "            # append best score\n",
        "            _ = self.__append_best_score(scores)\n",
        "\n",
        "            # get the result wher he results is the best\n",
        "            best_score_ind = scores.tolist().index(max(scores))\n",
        "\n",
        "            best_solution = self.population[best_score_ind]\n",
        "            # storing best solution\n",
        "            solutionfile = open(\"best_solution.txt\", \"a\")\n",
        "            content = str(best_solution)\n",
        "            solutionfile.write(content)\n",
        "            solutionfile.write(\"\\n\")\n",
        "            solutionfile.close()\n",
        "            print(best_solution)\n",
        "\n",
        "\n",
        "\n",
        "            best_fitness = np.array(self.best_fitness_evolution)\n",
        "            fitfile = open(\"fitness_evolution.txt\", \"a\")\n",
        "            fit = str(best_fitness)\n",
        "            fitfile.write(fit)\n",
        "            fitfile.write(\"\\n\")\n",
        "            fitfile.close()\n",
        "            print(best_fitness)\n",
        "            \n",
        "            # choose the elites of the current population\n",
        "            ind = np.argsort(scores)\n",
        "        \n",
        "            elites = [self.population[i] for i in ind[-self.n_elites:]]\n",
        "\n",
        "            #append the elites to the population\n",
        "            #new_population = [tuple(elite) for elite in elites]\n",
        "\n",
        "            # make selection\n",
        "            new_population = []\n",
        "            j = self.n_elites\n",
        "            while j < self.popsize:\n",
        "                \n",
        "                # select parents from population\n",
        "                mate1 = self.select(scores, self.selection_type)\n",
        "                mate2 = self.select(scores, self.selection_type)\n",
        "\n",
        "                mate1 = tuple(self.population[mate1])\n",
        "                mate2 = tuple(self.population[mate2])\n",
        "\n",
        "                #crossover + mutation\n",
        "                children = self.__crossover(mate1, mate2, self.crossover_type, self.pcross, self.lchrom,self.mutation_type, self.pmutation)\n",
        "                children = [tuple(child) for child in children]\n",
        "                \n",
        "                \n",
        "                \n",
        "                if ((sum(children[0][:self.cut_point]) != 0 and sum(children[0][self.cut_point:]) == 1) and\n",
        "                    sum(children[1][:self.cut_point]) != 0 and sum(children[1][self.cut_point:]) == 1):\n",
        "                    \n",
        "                    new_population.append(tuple(children[0]))\n",
        "                    new_population.append(tuple(children[1]))\n",
        "                    j+=2\n",
        "                \n",
        "                \n",
        "\n",
        "            self.population = new_population\n",
        "            \n",
        "\n",
        "        \n",
        "\n",
        "        \n",
        "        return (best_solution, self.best_fitness_evolution[-1])\n",
        "\n",
        "\n",
        "    # run the genetic algorithm\n",
        "    def view_fitness_evolution(self):\n",
        "        plt.plot(\n",
        "            range(len(self.best_fitness_evolution)),\n",
        "            self.best_fitness_evolution)"
      ]
    },
    {
      "cell_type": "code",
      "execution_count": 10,
      "metadata": {
        "id": "2Z0vZTptmcA5"
      },
      "outputs": [],
      "source": [
        "models = [\"vgg16\", \"VGG19\",\n",
        "          \"ResNet50\",\"DenseNet201\"]\n",
        "ga = GeneticAlgorithm(\n",
        "    n_genes =10,\n",
        "    n_iterations = 100,\n",
        "    lchrom = 10, \n",
        "    cut_point = 7, \n",
        "    pcross = 0.8, \n",
        "    pmutation = 0.2, \n",
        "    crossover_type = 'one_point', \n",
        "    mutation_type = 'bitstring', \n",
        "    selection_type = 'ranking', \n",
        "    popsize = 6, \n",
        "    n_elites = 0,\n",
        "    models = models,\n",
        "    n_classes = n_classes,\n",
        "    n_epochs=n_epochs,\n",
        "    n_steps=n_steps,\n",
        "    n_val_steps=n_val_steps,\n",
        "    traingen=traingen,\n",
        "    validgen=validgen,\n",
        "    random_state = 123\n",
        ")\n",
        "\n"
      ]
    },
    {
      "cell_type": "code",
      "execution_count": 11,
      "metadata": {
        "colab": {
          "base_uri": "https://localhost:8080/"
        },
        "id": "DDhXgXZfmcA5",
        "outputId": "5f4f09a5-d4ac-43e7-9ab8-c525ff444589"
      },
      "outputs": [
        {
          "data": {
            "text/plain": [
              "[(1, 1, 0, 0, 0, 0, 1, 0, 0, 1),\n",
              " (1, 1, 0, 1, 0, 0, 1, 1, 0, 0),\n",
              " (0, 0, 0, 1, 0, 1, 1, 0, 1, 0),\n",
              " (0, 0, 0, 1, 1, 0, 0, 0, 0, 1),\n",
              " (1, 1, 1, 0, 1, 0, 0, 0, 0, 1),\n",
              " (0, 1, 0, 1, 1, 0, 1, 1, 0, 0)]"
            ]
          },
          "execution_count": 11,
          "metadata": {},
          "output_type": "execute_result"
        }
      ],
      "source": [
        "ga.population"
      ]
    },
    {
      "cell_type": "code",
      "execution_count": 12,
      "metadata": {
        "colab": {
          "base_uri": "https://localhost:8080/"
        },
        "id": "feaOoauPmcA6",
        "outputId": "bccdef52-672e-4da5-a536-98e08f398d63"
      },
      "outputs": [
        {
          "name": "stderr",
          "output_type": "stream",
          "text": [
            "  0%|          | 0/100 [00:00<?, ?it/s]"
          ]
        },
        {
          "name": "stdout",
          "output_type": "stream",
          "text": [
            "iteration number: 1\n",
            "1/1 [==============================] - 25s 25s/step - loss: 0.4350 - accuracy: 0.8200\n",
            "1/1 [==============================] - 25s 25s/step - loss: 0.6083 - accuracy: 0.8200\n",
            "1/1 [==============================] - 26s 26s/step - loss: 0.3806 - accuracy: 0.8000\n",
            "1/1 [==============================] - 7s 7s/step - loss: 0.5040 - accuracy: 0.8000\n",
            "WARNING:tensorflow:5 out of the last 5 calls to <function Model.make_test_function.<locals>.test_function at 0x000001AE24402B90> triggered tf.function retracing. Tracing is expensive and the excessive number of tracings could be due to (1) creating @tf.function repeatedly in a loop, (2) passing tensors with different shapes, (3) passing Python objects instead of tensors. For (1), please define your @tf.function outside of the loop. For (2), @tf.function has reduce_retracing=True option that can avoid unnecessary retracing. For (3), please refer to https://www.tensorflow.org/guide/function#controlling_retracing and https://www.tensorflow.org/api_docs/python/tf/function for  more details.\n",
            "1/1 [==============================] - 25s 25s/step - loss: 0.4025 - accuracy: 0.8400\n",
            "WARNING:tensorflow:6 out of the last 6 calls to <function Model.make_test_function.<locals>.test_function at 0x000001AD5296E830> triggered tf.function retracing. Tracing is expensive and the excessive number of tracings could be due to (1) creating @tf.function repeatedly in a loop, (2) passing tensors with different shapes, (3) passing Python objects instead of tensors. For (1), please define your @tf.function outside of the loop. For (2), @tf.function has reduce_retracing=True option that can avoid unnecessary retracing. For (3), please refer to https://www.tensorflow.org/guide/function#controlling_retracing and https://www.tensorflow.org/api_docs/python/tf/function for  more details.\n",
            "1/1 [==============================] - 32s 32s/step - loss: 0.4336 - accuracy: 0.8400\n"
          ]
        },
        {
          "name": "stderr",
          "output_type": "stream",
          "text": [
            "  1%|          | 1/100 [02:31<4:09:26, 151.17s/it]"
          ]
        },
        {
          "name": "stdout",
          "output_type": "stream",
          "text": [
            "(1, 1, 1, 0, 1, 0, 0, 0, 0, 1)\n",
            "[0.83999997]\n",
            "iteration number: 2\n",
            "1/1 [==============================] - 22s 22s/step - loss: 0.4468 - accuracy: 0.8600\n",
            "1/1 [==============================] - 30s 30s/step - loss: 0.4350 - accuracy: 0.8200\n",
            "1/1 [==============================] - 32s 32s/step - loss: 0.4350 - accuracy: 0.8200\n",
            "1/1 [==============================] - 29s 29s/step - loss: 0.4350 - accuracy: 0.8200\n",
            "1/1 [==============================] - 32s 32s/step - loss: 0.4350 - accuracy: 0.8200\n",
            "1/1 [==============================] - 25s 25s/step - loss: 0.4350 - accuracy: 0.8200\n"
          ]
        },
        {
          "name": "stderr",
          "output_type": "stream",
          "text": [
            "  2%|▏         | 2/100 [05:32<4:36:09, 169.08s/it]"
          ]
        },
        {
          "name": "stdout",
          "output_type": "stream",
          "text": [
            "(0, 1, 0, 0, 0, 0, 1, 0, 0, 1)\n",
            "[0.83999997 0.86000001]\n",
            "iteration number: 3\n",
            "1/1 [==============================] - 22s 22s/step - loss: 0.4468 - accuracy: 0.8600\n",
            "1/1 [==============================] - 23s 23s/step - loss: 0.4468 - accuracy: 0.8600\n",
            "1/1 [==============================] - 20s 20s/step - loss: 0.4468 - accuracy: 0.8600\n",
            "1/1 [==============================] - 10s 10s/step - loss: 0.7701 - accuracy: 0.8400\n",
            "1/1 [==============================] - 23s 23s/step - loss: 0.4468 - accuracy: 0.8600\n",
            "1/1 [==============================] - 25s 25s/step - loss: 0.4468 - accuracy: 0.8600\n"
          ]
        },
        {
          "name": "stderr",
          "output_type": "stream",
          "text": [
            "  3%|▎         | 3/100 [07:43<4:05:07, 151.62s/it]"
          ]
        },
        {
          "name": "stdout",
          "output_type": "stream",
          "text": [
            "(0, 1, 0, 0, 0, 0, 1, 0, 0, 1)\n",
            "[0.83999997 0.86000001 0.86000001]\n",
            "iteration number: 4\n",
            "1/1 [==============================] - 24s 24s/step - loss: 0.4468 - accuracy: 0.8600\n",
            "1/1 [==============================] - 35s 35s/step - loss: 0.3866 - accuracy: 0.8400\n",
            "1/1 [==============================] - 28s 28s/step - loss: 0.4468 - accuracy: 0.8600\n",
            "1/1 [==============================] - 56s 56s/step - loss: 0.3882 - accuracy: 0.8400\n",
            "1/1 [==============================] - 28s 28s/step - loss: 0.4468 - accuracy: 0.8600\n",
            "1/1 [==============================] - 29s 29s/step - loss: 0.4468 - accuracy: 0.8600\n"
          ]
        },
        {
          "name": "stderr",
          "output_type": "stream",
          "text": [
            "  4%|▍         | 4/100 [11:16<4:40:59, 175.62s/it]"
          ]
        },
        {
          "name": "stdout",
          "output_type": "stream",
          "text": [
            "(0, 1, 0, 0, 0, 0, 1, 0, 0, 1)\n",
            "[0.83999997 0.86000001 0.86000001 0.86000001]\n",
            "iteration number: 5\n",
            "1/1 [==============================] - 38s 38s/step - loss: 0.4468 - accuracy: 0.8600\n",
            "1/1 [==============================] - 59s 59s/step - loss: 0.3882 - accuracy: 0.8400\n",
            "1/1 [==============================] - 39s 39s/step - loss: 0.4468 - accuracy: 0.8600\n",
            "1/1 [==============================] - 60s 60s/step - loss: 0.3882 - accuracy: 0.8400\n",
            "1/1 [==============================] - 42s 42s/step - loss: 0.4468 - accuracy: 0.8600\n",
            "1/1 [==============================] - 60s 60s/step - loss: 0.4350 - accuracy: 0.8200\n"
          ]
        },
        {
          "name": "stderr",
          "output_type": "stream",
          "text": [
            "  5%|▌         | 5/100 [16:28<5:55:55, 224.80s/it]"
          ]
        },
        {
          "name": "stdout",
          "output_type": "stream",
          "text": [
            "(0, 1, 0, 0, 0, 0, 1, 0, 0, 1)\n",
            "[0.83999997 0.86000001 0.86000001 0.86000001 0.86000001]\n",
            "iteration number: 6\n",
            "1/1 [==============================] - 35s 35s/step - loss: 0.4468 - accuracy: 0.8600\n",
            "1/1 [==============================] - 38s 38s/step - loss: 0.4468 - accuracy: 0.8600\n",
            "1/1 [==============================] - 43s 43s/step - loss: 0.4468 - accuracy: 0.8600\n",
            "1/1 [==============================] - 39s 39s/step - loss: 0.4468 - accuracy: 0.8600\n",
            "1/1 [==============================] - 37s 37s/step - loss: 0.4468 - accuracy: 0.8600\n",
            "1/1 [==============================] - 44s 44s/step - loss: 0.4468 - accuracy: 0.8600\n"
          ]
        },
        {
          "name": "stderr",
          "output_type": "stream",
          "text": [
            "  6%|▌         | 6/100 [20:35<6:04:12, 232.47s/it]"
          ]
        },
        {
          "name": "stdout",
          "output_type": "stream",
          "text": [
            "(0, 1, 0, 0, 0, 0, 1, 0, 0, 1)\n",
            "[0.83999997 0.86000001 0.86000001 0.86000001 0.86000001 0.86000001]\n",
            "iteration number: 7\n",
            "1/1 [==============================] - 42s 42s/step - loss: 0.4468 - accuracy: 0.8600\n",
            "1/1 [==============================] - 39s 39s/step - loss: 0.4468 - accuracy: 0.8600\n",
            "1/1 [==============================] - 44s 44s/step - loss: 0.4468 - accuracy: 0.8600\n",
            "1/1 [==============================] - 25s 25s/step - loss: 0.7701 - accuracy: 0.8400\n",
            "1/1 [==============================] - 44s 44s/step - loss: 0.4468 - accuracy: 0.8600\n",
            "1/1 [==============================] - 42s 42s/step - loss: 0.4468 - accuracy: 0.8600\n"
          ]
        },
        {
          "name": "stderr",
          "output_type": "stream",
          "text": [
            "  7%|▋         | 7/100 [24:40<6:06:44, 236.60s/it]"
          ]
        },
        {
          "name": "stdout",
          "output_type": "stream",
          "text": [
            "(0, 1, 0, 0, 0, 0, 1, 0, 0, 1)\n",
            "[0.83999997 0.86000001 0.86000001 0.86000001 0.86000001 0.86000001\n",
            " 0.86000001]\n",
            "iteration number: 8\n",
            "1/1 [==============================] - 44s 44s/step - loss: 0.4468 - accuracy: 0.8600\n",
            "1/1 [==============================] - 45s 45s/step - loss: 0.4468 - accuracy: 0.8600\n",
            "1/1 [==============================] - 41s 41s/step - loss: 0.4468 - accuracy: 0.8600\n",
            "1/1 [==============================] - 40s 40s/step - loss: 0.4468 - accuracy: 0.8600\n",
            "1/1 [==============================] - 23s 23s/step - loss: 0.7701 - accuracy: 0.8400\n",
            "1/1 [==============================] - 47s 47s/step - loss: 0.4468 - accuracy: 0.8600\n"
          ]
        },
        {
          "name": "stderr",
          "output_type": "stream",
          "text": [
            "  8%|▊         | 8/100 [28:51<6:09:49, 241.19s/it]"
          ]
        },
        {
          "name": "stdout",
          "output_type": "stream",
          "text": [
            "(0, 1, 0, 0, 0, 0, 1, 0, 0, 1)\n",
            "[0.83999997 0.86000001 0.86000001 0.86000001 0.86000001 0.86000001\n",
            " 0.86000001 0.86000001]\n",
            "iteration number: 9\n",
            "1/1 [==============================] - 45s 45s/step - loss: 0.4468 - accuracy: 0.8600\n",
            "1/1 [==============================] - 44s 44s/step - loss: 0.4468 - accuracy: 0.8600\n",
            "1/1 [==============================] - 49s 49s/step - loss: 0.4468 - accuracy: 0.8600\n",
            "1/1 [==============================] - 47s 47s/step - loss: 0.4468 - accuracy: 0.8600\n",
            "1/1 [==============================] - 44s 44s/step - loss: 0.4468 - accuracy: 0.8600\n",
            "1/1 [==============================] - 73s 73s/step - loss: 0.4350 - accuracy: 0.8200\n"
          ]
        },
        {
          "name": "stderr",
          "output_type": "stream",
          "text": [
            "  9%|▉         | 9/100 [34:04<6:39:37, 263.49s/it]"
          ]
        },
        {
          "name": "stdout",
          "output_type": "stream",
          "text": [
            "(0, 1, 0, 0, 0, 0, 1, 0, 0, 1)\n",
            "[0.83999997 0.86000001 0.86000001 0.86000001 0.86000001 0.86000001\n",
            " 0.86000001 0.86000001 0.86000001]\n",
            "iteration number: 10\n",
            "1/1 [==============================] - 46s 46s/step - loss: 0.4468 - accuracy: 0.8600\n",
            "1/1 [==============================] - 45s 45s/step - loss: 0.4468 - accuracy: 0.8600\n",
            "1/1 [==============================] - 50s 50s/step - loss: 0.4468 - accuracy: 0.8600\n",
            "1/1 [==============================] - 48s 48s/step - loss: 0.4468 - accuracy: 0.8600\n",
            "1/1 [==============================] - 46s 46s/step - loss: 0.4468 - accuracy: 0.8600\n",
            "1/1 [==============================] - 49s 49s/step - loss: 0.4468 - accuracy: 0.8600\n"
          ]
        },
        {
          "name": "stderr",
          "output_type": "stream",
          "text": [
            " 10%|█         | 10/100 [38:58<6:49:23, 272.93s/it]"
          ]
        },
        {
          "name": "stdout",
          "output_type": "stream",
          "text": [
            "(0, 1, 0, 0, 0, 0, 1, 0, 0, 1)\n",
            "[0.83999997 0.86000001 0.86000001 0.86000001 0.86000001 0.86000001\n",
            " 0.86000001 0.86000001 0.86000001 0.86000001]\n",
            "iteration number: 11\n",
            "1/1 [==============================] - 48s 48s/step - loss: 0.4468 - accuracy: 0.8600\n",
            "1/1 [==============================] - 47s 47s/step - loss: 0.4468 - accuracy: 0.8600\n",
            "1/1 [==============================] - 48s 48s/step - loss: 0.4468 - accuracy: 0.8600\n",
            "1/1 [==============================] - 51s 51s/step - loss: 0.4468 - accuracy: 0.8600\n",
            "1/1 [==============================] - 45s 45s/step - loss: 0.4468 - accuracy: 0.8600\n",
            "1/1 [==============================] - 46s 46s/step - loss: 0.4971 - accuracy: 0.8600\n"
          ]
        },
        {
          "name": "stderr",
          "output_type": "stream",
          "text": [
            " 11%|█         | 11/100 [43:54<6:55:16, 279.97s/it]"
          ]
        },
        {
          "name": "stdout",
          "output_type": "stream",
          "text": [
            "(0, 1, 0, 0, 0, 0, 1, 0, 0, 1)\n",
            "[0.83999997 0.86000001 0.86000001 0.86000001 0.86000001 0.86000001\n",
            " 0.86000001 0.86000001 0.86000001 0.86000001 0.86000001]\n",
            "iteration number: 12\n",
            "1/1 [==============================] - 52s 52s/step - loss: 0.4468 - accuracy: 0.8600\n",
            "1/1 [==============================] - 46s 46s/step - loss: 0.4468 - accuracy: 0.8600\n",
            "1/1 [==============================] - 45s 45s/step - loss: 0.4468 - accuracy: 0.8600\n",
            "1/1 [==============================] - 48s 48s/step - loss: 0.4468 - accuracy: 0.8600\n",
            "1/1 [==============================] - 47s 47s/step - loss: 0.4468 - accuracy: 0.8600\n",
            "1/1 [==============================] - 45s 45s/step - loss: 0.4468 - accuracy: 0.8600\n"
          ]
        },
        {
          "name": "stderr",
          "output_type": "stream",
          "text": [
            " 12%|█▏        | 12/100 [48:48<6:57:10, 284.44s/it]"
          ]
        },
        {
          "name": "stdout",
          "output_type": "stream",
          "text": [
            "(0, 1, 0, 0, 0, 0, 1, 0, 0, 1)\n",
            "[0.83999997 0.86000001 0.86000001 0.86000001 0.86000001 0.86000001\n",
            " 0.86000001 0.86000001 0.86000001 0.86000001 0.86000001 0.86000001]\n",
            "iteration number: 13\n",
            "1/1 [==============================] - 48s 48s/step - loss: 0.4468 - accuracy: 0.8600\n",
            "1/1 [==============================] - 48s 48s/step - loss: 0.4468 - accuracy: 0.8600\n",
            "1/1 [==============================] - 46s 46s/step - loss: 0.4468 - accuracy: 0.8600\n",
            "1/1 [==============================] - 48s 48s/step - loss: 0.4468 - accuracy: 0.8600\n",
            "1/1 [==============================] - 49s 49s/step - loss: 0.4468 - accuracy: 0.8600\n",
            "1/1 [==============================] - 53s 53s/step - loss: 0.4906 - accuracy: 0.8600\n"
          ]
        },
        {
          "name": "stderr",
          "output_type": "stream",
          "text": [
            " 13%|█▎        | 13/100 [53:51<7:00:23, 289.92s/it]"
          ]
        },
        {
          "name": "stdout",
          "output_type": "stream",
          "text": [
            "(0, 1, 0, 0, 0, 0, 1, 0, 0, 1)\n",
            "[0.83999997 0.86000001 0.86000001 0.86000001 0.86000001 0.86000001\n",
            " 0.86000001 0.86000001 0.86000001 0.86000001 0.86000001 0.86000001\n",
            " 0.86000001]\n",
            "iteration number: 14\n",
            "1/1 [==============================] - 48s 48s/step - loss: 0.4468 - accuracy: 0.8600\n",
            "1/1 [==============================] - 49s 49s/step - loss: 0.4468 - accuracy: 0.8600\n",
            "1/1 [==============================] - 49s 49s/step - loss: 0.4971 - accuracy: 0.8600\n",
            "1/1 [==============================] - 49s 49s/step - loss: 0.4468 - accuracy: 0.8600\n",
            "1/1 [==============================] - 51s 51s/step - loss: 0.4468 - accuracy: 0.8600\n",
            "1/1 [==============================] - 50s 50s/step - loss: 0.4468 - accuracy: 0.8600\n"
          ]
        },
        {
          "name": "stderr",
          "output_type": "stream",
          "text": [
            " 14%|█▍        | 14/100 [58:59<7:03:22, 295.37s/it]"
          ]
        },
        {
          "name": "stdout",
          "output_type": "stream",
          "text": [
            "(0, 1, 0, 0, 0, 0, 1, 0, 0, 1)\n",
            "[0.83999997 0.86000001 0.86000001 0.86000001 0.86000001 0.86000001\n",
            " 0.86000001 0.86000001 0.86000001 0.86000001 0.86000001 0.86000001\n",
            " 0.86000001 0.86000001]\n",
            "iteration number: 15\n",
            "1/1 [==============================] - 48s 48s/step - loss: 0.4468 - accuracy: 0.8600\n",
            "1/1 [==============================] - 50s 50s/step - loss: 0.4468 - accuracy: 0.8600\n",
            "1/1 [==============================] - 47s 47s/step - loss: 0.4468 - accuracy: 0.8600\n",
            "1/1 [==============================] - 46s 46s/step - loss: 0.4468 - accuracy: 0.8600\n",
            "1/1 [==============================] - 46s 46s/step - loss: 0.4468 - accuracy: 0.8600\n",
            "1/1 [==============================] - 48s 48s/step - loss: 0.4468 - accuracy: 0.8600\n"
          ]
        },
        {
          "name": "stderr",
          "output_type": "stream",
          "text": [
            " 15%|█▌        | 15/100 [1:03:56<6:59:12, 295.91s/it]"
          ]
        },
        {
          "name": "stdout",
          "output_type": "stream",
          "text": [
            "(0, 1, 0, 0, 0, 0, 1, 0, 0, 1)\n",
            "[0.83999997 0.86000001 0.86000001 0.86000001 0.86000001 0.86000001\n",
            " 0.86000001 0.86000001 0.86000001 0.86000001 0.86000001 0.86000001\n",
            " 0.86000001 0.86000001 0.86000001]\n",
            "iteration number: 16\n",
            "1/1 [==============================] - 47s 47s/step - loss: 0.4468 - accuracy: 0.8600\n",
            "1/1 [==============================] - 46s 46s/step - loss: 0.4468 - accuracy: 0.8600\n",
            "1/1 [==============================] - 56s 56s/step - loss: 0.3866 - accuracy: 0.8400\n",
            "1/1 [==============================] - 47s 47s/step - loss: 0.4468 - accuracy: 0.8600\n",
            "1/1 [==============================] - 47s 47s/step - loss: 0.4468 - accuracy: 0.8600\n",
            "1/1 [==============================] - 57s 57s/step - loss: 0.3866 - accuracy: 0.8400\n"
          ]
        },
        {
          "name": "stderr",
          "output_type": "stream",
          "text": [
            " 16%|█▌        | 16/100 [1:09:07<7:00:39, 300.47s/it]"
          ]
        },
        {
          "name": "stdout",
          "output_type": "stream",
          "text": [
            "(0, 1, 0, 0, 0, 0, 1, 0, 0, 1)\n",
            "[0.83999997 0.86000001 0.86000001 0.86000001 0.86000001 0.86000001\n",
            " 0.86000001 0.86000001 0.86000001 0.86000001 0.86000001 0.86000001\n",
            " 0.86000001 0.86000001 0.86000001 0.86000001]\n",
            "iteration number: 17\n",
            "1/1 [==============================] - 53s 53s/step - loss: 0.4906 - accuracy: 0.8600\n",
            "1/1 [==============================] - 47s 47s/step - loss: 0.4468 - accuracy: 0.8600\n",
            "1/1 [==============================] - 48s 48s/step - loss: 0.4468 - accuracy: 0.8600\n",
            "1/1 [==============================] - 47s 47s/step - loss: 0.4468 - accuracy: 0.8600\n",
            "1/1 [==============================] - 46s 46s/step - loss: 0.4468 - accuracy: 0.8600\n",
            "1/1 [==============================] - 50s 50s/step - loss: 0.4468 - accuracy: 0.8600\n"
          ]
        },
        {
          "name": "stderr",
          "output_type": "stream",
          "text": [
            " 17%|█▋        | 17/100 [1:14:09<6:56:13, 300.89s/it]"
          ]
        },
        {
          "name": "stdout",
          "output_type": "stream",
          "text": [
            "(0, 1, 1, 0, 0, 0, 1, 0, 0, 1)\n",
            "[0.83999997 0.86000001 0.86000001 0.86000001 0.86000001 0.86000001\n",
            " 0.86000001 0.86000001 0.86000001 0.86000001 0.86000001 0.86000001\n",
            " 0.86000001 0.86000001 0.86000001 0.86000001 0.86000001]\n",
            "iteration number: 18\n",
            "1/1 [==============================] - 52s 52s/step - loss: 0.4906 - accuracy: 0.8600\n",
            "1/1 [==============================] - 52s 52s/step - loss: 0.4906 - accuracy: 0.8600\n",
            "1/1 [==============================] - 53s 53s/step - loss: 0.4906 - accuracy: 0.8600\n",
            "1/1 [==============================] - 73s 73s/step - loss: 0.4539 - accuracy: 0.8200\n",
            "1/1 [==============================] - 56s 56s/step - loss: 0.4906 - accuracy: 0.8600\n",
            "1/1 [==============================] - 55s 55s/step - loss: 0.4906 - accuracy: 0.8600\n"
          ]
        },
        {
          "name": "stderr",
          "output_type": "stream",
          "text": [
            " 18%|█▊        | 18/100 [1:20:03<7:13:03, 316.88s/it]"
          ]
        },
        {
          "name": "stdout",
          "output_type": "stream",
          "text": [
            "(0, 1, 1, 0, 0, 0, 1, 0, 0, 1)\n",
            "[0.83999997 0.86000001 0.86000001 0.86000001 0.86000001 0.86000001\n",
            " 0.86000001 0.86000001 0.86000001 0.86000001 0.86000001 0.86000001\n",
            " 0.86000001 0.86000001 0.86000001 0.86000001 0.86000001 0.86000001]\n",
            "iteration number: 19\n",
            "1/1 [==============================] - 54s 54s/step - loss: 0.4906 - accuracy: 0.8600\n",
            "1/1 [==============================] - 54s 54s/step - loss: 0.4906 - accuracy: 0.8600\n",
            "1/1 [==============================] - 56s 56s/step - loss: 0.4906 - accuracy: 0.8600\n",
            "1/1 [==============================] - 55s 55s/step - loss: 0.4906 - accuracy: 0.8600\n",
            "1/1 [==============================] - 49s 49s/step - loss: 0.4468 - accuracy: 0.8600\n",
            "1/1 [==============================] - 56s 56s/step - loss: 0.4906 - accuracy: 0.8600\n"
          ]
        },
        {
          "name": "stderr",
          "output_type": "stream",
          "text": [
            " 19%|█▉        | 19/100 [1:25:39<7:15:30, 322.60s/it]"
          ]
        },
        {
          "name": "stdout",
          "output_type": "stream",
          "text": [
            "(0, 1, 1, 0, 0, 0, 1, 0, 0, 1)\n",
            "[0.83999997 0.86000001 0.86000001 0.86000001 0.86000001 0.86000001\n",
            " 0.86000001 0.86000001 0.86000001 0.86000001 0.86000001 0.86000001\n",
            " 0.86000001 0.86000001 0.86000001 0.86000001 0.86000001 0.86000001\n",
            " 0.86000001]\n",
            "iteration number: 20\n",
            "1/1 [==============================] - 53s 53s/step - loss: 0.4906 - accuracy: 0.8600\n",
            "1/1 [==============================] - 58s 58s/step - loss: 0.4906 - accuracy: 0.8600\n",
            "1/1 [==============================] - 56s 56s/step - loss: 0.4906 - accuracy: 0.8600\n",
            "1/1 [==============================] - 54s 54s/step - loss: 0.4906 - accuracy: 0.8600\n",
            "1/1 [==============================] - 57s 57s/step - loss: 0.4906 - accuracy: 0.8600\n",
            "1/1 [==============================] - 56s 56s/step - loss: 0.4906 - accuracy: 0.8600\n"
          ]
        },
        {
          "name": "stderr",
          "output_type": "stream",
          "text": [
            " 20%|██        | 20/100 [1:31:25<7:19:27, 329.60s/it]"
          ]
        },
        {
          "name": "stdout",
          "output_type": "stream",
          "text": [
            "(0, 1, 1, 0, 0, 0, 1, 0, 0, 1)\n",
            "[0.83999997 0.86000001 0.86000001 0.86000001 0.86000001 0.86000001\n",
            " 0.86000001 0.86000001 0.86000001 0.86000001 0.86000001 0.86000001\n",
            " 0.86000001 0.86000001 0.86000001 0.86000001 0.86000001 0.86000001\n",
            " 0.86000001 0.86000001]\n",
            "iteration number: 21\n",
            "1/1 [==============================] - 55s 55s/step - loss: 0.4906 - accuracy: 0.8600\n",
            "1/1 [==============================] - 56s 56s/step - loss: 0.4906 - accuracy: 0.8600\n",
            "1/1 [==============================] - 55s 55s/step - loss: 0.4906 - accuracy: 0.8600\n",
            "1/1 [==============================] - 58s 58s/step - loss: 0.4906 - accuracy: 0.8600\n",
            "1/1 [==============================] - 61s 61s/step - loss: 0.4906 - accuracy: 0.8600\n",
            "1/1 [==============================] - 30s 30s/step - loss: 1.4086 - accuracy: 0.8400\n"
          ]
        },
        {
          "name": "stderr",
          "output_type": "stream",
          "text": [
            " 21%|██        | 21/100 [1:36:51<7:12:40, 328.62s/it]"
          ]
        },
        {
          "name": "stdout",
          "output_type": "stream",
          "text": [
            "(0, 1, 1, 0, 0, 0, 1, 0, 0, 1)\n",
            "[0.83999997 0.86000001 0.86000001 0.86000001 0.86000001 0.86000001\n",
            " 0.86000001 0.86000001 0.86000001 0.86000001 0.86000001 0.86000001\n",
            " 0.86000001 0.86000001 0.86000001 0.86000001 0.86000001 0.86000001\n",
            " 0.86000001 0.86000001 0.86000001]\n",
            "iteration number: 22\n",
            "1/1 [==============================] - 58s 58s/step - loss: 0.4906 - accuracy: 0.8600\n",
            "1/1 [==============================] - 53s 53s/step - loss: 0.4468 - accuracy: 0.8600\n",
            "1/1 [==============================] - 51s 51s/step - loss: 0.4468 - accuracy: 0.8600\n",
            "1/1 [==============================] - 57s 57s/step - loss: 0.4906 - accuracy: 0.8600\n",
            "1/1 [==============================] - 31s 31s/step - loss: 1.4086 - accuracy: 0.8400\n",
            "1/1 [==============================] - 58s 58s/step - loss: 0.4906 - accuracy: 0.8600\n"
          ]
        },
        {
          "name": "stderr",
          "output_type": "stream",
          "text": [
            " 22%|██▏       | 22/100 [1:42:09<7:03:07, 325.48s/it]"
          ]
        },
        {
          "name": "stdout",
          "output_type": "stream",
          "text": [
            "(0, 1, 1, 0, 0, 0, 1, 0, 0, 1)\n",
            "[0.83999997 0.86000001 0.86000001 0.86000001 0.86000001 0.86000001\n",
            " 0.86000001 0.86000001 0.86000001 0.86000001 0.86000001 0.86000001\n",
            " 0.86000001 0.86000001 0.86000001 0.86000001 0.86000001 0.86000001\n",
            " 0.86000001 0.86000001 0.86000001 0.86000001]\n",
            "iteration number: 23\n",
            "1/1 [==============================] - 57s 57s/step - loss: 0.4906 - accuracy: 0.8600\n",
            "1/1 [==============================] - 60s 60s/step - loss: 0.4906 - accuracy: 0.8600\n",
            "1/1 [==============================] - 59s 59s/step - loss: 0.4906 - accuracy: 0.8600\n",
            "1/1 [==============================] - 57s 57s/step - loss: 0.4906 - accuracy: 0.8600\n",
            "1/1 [==============================] - 60s 60s/step - loss: 0.4906 - accuracy: 0.8600\n",
            "1/1 [==============================] - 59s 59s/step - loss: 0.4906 - accuracy: 0.8600\n"
          ]
        },
        {
          "name": "stderr",
          "output_type": "stream",
          "text": [
            " 23%|██▎       | 23/100 [1:48:13<7:12:36, 337.10s/it]"
          ]
        },
        {
          "name": "stdout",
          "output_type": "stream",
          "text": [
            "(0, 1, 1, 0, 0, 0, 1, 0, 0, 1)\n",
            "[0.83999997 0.86000001 0.86000001 0.86000001 0.86000001 0.86000001\n",
            " 0.86000001 0.86000001 0.86000001 0.86000001 0.86000001 0.86000001\n",
            " 0.86000001 0.86000001 0.86000001 0.86000001 0.86000001 0.86000001\n",
            " 0.86000001 0.86000001 0.86000001 0.86000001 0.86000001]\n",
            "iteration number: 24\n",
            "1/1 [==============================] - 51s 51s/step - loss: 0.4468 - accuracy: 0.8600\n",
            "1/1 [==============================] - 60s 60s/step - loss: 0.4906 - accuracy: 0.8600\n",
            "1/1 [==============================] - 59s 59s/step - loss: 0.4906 - accuracy: 0.8600\n",
            "1/1 [==============================] - 58s 58s/step - loss: 0.4906 - accuracy: 0.8600\n",
            "1/1 [==============================] - 61s 61s/step - loss: 0.4906 - accuracy: 0.8600\n",
            "1/1 [==============================] - 59s 59s/step - loss: 0.4906 - accuracy: 0.8600\n"
          ]
        },
        {
          "name": "stderr",
          "output_type": "stream",
          "text": [
            " 24%|██▍       | 24/100 [1:54:14<7:15:44, 344.00s/it]"
          ]
        },
        {
          "name": "stdout",
          "output_type": "stream",
          "text": [
            "(0, 1, 0, 0, 0, 0, 1, 0, 0, 1)\n",
            "[0.83999997 0.86000001 0.86000001 0.86000001 0.86000001 0.86000001\n",
            " 0.86000001 0.86000001 0.86000001 0.86000001 0.86000001 0.86000001\n",
            " 0.86000001 0.86000001 0.86000001 0.86000001 0.86000001 0.86000001\n",
            " 0.86000001 0.86000001 0.86000001 0.86000001 0.86000001 0.86000001]\n",
            "iteration number: 25\n",
            "1/1 [==============================] - 52s 52s/step - loss: 0.4468 - accuracy: 0.8600\n",
            "1/1 [==============================] - 52s 52s/step - loss: 0.4468 - accuracy: 0.8600\n",
            "1/1 [==============================] - 23s 23s/step - loss: 1.5368 - accuracy: 0.8200\n",
            "1/1 [==============================] - 48s 48s/step - loss: 0.4468 - accuracy: 0.8600\n",
            "1/1 [==============================] - 73s 73s/step - loss: 0.3882 - accuracy: 0.8400\n",
            "1/1 [==============================] - 49s 49s/step - loss: 0.4468 - accuracy: 0.8600\n"
          ]
        },
        {
          "name": "stderr",
          "output_type": "stream",
          "text": [
            " 25%|██▌       | 25/100 [1:59:23<6:57:03, 333.65s/it]"
          ]
        },
        {
          "name": "stdout",
          "output_type": "stream",
          "text": [
            "(0, 1, 0, 0, 0, 0, 1, 0, 0, 1)\n",
            "[0.83999997 0.86000001 0.86000001 0.86000001 0.86000001 0.86000001\n",
            " 0.86000001 0.86000001 0.86000001 0.86000001 0.86000001 0.86000001\n",
            " 0.86000001 0.86000001 0.86000001 0.86000001 0.86000001 0.86000001\n",
            " 0.86000001 0.86000001 0.86000001 0.86000001 0.86000001 0.86000001\n",
            " 0.86000001]\n",
            "iteration number: 26\n",
            "1/1 [==============================] - 53s 53s/step - loss: 0.4468 - accuracy: 0.8600\n",
            "1/1 [==============================] - 51s 51s/step - loss: 0.4468 - accuracy: 0.8600\n",
            "1/1 [==============================] - 49s 49s/step - loss: 0.4468 - accuracy: 0.8600\n",
            "1/1 [==============================] - 48s 48s/step - loss: 0.4468 - accuracy: 0.8600\n",
            "1/1 [==============================] - 47s 47s/step - loss: 0.4468 - accuracy: 0.8600\n",
            "1/1 [==============================] - 51s 51s/step - loss: 0.4468 - accuracy: 0.8600\n"
          ]
        },
        {
          "name": "stderr",
          "output_type": "stream",
          "text": [
            " 26%|██▌       | 26/100 [2:04:32<6:42:15, 326.15s/it]"
          ]
        },
        {
          "name": "stdout",
          "output_type": "stream",
          "text": [
            "(0, 1, 0, 0, 0, 0, 1, 0, 0, 1)\n",
            "[0.83999997 0.86000001 0.86000001 0.86000001 0.86000001 0.86000001\n",
            " 0.86000001 0.86000001 0.86000001 0.86000001 0.86000001 0.86000001\n",
            " 0.86000001 0.86000001 0.86000001 0.86000001 0.86000001 0.86000001\n",
            " 0.86000001 0.86000001 0.86000001 0.86000001 0.86000001 0.86000001\n",
            " 0.86000001 0.86000001]\n",
            "iteration number: 27\n",
            "1/1 [==============================] - 50s 50s/step - loss: 0.4468 - accuracy: 0.8600\n",
            "1/1 [==============================] - 78s 78s/step - loss: 0.3882 - accuracy: 0.8400\n",
            "1/1 [==============================] - 52s 52s/step - loss: 0.4468 - accuracy: 0.8600\n",
            "1/1 [==============================] - 55s 55s/step - loss: 0.4468 - accuracy: 0.8600\n",
            "1/1 [==============================] - 55s 55s/step - loss: 0.4468 - accuracy: 0.8600\n",
            "1/1 [==============================] - 56s 56s/step - loss: 0.4468 - accuracy: 0.8600\n"
          ]
        },
        {
          "name": "stderr",
          "output_type": "stream",
          "text": [
            " 27%|██▋       | 27/100 [2:10:29<6:48:11, 335.50s/it]"
          ]
        },
        {
          "name": "stdout",
          "output_type": "stream",
          "text": [
            "(0, 1, 0, 0, 0, 0, 1, 0, 0, 1)\n",
            "[0.83999997 0.86000001 0.86000001 0.86000001 0.86000001 0.86000001\n",
            " 0.86000001 0.86000001 0.86000001 0.86000001 0.86000001 0.86000001\n",
            " 0.86000001 0.86000001 0.86000001 0.86000001 0.86000001 0.86000001\n",
            " 0.86000001 0.86000001 0.86000001 0.86000001 0.86000001 0.86000001\n",
            " 0.86000001 0.86000001 0.86000001]\n",
            "iteration number: 28\n",
            "1/1 [==============================] - 52s 52s/step - loss: 0.4468 - accuracy: 0.8600\n",
            "1/1 [==============================] - 51s 51s/step - loss: 0.4468 - accuracy: 0.8600\n",
            "1/1 [==============================] - 50s 50s/step - loss: 0.4468 - accuracy: 0.8600\n",
            "1/1 [==============================] - 51s 51s/step - loss: 0.4468 - accuracy: 0.8600\n",
            "1/1 [==============================] - 49s 49s/step - loss: 0.4468 - accuracy: 0.8600\n",
            "1/1 [==============================] - 70s 70s/step - loss: 0.4350 - accuracy: 0.8200\n"
          ]
        },
        {
          "name": "stderr",
          "output_type": "stream",
          "text": [
            " 28%|██▊       | 28/100 [2:16:03<6:42:10, 335.15s/it]"
          ]
        },
        {
          "name": "stdout",
          "output_type": "stream",
          "text": [
            "(0, 1, 0, 0, 0, 0, 1, 0, 0, 1)\n",
            "[0.83999997 0.86000001 0.86000001 0.86000001 0.86000001 0.86000001\n",
            " 0.86000001 0.86000001 0.86000001 0.86000001 0.86000001 0.86000001\n",
            " 0.86000001 0.86000001 0.86000001 0.86000001 0.86000001 0.86000001\n",
            " 0.86000001 0.86000001 0.86000001 0.86000001 0.86000001 0.86000001\n",
            " 0.86000001 0.86000001 0.86000001 0.86000001]\n",
            "iteration number: 29\n",
            "1/1 [==============================] - 51s 51s/step - loss: 0.4468 - accuracy: 0.8600\n",
            "1/1 [==============================] - 53s 53s/step - loss: 0.4468 - accuracy: 0.8600\n",
            "1/1 [==============================] - 52s 52s/step - loss: 0.4468 - accuracy: 0.8600\n",
            "1/1 [==============================] - 30s 30s/step - loss: 0.7701 - accuracy: 0.8400\n",
            "1/1 [==============================] - 50s 50s/step - loss: 0.4468 - accuracy: 0.8600\n",
            "1/1 [==============================] - 78s 78s/step - loss: 0.4350 - accuracy: 0.8200\n"
          ]
        },
        {
          "name": "stderr",
          "output_type": "stream",
          "text": [
            " 29%|██▉       | 29/100 [2:21:27<6:32:31, 331.71s/it]"
          ]
        },
        {
          "name": "stdout",
          "output_type": "stream",
          "text": [
            "(0, 1, 0, 0, 0, 0, 1, 0, 0, 1)\n",
            "[0.83999997 0.86000001 0.86000001 0.86000001 0.86000001 0.86000001\n",
            " 0.86000001 0.86000001 0.86000001 0.86000001 0.86000001 0.86000001\n",
            " 0.86000001 0.86000001 0.86000001 0.86000001 0.86000001 0.86000001\n",
            " 0.86000001 0.86000001 0.86000001 0.86000001 0.86000001 0.86000001\n",
            " 0.86000001 0.86000001 0.86000001 0.86000001 0.86000001]\n",
            "iteration number: 30\n",
            "1/1 [==============================] - 52s 52s/step - loss: 0.4468 - accuracy: 0.8600\n",
            "1/1 [==============================] - 57s 57s/step - loss: 0.4906 - accuracy: 0.8600\n",
            "1/1 [==============================] - 54s 54s/step - loss: 0.4468 - accuracy: 0.8600\n",
            "1/1 [==============================] - 52s 52s/step - loss: 0.4468 - accuracy: 0.8600\n",
            "1/1 [==============================] - 51s 51s/step - loss: 0.4468 - accuracy: 0.8600\n",
            "1/1 [==============================] - 51s 51s/step - loss: 0.4468 - accuracy: 0.8600\n"
          ]
        },
        {
          "name": "stderr",
          "output_type": "stream",
          "text": [
            " 30%|███       | 30/100 [2:26:55<6:25:33, 330.48s/it]"
          ]
        },
        {
          "name": "stdout",
          "output_type": "stream",
          "text": [
            "(0, 1, 0, 0, 0, 0, 1, 0, 0, 1)\n",
            "[0.83999997 0.86000001 0.86000001 0.86000001 0.86000001 0.86000001\n",
            " 0.86000001 0.86000001 0.86000001 0.86000001 0.86000001 0.86000001\n",
            " 0.86000001 0.86000001 0.86000001 0.86000001 0.86000001 0.86000001\n",
            " 0.86000001 0.86000001 0.86000001 0.86000001 0.86000001 0.86000001\n",
            " 0.86000001 0.86000001 0.86000001 0.86000001 0.86000001 0.86000001]\n",
            "iteration number: 31\n",
            "1/1 [==============================] - 54s 54s/step - loss: 0.4468 - accuracy: 0.8600\n",
            "1/1 [==============================] - 52s 52s/step - loss: 0.4468 - accuracy: 0.8600\n",
            "1/1 [==============================] - 51s 51s/step - loss: 0.4468 - accuracy: 0.8600\n",
            "1/1 [==============================] - 51s 51s/step - loss: 0.4468 - accuracy: 0.8600\n",
            "1/1 [==============================] - 54s 54s/step - loss: 0.4468 - accuracy: 0.8600\n",
            "1/1 [==============================] - 53s 53s/step - loss: 0.4468 - accuracy: 0.8600\n"
          ]
        },
        {
          "name": "stderr",
          "output_type": "stream",
          "text": [
            " 31%|███       | 31/100 [2:32:20<6:18:26, 329.08s/it]"
          ]
        },
        {
          "name": "stdout",
          "output_type": "stream",
          "text": [
            "(0, 1, 0, 0, 0, 0, 1, 0, 0, 1)\n",
            "[0.83999997 0.86000001 0.86000001 0.86000001 0.86000001 0.86000001\n",
            " 0.86000001 0.86000001 0.86000001 0.86000001 0.86000001 0.86000001\n",
            " 0.86000001 0.86000001 0.86000001 0.86000001 0.86000001 0.86000001\n",
            " 0.86000001 0.86000001 0.86000001 0.86000001 0.86000001 0.86000001\n",
            " 0.86000001 0.86000001 0.86000001 0.86000001 0.86000001 0.86000001\n",
            " 0.86000001]\n",
            "iteration number: 32\n",
            "1/1 [==============================] - 51s 51s/step - loss: 0.4468 - accuracy: 0.8600\n",
            "1/1 [==============================] - 55s 55s/step - loss: 0.4468 - accuracy: 0.8600\n",
            "1/1 [==============================] - 53s 53s/step - loss: 0.4468 - accuracy: 0.8600\n",
            "1/1 [==============================] - 51s 51s/step - loss: 0.4468 - accuracy: 0.8600\n",
            "1/1 [==============================] - 83s 83s/step - loss: 0.3882 - accuracy: 0.8400\n",
            "1/1 [==============================] - 52s 52s/step - loss: 0.4468 - accuracy: 0.8600\n"
          ]
        },
        {
          "name": "stderr",
          "output_type": "stream",
          "text": [
            " 32%|███▏      | 32/100 [2:38:18<6:22:30, 337.50s/it]"
          ]
        },
        {
          "name": "stdout",
          "output_type": "stream",
          "text": [
            "(0, 1, 0, 0, 0, 0, 1, 0, 0, 1)\n",
            "[0.83999997 0.86000001 0.86000001 0.86000001 0.86000001 0.86000001\n",
            " 0.86000001 0.86000001 0.86000001 0.86000001 0.86000001 0.86000001\n",
            " 0.86000001 0.86000001 0.86000001 0.86000001 0.86000001 0.86000001\n",
            " 0.86000001 0.86000001 0.86000001 0.86000001 0.86000001 0.86000001\n",
            " 0.86000001 0.86000001 0.86000001 0.86000001 0.86000001 0.86000001\n",
            " 0.86000001 0.86000001]\n",
            "iteration number: 33\n",
            "1/1 [==============================] - 53s 53s/step - loss: 0.4468 - accuracy: 0.8600\n",
            "1/1 [==============================] - 58s 58s/step - loss: 0.4468 - accuracy: 0.8600\n",
            "1/1 [==============================] - 64s 64s/step - loss: 0.3866 - accuracy: 0.8400\n",
            "1/1 [==============================] - 55s 55s/step - loss: 0.4468 - accuracy: 0.8600\n",
            "1/1 [==============================] - 59s 59s/step - loss: 0.4971 - accuracy: 0.8600\n",
            "1/1 [==============================] - 87s 87s/step - loss: 0.3882 - accuracy: 0.8400\n"
          ]
        },
        {
          "name": "stderr",
          "output_type": "stream",
          "text": [
            " 33%|███▎      | 33/100 [2:44:48<6:34:27, 353.25s/it]"
          ]
        },
        {
          "name": "stdout",
          "output_type": "stream",
          "text": [
            "(0, 1, 0, 0, 0, 0, 1, 0, 0, 1)\n",
            "[0.83999997 0.86000001 0.86000001 0.86000001 0.86000001 0.86000001\n",
            " 0.86000001 0.86000001 0.86000001 0.86000001 0.86000001 0.86000001\n",
            " 0.86000001 0.86000001 0.86000001 0.86000001 0.86000001 0.86000001\n",
            " 0.86000001 0.86000001 0.86000001 0.86000001 0.86000001 0.86000001\n",
            " 0.86000001 0.86000001 0.86000001 0.86000001 0.86000001 0.86000001\n",
            " 0.86000001 0.86000001 0.86000001]\n",
            "iteration number: 34\n",
            "1/1 [==============================] - 58s 58s/step - loss: 0.4468 - accuracy: 0.8600\n",
            "1/1 [==============================] - 59s 59s/step - loss: 0.4468 - accuracy: 0.8600\n",
            "1/1 [==============================] - 57s 57s/step - loss: 0.4468 - accuracy: 0.8600\n",
            "1/1 [==============================] - 25s 25s/step - loss: 1.5368 - accuracy: 0.8200\n",
            "1/1 [==============================] - 55s 55s/step - loss: 0.4468 - accuracy: 0.8600\n",
            "1/1 [==============================] - 60s 60s/step - loss: 0.4468 - accuracy: 0.8600\n"
          ]
        },
        {
          "name": "stderr",
          "output_type": "stream",
          "text": [
            " 34%|███▍      | 34/100 [2:50:13<6:19:23, 344.90s/it]"
          ]
        },
        {
          "name": "stdout",
          "output_type": "stream",
          "text": [
            "(0, 1, 0, 0, 0, 0, 1, 0, 0, 1)\n",
            "[0.83999997 0.86000001 0.86000001 0.86000001 0.86000001 0.86000001\n",
            " 0.86000001 0.86000001 0.86000001 0.86000001 0.86000001 0.86000001\n",
            " 0.86000001 0.86000001 0.86000001 0.86000001 0.86000001 0.86000001\n",
            " 0.86000001 0.86000001 0.86000001 0.86000001 0.86000001 0.86000001\n",
            " 0.86000001 0.86000001 0.86000001 0.86000001 0.86000001 0.86000001\n",
            " 0.86000001 0.86000001 0.86000001 0.86000001]\n",
            "iteration number: 35\n",
            "1/1 [==============================] - 57s 57s/step - loss: 0.4468 - accuracy: 0.8600\n",
            "1/1 [==============================] - 56s 56s/step - loss: 0.4468 - accuracy: 0.8600\n",
            "1/1 [==============================] - 80s 80s/step - loss: 0.4350 - accuracy: 0.8200\n",
            "1/1 [==============================] - 64s 64s/step - loss: 0.4971 - accuracy: 0.8600\n",
            "1/1 [==============================] - 59s 59s/step - loss: 0.4468 - accuracy: 0.8600\n",
            "1/1 [==============================] - 57s 57s/step - loss: 0.4468 - accuracy: 0.8600\n"
          ]
        },
        {
          "name": "stderr",
          "output_type": "stream",
          "text": [
            " 35%|███▌      | 35/100 [2:56:37<6:26:30, 356.77s/it]"
          ]
        },
        {
          "name": "stdout",
          "output_type": "stream",
          "text": [
            "(0, 1, 0, 0, 0, 0, 1, 0, 0, 1)\n",
            "[0.83999997 0.86000001 0.86000001 0.86000001 0.86000001 0.86000001\n",
            " 0.86000001 0.86000001 0.86000001 0.86000001 0.86000001 0.86000001\n",
            " 0.86000001 0.86000001 0.86000001 0.86000001 0.86000001 0.86000001\n",
            " 0.86000001 0.86000001 0.86000001 0.86000001 0.86000001 0.86000001\n",
            " 0.86000001 0.86000001 0.86000001 0.86000001 0.86000001 0.86000001\n",
            " 0.86000001 0.86000001 0.86000001 0.86000001 0.86000001]\n",
            "iteration number: 36\n",
            "1/1 [==============================] - 56s 56s/step - loss: 0.4468 - accuracy: 0.8600\n",
            "1/1 [==============================] - 60s 60s/step - loss: 0.4468 - accuracy: 0.8600\n",
            "1/1 [==============================] - 57s 57s/step - loss: 0.4468 - accuracy: 0.8600\n",
            "1/1 [==============================] - 56s 56s/step - loss: 0.4468 - accuracy: 0.8600\n",
            "1/1 [==============================] - 53s 53s/step - loss: 0.4468 - accuracy: 0.8600\n",
            "1/1 [==============================] - 88s 88s/step - loss: 0.4350 - accuracy: 0.8200\n"
          ]
        },
        {
          "name": "stderr",
          "output_type": "stream",
          "text": [
            " 36%|███▌      | 36/100 [3:02:57<6:27:59, 363.74s/it]"
          ]
        },
        {
          "name": "stdout",
          "output_type": "stream",
          "text": [
            "(0, 1, 0, 0, 0, 0, 1, 0, 0, 1)\n",
            "[0.83999997 0.86000001 0.86000001 0.86000001 0.86000001 0.86000001\n",
            " 0.86000001 0.86000001 0.86000001 0.86000001 0.86000001 0.86000001\n",
            " 0.86000001 0.86000001 0.86000001 0.86000001 0.86000001 0.86000001\n",
            " 0.86000001 0.86000001 0.86000001 0.86000001 0.86000001 0.86000001\n",
            " 0.86000001 0.86000001 0.86000001 0.86000001 0.86000001 0.86000001\n",
            " 0.86000001 0.86000001 0.86000001 0.86000001 0.86000001 0.86000001]\n",
            "iteration number: 37\n",
            "1/1 [==============================] - 58s 58s/step - loss: 0.4468 - accuracy: 0.8600\n",
            "1/1 [==============================] - 56s 56s/step - loss: 0.4468 - accuracy: 0.8600\n",
            "1/1 [==============================] - 54s 54s/step - loss: 0.4468 - accuracy: 0.8600\n",
            "1/1 [==============================] - 60s 60s/step - loss: 0.4468 - accuracy: 0.8600\n",
            "1/1 [==============================] - 86s 86s/step - loss: 0.3882 - accuracy: 0.8400\n",
            "1/1 [==============================] - 60s 60s/step - loss: 0.4468 - accuracy: 0.8600\n"
          ]
        },
        {
          "name": "stderr",
          "output_type": "stream",
          "text": [
            " 37%|███▋      | 37/100 [3:09:25<6:29:33, 371.00s/it]"
          ]
        },
        {
          "name": "stdout",
          "output_type": "stream",
          "text": [
            "(0, 1, 0, 0, 0, 0, 1, 0, 0, 1)\n",
            "[0.83999997 0.86000001 0.86000001 0.86000001 0.86000001 0.86000001\n",
            " 0.86000001 0.86000001 0.86000001 0.86000001 0.86000001 0.86000001\n",
            " 0.86000001 0.86000001 0.86000001 0.86000001 0.86000001 0.86000001\n",
            " 0.86000001 0.86000001 0.86000001 0.86000001 0.86000001 0.86000001\n",
            " 0.86000001 0.86000001 0.86000001 0.86000001 0.86000001 0.86000001\n",
            " 0.86000001 0.86000001 0.86000001 0.86000001 0.86000001 0.86000001\n",
            " 0.86000001]\n",
            "iteration number: 38\n",
            "1/1 [==============================] - 58s 58s/step - loss: 0.4468 - accuracy: 0.8600\n",
            "1/1 [==============================] - 83s 83s/step - loss: 0.4350 - accuracy: 0.8200\n",
            "1/1 [==============================] - 55s 55s/step - loss: 0.4468 - accuracy: 0.8600\n",
            "1/1 [==============================] - 59s 59s/step - loss: 0.4468 - accuracy: 0.8600\n",
            "1/1 [==============================] - 55s 55s/step - loss: 0.4468 - accuracy: 0.8600\n",
            "1/1 [==============================] - 54s 54s/step - loss: 0.4468 - accuracy: 0.8600\n"
          ]
        },
        {
          "name": "stderr",
          "output_type": "stream",
          "text": [
            " 38%|███▊      | 38/100 [3:15:40<6:24:19, 371.93s/it]"
          ]
        },
        {
          "name": "stdout",
          "output_type": "stream",
          "text": [
            "(0, 1, 0, 0, 0, 0, 1, 0, 0, 1)\n",
            "[0.83999997 0.86000001 0.86000001 0.86000001 0.86000001 0.86000001\n",
            " 0.86000001 0.86000001 0.86000001 0.86000001 0.86000001 0.86000001\n",
            " 0.86000001 0.86000001 0.86000001 0.86000001 0.86000001 0.86000001\n",
            " 0.86000001 0.86000001 0.86000001 0.86000001 0.86000001 0.86000001\n",
            " 0.86000001 0.86000001 0.86000001 0.86000001 0.86000001 0.86000001\n",
            " 0.86000001 0.86000001 0.86000001 0.86000001 0.86000001 0.86000001\n",
            " 0.86000001 0.86000001]\n",
            "iteration number: 39\n",
            "1/1 [==============================] - 52s 52s/step - loss: 0.4468 - accuracy: 0.8600\n",
            "1/1 [==============================] - 59s 59s/step - loss: 0.4468 - accuracy: 0.8600\n",
            "1/1 [==============================] - 58s 58s/step - loss: 0.4468 - accuracy: 0.8600\n",
            "1/1 [==============================] - 62s 62s/step - loss: 0.4906 - accuracy: 0.8600\n",
            "1/1 [==============================] - 32s 32s/step - loss: 0.7701 - accuracy: 0.8400\n",
            "1/1 [==============================] - 54s 54s/step - loss: 0.4468 - accuracy: 0.8600\n"
          ]
        },
        {
          "name": "stderr",
          "output_type": "stream",
          "text": [
            " 39%|███▉      | 39/100 [3:21:07<6:04:30, 358.54s/it]"
          ]
        },
        {
          "name": "stdout",
          "output_type": "stream",
          "text": [
            "(0, 1, 0, 0, 0, 0, 1, 0, 0, 1)\n",
            "[0.83999997 0.86000001 0.86000001 0.86000001 0.86000001 0.86000001\n",
            " 0.86000001 0.86000001 0.86000001 0.86000001 0.86000001 0.86000001\n",
            " 0.86000001 0.86000001 0.86000001 0.86000001 0.86000001 0.86000001\n",
            " 0.86000001 0.86000001 0.86000001 0.86000001 0.86000001 0.86000001\n",
            " 0.86000001 0.86000001 0.86000001 0.86000001 0.86000001 0.86000001\n",
            " 0.86000001 0.86000001 0.86000001 0.86000001 0.86000001 0.86000001\n",
            " 0.86000001 0.86000001 0.86000001]\n",
            "iteration number: 40\n",
            "1/1 [==============================] - 59s 59s/step - loss: 0.4468 - accuracy: 0.8600\n",
            "1/1 [==============================] - 56s 56s/step - loss: 0.4468 - accuracy: 0.8600\n",
            "1/1 [==============================] - 54s 54s/step - loss: 0.4468 - accuracy: 0.8600\n",
            "1/1 [==============================] - 53s 53s/step - loss: 0.4468 - accuracy: 0.8600\n",
            "1/1 [==============================] - 60s 60s/step - loss: 0.4468 - accuracy: 0.8600\n",
            "1/1 [==============================] - 58s 58s/step - loss: 0.4468 - accuracy: 0.8600\n"
          ]
        },
        {
          "name": "stderr",
          "output_type": "stream",
          "text": [
            " 40%|████      | 40/100 [3:26:57<5:55:59, 355.98s/it]"
          ]
        },
        {
          "name": "stdout",
          "output_type": "stream",
          "text": [
            "(0, 1, 0, 0, 0, 0, 1, 0, 0, 1)\n",
            "[0.83999997 0.86000001 0.86000001 0.86000001 0.86000001 0.86000001\n",
            " 0.86000001 0.86000001 0.86000001 0.86000001 0.86000001 0.86000001\n",
            " 0.86000001 0.86000001 0.86000001 0.86000001 0.86000001 0.86000001\n",
            " 0.86000001 0.86000001 0.86000001 0.86000001 0.86000001 0.86000001\n",
            " 0.86000001 0.86000001 0.86000001 0.86000001 0.86000001 0.86000001\n",
            " 0.86000001 0.86000001 0.86000001 0.86000001 0.86000001 0.86000001\n",
            " 0.86000001 0.86000001 0.86000001 0.86000001]\n",
            "iteration number: 41\n",
            "1/1 [==============================] - 57s 57s/step - loss: 0.4468 - accuracy: 0.8600\n",
            "1/1 [==============================] - 33s 33s/step - loss: 0.7701 - accuracy: 0.8400\n",
            "1/1 [==============================] - 54s 54s/step - loss: 0.4468 - accuracy: 0.8600\n",
            "1/1 [==============================] - 69s 69s/step - loss: 0.4906 - accuracy: 0.8600\n",
            "1/1 [==============================] - 59s 59s/step - loss: 0.4468 - accuracy: 0.8600\n",
            "1/1 [==============================] - 58s 58s/step - loss: 0.4468 - accuracy: 0.8600\n"
          ]
        },
        {
          "name": "stderr",
          "output_type": "stream",
          "text": [
            " 41%|████      | 41/100 [3:32:36<5:45:01, 350.87s/it]"
          ]
        },
        {
          "name": "stdout",
          "output_type": "stream",
          "text": [
            "(0, 1, 0, 0, 0, 0, 1, 0, 0, 1)\n",
            "[0.83999997 0.86000001 0.86000001 0.86000001 0.86000001 0.86000001\n",
            " 0.86000001 0.86000001 0.86000001 0.86000001 0.86000001 0.86000001\n",
            " 0.86000001 0.86000001 0.86000001 0.86000001 0.86000001 0.86000001\n",
            " 0.86000001 0.86000001 0.86000001 0.86000001 0.86000001 0.86000001\n",
            " 0.86000001 0.86000001 0.86000001 0.86000001 0.86000001 0.86000001\n",
            " 0.86000001 0.86000001 0.86000001 0.86000001 0.86000001 0.86000001\n",
            " 0.86000001 0.86000001 0.86000001 0.86000001 0.86000001]\n",
            "iteration number: 42\n",
            "1/1 [==============================] - 56s 56s/step - loss: 0.4468 - accuracy: 0.8600\n",
            "1/1 [==============================] - 60s 60s/step - loss: 0.4468 - accuracy: 0.8600\n",
            "1/1 [==============================] - 85s 85s/step - loss: 0.4350 - accuracy: 0.8200\n",
            "1/1 [==============================] - 57s 57s/step - loss: 0.4468 - accuracy: 0.8600\n",
            "1/1 [==============================] - 70s 70s/step - loss: 0.4906 - accuracy: 0.8600\n",
            "1/1 [==============================] - 59s 59s/step - loss: 0.4468 - accuracy: 0.8600\n"
          ]
        },
        {
          "name": "stderr",
          "output_type": "stream",
          "text": [
            " 42%|████▏     | 42/100 [3:39:15<5:53:06, 365.29s/it]"
          ]
        },
        {
          "name": "stdout",
          "output_type": "stream",
          "text": [
            "(0, 1, 0, 0, 0, 0, 1, 0, 0, 1)\n",
            "[0.83999997 0.86000001 0.86000001 0.86000001 0.86000001 0.86000001\n",
            " 0.86000001 0.86000001 0.86000001 0.86000001 0.86000001 0.86000001\n",
            " 0.86000001 0.86000001 0.86000001 0.86000001 0.86000001 0.86000001\n",
            " 0.86000001 0.86000001 0.86000001 0.86000001 0.86000001 0.86000001\n",
            " 0.86000001 0.86000001 0.86000001 0.86000001 0.86000001 0.86000001\n",
            " 0.86000001 0.86000001 0.86000001 0.86000001 0.86000001 0.86000001\n",
            " 0.86000001 0.86000001 0.86000001 0.86000001 0.86000001 0.86000001]\n",
            "iteration number: 43\n",
            "1/1 [==============================] - 85s 85s/step - loss: 0.4350 - accuracy: 0.8200\n",
            "1/1 [==============================] - 57s 57s/step - loss: 0.4468 - accuracy: 0.8600\n",
            "1/1 [==============================] - 61s 61s/step - loss: 0.4468 - accuracy: 0.8600\n",
            "1/1 [==============================] - 58s 58s/step - loss: 0.4468 - accuracy: 0.8600\n",
            "1/1 [==============================] - 56s 56s/step - loss: 0.4468 - accuracy: 0.8600\n",
            "1/1 [==============================] - 53s 53s/step - loss: 0.4468 - accuracy: 0.8600\n"
          ]
        },
        {
          "name": "stderr",
          "output_type": "stream",
          "text": [
            " 43%|████▎     | 43/100 [3:45:35<5:51:25, 369.92s/it]"
          ]
        },
        {
          "name": "stdout",
          "output_type": "stream",
          "text": [
            "(0, 1, 0, 0, 0, 0, 1, 0, 0, 1)\n",
            "[0.83999997 0.86000001 0.86000001 0.86000001 0.86000001 0.86000001\n",
            " 0.86000001 0.86000001 0.86000001 0.86000001 0.86000001 0.86000001\n",
            " 0.86000001 0.86000001 0.86000001 0.86000001 0.86000001 0.86000001\n",
            " 0.86000001 0.86000001 0.86000001 0.86000001 0.86000001 0.86000001\n",
            " 0.86000001 0.86000001 0.86000001 0.86000001 0.86000001 0.86000001\n",
            " 0.86000001 0.86000001 0.86000001 0.86000001 0.86000001 0.86000001\n",
            " 0.86000001 0.86000001 0.86000001 0.86000001 0.86000001 0.86000001\n",
            " 0.86000001]\n",
            "iteration number: 44\n",
            "1/1 [==============================] - 53s 53s/step - loss: 0.7806 - accuracy: 0.8400\n",
            "1/1 [==============================] - 84s 84s/step - loss: 0.4350 - accuracy: 0.8200\n",
            "1/1 [==============================] - 82s 82s/step - loss: 0.4350 - accuracy: 0.8200\n",
            "1/1 [==============================] - 80s 80s/step - loss: 0.4350 - accuracy: 0.8200\n",
            "1/1 [==============================] - 90s 90s/step - loss: 0.4350 - accuracy: 0.8200\n",
            "1/1 [==============================] - 59s 59s/step - loss: 0.4468 - accuracy: 0.8600\n"
          ]
        },
        {
          "name": "stderr",
          "output_type": "stream",
          "text": [
            " 44%|████▍     | 44/100 [3:53:15<6:10:27, 396.92s/it]"
          ]
        },
        {
          "name": "stdout",
          "output_type": "stream",
          "text": [
            "(0, 1, 0, 0, 0, 0, 1, 0, 0, 1)\n",
            "[0.83999997 0.86000001 0.86000001 0.86000001 0.86000001 0.86000001\n",
            " 0.86000001 0.86000001 0.86000001 0.86000001 0.86000001 0.86000001\n",
            " 0.86000001 0.86000001 0.86000001 0.86000001 0.86000001 0.86000001\n",
            " 0.86000001 0.86000001 0.86000001 0.86000001 0.86000001 0.86000001\n",
            " 0.86000001 0.86000001 0.86000001 0.86000001 0.86000001 0.86000001\n",
            " 0.86000001 0.86000001 0.86000001 0.86000001 0.86000001 0.86000001\n",
            " 0.86000001 0.86000001 0.86000001 0.86000001 0.86000001 0.86000001\n",
            " 0.86000001 0.86000001]\n",
            "iteration number: 45\n",
            "1/1 [==============================] - 52s 52s/step - loss: 0.7806 - accuracy: 0.8400\n",
            "1/1 [==============================] - 50s 50s/step - loss: 0.7806 - accuracy: 0.8400\n",
            "1/1 [==============================] - 54s 54s/step - loss: 0.7806 - accuracy: 0.8400\n",
            "1/1 [==============================] - 51s 51s/step - loss: 0.7806 - accuracy: 0.8400\n",
            "1/1 [==============================] - 50s 50s/step - loss: 0.7806 - accuracy: 0.8400\n",
            "1/1 [==============================] - 48s 48s/step - loss: 0.7806 - accuracy: 0.8400\n"
          ]
        },
        {
          "name": "stderr",
          "output_type": "stream",
          "text": [
            " 45%|████▌     | 45/100 [3:58:31<5:41:34, 372.63s/it]"
          ]
        },
        {
          "name": "stdout",
          "output_type": "stream",
          "text": [
            "(1, 0, 0, 0, 0, 0, 1, 0, 0, 1)\n",
            "[0.83999997 0.86000001 0.86000001 0.86000001 0.86000001 0.86000001\n",
            " 0.86000001 0.86000001 0.86000001 0.86000001 0.86000001 0.86000001\n",
            " 0.86000001 0.86000001 0.86000001 0.86000001 0.86000001 0.86000001\n",
            " 0.86000001 0.86000001 0.86000001 0.86000001 0.86000001 0.86000001\n",
            " 0.86000001 0.86000001 0.86000001 0.86000001 0.86000001 0.86000001\n",
            " 0.86000001 0.86000001 0.86000001 0.86000001 0.86000001 0.86000001\n",
            " 0.86000001 0.86000001 0.86000001 0.86000001 0.86000001 0.86000001\n",
            " 0.86000001 0.86000001 0.83999997]\n",
            "iteration number: 46\n",
            "1/1 [==============================] - 54s 54s/step - loss: 0.7806 - accuracy: 0.8400\n",
            "1/1 [==============================] - 52s 52s/step - loss: 0.7806 - accuracy: 0.8400\n",
            "1/1 [==============================] - 50s 50s/step - loss: 0.7806 - accuracy: 0.8400\n",
            "1/1 [==============================] - 49s 49s/step - loss: 0.7806 - accuracy: 0.8400\n",
            "1/1 [==============================] - 54s 54s/step - loss: 0.7806 - accuracy: 0.8400\n",
            "1/1 [==============================] - 52s 52s/step - loss: 0.7806 - accuracy: 0.8400\n"
          ]
        },
        {
          "name": "stderr",
          "output_type": "stream",
          "text": [
            " 46%|████▌     | 46/100 [4:03:53<5:21:38, 357.39s/it]"
          ]
        },
        {
          "name": "stdout",
          "output_type": "stream",
          "text": [
            "(1, 0, 0, 0, 0, 0, 1, 0, 0, 1)\n",
            "[0.83999997 0.86000001 0.86000001 0.86000001 0.86000001 0.86000001\n",
            " 0.86000001 0.86000001 0.86000001 0.86000001 0.86000001 0.86000001\n",
            " 0.86000001 0.86000001 0.86000001 0.86000001 0.86000001 0.86000001\n",
            " 0.86000001 0.86000001 0.86000001 0.86000001 0.86000001 0.86000001\n",
            " 0.86000001 0.86000001 0.86000001 0.86000001 0.86000001 0.86000001\n",
            " 0.86000001 0.86000001 0.86000001 0.86000001 0.86000001 0.86000001\n",
            " 0.86000001 0.86000001 0.86000001 0.86000001 0.86000001 0.86000001\n",
            " 0.86000001 0.86000001 0.83999997 0.83999997]\n",
            "iteration number: 47\n",
            "1/1 [==============================] - 51s 51s/step - loss: 0.7806 - accuracy: 0.8400\n",
            "1/1 [==============================] - 50s 50s/step - loss: 0.7806 - accuracy: 0.8400\n",
            "1/1 [==============================] - 55s 55s/step - loss: 0.7806 - accuracy: 0.8400\n",
            "1/1 [==============================] - 52s 52s/step - loss: 0.7806 - accuracy: 0.8400\n",
            "1/1 [==============================] - 51s 51s/step - loss: 0.7806 - accuracy: 0.8400\n",
            "1/1 [==============================] - 48s 48s/step - loss: 0.7806 - accuracy: 0.8400\n"
          ]
        },
        {
          "name": "stderr",
          "output_type": "stream",
          "text": [
            " 47%|████▋     | 47/100 [4:09:10<5:05:02, 345.32s/it]"
          ]
        },
        {
          "name": "stdout",
          "output_type": "stream",
          "text": [
            "(1, 0, 0, 0, 0, 0, 1, 0, 0, 1)\n",
            "[0.83999997 0.86000001 0.86000001 0.86000001 0.86000001 0.86000001\n",
            " 0.86000001 0.86000001 0.86000001 0.86000001 0.86000001 0.86000001\n",
            " 0.86000001 0.86000001 0.86000001 0.86000001 0.86000001 0.86000001\n",
            " 0.86000001 0.86000001 0.86000001 0.86000001 0.86000001 0.86000001\n",
            " 0.86000001 0.86000001 0.86000001 0.86000001 0.86000001 0.86000001\n",
            " 0.86000001 0.86000001 0.86000001 0.86000001 0.86000001 0.86000001\n",
            " 0.86000001 0.86000001 0.86000001 0.86000001 0.86000001 0.86000001\n",
            " 0.86000001 0.86000001 0.83999997 0.83999997 0.83999997]\n",
            "iteration number: 48\n",
            "1/1 [==============================] - 48s 48s/step - loss: 0.7806 - accuracy: 0.8400\n",
            "1/1 [==============================] - 54s 54s/step - loss: 0.7806 - accuracy: 0.8400\n",
            "1/1 [==============================] - 53s 53s/step - loss: 0.7806 - accuracy: 0.8400\n",
            "1/1 [==============================] - 53s 53s/step - loss: 0.7806 - accuracy: 0.8400\n",
            "1/1 [==============================] - 56s 56s/step - loss: 0.7806 - accuracy: 0.8400\n",
            "1/1 [==============================] - 54s 54s/step - loss: 0.7806 - accuracy: 0.8400\n"
          ]
        },
        {
          "name": "stderr",
          "output_type": "stream",
          "text": [
            " 48%|████▊     | 48/100 [4:14:40<4:55:19, 340.76s/it]"
          ]
        },
        {
          "name": "stdout",
          "output_type": "stream",
          "text": [
            "(1, 0, 0, 0, 0, 0, 1, 0, 0, 1)\n",
            "[0.83999997 0.86000001 0.86000001 0.86000001 0.86000001 0.86000001\n",
            " 0.86000001 0.86000001 0.86000001 0.86000001 0.86000001 0.86000001\n",
            " 0.86000001 0.86000001 0.86000001 0.86000001 0.86000001 0.86000001\n",
            " 0.86000001 0.86000001 0.86000001 0.86000001 0.86000001 0.86000001\n",
            " 0.86000001 0.86000001 0.86000001 0.86000001 0.86000001 0.86000001\n",
            " 0.86000001 0.86000001 0.86000001 0.86000001 0.86000001 0.86000001\n",
            " 0.86000001 0.86000001 0.86000001 0.86000001 0.86000001 0.86000001\n",
            " 0.86000001 0.86000001 0.83999997 0.83999997 0.83999997 0.83999997]\n",
            "iteration number: 49\n",
            "1/1 [==============================] - 53s 53s/step - loss: 0.7806 - accuracy: 0.8400\n",
            "1/1 [==============================] - 52s 52s/step - loss: 0.7806 - accuracy: 0.8400\n",
            "1/1 [==============================] - 52s 52s/step - loss: 0.7806 - accuracy: 0.8400\n",
            "1/1 [==============================] - 55s 55s/step - loss: 0.7806 - accuracy: 0.8400\n",
            "1/1 [==============================] - 53s 53s/step - loss: 0.7806 - accuracy: 0.8400\n",
            "1/1 [==============================] - 52s 52s/step - loss: 0.7806 - accuracy: 0.8400\n"
          ]
        },
        {
          "name": "stderr",
          "output_type": "stream",
          "text": [
            " 49%|████▉     | 49/100 [4:20:10<4:46:43, 337.33s/it]"
          ]
        },
        {
          "name": "stdout",
          "output_type": "stream",
          "text": [
            "(1, 0, 0, 0, 0, 0, 1, 0, 0, 1)\n",
            "[0.83999997 0.86000001 0.86000001 0.86000001 0.86000001 0.86000001\n",
            " 0.86000001 0.86000001 0.86000001 0.86000001 0.86000001 0.86000001\n",
            " 0.86000001 0.86000001 0.86000001 0.86000001 0.86000001 0.86000001\n",
            " 0.86000001 0.86000001 0.86000001 0.86000001 0.86000001 0.86000001\n",
            " 0.86000001 0.86000001 0.86000001 0.86000001 0.86000001 0.86000001\n",
            " 0.86000001 0.86000001 0.86000001 0.86000001 0.86000001 0.86000001\n",
            " 0.86000001 0.86000001 0.86000001 0.86000001 0.86000001 0.86000001\n",
            " 0.86000001 0.86000001 0.83999997 0.83999997 0.83999997 0.83999997\n",
            " 0.83999997]\n",
            "iteration number: 50\n",
            "1/1 [==============================] - 56s 56s/step - loss: 0.7806 - accuracy: 0.8400\n",
            "1/1 [==============================] - 54s 54s/step - loss: 0.7806 - accuracy: 0.8400\n",
            "1/1 [==============================] - 53s 53s/step - loss: 0.7806 - accuracy: 0.8400\n",
            "1/1 [==============================] - 52s 52s/step - loss: 0.7806 - accuracy: 0.8400\n",
            "1/1 [==============================] - 52s 52s/step - loss: 0.7806 - accuracy: 0.8400\n",
            "1/1 [==============================] - 85s 85s/step - loss: 0.4368 - accuracy: 0.8000\n"
          ]
        },
        {
          "name": "stderr",
          "output_type": "stream",
          "text": [
            " 50%|█████     | 50/100 [4:26:16<4:48:18, 345.97s/it]"
          ]
        },
        {
          "name": "stdout",
          "output_type": "stream",
          "text": [
            "(1, 0, 0, 0, 0, 0, 1, 0, 0, 1)\n",
            "[0.83999997 0.86000001 0.86000001 0.86000001 0.86000001 0.86000001\n",
            " 0.86000001 0.86000001 0.86000001 0.86000001 0.86000001 0.86000001\n",
            " 0.86000001 0.86000001 0.86000001 0.86000001 0.86000001 0.86000001\n",
            " 0.86000001 0.86000001 0.86000001 0.86000001 0.86000001 0.86000001\n",
            " 0.86000001 0.86000001 0.86000001 0.86000001 0.86000001 0.86000001\n",
            " 0.86000001 0.86000001 0.86000001 0.86000001 0.86000001 0.86000001\n",
            " 0.86000001 0.86000001 0.86000001 0.86000001 0.86000001 0.86000001\n",
            " 0.86000001 0.86000001 0.83999997 0.83999997 0.83999997 0.83999997\n",
            " 0.83999997 0.83999997]\n",
            "iteration number: 51\n",
            "1/1 [==============================] - 65s 65s/step - loss: 0.4409 - accuracy: 0.8000\n",
            "1/1 [==============================] - 28s 28s/step - loss: 1.5368 - accuracy: 0.8200\n",
            "1/1 [==============================] - 55s 55s/step - loss: 0.7806 - accuracy: 0.8400\n",
            "1/1 [==============================] - 53s 53s/step - loss: 0.7806 - accuracy: 0.8400\n",
            "1/1 [==============================] - 53s 53s/step - loss: 0.7806 - accuracy: 0.8400\n",
            "1/1 [==============================] - 53s 53s/step - loss: 0.7806 - accuracy: 0.8400\n"
          ]
        },
        {
          "name": "stderr",
          "output_type": "stream",
          "text": [
            " 51%|█████     | 51/100 [4:31:32<4:35:14, 337.04s/it]"
          ]
        },
        {
          "name": "stdout",
          "output_type": "stream",
          "text": [
            "(1, 0, 0, 0, 0, 0, 1, 0, 0, 1)\n",
            "[0.83999997 0.86000001 0.86000001 0.86000001 0.86000001 0.86000001\n",
            " 0.86000001 0.86000001 0.86000001 0.86000001 0.86000001 0.86000001\n",
            " 0.86000001 0.86000001 0.86000001 0.86000001 0.86000001 0.86000001\n",
            " 0.86000001 0.86000001 0.86000001 0.86000001 0.86000001 0.86000001\n",
            " 0.86000001 0.86000001 0.86000001 0.86000001 0.86000001 0.86000001\n",
            " 0.86000001 0.86000001 0.86000001 0.86000001 0.86000001 0.86000001\n",
            " 0.86000001 0.86000001 0.86000001 0.86000001 0.86000001 0.86000001\n",
            " 0.86000001 0.86000001 0.83999997 0.83999997 0.83999997 0.83999997\n",
            " 0.83999997 0.83999997 0.83999997]\n",
            "iteration number: 52\n",
            "1/1 [==============================] - 66s 66s/step - loss: 0.4409 - accuracy: 0.8000\n",
            "1/1 [==============================] - 62s 62s/step - loss: 0.4190 - accuracy: 0.7800\n",
            "1/1 [==============================] - 59s 59s/step - loss: 0.4409 - accuracy: 0.8000\n",
            "1/1 [==============================] - 67s 67s/step - loss: 0.4409 - accuracy: 0.8000\n",
            "1/1 [==============================] - 65s 65s/step - loss: 0.4409 - accuracy: 0.8000\n",
            "1/1 [==============================] - 64s 64s/step - loss: 0.4409 - accuracy: 0.8000\n"
          ]
        },
        {
          "name": "stderr",
          "output_type": "stream",
          "text": [
            " 52%|█████▏    | 52/100 [4:38:10<4:44:08, 355.17s/it]"
          ]
        },
        {
          "name": "stdout",
          "output_type": "stream",
          "text": [
            "(1, 0, 0, 0, 1, 0, 1, 0, 0, 1)\n",
            "[0.83999997 0.86000001 0.86000001 0.86000001 0.86000001 0.86000001\n",
            " 0.86000001 0.86000001 0.86000001 0.86000001 0.86000001 0.86000001\n",
            " 0.86000001 0.86000001 0.86000001 0.86000001 0.86000001 0.86000001\n",
            " 0.86000001 0.86000001 0.86000001 0.86000001 0.86000001 0.86000001\n",
            " 0.86000001 0.86000001 0.86000001 0.86000001 0.86000001 0.86000001\n",
            " 0.86000001 0.86000001 0.86000001 0.86000001 0.86000001 0.86000001\n",
            " 0.86000001 0.86000001 0.86000001 0.86000001 0.86000001 0.86000001\n",
            " 0.86000001 0.86000001 0.83999997 0.83999997 0.83999997 0.83999997\n",
            " 0.83999997 0.83999997 0.83999997 0.80000001]\n",
            "iteration number: 53\n",
            "1/1 [==============================] - 67s 67s/step - loss: 0.4409 - accuracy: 0.8000\n",
            "1/1 [==============================] - 65s 65s/step - loss: 0.4409 - accuracy: 0.8000\n",
            "1/1 [==============================] - 64s 64s/step - loss: 0.4409 - accuracy: 0.8000\n",
            "1/1 [==============================] - 35s 35s/step - loss: 0.4748 - accuracy: 0.8000\n",
            "1/1 [==============================] - 67s 67s/step - loss: 0.4409 - accuracy: 0.8000\n",
            "1/1 [==============================] - 66s 66s/step - loss: 0.4409 - accuracy: 0.8000\n"
          ]
        },
        {
          "name": "stderr",
          "output_type": "stream",
          "text": [
            " 53%|█████▎    | 53/100 [4:44:25<4:43:04, 361.37s/it]"
          ]
        },
        {
          "name": "stdout",
          "output_type": "stream",
          "text": [
            "(1, 0, 0, 0, 1, 0, 1, 0, 0, 1)\n",
            "[0.83999997 0.86000001 0.86000001 0.86000001 0.86000001 0.86000001\n",
            " 0.86000001 0.86000001 0.86000001 0.86000001 0.86000001 0.86000001\n",
            " 0.86000001 0.86000001 0.86000001 0.86000001 0.86000001 0.86000001\n",
            " 0.86000001 0.86000001 0.86000001 0.86000001 0.86000001 0.86000001\n",
            " 0.86000001 0.86000001 0.86000001 0.86000001 0.86000001 0.86000001\n",
            " 0.86000001 0.86000001 0.86000001 0.86000001 0.86000001 0.86000001\n",
            " 0.86000001 0.86000001 0.86000001 0.86000001 0.86000001 0.86000001\n",
            " 0.86000001 0.86000001 0.83999997 0.83999997 0.83999997 0.83999997\n",
            " 0.83999997 0.83999997 0.83999997 0.80000001 0.80000001]\n",
            "iteration number: 54\n",
            "1/1 [==============================] - 65s 65s/step - loss: 0.4409 - accuracy: 0.8000\n",
            "1/1 [==============================] - 66s 66s/step - loss: 0.4409 - accuracy: 0.8000\n",
            "1/1 [==============================] - 42s 42s/step - loss: 0.5211 - accuracy: 0.7800\n",
            "1/1 [==============================] - 67s 67s/step - loss: 0.4409 - accuracy: 0.8000\n",
            "1/1 [==============================] - 66s 66s/step - loss: 0.4409 - accuracy: 0.8000\n",
            "1/1 [==============================] - 65s 65s/step - loss: 0.4409 - accuracy: 0.8000\n"
          ]
        },
        {
          "name": "stderr",
          "output_type": "stream",
          "text": [
            " 54%|█████▍    | 54/100 [4:50:47<4:41:47, 367.56s/it]"
          ]
        },
        {
          "name": "stdout",
          "output_type": "stream",
          "text": [
            "(1, 0, 0, 0, 1, 0, 1, 0, 0, 1)\n",
            "[0.83999997 0.86000001 0.86000001 0.86000001 0.86000001 0.86000001\n",
            " 0.86000001 0.86000001 0.86000001 0.86000001 0.86000001 0.86000001\n",
            " 0.86000001 0.86000001 0.86000001 0.86000001 0.86000001 0.86000001\n",
            " 0.86000001 0.86000001 0.86000001 0.86000001 0.86000001 0.86000001\n",
            " 0.86000001 0.86000001 0.86000001 0.86000001 0.86000001 0.86000001\n",
            " 0.86000001 0.86000001 0.86000001 0.86000001 0.86000001 0.86000001\n",
            " 0.86000001 0.86000001 0.86000001 0.86000001 0.86000001 0.86000001\n",
            " 0.86000001 0.86000001 0.83999997 0.83999997 0.83999997 0.83999997\n",
            " 0.83999997 0.83999997 0.83999997 0.80000001 0.80000001 0.80000001]\n",
            "iteration number: 55\n",
            "1/1 [==============================] - 68s 68s/step - loss: 0.4409 - accuracy: 0.8000\n",
            "1/1 [==============================] - 67s 67s/step - loss: 0.4409 - accuracy: 0.8000\n",
            "1/1 [==============================] - 66s 66s/step - loss: 0.4409 - accuracy: 0.8000\n",
            "1/1 [==============================] - 68s 68s/step - loss: 0.4409 - accuracy: 0.8000\n",
            "1/1 [==============================] - 66s 66s/step - loss: 0.4409 - accuracy: 0.8000\n",
            "1/1 [==============================] - 66s 66s/step - loss: 0.4409 - accuracy: 0.8000\n"
          ]
        },
        {
          "name": "stderr",
          "output_type": "stream",
          "text": [
            " 55%|█████▌    | 55/100 [4:57:40<4:45:48, 381.08s/it]"
          ]
        },
        {
          "name": "stdout",
          "output_type": "stream",
          "text": [
            "(1, 0, 0, 0, 1, 0, 1, 0, 0, 1)\n",
            "[0.83999997 0.86000001 0.86000001 0.86000001 0.86000001 0.86000001\n",
            " 0.86000001 0.86000001 0.86000001 0.86000001 0.86000001 0.86000001\n",
            " 0.86000001 0.86000001 0.86000001 0.86000001 0.86000001 0.86000001\n",
            " 0.86000001 0.86000001 0.86000001 0.86000001 0.86000001 0.86000001\n",
            " 0.86000001 0.86000001 0.86000001 0.86000001 0.86000001 0.86000001\n",
            " 0.86000001 0.86000001 0.86000001 0.86000001 0.86000001 0.86000001\n",
            " 0.86000001 0.86000001 0.86000001 0.86000001 0.86000001 0.86000001\n",
            " 0.86000001 0.86000001 0.83999997 0.83999997 0.83999997 0.83999997\n",
            " 0.83999997 0.83999997 0.83999997 0.80000001 0.80000001 0.80000001\n",
            " 0.80000001]\n",
            "iteration number: 56\n",
            "1/1 [==============================] - 65s 65s/step - loss: 0.4409 - accuracy: 0.8000\n",
            "1/1 [==============================] - 67s 67s/step - loss: 0.4409 - accuracy: 0.8000\n",
            "1/1 [==============================] - 66s 66s/step - loss: 0.4409 - accuracy: 0.8000\n",
            "1/1 [==============================] - 36s 36s/step - loss: 0.4748 - accuracy: 0.8000\n",
            "1/1 [==============================] - 68s 68s/step - loss: 0.4409 - accuracy: 0.8000\n",
            "1/1 [==============================] - 66s 66s/step - loss: 0.4409 - accuracy: 0.8000\n"
          ]
        },
        {
          "name": "stderr",
          "output_type": "stream",
          "text": [
            " 56%|█████▌    | 56/100 [5:04:00<4:39:15, 380.81s/it]"
          ]
        },
        {
          "name": "stdout",
          "output_type": "stream",
          "text": [
            "(1, 0, 0, 0, 1, 0, 1, 0, 0, 1)\n",
            "[0.83999997 0.86000001 0.86000001 0.86000001 0.86000001 0.86000001\n",
            " 0.86000001 0.86000001 0.86000001 0.86000001 0.86000001 0.86000001\n",
            " 0.86000001 0.86000001 0.86000001 0.86000001 0.86000001 0.86000001\n",
            " 0.86000001 0.86000001 0.86000001 0.86000001 0.86000001 0.86000001\n",
            " 0.86000001 0.86000001 0.86000001 0.86000001 0.86000001 0.86000001\n",
            " 0.86000001 0.86000001 0.86000001 0.86000001 0.86000001 0.86000001\n",
            " 0.86000001 0.86000001 0.86000001 0.86000001 0.86000001 0.86000001\n",
            " 0.86000001 0.86000001 0.83999997 0.83999997 0.83999997 0.83999997\n",
            " 0.83999997 0.83999997 0.83999997 0.80000001 0.80000001 0.80000001\n",
            " 0.80000001 0.80000001]\n",
            "iteration number: 57\n",
            "1/1 [==============================] - 66s 66s/step - loss: 0.4409 - accuracy: 0.8000\n",
            "1/1 [==============================] - 65s 65s/step - loss: 0.4409 - accuracy: 0.8000\n",
            "1/1 [==============================] - 68s 68s/step - loss: 0.4409 - accuracy: 0.8000\n",
            "1/1 [==============================] - 67s 67s/step - loss: 0.4409 - accuracy: 0.8000\n",
            "1/1 [==============================] - 102s 102s/step - loss: 0.3841 - accuracy: 0.8200\n",
            "1/1 [==============================] - 67s 67s/step - loss: 0.4409 - accuracy: 0.8000\n"
          ]
        },
        {
          "name": "stderr",
          "output_type": "stream",
          "text": [
            " 57%|█████▋    | 57/100 [5:11:27<4:47:08, 400.66s/it]"
          ]
        },
        {
          "name": "stdout",
          "output_type": "stream",
          "text": [
            "(1, 1, 0, 0, 1, 0, 1, 0, 0, 1)\n",
            "[0.83999997 0.86000001 0.86000001 0.86000001 0.86000001 0.86000001\n",
            " 0.86000001 0.86000001 0.86000001 0.86000001 0.86000001 0.86000001\n",
            " 0.86000001 0.86000001 0.86000001 0.86000001 0.86000001 0.86000001\n",
            " 0.86000001 0.86000001 0.86000001 0.86000001 0.86000001 0.86000001\n",
            " 0.86000001 0.86000001 0.86000001 0.86000001 0.86000001 0.86000001\n",
            " 0.86000001 0.86000001 0.86000001 0.86000001 0.86000001 0.86000001\n",
            " 0.86000001 0.86000001 0.86000001 0.86000001 0.86000001 0.86000001\n",
            " 0.86000001 0.86000001 0.83999997 0.83999997 0.83999997 0.83999997\n",
            " 0.83999997 0.83999997 0.83999997 0.80000001 0.80000001 0.80000001\n",
            " 0.80000001 0.80000001 0.81999999]\n",
            "iteration number: 58\n",
            "1/1 [==============================] - 69s 69s/step - loss: 0.4409 - accuracy: 0.8000\n",
            "1/1 [==============================] - 67s 67s/step - loss: 0.4409 - accuracy: 0.8000\n",
            "1/1 [==============================] - 67s 67s/step - loss: 0.4409 - accuracy: 0.8000\n",
            "1/1 [==============================] - 70s 70s/step - loss: 0.4409 - accuracy: 0.8000\n",
            "1/1 [==============================] - 68s 68s/step - loss: 0.4409 - accuracy: 0.8000\n",
            "1/1 [==============================] - 67s 67s/step - loss: 0.4409 - accuracy: 0.8000\n"
          ]
        },
        {
          "name": "stderr",
          "output_type": "stream",
          "text": [
            " 58%|█████▊    | 58/100 [5:18:27<4:44:32, 406.49s/it]"
          ]
        },
        {
          "name": "stdout",
          "output_type": "stream",
          "text": [
            "(1, 0, 0, 0, 1, 0, 1, 0, 0, 1)\n",
            "[0.83999997 0.86000001 0.86000001 0.86000001 0.86000001 0.86000001\n",
            " 0.86000001 0.86000001 0.86000001 0.86000001 0.86000001 0.86000001\n",
            " 0.86000001 0.86000001 0.86000001 0.86000001 0.86000001 0.86000001\n",
            " 0.86000001 0.86000001 0.86000001 0.86000001 0.86000001 0.86000001\n",
            " 0.86000001 0.86000001 0.86000001 0.86000001 0.86000001 0.86000001\n",
            " 0.86000001 0.86000001 0.86000001 0.86000001 0.86000001 0.86000001\n",
            " 0.86000001 0.86000001 0.86000001 0.86000001 0.86000001 0.86000001\n",
            " 0.86000001 0.86000001 0.83999997 0.83999997 0.83999997 0.83999997\n",
            " 0.83999997 0.83999997 0.83999997 0.80000001 0.80000001 0.80000001\n",
            " 0.80000001 0.80000001 0.81999999 0.80000001]\n",
            "iteration number: 59\n",
            "1/1 [==============================] - 66s 66s/step - loss: 0.4409 - accuracy: 0.8000\n",
            "1/1 [==============================] - 68s 68s/step - loss: 0.4409 - accuracy: 0.8000\n",
            "1/1 [==============================] - 67s 67s/step - loss: 0.4409 - accuracy: 0.8000\n",
            "1/1 [==============================] - 66s 66s/step - loss: 0.4409 - accuracy: 0.8000\n",
            "1/1 [==============================] - 59s 59s/step - loss: 0.7806 - accuracy: 0.8400\n",
            "1/1 [==============================] - 68s 68s/step - loss: 0.4409 - accuracy: 0.8000\n"
          ]
        },
        {
          "name": "stderr",
          "output_type": "stream",
          "text": [
            " 59%|█████▉    | 59/100 [5:25:15<4:37:59, 406.82s/it]"
          ]
        },
        {
          "name": "stdout",
          "output_type": "stream",
          "text": [
            "(1, 0, 0, 0, 0, 0, 1, 0, 0, 1)\n",
            "[0.83999997 0.86000001 0.86000001 0.86000001 0.86000001 0.86000001\n",
            " 0.86000001 0.86000001 0.86000001 0.86000001 0.86000001 0.86000001\n",
            " 0.86000001 0.86000001 0.86000001 0.86000001 0.86000001 0.86000001\n",
            " 0.86000001 0.86000001 0.86000001 0.86000001 0.86000001 0.86000001\n",
            " 0.86000001 0.86000001 0.86000001 0.86000001 0.86000001 0.86000001\n",
            " 0.86000001 0.86000001 0.86000001 0.86000001 0.86000001 0.86000001\n",
            " 0.86000001 0.86000001 0.86000001 0.86000001 0.86000001 0.86000001\n",
            " 0.86000001 0.86000001 0.83999997 0.83999997 0.83999997 0.83999997\n",
            " 0.83999997 0.83999997 0.83999997 0.80000001 0.80000001 0.80000001\n",
            " 0.80000001 0.80000001 0.81999999 0.80000001 0.83999997]\n",
            "iteration number: 60\n",
            "1/1 [==============================] - 67s 67s/step - loss: 0.4409 - accuracy: 0.8000\n",
            "1/1 [==============================] - 66s 66s/step - loss: 0.4409 - accuracy: 0.8000\n",
            "1/1 [==============================] - 59s 59s/step - loss: 0.7806 - accuracy: 0.8400\n",
            "1/1 [==============================] - 67s 67s/step - loss: 0.4409 - accuracy: 0.8000\n",
            "1/1 [==============================] - 67s 67s/step - loss: 0.4409 - accuracy: 0.8000\n",
            "1/1 [==============================] - 69s 69s/step - loss: 0.4409 - accuracy: 0.8000\n"
          ]
        },
        {
          "name": "stderr",
          "output_type": "stream",
          "text": [
            " 60%|██████    | 60/100 [5:32:03<4:31:30, 407.25s/it]"
          ]
        },
        {
          "name": "stdout",
          "output_type": "stream",
          "text": [
            "(1, 0, 0, 0, 0, 0, 1, 0, 0, 1)\n",
            "[0.83999997 0.86000001 0.86000001 0.86000001 0.86000001 0.86000001\n",
            " 0.86000001 0.86000001 0.86000001 0.86000001 0.86000001 0.86000001\n",
            " 0.86000001 0.86000001 0.86000001 0.86000001 0.86000001 0.86000001\n",
            " 0.86000001 0.86000001 0.86000001 0.86000001 0.86000001 0.86000001\n",
            " 0.86000001 0.86000001 0.86000001 0.86000001 0.86000001 0.86000001\n",
            " 0.86000001 0.86000001 0.86000001 0.86000001 0.86000001 0.86000001\n",
            " 0.86000001 0.86000001 0.86000001 0.86000001 0.86000001 0.86000001\n",
            " 0.86000001 0.86000001 0.83999997 0.83999997 0.83999997 0.83999997\n",
            " 0.83999997 0.83999997 0.83999997 0.80000001 0.80000001 0.80000001\n",
            " 0.80000001 0.80000001 0.81999999 0.80000001 0.83999997 0.83999997]\n",
            "iteration number: 61\n",
            "1/1 [==============================] - 67s 67s/step - loss: 0.4409 - accuracy: 0.8000\n",
            "1/1 [==============================] - 67s 67s/step - loss: 0.4409 - accuracy: 0.8000\n",
            "1/1 [==============================] - 66s 66s/step - loss: 0.4409 - accuracy: 0.8000\n",
            "1/1 [==============================] - 69s 69s/step - loss: 0.4409 - accuracy: 0.8000\n",
            "1/1 [==============================] - 40s 40s/step - loss: 0.5211 - accuracy: 0.7800\n",
            "1/1 [==============================] - 66s 66s/step - loss: 0.4409 - accuracy: 0.8000\n"
          ]
        },
        {
          "name": "stderr",
          "output_type": "stream",
          "text": [
            " 61%|██████    | 61/100 [5:38:29<4:20:34, 400.87s/it]"
          ]
        },
        {
          "name": "stdout",
          "output_type": "stream",
          "text": [
            "(1, 0, 0, 0, 1, 0, 1, 0, 0, 1)\n",
            "[0.83999997 0.86000001 0.86000001 0.86000001 0.86000001 0.86000001\n",
            " 0.86000001 0.86000001 0.86000001 0.86000001 0.86000001 0.86000001\n",
            " 0.86000001 0.86000001 0.86000001 0.86000001 0.86000001 0.86000001\n",
            " 0.86000001 0.86000001 0.86000001 0.86000001 0.86000001 0.86000001\n",
            " 0.86000001 0.86000001 0.86000001 0.86000001 0.86000001 0.86000001\n",
            " 0.86000001 0.86000001 0.86000001 0.86000001 0.86000001 0.86000001\n",
            " 0.86000001 0.86000001 0.86000001 0.86000001 0.86000001 0.86000001\n",
            " 0.86000001 0.86000001 0.83999997 0.83999997 0.83999997 0.83999997\n",
            " 0.83999997 0.83999997 0.83999997 0.80000001 0.80000001 0.80000001\n",
            " 0.80000001 0.80000001 0.81999999 0.80000001 0.83999997 0.83999997\n",
            " 0.80000001]\n",
            "iteration number: 62\n",
            "1/1 [==============================] - 61s 61s/step - loss: 0.4190 - accuracy: 0.7800\n",
            "1/1 [==============================] - 51s 51s/step - loss: 0.7806 - accuracy: 0.8400\n",
            "1/1 [==============================] - 68s 68s/step - loss: 0.4409 - accuracy: 0.8000\n",
            "1/1 [==============================] - 67s 67s/step - loss: 0.4409 - accuracy: 0.8000\n",
            "1/1 [==============================] - 67s 67s/step - loss: 0.4409 - accuracy: 0.8000\n",
            "1/1 [==============================] - 69s 69s/step - loss: 0.4409 - accuracy: 0.8000\n"
          ]
        },
        {
          "name": "stderr",
          "output_type": "stream",
          "text": [
            " 62%|██████▏   | 62/100 [5:45:06<4:13:13, 399.82s/it]"
          ]
        },
        {
          "name": "stdout",
          "output_type": "stream",
          "text": [
            "(1, 0, 0, 0, 0, 0, 1, 0, 0, 1)\n",
            "[0.83999997 0.86000001 0.86000001 0.86000001 0.86000001 0.86000001\n",
            " 0.86000001 0.86000001 0.86000001 0.86000001 0.86000001 0.86000001\n",
            " 0.86000001 0.86000001 0.86000001 0.86000001 0.86000001 0.86000001\n",
            " 0.86000001 0.86000001 0.86000001 0.86000001 0.86000001 0.86000001\n",
            " 0.86000001 0.86000001 0.86000001 0.86000001 0.86000001 0.86000001\n",
            " 0.86000001 0.86000001 0.86000001 0.86000001 0.86000001 0.86000001\n",
            " 0.86000001 0.86000001 0.86000001 0.86000001 0.86000001 0.86000001\n",
            " 0.86000001 0.86000001 0.83999997 0.83999997 0.83999997 0.83999997\n",
            " 0.83999997 0.83999997 0.83999997 0.80000001 0.80000001 0.80000001\n",
            " 0.80000001 0.80000001 0.81999999 0.80000001 0.83999997 0.83999997\n",
            " 0.80000001 0.83999997]\n",
            "iteration number: 63\n",
            "1/1 [==============================] - 64s 64s/step - loss: 0.4190 - accuracy: 0.7800\n",
            "1/1 [==============================] - 102s 102s/step - loss: 0.4423 - accuracy: 0.7800\n",
            "1/1 [==============================] - 65s 65s/step - loss: 0.4190 - accuracy: 0.7800\n",
            "1/1 [==============================] - 39s 39s/step - loss: 0.4812 - accuracy: 0.7800\n",
            "1/1 [==============================] - 58s 58s/step - loss: 0.4190 - accuracy: 0.7800\n",
            "1/1 [==============================] - 55s 55s/step - loss: 0.4190 - accuracy: 0.7800\n"
          ]
        },
        {
          "name": "stderr",
          "output_type": "stream",
          "text": [
            " 63%|██████▎   | 63/100 [5:51:43<4:06:00, 398.92s/it]"
          ]
        },
        {
          "name": "stdout",
          "output_type": "stream",
          "text": [
            "(1, 0, 0, 1, 1, 0, 1, 0, 0, 1)\n",
            "[0.83999997 0.86000001 0.86000001 0.86000001 0.86000001 0.86000001\n",
            " 0.86000001 0.86000001 0.86000001 0.86000001 0.86000001 0.86000001\n",
            " 0.86000001 0.86000001 0.86000001 0.86000001 0.86000001 0.86000001\n",
            " 0.86000001 0.86000001 0.86000001 0.86000001 0.86000001 0.86000001\n",
            " 0.86000001 0.86000001 0.86000001 0.86000001 0.86000001 0.86000001\n",
            " 0.86000001 0.86000001 0.86000001 0.86000001 0.86000001 0.86000001\n",
            " 0.86000001 0.86000001 0.86000001 0.86000001 0.86000001 0.86000001\n",
            " 0.86000001 0.86000001 0.83999997 0.83999997 0.83999997 0.83999997\n",
            " 0.83999997 0.83999997 0.83999997 0.80000001 0.80000001 0.80000001\n",
            " 0.80000001 0.80000001 0.81999999 0.80000001 0.83999997 0.83999997\n",
            " 0.80000001 0.83999997 0.77999997]\n",
            "iteration number: 64\n",
            "1/1 [==============================] - 64s 64s/step - loss: 0.4190 - accuracy: 0.7800\n",
            "1/1 [==============================] - 57s 57s/step - loss: 0.4190 - accuracy: 0.7800\n",
            "1/1 [==============================] - 80s 80s/step - loss: 0.3889 - accuracy: 0.7800\n",
            "1/1 [==============================] - 65s 65s/step - loss: 0.4190 - accuracy: 0.7800\n",
            "1/1 [==============================] - 58s 58s/step - loss: 0.4190 - accuracy: 0.7800\n",
            "1/1 [==============================] - 53s 53s/step - loss: 0.4190 - accuracy: 0.7800\n"
          ]
        },
        {
          "name": "stderr",
          "output_type": "stream",
          "text": [
            " 64%|██████▍   | 64/100 [5:58:16<3:58:14, 397.07s/it]"
          ]
        },
        {
          "name": "stdout",
          "output_type": "stream",
          "text": [
            "(1, 0, 0, 1, 1, 0, 1, 0, 0, 1)\n",
            "[0.83999997 0.86000001 0.86000001 0.86000001 0.86000001 0.86000001\n",
            " 0.86000001 0.86000001 0.86000001 0.86000001 0.86000001 0.86000001\n",
            " 0.86000001 0.86000001 0.86000001 0.86000001 0.86000001 0.86000001\n",
            " 0.86000001 0.86000001 0.86000001 0.86000001 0.86000001 0.86000001\n",
            " 0.86000001 0.86000001 0.86000001 0.86000001 0.86000001 0.86000001\n",
            " 0.86000001 0.86000001 0.86000001 0.86000001 0.86000001 0.86000001\n",
            " 0.86000001 0.86000001 0.86000001 0.86000001 0.86000001 0.86000001\n",
            " 0.86000001 0.86000001 0.83999997 0.83999997 0.83999997 0.83999997\n",
            " 0.83999997 0.83999997 0.83999997 0.80000001 0.80000001 0.80000001\n",
            " 0.80000001 0.80000001 0.81999999 0.80000001 0.83999997 0.83999997\n",
            " 0.80000001 0.83999997 0.77999997 0.77999997]\n",
            "iteration number: 65\n",
            "1/1 [==============================] - 66s 66s/step - loss: 0.4190 - accuracy: 0.7800\n",
            "1/1 [==============================] - 59s 59s/step - loss: 0.4190 - accuracy: 0.7800\n",
            "1/1 [==============================] - 53s 53s/step - loss: 0.4190 - accuracy: 0.7800\n",
            "1/1 [==============================] - 66s 66s/step - loss: 0.4190 - accuracy: 0.7800\n",
            "1/1 [==============================] - 58s 58s/step - loss: 0.4190 - accuracy: 0.7800\n",
            "1/1 [==============================] - 53s 53s/step - loss: 0.4190 - accuracy: 0.7800\n"
          ]
        },
        {
          "name": "stderr",
          "output_type": "stream",
          "text": [
            " 65%|██████▌   | 65/100 [6:04:26<3:46:48, 388.82s/it]"
          ]
        },
        {
          "name": "stdout",
          "output_type": "stream",
          "text": [
            "(1, 0, 0, 1, 1, 0, 1, 0, 0, 1)\n",
            "[0.83999997 0.86000001 0.86000001 0.86000001 0.86000001 0.86000001\n",
            " 0.86000001 0.86000001 0.86000001 0.86000001 0.86000001 0.86000001\n",
            " 0.86000001 0.86000001 0.86000001 0.86000001 0.86000001 0.86000001\n",
            " 0.86000001 0.86000001 0.86000001 0.86000001 0.86000001 0.86000001\n",
            " 0.86000001 0.86000001 0.86000001 0.86000001 0.86000001 0.86000001\n",
            " 0.86000001 0.86000001 0.86000001 0.86000001 0.86000001 0.86000001\n",
            " 0.86000001 0.86000001 0.86000001 0.86000001 0.86000001 0.86000001\n",
            " 0.86000001 0.86000001 0.83999997 0.83999997 0.83999997 0.83999997\n",
            " 0.83999997 0.83999997 0.83999997 0.80000001 0.80000001 0.80000001\n",
            " 0.80000001 0.80000001 0.81999999 0.80000001 0.83999997 0.83999997\n",
            " 0.80000001 0.83999997 0.77999997 0.77999997 0.77999997]\n",
            "iteration number: 66\n",
            "1/1 [==============================] - 52s 52s/step - loss: 0.4190 - accuracy: 0.7800\n",
            "1/1 [==============================] - 66s 66s/step - loss: 0.4190 - accuracy: 0.7800\n",
            "1/1 [==============================] - 59s 59s/step - loss: 0.4190 - accuracy: 0.7800\n",
            "1/1 [==============================] - 52s 52s/step - loss: 0.4190 - accuracy: 0.7800\n",
            "1/1 [==============================] - 64s 64s/step - loss: 0.4190 - accuracy: 0.7800\n",
            "1/1 [==============================] - 58s 58s/step - loss: 0.4190 - accuracy: 0.7800\n"
          ]
        },
        {
          "name": "stderr",
          "output_type": "stream",
          "text": [
            " 66%|██████▌   | 66/100 [6:10:32<3:36:36, 382.24s/it]"
          ]
        },
        {
          "name": "stdout",
          "output_type": "stream",
          "text": [
            "(1, 0, 0, 1, 1, 0, 1, 0, 0, 1)\n",
            "[0.83999997 0.86000001 0.86000001 0.86000001 0.86000001 0.86000001\n",
            " 0.86000001 0.86000001 0.86000001 0.86000001 0.86000001 0.86000001\n",
            " 0.86000001 0.86000001 0.86000001 0.86000001 0.86000001 0.86000001\n",
            " 0.86000001 0.86000001 0.86000001 0.86000001 0.86000001 0.86000001\n",
            " 0.86000001 0.86000001 0.86000001 0.86000001 0.86000001 0.86000001\n",
            " 0.86000001 0.86000001 0.86000001 0.86000001 0.86000001 0.86000001\n",
            " 0.86000001 0.86000001 0.86000001 0.86000001 0.86000001 0.86000001\n",
            " 0.86000001 0.86000001 0.83999997 0.83999997 0.83999997 0.83999997\n",
            " 0.83999997 0.83999997 0.83999997 0.80000001 0.80000001 0.80000001\n",
            " 0.80000001 0.80000001 0.81999999 0.80000001 0.83999997 0.83999997\n",
            " 0.80000001 0.83999997 0.77999997 0.77999997 0.77999997 0.77999997]\n",
            "iteration number: 67\n",
            "1/1 [==============================] - 53s 53s/step - loss: 0.4190 - accuracy: 0.7800\n",
            "1/1 [==============================] - 66s 66s/step - loss: 0.4190 - accuracy: 0.7800\n",
            "1/1 [==============================] - 59s 59s/step - loss: 0.4190 - accuracy: 0.7800\n",
            "1/1 [==============================] - 54s 54s/step - loss: 0.4190 - accuracy: 0.7800\n",
            "1/1 [==============================] - 54s 54s/step - loss: 0.4190 - accuracy: 0.7800\n",
            "1/1 [==============================] - 65s 65s/step - loss: 0.4190 - accuracy: 0.7800\n"
          ]
        },
        {
          "name": "stderr",
          "output_type": "stream",
          "text": [
            " 67%|██████▋   | 67/100 [6:16:39<3:27:40, 377.58s/it]"
          ]
        },
        {
          "name": "stdout",
          "output_type": "stream",
          "text": [
            "(1, 0, 0, 1, 1, 0, 1, 0, 0, 1)\n",
            "[0.83999997 0.86000001 0.86000001 0.86000001 0.86000001 0.86000001\n",
            " 0.86000001 0.86000001 0.86000001 0.86000001 0.86000001 0.86000001\n",
            " 0.86000001 0.86000001 0.86000001 0.86000001 0.86000001 0.86000001\n",
            " 0.86000001 0.86000001 0.86000001 0.86000001 0.86000001 0.86000001\n",
            " 0.86000001 0.86000001 0.86000001 0.86000001 0.86000001 0.86000001\n",
            " 0.86000001 0.86000001 0.86000001 0.86000001 0.86000001 0.86000001\n",
            " 0.86000001 0.86000001 0.86000001 0.86000001 0.86000001 0.86000001\n",
            " 0.86000001 0.86000001 0.83999997 0.83999997 0.83999997 0.83999997\n",
            " 0.83999997 0.83999997 0.83999997 0.80000001 0.80000001 0.80000001\n",
            " 0.80000001 0.80000001 0.81999999 0.80000001 0.83999997 0.83999997\n",
            " 0.80000001 0.83999997 0.77999997 0.77999997 0.77999997 0.77999997\n",
            " 0.77999997]\n",
            "iteration number: 68\n",
            "1/1 [==============================] - 58s 58s/step - loss: 0.4190 - accuracy: 0.7800\n",
            "1/1 [==============================] - 54s 54s/step - loss: 0.4190 - accuracy: 0.7800\n",
            "1/1 [==============================] - 65s 65s/step - loss: 0.4190 - accuracy: 0.7800\n",
            "1/1 [==============================] - 57s 57s/step - loss: 0.7081 - accuracy: 0.7800\n",
            "1/1 [==============================] - 59s 59s/step - loss: 0.4190 - accuracy: 0.7800\n",
            "1/1 [==============================] - 66s 66s/step - loss: 0.4190 - accuracy: 0.7800\n"
          ]
        },
        {
          "name": "stderr",
          "output_type": "stream",
          "text": [
            " 68%|██████▊   | 68/100 [6:22:52<3:20:40, 376.27s/it]"
          ]
        },
        {
          "name": "stdout",
          "output_type": "stream",
          "text": [
            "(1, 0, 0, 1, 1, 0, 1, 0, 0, 1)\n",
            "[0.83999997 0.86000001 0.86000001 0.86000001 0.86000001 0.86000001\n",
            " 0.86000001 0.86000001 0.86000001 0.86000001 0.86000001 0.86000001\n",
            " 0.86000001 0.86000001 0.86000001 0.86000001 0.86000001 0.86000001\n",
            " 0.86000001 0.86000001 0.86000001 0.86000001 0.86000001 0.86000001\n",
            " 0.86000001 0.86000001 0.86000001 0.86000001 0.86000001 0.86000001\n",
            " 0.86000001 0.86000001 0.86000001 0.86000001 0.86000001 0.86000001\n",
            " 0.86000001 0.86000001 0.86000001 0.86000001 0.86000001 0.86000001\n",
            " 0.86000001 0.86000001 0.83999997 0.83999997 0.83999997 0.83999997\n",
            " 0.83999997 0.83999997 0.83999997 0.80000001 0.80000001 0.80000001\n",
            " 0.80000001 0.80000001 0.81999999 0.80000001 0.83999997 0.83999997\n",
            " 0.80000001 0.83999997 0.77999997 0.77999997 0.77999997 0.77999997\n",
            " 0.77999997 0.77999997]\n",
            "iteration number: 69\n",
            "1/1 [==============================] - 57s 57s/step - loss: 0.4190 - accuracy: 0.7800\n",
            "1/1 [==============================] - 52s 52s/step - loss: 0.4190 - accuracy: 0.7800\n",
            "1/1 [==============================] - 66s 66s/step - loss: 0.4190 - accuracy: 0.7800\n",
            "1/1 [==============================] - 58s 58s/step - loss: 0.4190 - accuracy: 0.7800\n",
            "1/1 [==============================] - 53s 53s/step - loss: 0.4190 - accuracy: 0.7800\n",
            "1/1 [==============================] - 53s 53s/step - loss: 0.4190 - accuracy: 0.7800\n"
          ]
        },
        {
          "name": "stderr",
          "output_type": "stream",
          "text": [
            " 69%|██████▉   | 69/100 [6:28:45<3:10:40, 369.04s/it]"
          ]
        },
        {
          "name": "stdout",
          "output_type": "stream",
          "text": [
            "(1, 0, 0, 1, 1, 0, 1, 0, 0, 1)\n",
            "[0.83999997 0.86000001 0.86000001 0.86000001 0.86000001 0.86000001\n",
            " 0.86000001 0.86000001 0.86000001 0.86000001 0.86000001 0.86000001\n",
            " 0.86000001 0.86000001 0.86000001 0.86000001 0.86000001 0.86000001\n",
            " 0.86000001 0.86000001 0.86000001 0.86000001 0.86000001 0.86000001\n",
            " 0.86000001 0.86000001 0.86000001 0.86000001 0.86000001 0.86000001\n",
            " 0.86000001 0.86000001 0.86000001 0.86000001 0.86000001 0.86000001\n",
            " 0.86000001 0.86000001 0.86000001 0.86000001 0.86000001 0.86000001\n",
            " 0.86000001 0.86000001 0.83999997 0.83999997 0.83999997 0.83999997\n",
            " 0.83999997 0.83999997 0.83999997 0.80000001 0.80000001 0.80000001\n",
            " 0.80000001 0.80000001 0.81999999 0.80000001 0.83999997 0.83999997\n",
            " 0.80000001 0.83999997 0.77999997 0.77999997 0.77999997 0.77999997\n",
            " 0.77999997 0.77999997 0.77999997]\n",
            "iteration number: 70\n",
            "1/1 [==============================] - 73s 73s/step - loss: 0.4069 - accuracy: 0.7800\n",
            "1/1 [==============================] - 59s 59s/step - loss: 0.4190 - accuracy: 0.7800\n",
            "1/1 [==============================] - 54s 54s/step - loss: 0.4190 - accuracy: 0.7800\n",
            "1/1 [==============================] - 67s 67s/step - loss: 0.4190 - accuracy: 0.7800\n",
            "1/1 [==============================] - 91s 91s/step - loss: 0.3889 - accuracy: 0.7800\n",
            "1/1 [==============================] - 54s 54s/step - loss: 0.4190 - accuracy: 0.7800\n"
          ]
        },
        {
          "name": "stderr",
          "output_type": "stream",
          "text": [
            " 70%|███████   | 70/100 [6:35:38<3:11:10, 382.34s/it]"
          ]
        },
        {
          "name": "stdout",
          "output_type": "stream",
          "text": [
            "(1, 0, 1, 1, 1, 0, 1, 0, 0, 1)\n",
            "[0.83999997 0.86000001 0.86000001 0.86000001 0.86000001 0.86000001\n",
            " 0.86000001 0.86000001 0.86000001 0.86000001 0.86000001 0.86000001\n",
            " 0.86000001 0.86000001 0.86000001 0.86000001 0.86000001 0.86000001\n",
            " 0.86000001 0.86000001 0.86000001 0.86000001 0.86000001 0.86000001\n",
            " 0.86000001 0.86000001 0.86000001 0.86000001 0.86000001 0.86000001\n",
            " 0.86000001 0.86000001 0.86000001 0.86000001 0.86000001 0.86000001\n",
            " 0.86000001 0.86000001 0.86000001 0.86000001 0.86000001 0.86000001\n",
            " 0.86000001 0.86000001 0.83999997 0.83999997 0.83999997 0.83999997\n",
            " 0.83999997 0.83999997 0.83999997 0.80000001 0.80000001 0.80000001\n",
            " 0.80000001 0.80000001 0.81999999 0.80000001 0.83999997 0.83999997\n",
            " 0.80000001 0.83999997 0.77999997 0.77999997 0.77999997 0.77999997\n",
            " 0.77999997 0.77999997 0.77999997 0.77999997]\n",
            "iteration number: 71\n",
            "1/1 [==============================] - 74s 74s/step - loss: 0.4069 - accuracy: 0.7800\n",
            "1/1 [==============================] - 70s 70s/step - loss: 0.4069 - accuracy: 0.7800\n",
            "1/1 [==============================] - 69s 69s/step - loss: 0.4069 - accuracy: 0.7800\n",
            "1/1 [==============================] - 75s 75s/step - loss: 0.4069 - accuracy: 0.7800\n",
            "1/1 [==============================] - 70s 70s/step - loss: 0.4069 - accuracy: 0.7800\n",
            "1/1 [==============================] - 69s 69s/step - loss: 0.4069 - accuracy: 0.7800\n"
          ]
        },
        {
          "name": "stderr",
          "output_type": "stream",
          "text": [
            " 71%|███████   | 71/100 [6:43:00<3:13:26, 400.23s/it]"
          ]
        },
        {
          "name": "stdout",
          "output_type": "stream",
          "text": [
            "(1, 0, 1, 1, 1, 0, 1, 0, 0, 1)\n",
            "[0.83999997 0.86000001 0.86000001 0.86000001 0.86000001 0.86000001\n",
            " 0.86000001 0.86000001 0.86000001 0.86000001 0.86000001 0.86000001\n",
            " 0.86000001 0.86000001 0.86000001 0.86000001 0.86000001 0.86000001\n",
            " 0.86000001 0.86000001 0.86000001 0.86000001 0.86000001 0.86000001\n",
            " 0.86000001 0.86000001 0.86000001 0.86000001 0.86000001 0.86000001\n",
            " 0.86000001 0.86000001 0.86000001 0.86000001 0.86000001 0.86000001\n",
            " 0.86000001 0.86000001 0.86000001 0.86000001 0.86000001 0.86000001\n",
            " 0.86000001 0.86000001 0.83999997 0.83999997 0.83999997 0.83999997\n",
            " 0.83999997 0.83999997 0.83999997 0.80000001 0.80000001 0.80000001\n",
            " 0.80000001 0.80000001 0.81999999 0.80000001 0.83999997 0.83999997\n",
            " 0.80000001 0.83999997 0.77999997 0.77999997 0.77999997 0.77999997\n",
            " 0.77999997 0.77999997 0.77999997 0.77999997 0.77999997]\n",
            "iteration number: 72\n",
            "1/1 [==============================] - 75s 75s/step - loss: 0.4069 - accuracy: 0.7800\n",
            "1/1 [==============================] - 69s 69s/step - loss: 0.4069 - accuracy: 0.7800\n",
            "1/1 [==============================] - 43s 43s/step - loss: 0.4369 - accuracy: 0.8000\n",
            "1/1 [==============================] - 67s 67s/step - loss: 0.4190 - accuracy: 0.7800\n",
            "1/1 [==============================] - 67s 67s/step - loss: 0.4069 - accuracy: 0.7800\n",
            "1/1 [==============================] - 63s 63s/step - loss: 0.4069 - accuracy: 0.7800\n"
          ]
        },
        {
          "name": "stderr",
          "output_type": "stream",
          "text": [
            " 72%|███████▏  | 72/100 [6:49:38<3:06:27, 399.54s/it]"
          ]
        },
        {
          "name": "stdout",
          "output_type": "stream",
          "text": [
            "(1, 0, 1, 1, 1, 0, 0, 0, 0, 1)\n",
            "[0.83999997 0.86000001 0.86000001 0.86000001 0.86000001 0.86000001\n",
            " 0.86000001 0.86000001 0.86000001 0.86000001 0.86000001 0.86000001\n",
            " 0.86000001 0.86000001 0.86000001 0.86000001 0.86000001 0.86000001\n",
            " 0.86000001 0.86000001 0.86000001 0.86000001 0.86000001 0.86000001\n",
            " 0.86000001 0.86000001 0.86000001 0.86000001 0.86000001 0.86000001\n",
            " 0.86000001 0.86000001 0.86000001 0.86000001 0.86000001 0.86000001\n",
            " 0.86000001 0.86000001 0.86000001 0.86000001 0.86000001 0.86000001\n",
            " 0.86000001 0.86000001 0.83999997 0.83999997 0.83999997 0.83999997\n",
            " 0.83999997 0.83999997 0.83999997 0.80000001 0.80000001 0.80000001\n",
            " 0.80000001 0.80000001 0.81999999 0.80000001 0.83999997 0.83999997\n",
            " 0.80000001 0.83999997 0.77999997 0.77999997 0.77999997 0.77999997\n",
            " 0.77999997 0.77999997 0.77999997 0.77999997 0.77999997 0.80000001]\n",
            "iteration number: 73\n",
            "1/1 [==============================] - 67s 67s/step - loss: 0.4069 - accuracy: 0.7800\n",
            "1/1 [==============================] - 82s 82s/step - loss: 0.4069 - accuracy: 0.7800\n",
            "1/1 [==============================] - 76s 76s/step - loss: 0.4069 - accuracy: 0.7800\n",
            "1/1 [==============================] - 83s 83s/step - loss: 0.4069 - accuracy: 0.7800\n",
            "1/1 [==============================] - 76s 76s/step - loss: 0.4069 - accuracy: 0.7800\n",
            "1/1 [==============================] - 73s 73s/step - loss: 0.4069 - accuracy: 0.7800\n"
          ]
        },
        {
          "name": "stderr",
          "output_type": "stream",
          "text": [
            " 73%|███████▎  | 73/100 [6:57:33<3:09:57, 422.11s/it]"
          ]
        },
        {
          "name": "stdout",
          "output_type": "stream",
          "text": [
            "(1, 0, 1, 1, 1, 0, 1, 0, 0, 1)\n",
            "[0.83999997 0.86000001 0.86000001 0.86000001 0.86000001 0.86000001\n",
            " 0.86000001 0.86000001 0.86000001 0.86000001 0.86000001 0.86000001\n",
            " 0.86000001 0.86000001 0.86000001 0.86000001 0.86000001 0.86000001\n",
            " 0.86000001 0.86000001 0.86000001 0.86000001 0.86000001 0.86000001\n",
            " 0.86000001 0.86000001 0.86000001 0.86000001 0.86000001 0.86000001\n",
            " 0.86000001 0.86000001 0.86000001 0.86000001 0.86000001 0.86000001\n",
            " 0.86000001 0.86000001 0.86000001 0.86000001 0.86000001 0.86000001\n",
            " 0.86000001 0.86000001 0.83999997 0.83999997 0.83999997 0.83999997\n",
            " 0.83999997 0.83999997 0.83999997 0.80000001 0.80000001 0.80000001\n",
            " 0.80000001 0.80000001 0.81999999 0.80000001 0.83999997 0.83999997\n",
            " 0.80000001 0.83999997 0.77999997 0.77999997 0.77999997 0.77999997\n",
            " 0.77999997 0.77999997 0.77999997 0.77999997 0.77999997 0.80000001\n",
            " 0.77999997]\n",
            "iteration number: 74\n",
            "1/1 [==============================] - 73s 73s/step - loss: 0.4069 - accuracy: 0.7800\n",
            "1/1 [==============================] - 84s 84s/step - loss: 0.4069 - accuracy: 0.7800\n",
            "1/1 [==============================] - 78s 78s/step - loss: 0.4069 - accuracy: 0.7800\n",
            "1/1 [==============================] - 85s 85s/step - loss: 0.4069 - accuracy: 0.7800\n",
            "1/1 [==============================] - 78s 78s/step - loss: 0.4069 - accuracy: 0.7800\n",
            "1/1 [==============================] - 72s 72s/step - loss: 0.4069 - accuracy: 0.7800\n"
          ]
        },
        {
          "name": "stderr",
          "output_type": "stream",
          "text": [
            " 74%|███████▍  | 74/100 [7:05:38<3:11:10, 441.17s/it]"
          ]
        },
        {
          "name": "stdout",
          "output_type": "stream",
          "text": [
            "(1, 0, 1, 1, 1, 0, 1, 0, 0, 1)\n",
            "[0.83999997 0.86000001 0.86000001 0.86000001 0.86000001 0.86000001\n",
            " 0.86000001 0.86000001 0.86000001 0.86000001 0.86000001 0.86000001\n",
            " 0.86000001 0.86000001 0.86000001 0.86000001 0.86000001 0.86000001\n",
            " 0.86000001 0.86000001 0.86000001 0.86000001 0.86000001 0.86000001\n",
            " 0.86000001 0.86000001 0.86000001 0.86000001 0.86000001 0.86000001\n",
            " 0.86000001 0.86000001 0.86000001 0.86000001 0.86000001 0.86000001\n",
            " 0.86000001 0.86000001 0.86000001 0.86000001 0.86000001 0.86000001\n",
            " 0.86000001 0.86000001 0.83999997 0.83999997 0.83999997 0.83999997\n",
            " 0.83999997 0.83999997 0.83999997 0.80000001 0.80000001 0.80000001\n",
            " 0.80000001 0.80000001 0.81999999 0.80000001 0.83999997 0.83999997\n",
            " 0.80000001 0.83999997 0.77999997 0.77999997 0.77999997 0.77999997\n",
            " 0.77999997 0.77999997 0.77999997 0.77999997 0.77999997 0.80000001\n",
            " 0.77999997 0.77999997]\n",
            "iteration number: 75\n",
            "1/1 [==============================] - 73s 73s/step - loss: 0.4069 - accuracy: 0.7800\n",
            "1/1 [==============================] - 84s 84s/step - loss: 0.4069 - accuracy: 0.7800\n",
            "1/1 [==============================] - 78s 78s/step - loss: 0.4069 - accuracy: 0.7800\n",
            "1/1 [==============================] - 86s 86s/step - loss: 0.4069 - accuracy: 0.7800\n",
            "1/1 [==============================] - 79s 79s/step - loss: 0.4069 - accuracy: 0.7800\n",
            "1/1 [==============================] - 73s 73s/step - loss: 0.4069 - accuracy: 0.7800\n"
          ]
        },
        {
          "name": "stderr",
          "output_type": "stream",
          "text": [
            " 75%|███████▌  | 75/100 [7:13:49<3:09:58, 455.95s/it]"
          ]
        },
        {
          "name": "stdout",
          "output_type": "stream",
          "text": [
            "(1, 0, 1, 1, 1, 0, 1, 0, 0, 1)\n",
            "[0.83999997 0.86000001 0.86000001 0.86000001 0.86000001 0.86000001\n",
            " 0.86000001 0.86000001 0.86000001 0.86000001 0.86000001 0.86000001\n",
            " 0.86000001 0.86000001 0.86000001 0.86000001 0.86000001 0.86000001\n",
            " 0.86000001 0.86000001 0.86000001 0.86000001 0.86000001 0.86000001\n",
            " 0.86000001 0.86000001 0.86000001 0.86000001 0.86000001 0.86000001\n",
            " 0.86000001 0.86000001 0.86000001 0.86000001 0.86000001 0.86000001\n",
            " 0.86000001 0.86000001 0.86000001 0.86000001 0.86000001 0.86000001\n",
            " 0.86000001 0.86000001 0.83999997 0.83999997 0.83999997 0.83999997\n",
            " 0.83999997 0.83999997 0.83999997 0.80000001 0.80000001 0.80000001\n",
            " 0.80000001 0.80000001 0.81999999 0.80000001 0.83999997 0.83999997\n",
            " 0.80000001 0.83999997 0.77999997 0.77999997 0.77999997 0.77999997\n",
            " 0.77999997 0.77999997 0.77999997 0.77999997 0.77999997 0.80000001\n",
            " 0.77999997 0.77999997 0.77999997]\n",
            "iteration number: 76\n",
            "1/1 [==============================] - 73s 73s/step - loss: 0.4069 - accuracy: 0.7800\n",
            "1/1 [==============================] - 82s 82s/step - loss: 0.4072 - accuracy: 0.8000\n",
            "1/1 [==============================] - 78s 78s/step - loss: 0.4069 - accuracy: 0.7800\n",
            "1/1 [==============================] - 72s 72s/step - loss: 0.4069 - accuracy: 0.7800\n",
            "1/1 [==============================] - 85s 85s/step - loss: 0.4069 - accuracy: 0.7800\n",
            "1/1 [==============================] - 80s 80s/step - loss: 0.4069 - accuracy: 0.7800\n"
          ]
        },
        {
          "name": "stderr",
          "output_type": "stream",
          "text": [
            " 76%|███████▌  | 76/100 [7:21:55<3:06:01, 465.08s/it]"
          ]
        },
        {
          "name": "stdout",
          "output_type": "stream",
          "text": [
            "(1, 0, 1, 0, 1, 0, 1, 0, 0, 1)\n",
            "[0.83999997 0.86000001 0.86000001 0.86000001 0.86000001 0.86000001\n",
            " 0.86000001 0.86000001 0.86000001 0.86000001 0.86000001 0.86000001\n",
            " 0.86000001 0.86000001 0.86000001 0.86000001 0.86000001 0.86000001\n",
            " 0.86000001 0.86000001 0.86000001 0.86000001 0.86000001 0.86000001\n",
            " 0.86000001 0.86000001 0.86000001 0.86000001 0.86000001 0.86000001\n",
            " 0.86000001 0.86000001 0.86000001 0.86000001 0.86000001 0.86000001\n",
            " 0.86000001 0.86000001 0.86000001 0.86000001 0.86000001 0.86000001\n",
            " 0.86000001 0.86000001 0.83999997 0.83999997 0.83999997 0.83999997\n",
            " 0.83999997 0.83999997 0.83999997 0.80000001 0.80000001 0.80000001\n",
            " 0.80000001 0.80000001 0.81999999 0.80000001 0.83999997 0.83999997\n",
            " 0.80000001 0.83999997 0.77999997 0.77999997 0.77999997 0.77999997\n",
            " 0.77999997 0.77999997 0.77999997 0.77999997 0.77999997 0.80000001\n",
            " 0.77999997 0.77999997 0.77999997 0.80000001]\n",
            "iteration number: 77\n",
            "1/1 [==============================] - 73s 73s/step - loss: 0.4069 - accuracy: 0.7800\n",
            "1/1 [==============================] - 84s 84s/step - loss: 0.4069 - accuracy: 0.7800\n",
            "1/1 [==============================] - 79s 79s/step - loss: 0.4069 - accuracy: 0.7800\n",
            "1/1 [==============================] - 86s 86s/step - loss: 0.4069 - accuracy: 0.7800\n",
            "1/1 [==============================] - 78s 78s/step - loss: 0.4069 - accuracy: 0.7800\n",
            "1/1 [==============================] - 71s 71s/step - loss: 0.4069 - accuracy: 0.7800\n"
          ]
        },
        {
          "name": "stderr",
          "output_type": "stream",
          "text": [
            " 77%|███████▋  | 77/100 [7:30:03<3:00:51, 471.80s/it]"
          ]
        },
        {
          "name": "stdout",
          "output_type": "stream",
          "text": [
            "(1, 0, 1, 1, 1, 0, 1, 0, 0, 1)\n",
            "[0.83999997 0.86000001 0.86000001 0.86000001 0.86000001 0.86000001\n",
            " 0.86000001 0.86000001 0.86000001 0.86000001 0.86000001 0.86000001\n",
            " 0.86000001 0.86000001 0.86000001 0.86000001 0.86000001 0.86000001\n",
            " 0.86000001 0.86000001 0.86000001 0.86000001 0.86000001 0.86000001\n",
            " 0.86000001 0.86000001 0.86000001 0.86000001 0.86000001 0.86000001\n",
            " 0.86000001 0.86000001 0.86000001 0.86000001 0.86000001 0.86000001\n",
            " 0.86000001 0.86000001 0.86000001 0.86000001 0.86000001 0.86000001\n",
            " 0.86000001 0.86000001 0.83999997 0.83999997 0.83999997 0.83999997\n",
            " 0.83999997 0.83999997 0.83999997 0.80000001 0.80000001 0.80000001\n",
            " 0.80000001 0.80000001 0.81999999 0.80000001 0.83999997 0.83999997\n",
            " 0.80000001 0.83999997 0.77999997 0.77999997 0.77999997 0.77999997\n",
            " 0.77999997 0.77999997 0.77999997 0.77999997 0.77999997 0.80000001\n",
            " 0.77999997 0.77999997 0.77999997 0.80000001 0.77999997]\n",
            "iteration number: 78\n",
            "1/1 [==============================] - 71s 71s/step - loss: 0.4069 - accuracy: 0.7800\n",
            "1/1 [==============================] - 85s 85s/step - loss: 0.4069 - accuracy: 0.7800\n",
            "1/1 [==============================] - 79s 79s/step - loss: 0.4069 - accuracy: 0.7800\n",
            "1/1 [==============================] - 72s 72s/step - loss: 0.4069 - accuracy: 0.7800\n",
            "1/1 [==============================] - 128s 128s/step - loss: 0.3876 - accuracy: 0.8600\n",
            "1/1 [==============================] - 78s 78s/step - loss: 0.4069 - accuracy: 0.7800\n"
          ]
        },
        {
          "name": "stderr",
          "output_type": "stream",
          "text": [
            " 78%|███████▊  | 78/100 [7:38:55<2:59:37, 489.87s/it]"
          ]
        },
        {
          "name": "stdout",
          "output_type": "stream",
          "text": [
            "(1, 1, 1, 1, 1, 0, 1, 0, 0, 1)\n",
            "[0.83999997 0.86000001 0.86000001 0.86000001 0.86000001 0.86000001\n",
            " 0.86000001 0.86000001 0.86000001 0.86000001 0.86000001 0.86000001\n",
            " 0.86000001 0.86000001 0.86000001 0.86000001 0.86000001 0.86000001\n",
            " 0.86000001 0.86000001 0.86000001 0.86000001 0.86000001 0.86000001\n",
            " 0.86000001 0.86000001 0.86000001 0.86000001 0.86000001 0.86000001\n",
            " 0.86000001 0.86000001 0.86000001 0.86000001 0.86000001 0.86000001\n",
            " 0.86000001 0.86000001 0.86000001 0.86000001 0.86000001 0.86000001\n",
            " 0.86000001 0.86000001 0.83999997 0.83999997 0.83999997 0.83999997\n",
            " 0.83999997 0.83999997 0.83999997 0.80000001 0.80000001 0.80000001\n",
            " 0.80000001 0.80000001 0.81999999 0.80000001 0.83999997 0.83999997\n",
            " 0.80000001 0.83999997 0.77999997 0.77999997 0.77999997 0.77999997\n",
            " 0.77999997 0.77999997 0.77999997 0.77999997 0.77999997 0.80000001\n",
            " 0.77999997 0.77999997 0.77999997 0.80000001 0.77999997 0.86000001]\n",
            "iteration number: 79\n",
            "1/1 [==============================] - 86s 86s/step - loss: 0.4069 - accuracy: 0.7800\n",
            "1/1 [==============================] - 79s 79s/step - loss: 0.4069 - accuracy: 0.7800\n",
            "1/1 [==============================] - 73s 73s/step - loss: 0.4069 - accuracy: 0.7800\n",
            "1/1 [==============================] - 72s 72s/step - loss: 0.4069 - accuracy: 0.7800\n",
            "1/1 [==============================] - 86s 86s/step - loss: 0.4069 - accuracy: 0.7800\n",
            "1/1 [==============================] - 80s 80s/step - loss: 0.4069 - accuracy: 0.7800\n"
          ]
        },
        {
          "name": "stderr",
          "output_type": "stream",
          "text": [
            " 79%|███████▉  | 79/100 [7:47:07<2:51:40, 490.48s/it]"
          ]
        },
        {
          "name": "stdout",
          "output_type": "stream",
          "text": [
            "(1, 0, 1, 1, 1, 0, 1, 0, 0, 1)\n",
            "[0.83999997 0.86000001 0.86000001 0.86000001 0.86000001 0.86000001\n",
            " 0.86000001 0.86000001 0.86000001 0.86000001 0.86000001 0.86000001\n",
            " 0.86000001 0.86000001 0.86000001 0.86000001 0.86000001 0.86000001\n",
            " 0.86000001 0.86000001 0.86000001 0.86000001 0.86000001 0.86000001\n",
            " 0.86000001 0.86000001 0.86000001 0.86000001 0.86000001 0.86000001\n",
            " 0.86000001 0.86000001 0.86000001 0.86000001 0.86000001 0.86000001\n",
            " 0.86000001 0.86000001 0.86000001 0.86000001 0.86000001 0.86000001\n",
            " 0.86000001 0.86000001 0.83999997 0.83999997 0.83999997 0.83999997\n",
            " 0.83999997 0.83999997 0.83999997 0.80000001 0.80000001 0.80000001\n",
            " 0.80000001 0.80000001 0.81999999 0.80000001 0.83999997 0.83999997\n",
            " 0.80000001 0.83999997 0.77999997 0.77999997 0.77999997 0.77999997\n",
            " 0.77999997 0.77999997 0.77999997 0.77999997 0.77999997 0.80000001\n",
            " 0.77999997 0.77999997 0.77999997 0.80000001 0.77999997 0.86000001\n",
            " 0.77999997]\n",
            "iteration number: 80\n",
            "1/1 [==============================] - 87s 87s/step - loss: 0.4069 - accuracy: 0.7800\n",
            "1/1 [==============================] - 80s 80s/step - loss: 0.4069 - accuracy: 0.7800\n",
            "1/1 [==============================] - 73s 73s/step - loss: 0.4069 - accuracy: 0.7800\n",
            "1/1 [==============================] - 72s 72s/step - loss: 0.4069 - accuracy: 0.7800\n",
            "1/1 [==============================] - 86s 86s/step - loss: 0.4069 - accuracy: 0.7800\n",
            "1/1 [==============================] - 81s 81s/step - loss: 0.4069 - accuracy: 0.7800\n"
          ]
        },
        {
          "name": "stderr",
          "output_type": "stream",
          "text": [
            " 80%|████████  | 80/100 [7:55:23<2:44:06, 492.30s/it]"
          ]
        },
        {
          "name": "stdout",
          "output_type": "stream",
          "text": [
            "(1, 0, 1, 1, 1, 0, 1, 0, 0, 1)\n",
            "[0.83999997 0.86000001 0.86000001 0.86000001 0.86000001 0.86000001\n",
            " 0.86000001 0.86000001 0.86000001 0.86000001 0.86000001 0.86000001\n",
            " 0.86000001 0.86000001 0.86000001 0.86000001 0.86000001 0.86000001\n",
            " 0.86000001 0.86000001 0.86000001 0.86000001 0.86000001 0.86000001\n",
            " 0.86000001 0.86000001 0.86000001 0.86000001 0.86000001 0.86000001\n",
            " 0.86000001 0.86000001 0.86000001 0.86000001 0.86000001 0.86000001\n",
            " 0.86000001 0.86000001 0.86000001 0.86000001 0.86000001 0.86000001\n",
            " 0.86000001 0.86000001 0.83999997 0.83999997 0.83999997 0.83999997\n",
            " 0.83999997 0.83999997 0.83999997 0.80000001 0.80000001 0.80000001\n",
            " 0.80000001 0.80000001 0.81999999 0.80000001 0.83999997 0.83999997\n",
            " 0.80000001 0.83999997 0.77999997 0.77999997 0.77999997 0.77999997\n",
            " 0.77999997 0.77999997 0.77999997 0.77999997 0.77999997 0.80000001\n",
            " 0.77999997 0.77999997 0.77999997 0.80000001 0.77999997 0.86000001\n",
            " 0.77999997 0.77999997]\n",
            "iteration number: 81\n",
            "1/1 [==============================] - 74s 74s/step - loss: 0.4069 - accuracy: 0.7800\n",
            "1/1 [==============================] - 77s 77s/step - loss: 0.4190 - accuracy: 0.7800\n",
            "1/1 [==============================] - 79s 79s/step - loss: 0.4069 - accuracy: 0.7800\n",
            "1/1 [==============================] - 73s 73s/step - loss: 0.4069 - accuracy: 0.7800\n",
            "1/1 [==============================] - 86s 86s/step - loss: 0.4069 - accuracy: 0.7800\n",
            "1/1 [==============================] - 78s 78s/step - loss: 0.4072 - accuracy: 0.8000\n"
          ]
        },
        {
          "name": "stderr",
          "output_type": "stream",
          "text": [
            " 81%|████████  | 81/100 [8:03:29<2:35:15, 490.31s/it]"
          ]
        },
        {
          "name": "stdout",
          "output_type": "stream",
          "text": [
            "(1, 0, 1, 0, 1, 0, 1, 0, 0, 1)\n",
            "[0.83999997 0.86000001 0.86000001 0.86000001 0.86000001 0.86000001\n",
            " 0.86000001 0.86000001 0.86000001 0.86000001 0.86000001 0.86000001\n",
            " 0.86000001 0.86000001 0.86000001 0.86000001 0.86000001 0.86000001\n",
            " 0.86000001 0.86000001 0.86000001 0.86000001 0.86000001 0.86000001\n",
            " 0.86000001 0.86000001 0.86000001 0.86000001 0.86000001 0.86000001\n",
            " 0.86000001 0.86000001 0.86000001 0.86000001 0.86000001 0.86000001\n",
            " 0.86000001 0.86000001 0.86000001 0.86000001 0.86000001 0.86000001\n",
            " 0.86000001 0.86000001 0.83999997 0.83999997 0.83999997 0.83999997\n",
            " 0.83999997 0.83999997 0.83999997 0.80000001 0.80000001 0.80000001\n",
            " 0.80000001 0.80000001 0.81999999 0.80000001 0.83999997 0.83999997\n",
            " 0.80000001 0.83999997 0.77999997 0.77999997 0.77999997 0.77999997\n",
            " 0.77999997 0.77999997 0.77999997 0.77999997 0.77999997 0.80000001\n",
            " 0.77999997 0.77999997 0.77999997 0.80000001 0.77999997 0.86000001\n",
            " 0.77999997 0.77999997 0.80000001]\n",
            "iteration number: 82\n",
            "1/1 [==============================] - 73s 73s/step - loss: 0.4069 - accuracy: 0.7800\n",
            "1/1 [==============================] - 86s 86s/step - loss: 0.4069 - accuracy: 0.7800\n",
            "1/1 [==============================] - 80s 80s/step - loss: 0.4069 - accuracy: 0.7800\n",
            "1/1 [==============================] - 51s 51s/step - loss: 0.4369 - accuracy: 0.8000\n",
            "1/1 [==============================] - 88s 88s/step - loss: 0.4069 - accuracy: 0.7800\n",
            "1/1 [==============================] - 81s 81s/step - loss: 0.4069 - accuracy: 0.7800\n"
          ]
        },
        {
          "name": "stderr",
          "output_type": "stream",
          "text": [
            " 82%|████████▏ | 82/100 [8:11:23<2:25:38, 485.50s/it]"
          ]
        },
        {
          "name": "stdout",
          "output_type": "stream",
          "text": [
            "(1, 0, 1, 1, 1, 0, 0, 0, 0, 1)\n",
            "[0.83999997 0.86000001 0.86000001 0.86000001 0.86000001 0.86000001\n",
            " 0.86000001 0.86000001 0.86000001 0.86000001 0.86000001 0.86000001\n",
            " 0.86000001 0.86000001 0.86000001 0.86000001 0.86000001 0.86000001\n",
            " 0.86000001 0.86000001 0.86000001 0.86000001 0.86000001 0.86000001\n",
            " 0.86000001 0.86000001 0.86000001 0.86000001 0.86000001 0.86000001\n",
            " 0.86000001 0.86000001 0.86000001 0.86000001 0.86000001 0.86000001\n",
            " 0.86000001 0.86000001 0.86000001 0.86000001 0.86000001 0.86000001\n",
            " 0.86000001 0.86000001 0.83999997 0.83999997 0.83999997 0.83999997\n",
            " 0.83999997 0.83999997 0.83999997 0.80000001 0.80000001 0.80000001\n",
            " 0.80000001 0.80000001 0.81999999 0.80000001 0.83999997 0.83999997\n",
            " 0.80000001 0.83999997 0.77999997 0.77999997 0.77999997 0.77999997\n",
            " 0.77999997 0.77999997 0.77999997 0.77999997 0.77999997 0.80000001\n",
            " 0.77999997 0.77999997 0.77999997 0.80000001 0.77999997 0.86000001\n",
            " 0.77999997 0.77999997 0.80000001 0.80000001]\n",
            "iteration number: 83\n",
            "1/1 [==============================] - 74s 74s/step - loss: 0.4069 - accuracy: 0.7800\n",
            "1/1 [==============================] - 87s 87s/step - loss: 0.4069 - accuracy: 0.7800\n",
            "1/1 [==============================] - 56s 56s/step - loss: 0.4369 - accuracy: 0.8000\n",
            "1/1 [==============================] - 46s 46s/step - loss: 0.4187 - accuracy: 0.8600\n",
            "1/1 [==============================] - 70s 70s/step - loss: 0.4069 - accuracy: 0.7800\n",
            "1/1 [==============================] - 88s 88s/step - loss: 0.4069 - accuracy: 0.7800\n"
          ]
        },
        {
          "name": "stderr",
          "output_type": "stream",
          "text": [
            " 83%|████████▎ | 83/100 [8:18:38<2:13:13, 470.21s/it]"
          ]
        },
        {
          "name": "stdout",
          "output_type": "stream",
          "text": [
            "(0, 0, 1, 1, 1, 0, 1, 0, 0, 1)\n",
            "[0.83999997 0.86000001 0.86000001 0.86000001 0.86000001 0.86000001\n",
            " 0.86000001 0.86000001 0.86000001 0.86000001 0.86000001 0.86000001\n",
            " 0.86000001 0.86000001 0.86000001 0.86000001 0.86000001 0.86000001\n",
            " 0.86000001 0.86000001 0.86000001 0.86000001 0.86000001 0.86000001\n",
            " 0.86000001 0.86000001 0.86000001 0.86000001 0.86000001 0.86000001\n",
            " 0.86000001 0.86000001 0.86000001 0.86000001 0.86000001 0.86000001\n",
            " 0.86000001 0.86000001 0.86000001 0.86000001 0.86000001 0.86000001\n",
            " 0.86000001 0.86000001 0.83999997 0.83999997 0.83999997 0.83999997\n",
            " 0.83999997 0.83999997 0.83999997 0.80000001 0.80000001 0.80000001\n",
            " 0.80000001 0.80000001 0.81999999 0.80000001 0.83999997 0.83999997\n",
            " 0.80000001 0.83999997 0.77999997 0.77999997 0.77999997 0.77999997\n",
            " 0.77999997 0.77999997 0.77999997 0.77999997 0.77999997 0.80000001\n",
            " 0.77999997 0.77999997 0.77999997 0.80000001 0.77999997 0.86000001\n",
            " 0.77999997 0.77999997 0.80000001 0.80000001 0.86000001]\n",
            "iteration number: 84\n",
            "1/1 [==============================] - 80s 80s/step - loss: 0.4069 - accuracy: 0.7800\n",
            "1/1 [==============================] - 74s 74s/step - loss: 0.4069 - accuracy: 0.7800\n",
            "1/1 [==============================] - 126s 126s/step - loss: 0.4214 - accuracy: 0.7800\n",
            "1/1 [==============================] - 85s 85s/step - loss: 0.4069 - accuracy: 0.7800\n",
            "1/1 [==============================] - 87s 87s/step - loss: 0.4069 - accuracy: 0.7800\n",
            "1/1 [==============================] - 81s 81s/step - loss: 0.4069 - accuracy: 0.7800\n"
          ]
        },
        {
          "name": "stderr",
          "output_type": "stream",
          "text": [
            " 84%|████████▍ | 84/100 [8:27:48<2:11:49, 494.35s/it]"
          ]
        },
        {
          "name": "stdout",
          "output_type": "stream",
          "text": [
            "(1, 0, 1, 1, 1, 0, 1, 0, 0, 1)\n",
            "[0.83999997 0.86000001 0.86000001 0.86000001 0.86000001 0.86000001\n",
            " 0.86000001 0.86000001 0.86000001 0.86000001 0.86000001 0.86000001\n",
            " 0.86000001 0.86000001 0.86000001 0.86000001 0.86000001 0.86000001\n",
            " 0.86000001 0.86000001 0.86000001 0.86000001 0.86000001 0.86000001\n",
            " 0.86000001 0.86000001 0.86000001 0.86000001 0.86000001 0.86000001\n",
            " 0.86000001 0.86000001 0.86000001 0.86000001 0.86000001 0.86000001\n",
            " 0.86000001 0.86000001 0.86000001 0.86000001 0.86000001 0.86000001\n",
            " 0.86000001 0.86000001 0.83999997 0.83999997 0.83999997 0.83999997\n",
            " 0.83999997 0.83999997 0.83999997 0.80000001 0.80000001 0.80000001\n",
            " 0.80000001 0.80000001 0.81999999 0.80000001 0.83999997 0.83999997\n",
            " 0.80000001 0.83999997 0.77999997 0.77999997 0.77999997 0.77999997\n",
            " 0.77999997 0.77999997 0.77999997 0.77999997 0.77999997 0.80000001\n",
            " 0.77999997 0.77999997 0.77999997 0.80000001 0.77999997 0.86000001\n",
            " 0.77999997 0.77999997 0.80000001 0.80000001 0.86000001 0.77999997]\n",
            "iteration number: 85\n",
            "1/1 [==============================] - 74s 74s/step - loss: 0.4069 - accuracy: 0.7800\n",
            "1/1 [==============================] - 73s 73s/step - loss: 0.4069 - accuracy: 0.7800\n",
            "1/1 [==============================] - 88s 88s/step - loss: 0.4069 - accuracy: 0.7800\n",
            "1/1 [==============================] - 83s 83s/step - loss: 0.4069 - accuracy: 0.7800\n",
            "1/1 [==============================] - 77s 77s/step - loss: 0.4069 - accuracy: 0.7800\n",
            "1/1 [==============================] - 89s 89s/step - loss: 0.4069 - accuracy: 0.7800\n"
          ]
        },
        {
          "name": "stderr",
          "output_type": "stream",
          "text": [
            " 85%|████████▌ | 85/100 [8:36:08<2:04:00, 496.04s/it]"
          ]
        },
        {
          "name": "stdout",
          "output_type": "stream",
          "text": [
            "(1, 0, 1, 1, 1, 0, 1, 0, 0, 1)\n",
            "[0.83999997 0.86000001 0.86000001 0.86000001 0.86000001 0.86000001\n",
            " 0.86000001 0.86000001 0.86000001 0.86000001 0.86000001 0.86000001\n",
            " 0.86000001 0.86000001 0.86000001 0.86000001 0.86000001 0.86000001\n",
            " 0.86000001 0.86000001 0.86000001 0.86000001 0.86000001 0.86000001\n",
            " 0.86000001 0.86000001 0.86000001 0.86000001 0.86000001 0.86000001\n",
            " 0.86000001 0.86000001 0.86000001 0.86000001 0.86000001 0.86000001\n",
            " 0.86000001 0.86000001 0.86000001 0.86000001 0.86000001 0.86000001\n",
            " 0.86000001 0.86000001 0.83999997 0.83999997 0.83999997 0.83999997\n",
            " 0.83999997 0.83999997 0.83999997 0.80000001 0.80000001 0.80000001\n",
            " 0.80000001 0.80000001 0.81999999 0.80000001 0.83999997 0.83999997\n",
            " 0.80000001 0.83999997 0.77999997 0.77999997 0.77999997 0.77999997\n",
            " 0.77999997 0.77999997 0.77999997 0.77999997 0.77999997 0.80000001\n",
            " 0.77999997 0.77999997 0.77999997 0.80000001 0.77999997 0.86000001\n",
            " 0.77999997 0.77999997 0.80000001 0.80000001 0.86000001 0.77999997\n",
            " 0.77999997]\n",
            "iteration number: 86\n",
            "1/1 [==============================] - 83s 83s/step - loss: 0.4069 - accuracy: 0.7800\n",
            "1/1 [==============================] - 77s 77s/step - loss: 0.4069 - accuracy: 0.7800\n",
            "1/1 [==============================] - 89s 89s/step - loss: 0.4069 - accuracy: 0.7800\n",
            "1/1 [==============================] - 82s 82s/step - loss: 0.4069 - accuracy: 0.7800\n",
            "1/1 [==============================] - 75s 75s/step - loss: 0.4069 - accuracy: 0.7800\n",
            "1/1 [==============================] - 88s 88s/step - loss: 0.4069 - accuracy: 0.7800\n"
          ]
        },
        {
          "name": "stderr",
          "output_type": "stream",
          "text": [
            " 86%|████████▌ | 86/100 [8:44:37<1:56:39, 499.98s/it]"
          ]
        },
        {
          "name": "stdout",
          "output_type": "stream",
          "text": [
            "(1, 0, 1, 1, 1, 0, 1, 0, 0, 1)\n",
            "[0.83999997 0.86000001 0.86000001 0.86000001 0.86000001 0.86000001\n",
            " 0.86000001 0.86000001 0.86000001 0.86000001 0.86000001 0.86000001\n",
            " 0.86000001 0.86000001 0.86000001 0.86000001 0.86000001 0.86000001\n",
            " 0.86000001 0.86000001 0.86000001 0.86000001 0.86000001 0.86000001\n",
            " 0.86000001 0.86000001 0.86000001 0.86000001 0.86000001 0.86000001\n",
            " 0.86000001 0.86000001 0.86000001 0.86000001 0.86000001 0.86000001\n",
            " 0.86000001 0.86000001 0.86000001 0.86000001 0.86000001 0.86000001\n",
            " 0.86000001 0.86000001 0.83999997 0.83999997 0.83999997 0.83999997\n",
            " 0.83999997 0.83999997 0.83999997 0.80000001 0.80000001 0.80000001\n",
            " 0.80000001 0.80000001 0.81999999 0.80000001 0.83999997 0.83999997\n",
            " 0.80000001 0.83999997 0.77999997 0.77999997 0.77999997 0.77999997\n",
            " 0.77999997 0.77999997 0.77999997 0.77999997 0.77999997 0.80000001\n",
            " 0.77999997 0.77999997 0.77999997 0.80000001 0.77999997 0.86000001\n",
            " 0.77999997 0.77999997 0.80000001 0.80000001 0.86000001 0.77999997\n",
            " 0.77999997 0.77999997]\n",
            "iteration number: 87\n",
            "1/1 [==============================] - 82s 82s/step - loss: 0.4069 - accuracy: 0.7800\n",
            "1/1 [==============================] - 75s 75s/step - loss: 0.4069 - accuracy: 0.7800\n",
            "1/1 [==============================] - 88s 88s/step - loss: 0.4069 - accuracy: 0.7800\n",
            "1/1 [==============================] - 82s 82s/step - loss: 0.4069 - accuracy: 0.7800\n",
            "1/1 [==============================] - 75s 75s/step - loss: 0.4069 - accuracy: 0.7800\n",
            "1/1 [==============================] - 78s 78s/step - loss: 0.7095 - accuracy: 0.8400\n"
          ]
        },
        {
          "name": "stderr",
          "output_type": "stream",
          "text": [
            " 87%|████████▋ | 87/100 [8:52:52<1:47:59, 498.40s/it]"
          ]
        },
        {
          "name": "stdout",
          "output_type": "stream",
          "text": [
            "(1, 0, 1, 1, 0, 0, 1, 0, 0, 1)\n",
            "[0.83999997 0.86000001 0.86000001 0.86000001 0.86000001 0.86000001\n",
            " 0.86000001 0.86000001 0.86000001 0.86000001 0.86000001 0.86000001\n",
            " 0.86000001 0.86000001 0.86000001 0.86000001 0.86000001 0.86000001\n",
            " 0.86000001 0.86000001 0.86000001 0.86000001 0.86000001 0.86000001\n",
            " 0.86000001 0.86000001 0.86000001 0.86000001 0.86000001 0.86000001\n",
            " 0.86000001 0.86000001 0.86000001 0.86000001 0.86000001 0.86000001\n",
            " 0.86000001 0.86000001 0.86000001 0.86000001 0.86000001 0.86000001\n",
            " 0.86000001 0.86000001 0.83999997 0.83999997 0.83999997 0.83999997\n",
            " 0.83999997 0.83999997 0.83999997 0.80000001 0.80000001 0.80000001\n",
            " 0.80000001 0.80000001 0.81999999 0.80000001 0.83999997 0.83999997\n",
            " 0.80000001 0.83999997 0.77999997 0.77999997 0.77999997 0.77999997\n",
            " 0.77999997 0.77999997 0.77999997 0.77999997 0.77999997 0.80000001\n",
            " 0.77999997 0.77999997 0.77999997 0.80000001 0.77999997 0.86000001\n",
            " 0.77999997 0.77999997 0.80000001 0.80000001 0.86000001 0.77999997\n",
            " 0.77999997 0.77999997 0.83999997]\n",
            "iteration number: 88\n",
            "1/1 [==============================] - 82s 82s/step - loss: 0.4069 - accuracy: 0.7800\n",
            "1/1 [==============================] - 76s 76s/step - loss: 0.4069 - accuracy: 0.7800\n",
            "1/1 [==============================] - 69s 69s/step - loss: 0.4069 - accuracy: 0.7800\n",
            "1/1 [==============================] - 79s 79s/step - loss: 0.4190 - accuracy: 0.7800\n",
            "1/1 [==============================] - 82s 82s/step - loss: 0.4069 - accuracy: 0.7800\n",
            "1/1 [==============================] - 75s 75s/step - loss: 0.4069 - accuracy: 0.7800\n"
          ]
        },
        {
          "name": "stderr",
          "output_type": "stream",
          "text": [
            " 88%|████████▊ | 88/100 [9:00:52<1:38:34, 492.88s/it]"
          ]
        },
        {
          "name": "stdout",
          "output_type": "stream",
          "text": [
            "(1, 0, 1, 1, 1, 0, 1, 0, 0, 1)\n",
            "[0.83999997 0.86000001 0.86000001 0.86000001 0.86000001 0.86000001\n",
            " 0.86000001 0.86000001 0.86000001 0.86000001 0.86000001 0.86000001\n",
            " 0.86000001 0.86000001 0.86000001 0.86000001 0.86000001 0.86000001\n",
            " 0.86000001 0.86000001 0.86000001 0.86000001 0.86000001 0.86000001\n",
            " 0.86000001 0.86000001 0.86000001 0.86000001 0.86000001 0.86000001\n",
            " 0.86000001 0.86000001 0.86000001 0.86000001 0.86000001 0.86000001\n",
            " 0.86000001 0.86000001 0.86000001 0.86000001 0.86000001 0.86000001\n",
            " 0.86000001 0.86000001 0.83999997 0.83999997 0.83999997 0.83999997\n",
            " 0.83999997 0.83999997 0.83999997 0.80000001 0.80000001 0.80000001\n",
            " 0.80000001 0.80000001 0.81999999 0.80000001 0.83999997 0.83999997\n",
            " 0.80000001 0.83999997 0.77999997 0.77999997 0.77999997 0.77999997\n",
            " 0.77999997 0.77999997 0.77999997 0.77999997 0.77999997 0.80000001\n",
            " 0.77999997 0.77999997 0.77999997 0.80000001 0.77999997 0.86000001\n",
            " 0.77999997 0.77999997 0.80000001 0.80000001 0.86000001 0.77999997\n",
            " 0.77999997 0.77999997 0.83999997 0.77999997]\n",
            "iteration number: 89\n",
            "1/1 [==============================] - 88s 88s/step - loss: 0.4069 - accuracy: 0.7800\n",
            "1/1 [==============================] - 83s 83s/step - loss: 0.4069 - accuracy: 0.7800\n",
            "1/1 [==============================] - 76s 76s/step - loss: 0.4069 - accuracy: 0.7800\n",
            "1/1 [==============================] - 90s 90s/step - loss: 0.4069 - accuracy: 0.7800\n",
            "1/1 [==============================] - 83s 83s/step - loss: 0.4069 - accuracy: 0.7800\n",
            "1/1 [==============================] - 76s 76s/step - loss: 0.4069 - accuracy: 0.7800\n"
          ]
        },
        {
          "name": "stderr",
          "output_type": "stream",
          "text": [
            " 89%|████████▉ | 89/100 [9:09:25<1:31:29, 499.02s/it]"
          ]
        },
        {
          "name": "stdout",
          "output_type": "stream",
          "text": [
            "(1, 0, 1, 1, 1, 0, 1, 0, 0, 1)\n",
            "[0.83999997 0.86000001 0.86000001 0.86000001 0.86000001 0.86000001\n",
            " 0.86000001 0.86000001 0.86000001 0.86000001 0.86000001 0.86000001\n",
            " 0.86000001 0.86000001 0.86000001 0.86000001 0.86000001 0.86000001\n",
            " 0.86000001 0.86000001 0.86000001 0.86000001 0.86000001 0.86000001\n",
            " 0.86000001 0.86000001 0.86000001 0.86000001 0.86000001 0.86000001\n",
            " 0.86000001 0.86000001 0.86000001 0.86000001 0.86000001 0.86000001\n",
            " 0.86000001 0.86000001 0.86000001 0.86000001 0.86000001 0.86000001\n",
            " 0.86000001 0.86000001 0.83999997 0.83999997 0.83999997 0.83999997\n",
            " 0.83999997 0.83999997 0.83999997 0.80000001 0.80000001 0.80000001\n",
            " 0.80000001 0.80000001 0.81999999 0.80000001 0.83999997 0.83999997\n",
            " 0.80000001 0.83999997 0.77999997 0.77999997 0.77999997 0.77999997\n",
            " 0.77999997 0.77999997 0.77999997 0.77999997 0.77999997 0.80000001\n",
            " 0.77999997 0.77999997 0.77999997 0.80000001 0.77999997 0.86000001\n",
            " 0.77999997 0.77999997 0.80000001 0.80000001 0.86000001 0.77999997\n",
            " 0.77999997 0.77999997 0.83999997 0.77999997 0.77999997]\n",
            "iteration number: 90\n",
            "1/1 [==============================] - 88s 88s/step - loss: 0.4069 - accuracy: 0.7800\n",
            "1/1 [==============================] - 82s 82s/step - loss: 0.4069 - accuracy: 0.7800\n",
            "1/1 [==============================] - 75s 75s/step - loss: 0.4069 - accuracy: 0.7800\n",
            "1/1 [==============================] - 88s 88s/step - loss: 0.4069 - accuracy: 0.7800\n",
            "1/1 [==============================] - 82s 82s/step - loss: 0.4069 - accuracy: 0.7800\n",
            "1/1 [==============================] - 75s 75s/step - loss: 0.4069 - accuracy: 0.7800\n"
          ]
        },
        {
          "name": "stderr",
          "output_type": "stream",
          "text": [
            " 90%|█████████ | 90/100 [9:17:50<1:23:28, 500.83s/it]"
          ]
        },
        {
          "name": "stdout",
          "output_type": "stream",
          "text": [
            "(1, 0, 1, 1, 1, 0, 1, 0, 0, 1)\n",
            "[0.83999997 0.86000001 0.86000001 0.86000001 0.86000001 0.86000001\n",
            " 0.86000001 0.86000001 0.86000001 0.86000001 0.86000001 0.86000001\n",
            " 0.86000001 0.86000001 0.86000001 0.86000001 0.86000001 0.86000001\n",
            " 0.86000001 0.86000001 0.86000001 0.86000001 0.86000001 0.86000001\n",
            " 0.86000001 0.86000001 0.86000001 0.86000001 0.86000001 0.86000001\n",
            " 0.86000001 0.86000001 0.86000001 0.86000001 0.86000001 0.86000001\n",
            " 0.86000001 0.86000001 0.86000001 0.86000001 0.86000001 0.86000001\n",
            " 0.86000001 0.86000001 0.83999997 0.83999997 0.83999997 0.83999997\n",
            " 0.83999997 0.83999997 0.83999997 0.80000001 0.80000001 0.80000001\n",
            " 0.80000001 0.80000001 0.81999999 0.80000001 0.83999997 0.83999997\n",
            " 0.80000001 0.83999997 0.77999997 0.77999997 0.77999997 0.77999997\n",
            " 0.77999997 0.77999997 0.77999997 0.77999997 0.77999997 0.80000001\n",
            " 0.77999997 0.77999997 0.77999997 0.80000001 0.77999997 0.86000001\n",
            " 0.77999997 0.77999997 0.80000001 0.80000001 0.86000001 0.77999997\n",
            " 0.77999997 0.77999997 0.83999997 0.77999997 0.77999997 0.77999997]\n",
            "iteration number: 91\n",
            "1/1 [==============================] - 53s 53s/step - loss: 0.4187 - accuracy: 0.8600\n",
            "1/1 [==============================] - 82s 82s/step - loss: 0.4069 - accuracy: 0.7800\n",
            "1/1 [==============================] - 53s 53s/step - loss: 0.4369 - accuracy: 0.8000\n",
            "1/1 [==============================] - 73s 73s/step - loss: 0.4069 - accuracy: 0.7800\n",
            "1/1 [==============================] - 90s 90s/step - loss: 0.4069 - accuracy: 0.7800\n",
            "1/1 [==============================] - 83s 83s/step - loss: 0.4069 - accuracy: 0.7800\n"
          ]
        },
        {
          "name": "stderr",
          "output_type": "stream",
          "text": [
            " 91%|█████████ | 91/100 [9:25:17<1:12:41, 484.61s/it]"
          ]
        },
        {
          "name": "stdout",
          "output_type": "stream",
          "text": [
            "(0, 0, 1, 1, 1, 0, 1, 0, 0, 1)\n",
            "[0.83999997 0.86000001 0.86000001 0.86000001 0.86000001 0.86000001\n",
            " 0.86000001 0.86000001 0.86000001 0.86000001 0.86000001 0.86000001\n",
            " 0.86000001 0.86000001 0.86000001 0.86000001 0.86000001 0.86000001\n",
            " 0.86000001 0.86000001 0.86000001 0.86000001 0.86000001 0.86000001\n",
            " 0.86000001 0.86000001 0.86000001 0.86000001 0.86000001 0.86000001\n",
            " 0.86000001 0.86000001 0.86000001 0.86000001 0.86000001 0.86000001\n",
            " 0.86000001 0.86000001 0.86000001 0.86000001 0.86000001 0.86000001\n",
            " 0.86000001 0.86000001 0.83999997 0.83999997 0.83999997 0.83999997\n",
            " 0.83999997 0.83999997 0.83999997 0.80000001 0.80000001 0.80000001\n",
            " 0.80000001 0.80000001 0.81999999 0.80000001 0.83999997 0.83999997\n",
            " 0.80000001 0.83999997 0.77999997 0.77999997 0.77999997 0.77999997\n",
            " 0.77999997 0.77999997 0.77999997 0.77999997 0.77999997 0.80000001\n",
            " 0.77999997 0.77999997 0.77999997 0.80000001 0.77999997 0.86000001\n",
            " 0.77999997 0.77999997 0.80000001 0.80000001 0.86000001 0.77999997\n",
            " 0.77999997 0.77999997 0.83999997 0.77999997 0.77999997 0.77999997\n",
            " 0.86000001]\n",
            "iteration number: 92\n",
            "1/1 [==============================] - 46s 46s/step - loss: 0.4187 - accuracy: 0.8600\n",
            "1/1 [==============================] - 53s 53s/step - loss: 0.4187 - accuracy: 0.8600\n",
            "1/1 [==============================] - 49s 49s/step - loss: 0.4187 - accuracy: 0.8600\n",
            "1/1 [==============================] - 46s 46s/step - loss: 0.4187 - accuracy: 0.8600\n",
            "1/1 [==============================] - 53s 53s/step - loss: 0.4187 - accuracy: 0.8600\n",
            "1/1 [==============================] - 49s 49s/step - loss: 0.4187 - accuracy: 0.8600\n"
          ]
        },
        {
          "name": "stderr",
          "output_type": "stream",
          "text": [
            " 92%|█████████▏| 92/100 [9:30:28<57:39, 432.40s/it]  "
          ]
        },
        {
          "name": "stdout",
          "output_type": "stream",
          "text": [
            "(0, 0, 1, 1, 1, 0, 1, 0, 0, 1)\n",
            "[0.83999997 0.86000001 0.86000001 0.86000001 0.86000001 0.86000001\n",
            " 0.86000001 0.86000001 0.86000001 0.86000001 0.86000001 0.86000001\n",
            " 0.86000001 0.86000001 0.86000001 0.86000001 0.86000001 0.86000001\n",
            " 0.86000001 0.86000001 0.86000001 0.86000001 0.86000001 0.86000001\n",
            " 0.86000001 0.86000001 0.86000001 0.86000001 0.86000001 0.86000001\n",
            " 0.86000001 0.86000001 0.86000001 0.86000001 0.86000001 0.86000001\n",
            " 0.86000001 0.86000001 0.86000001 0.86000001 0.86000001 0.86000001\n",
            " 0.86000001 0.86000001 0.83999997 0.83999997 0.83999997 0.83999997\n",
            " 0.83999997 0.83999997 0.83999997 0.80000001 0.80000001 0.80000001\n",
            " 0.80000001 0.80000001 0.81999999 0.80000001 0.83999997 0.83999997\n",
            " 0.80000001 0.83999997 0.77999997 0.77999997 0.77999997 0.77999997\n",
            " 0.77999997 0.77999997 0.77999997 0.77999997 0.77999997 0.80000001\n",
            " 0.77999997 0.77999997 0.77999997 0.80000001 0.77999997 0.86000001\n",
            " 0.77999997 0.77999997 0.80000001 0.80000001 0.86000001 0.77999997\n",
            " 0.77999997 0.77999997 0.83999997 0.77999997 0.77999997 0.77999997\n",
            " 0.86000001 0.86000001]\n",
            "iteration number: 93\n",
            "1/1 [==============================] - 46s 46s/step - loss: 0.4187 - accuracy: 0.8600\n",
            "1/1 [==============================] - 44s 44s/step - loss: 0.4187 - accuracy: 0.8600\n",
            "1/1 [==============================] - 52s 52s/step - loss: 0.4187 - accuracy: 0.8600\n",
            "1/1 [==============================] - 49s 49s/step - loss: 0.4187 - accuracy: 0.8600\n",
            "1/1 [==============================] - 46s 46s/step - loss: 0.4187 - accuracy: 0.8600\n",
            "1/1 [==============================] - 52s 52s/step - loss: 0.4187 - accuracy: 0.8600\n"
          ]
        },
        {
          "name": "stderr",
          "output_type": "stream",
          "text": [
            " 93%|█████████▎| 93/100 [9:35:34<46:02, 394.67s/it]"
          ]
        },
        {
          "name": "stdout",
          "output_type": "stream",
          "text": [
            "(0, 0, 1, 1, 1, 0, 1, 0, 0, 1)\n",
            "[0.83999997 0.86000001 0.86000001 0.86000001 0.86000001 0.86000001\n",
            " 0.86000001 0.86000001 0.86000001 0.86000001 0.86000001 0.86000001\n",
            " 0.86000001 0.86000001 0.86000001 0.86000001 0.86000001 0.86000001\n",
            " 0.86000001 0.86000001 0.86000001 0.86000001 0.86000001 0.86000001\n",
            " 0.86000001 0.86000001 0.86000001 0.86000001 0.86000001 0.86000001\n",
            " 0.86000001 0.86000001 0.86000001 0.86000001 0.86000001 0.86000001\n",
            " 0.86000001 0.86000001 0.86000001 0.86000001 0.86000001 0.86000001\n",
            " 0.86000001 0.86000001 0.83999997 0.83999997 0.83999997 0.83999997\n",
            " 0.83999997 0.83999997 0.83999997 0.80000001 0.80000001 0.80000001\n",
            " 0.80000001 0.80000001 0.81999999 0.80000001 0.83999997 0.83999997\n",
            " 0.80000001 0.83999997 0.77999997 0.77999997 0.77999997 0.77999997\n",
            " 0.77999997 0.77999997 0.77999997 0.77999997 0.77999997 0.80000001\n",
            " 0.77999997 0.77999997 0.77999997 0.80000001 0.77999997 0.86000001\n",
            " 0.77999997 0.77999997 0.80000001 0.80000001 0.86000001 0.77999997\n",
            " 0.77999997 0.77999997 0.83999997 0.77999997 0.77999997 0.77999997\n",
            " 0.86000001 0.86000001 0.86000001]\n",
            "iteration number: 94\n",
            "1/1 [==============================] - 39s 39s/step - loss: 1.2623 - accuracy: 0.8600\n",
            "1/1 [==============================] - 46s 46s/step - loss: 0.4187 - accuracy: 0.8600\n",
            "1/1 [==============================] - 53s 53s/step - loss: 0.4187 - accuracy: 0.8600\n",
            "1/1 [==============================] - 49s 49s/step - loss: 0.4187 - accuracy: 0.8600\n",
            "1/1 [==============================] - 46s 46s/step - loss: 0.4187 - accuracy: 0.8600\n",
            "1/1 [==============================] - 53s 53s/step - loss: 0.4187 - accuracy: 0.8600\n"
          ]
        },
        {
          "name": "stderr",
          "output_type": "stream",
          "text": [
            " 94%|█████████▍| 94/100 [9:40:35<36:38, 366.40s/it]"
          ]
        },
        {
          "name": "stdout",
          "output_type": "stream",
          "text": [
            "(0, 0, 1, 1, 0, 0, 1, 0, 0, 1)\n",
            "[0.83999997 0.86000001 0.86000001 0.86000001 0.86000001 0.86000001\n",
            " 0.86000001 0.86000001 0.86000001 0.86000001 0.86000001 0.86000001\n",
            " 0.86000001 0.86000001 0.86000001 0.86000001 0.86000001 0.86000001\n",
            " 0.86000001 0.86000001 0.86000001 0.86000001 0.86000001 0.86000001\n",
            " 0.86000001 0.86000001 0.86000001 0.86000001 0.86000001 0.86000001\n",
            " 0.86000001 0.86000001 0.86000001 0.86000001 0.86000001 0.86000001\n",
            " 0.86000001 0.86000001 0.86000001 0.86000001 0.86000001 0.86000001\n",
            " 0.86000001 0.86000001 0.83999997 0.83999997 0.83999997 0.83999997\n",
            " 0.83999997 0.83999997 0.83999997 0.80000001 0.80000001 0.80000001\n",
            " 0.80000001 0.80000001 0.81999999 0.80000001 0.83999997 0.83999997\n",
            " 0.80000001 0.83999997 0.77999997 0.77999997 0.77999997 0.77999997\n",
            " 0.77999997 0.77999997 0.77999997 0.77999997 0.77999997 0.80000001\n",
            " 0.77999997 0.77999997 0.77999997 0.80000001 0.77999997 0.86000001\n",
            " 0.77999997 0.77999997 0.80000001 0.80000001 0.86000001 0.77999997\n",
            " 0.77999997 0.77999997 0.83999997 0.77999997 0.77999997 0.77999997\n",
            " 0.86000001 0.86000001 0.86000001 0.86000001]\n",
            "iteration number: 95\n",
            "1/1 [==============================] - 12s 12s/step - loss: 1.9366 - accuracy: 0.8800\n",
            "1/1 [==============================] - 38s 38s/step - loss: 1.2623 - accuracy: 0.8600\n",
            "1/1 [==============================] - 36s 36s/step - loss: 1.2623 - accuracy: 0.8600\n",
            "1/1 [==============================] - 42s 42s/step - loss: 1.2623 - accuracy: 0.8600\n",
            "1/1 [==============================] - 39s 39s/step - loss: 1.2623 - accuracy: 0.8600\n",
            "1/1 [==============================] - 37s 37s/step - loss: 1.2623 - accuracy: 0.8600\n"
          ]
        },
        {
          "name": "stderr",
          "output_type": "stream",
          "text": [
            " 95%|█████████▌| 95/100 [9:44:10<26:45, 321.09s/it]"
          ]
        },
        {
          "name": "stdout",
          "output_type": "stream",
          "text": [
            "(0, 0, 1, 1, 0, 0, 0, 0, 0, 1)\n",
            "[0.83999997 0.86000001 0.86000001 0.86000001 0.86000001 0.86000001\n",
            " 0.86000001 0.86000001 0.86000001 0.86000001 0.86000001 0.86000001\n",
            " 0.86000001 0.86000001 0.86000001 0.86000001 0.86000001 0.86000001\n",
            " 0.86000001 0.86000001 0.86000001 0.86000001 0.86000001 0.86000001\n",
            " 0.86000001 0.86000001 0.86000001 0.86000001 0.86000001 0.86000001\n",
            " 0.86000001 0.86000001 0.86000001 0.86000001 0.86000001 0.86000001\n",
            " 0.86000001 0.86000001 0.86000001 0.86000001 0.86000001 0.86000001\n",
            " 0.86000001 0.86000001 0.83999997 0.83999997 0.83999997 0.83999997\n",
            " 0.83999997 0.83999997 0.83999997 0.80000001 0.80000001 0.80000001\n",
            " 0.80000001 0.80000001 0.81999999 0.80000001 0.83999997 0.83999997\n",
            " 0.80000001 0.83999997 0.77999997 0.77999997 0.77999997 0.77999997\n",
            " 0.77999997 0.77999997 0.77999997 0.77999997 0.77999997 0.80000001\n",
            " 0.77999997 0.77999997 0.77999997 0.80000001 0.77999997 0.86000001\n",
            " 0.77999997 0.77999997 0.80000001 0.80000001 0.86000001 0.77999997\n",
            " 0.77999997 0.77999997 0.83999997 0.77999997 0.77999997 0.77999997\n",
            " 0.86000001 0.86000001 0.86000001 0.86000001 0.88      ]\n",
            "iteration number: 96\n",
            "1/1 [==============================] - 10s 10s/step - loss: 1.9366 - accuracy: 0.8800\n",
            "1/1 [==============================] - 3s 3s/step - loss: 2.4872 - accuracy: 0.8000\n",
            "1/1 [==============================] - 9s 9s/step - loss: 1.9366 - accuracy: 0.8800\n",
            "1/1 [==============================] - 9s 9s/step - loss: 1.9366 - accuracy: 0.8800\n",
            "1/1 [==============================] - 9s 9s/step - loss: 1.9366 - accuracy: 0.8800\n",
            "1/1 [==============================] - 7s 7s/step - loss: 2.4654 - accuracy: 0.8200\n"
          ]
        },
        {
          "name": "stderr",
          "output_type": "stream",
          "text": [
            " 96%|█████████▌| 96/100 [9:45:01<16:00, 240.05s/it]"
          ]
        },
        {
          "name": "stdout",
          "output_type": "stream",
          "text": [
            "(0, 0, 1, 1, 0, 0, 0, 0, 0, 1)\n",
            "[0.83999997 0.86000001 0.86000001 0.86000001 0.86000001 0.86000001\n",
            " 0.86000001 0.86000001 0.86000001 0.86000001 0.86000001 0.86000001\n",
            " 0.86000001 0.86000001 0.86000001 0.86000001 0.86000001 0.86000001\n",
            " 0.86000001 0.86000001 0.86000001 0.86000001 0.86000001 0.86000001\n",
            " 0.86000001 0.86000001 0.86000001 0.86000001 0.86000001 0.86000001\n",
            " 0.86000001 0.86000001 0.86000001 0.86000001 0.86000001 0.86000001\n",
            " 0.86000001 0.86000001 0.86000001 0.86000001 0.86000001 0.86000001\n",
            " 0.86000001 0.86000001 0.83999997 0.83999997 0.83999997 0.83999997\n",
            " 0.83999997 0.83999997 0.83999997 0.80000001 0.80000001 0.80000001\n",
            " 0.80000001 0.80000001 0.81999999 0.80000001 0.83999997 0.83999997\n",
            " 0.80000001 0.83999997 0.77999997 0.77999997 0.77999997 0.77999997\n",
            " 0.77999997 0.77999997 0.77999997 0.77999997 0.77999997 0.80000001\n",
            " 0.77999997 0.77999997 0.77999997 0.80000001 0.77999997 0.86000001\n",
            " 0.77999997 0.77999997 0.80000001 0.80000001 0.86000001 0.77999997\n",
            " 0.77999997 0.77999997 0.83999997 0.77999997 0.77999997 0.77999997\n",
            " 0.86000001 0.86000001 0.86000001 0.86000001 0.88       0.88      ]\n",
            "iteration number: 97\n",
            "1/1 [==============================] - 38s 38s/step - loss: 0.8915 - accuracy: 0.8600\n",
            "1/1 [==============================] - 50s 50s/step - loss: 1.1525 - accuracy: 0.8000\n",
            "1/1 [==============================] - 12s 12s/step - loss: 1.9366 - accuracy: 0.8800\n",
            "1/1 [==============================] - 12s 12s/step - loss: 1.9366 - accuracy: 0.8800\n",
            "1/1 [==============================] - 11s 11s/step - loss: 1.9366 - accuracy: 0.8800\n",
            "1/1 [==============================] - 11s 11s/step - loss: 1.9366 - accuracy: 0.8800\n"
          ]
        },
        {
          "name": "stderr",
          "output_type": "stream",
          "text": [
            " 97%|█████████▋| 97/100 [9:47:19<10:28, 209.41s/it]"
          ]
        },
        {
          "name": "stdout",
          "output_type": "stream",
          "text": [
            "(0, 0, 1, 1, 0, 0, 0, 0, 0, 1)\n",
            "[0.83999997 0.86000001 0.86000001 0.86000001 0.86000001 0.86000001\n",
            " 0.86000001 0.86000001 0.86000001 0.86000001 0.86000001 0.86000001\n",
            " 0.86000001 0.86000001 0.86000001 0.86000001 0.86000001 0.86000001\n",
            " 0.86000001 0.86000001 0.86000001 0.86000001 0.86000001 0.86000001\n",
            " 0.86000001 0.86000001 0.86000001 0.86000001 0.86000001 0.86000001\n",
            " 0.86000001 0.86000001 0.86000001 0.86000001 0.86000001 0.86000001\n",
            " 0.86000001 0.86000001 0.86000001 0.86000001 0.86000001 0.86000001\n",
            " 0.86000001 0.86000001 0.83999997 0.83999997 0.83999997 0.83999997\n",
            " 0.83999997 0.83999997 0.83999997 0.80000001 0.80000001 0.80000001\n",
            " 0.80000001 0.80000001 0.81999999 0.80000001 0.83999997 0.83999997\n",
            " 0.80000001 0.83999997 0.77999997 0.77999997 0.77999997 0.77999997\n",
            " 0.77999997 0.77999997 0.77999997 0.77999997 0.77999997 0.80000001\n",
            " 0.77999997 0.77999997 0.77999997 0.80000001 0.77999997 0.86000001\n",
            " 0.77999997 0.77999997 0.80000001 0.80000001 0.86000001 0.77999997\n",
            " 0.77999997 0.77999997 0.83999997 0.77999997 0.77999997 0.77999997\n",
            " 0.86000001 0.86000001 0.86000001 0.86000001 0.88       0.88\n",
            " 0.88      ]\n",
            "iteration number: 98\n",
            "1/1 [==============================] - 45s 45s/step - loss: 0.8681 - accuracy: 0.8200\n",
            "1/1 [==============================] - 51s 51s/step - loss: 0.8915 - accuracy: 0.8600\n",
            "1/1 [==============================] - 81s 81s/step - loss: 0.4091 - accuracy: 0.8600\n",
            "1/1 [==============================] - 50s 50s/step - loss: 0.8915 - accuracy: 0.8600\n",
            "1/1 [==============================] - 49s 49s/step - loss: 0.8915 - accuracy: 0.8600\n",
            "1/1 [==============================] - 47s 47s/step - loss: 0.8915 - accuracy: 0.8600\n"
          ]
        },
        {
          "name": "stderr",
          "output_type": "stream",
          "text": [
            " 98%|█████████▊| 98/100 [9:52:48<08:10, 245.34s/it]"
          ]
        },
        {
          "name": "stdout",
          "output_type": "stream",
          "text": [
            "(0, 1, 1, 1, 0, 0, 0, 0, 0, 1)\n",
            "[0.83999997 0.86000001 0.86000001 0.86000001 0.86000001 0.86000001\n",
            " 0.86000001 0.86000001 0.86000001 0.86000001 0.86000001 0.86000001\n",
            " 0.86000001 0.86000001 0.86000001 0.86000001 0.86000001 0.86000001\n",
            " 0.86000001 0.86000001 0.86000001 0.86000001 0.86000001 0.86000001\n",
            " 0.86000001 0.86000001 0.86000001 0.86000001 0.86000001 0.86000001\n",
            " 0.86000001 0.86000001 0.86000001 0.86000001 0.86000001 0.86000001\n",
            " 0.86000001 0.86000001 0.86000001 0.86000001 0.86000001 0.86000001\n",
            " 0.86000001 0.86000001 0.83999997 0.83999997 0.83999997 0.83999997\n",
            " 0.83999997 0.83999997 0.83999997 0.80000001 0.80000001 0.80000001\n",
            " 0.80000001 0.80000001 0.81999999 0.80000001 0.83999997 0.83999997\n",
            " 0.80000001 0.83999997 0.77999997 0.77999997 0.77999997 0.77999997\n",
            " 0.77999997 0.77999997 0.77999997 0.77999997 0.77999997 0.80000001\n",
            " 0.77999997 0.77999997 0.77999997 0.80000001 0.77999997 0.86000001\n",
            " 0.77999997 0.77999997 0.80000001 0.80000001 0.86000001 0.77999997\n",
            " 0.77999997 0.77999997 0.83999997 0.77999997 0.77999997 0.77999997\n",
            " 0.86000001 0.86000001 0.86000001 0.86000001 0.88       0.88\n",
            " 0.88       0.86000001]\n",
            "iteration number: 99\n",
            "1/1 [==============================] - 38s 38s/step - loss: 0.7701 - accuracy: 0.8400\n",
            "1/1 [==============================] - 51s 51s/step - loss: 0.8681 - accuracy: 0.8200\n",
            "1/1 [==============================] - 50s 50s/step - loss: 0.8681 - accuracy: 0.8200\n",
            "1/1 [==============================] - 50s 50s/step - loss: 0.8681 - accuracy: 0.8200\n",
            "1/1 [==============================] - 50s 50s/step - loss: 0.8681 - accuracy: 0.8200\n",
            "1/1 [==============================] - 50s 50s/step - loss: 0.8681 - accuracy: 0.8200\n"
          ]
        },
        {
          "name": "stderr",
          "output_type": "stream",
          "text": [
            " 99%|█████████▉| 99/100 [9:57:40<04:19, 259.11s/it]"
          ]
        },
        {
          "name": "stdout",
          "output_type": "stream",
          "text": [
            "(0, 1, 0, 0, 0, 0, 0, 0, 0, 1)\n",
            "[0.83999997 0.86000001 0.86000001 0.86000001 0.86000001 0.86000001\n",
            " 0.86000001 0.86000001 0.86000001 0.86000001 0.86000001 0.86000001\n",
            " 0.86000001 0.86000001 0.86000001 0.86000001 0.86000001 0.86000001\n",
            " 0.86000001 0.86000001 0.86000001 0.86000001 0.86000001 0.86000001\n",
            " 0.86000001 0.86000001 0.86000001 0.86000001 0.86000001 0.86000001\n",
            " 0.86000001 0.86000001 0.86000001 0.86000001 0.86000001 0.86000001\n",
            " 0.86000001 0.86000001 0.86000001 0.86000001 0.86000001 0.86000001\n",
            " 0.86000001 0.86000001 0.83999997 0.83999997 0.83999997 0.83999997\n",
            " 0.83999997 0.83999997 0.83999997 0.80000001 0.80000001 0.80000001\n",
            " 0.80000001 0.80000001 0.81999999 0.80000001 0.83999997 0.83999997\n",
            " 0.80000001 0.83999997 0.77999997 0.77999997 0.77999997 0.77999997\n",
            " 0.77999997 0.77999997 0.77999997 0.77999997 0.77999997 0.80000001\n",
            " 0.77999997 0.77999997 0.77999997 0.80000001 0.77999997 0.86000001\n",
            " 0.77999997 0.77999997 0.80000001 0.80000001 0.86000001 0.77999997\n",
            " 0.77999997 0.77999997 0.83999997 0.77999997 0.77999997 0.77999997\n",
            " 0.86000001 0.86000001 0.86000001 0.86000001 0.88       0.88\n",
            " 0.88       0.86000001 0.83999997]\n",
            "iteration number: 100\n",
            "1/1 [==============================] - 47s 47s/step - loss: 0.7701 - accuracy: 0.8400\n",
            "1/1 [==============================] - 47s 47s/step - loss: 0.7701 - accuracy: 0.8400\n",
            "1/1 [==============================] - 47s 47s/step - loss: 0.7701 - accuracy: 0.8400\n",
            "1/1 [==============================] - 47s 47s/step - loss: 0.7701 - accuracy: 0.8400\n",
            "1/1 [==============================] - 47s 47s/step - loss: 0.7701 - accuracy: 0.8400\n",
            "1/1 [==============================] - 48s 48s/step - loss: 0.7701 - accuracy: 0.8400\n"
          ]
        },
        {
          "name": "stderr",
          "output_type": "stream",
          "text": [
            "100%|██████████| 100/100 [10:02:25<00:00, 361.45s/it]"
          ]
        },
        {
          "name": "stdout",
          "output_type": "stream",
          "text": [
            "(0, 1, 0, 0, 0, 0, 0, 0, 0, 1)\n",
            "[0.83999997 0.86000001 0.86000001 0.86000001 0.86000001 0.86000001\n",
            " 0.86000001 0.86000001 0.86000001 0.86000001 0.86000001 0.86000001\n",
            " 0.86000001 0.86000001 0.86000001 0.86000001 0.86000001 0.86000001\n",
            " 0.86000001 0.86000001 0.86000001 0.86000001 0.86000001 0.86000001\n",
            " 0.86000001 0.86000001 0.86000001 0.86000001 0.86000001 0.86000001\n",
            " 0.86000001 0.86000001 0.86000001 0.86000001 0.86000001 0.86000001\n",
            " 0.86000001 0.86000001 0.86000001 0.86000001 0.86000001 0.86000001\n",
            " 0.86000001 0.86000001 0.83999997 0.83999997 0.83999997 0.83999997\n",
            " 0.83999997 0.83999997 0.83999997 0.80000001 0.80000001 0.80000001\n",
            " 0.80000001 0.80000001 0.81999999 0.80000001 0.83999997 0.83999997\n",
            " 0.80000001 0.83999997 0.77999997 0.77999997 0.77999997 0.77999997\n",
            " 0.77999997 0.77999997 0.77999997 0.77999997 0.77999997 0.80000001\n",
            " 0.77999997 0.77999997 0.77999997 0.80000001 0.77999997 0.86000001\n",
            " 0.77999997 0.77999997 0.80000001 0.80000001 0.86000001 0.77999997\n",
            " 0.77999997 0.77999997 0.83999997 0.77999997 0.77999997 0.77999997\n",
            " 0.86000001 0.86000001 0.86000001 0.86000001 0.88       0.88\n",
            " 0.88       0.86000001 0.83999997 0.83999997]\n",
            "((0, 1, 0, 0, 0, 0, 0, 0, 0, 1), 0.8399999737739563)\n"
          ]
        },
        {
          "name": "stderr",
          "output_type": "stream",
          "text": [
            "\n"
          ]
        },
        {
          "data": {
            "image/png": "[encoded data removed]",
            "text/plain": [
              "<Figure size 640x480 with 1 Axes>"
            ]
          },
          "metadata": {},
          "output_type": "display_data"
        }
      ],
      "source": [
        "print(ga.optimize())\n",
        "ga.view_fitness_evolution()"
      ]
    },
    {
      "cell_type": "code",
      "execution_count": null,
      "metadata": {
        "id": "y2OjtmRHmcA6"
      },
      "outputs": [],
      "source": [
        "0"
      ]
    }
  ],
  "metadata": {
    "accelerator": "TPU",
    "colab": {
      "provenance": []
    },
    "gpuClass": "standard",
    "kernelspec": {
      "display_name": "Python 3",
      "language": "python",
      "name": "python3"
    },
    "language_info": {
      "codemirror_mode": {
        "name": "ipython",
        "version": 3
      },
      "file_extension": ".py",
      "mimetype": "text/x-python",
      "name": "python",
      "nbconvert_exporter": "python",
      "pygments_lexer": "ipython3",
      "version": "3.10.9"
    },
    "orig_nbformat": 4
  },
  "nbformat": 4,
  "nbformat_minor": 0
}
